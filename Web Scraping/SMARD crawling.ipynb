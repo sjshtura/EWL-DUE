{
 "cells": [
  {
   "cell_type": "code",
   "execution_count": 9,
   "metadata": {
    "collapsed": true
   },
   "outputs": [
    {
     "name": "stdout",
     "output_type": "stream",
     "text": [
      "['https://www.smard.de/en/downloadcenter/download_market_data/5730']\n",
      "<function smard_spider.parse at 0x000002EF1EE9DF70>\n"
     ]
    }
   ],
   "source": [
    "import scrapy\n",
    "from scrapy.selector import Selector\n",
    "class smard_spider(scrapy.Spider):\n",
    "    name = \"smard\"\n",
    "    start_urls = [\n",
    "        \"https://www.smard.de/en/downloadcenter/download_market_data/5730\"\n",
    "    ]\n",
    "    print(start_urls)\n",
    "\n",
    "    def parse(self, response):\n",
    "        select_main_category = response.css(\"select.ng-pristine ng-valid ng-not-empty ng-touched::text\").extract()\n",
    "    print(parse)\n"
   ]
  },
  {
   "cell_type": "code",
   "execution_count": 1,
   "outputs": [
    {
     "data": {
      "text/plain": "                  Unnamed: 0      0\n0  2017-12-01 00:00:00+01:00  61.81\n1  2017-12-01 01:00:00+01:00  49.34\n2  2017-12-01 02:00:00+01:00  47.53\n3  2017-12-01 03:00:00+01:00  49.14\n4  2017-12-01 04:00:00+01:00  44.96",
      "text/html": "<div>\n<style scoped>\n    .dataframe tbody tr th:only-of-type {\n        vertical-align: middle;\n    }\n\n    .dataframe tbody tr th {\n        vertical-align: top;\n    }\n\n    .dataframe thead th {\n        text-align: right;\n    }\n</style>\n<table border=\"1\" class=\"dataframe\">\n  <thead>\n    <tr style=\"text-align: right;\">\n      <th></th>\n      <th>Unnamed: 0</th>\n      <th>0</th>\n    </tr>\n  </thead>\n  <tbody>\n    <tr>\n      <th>0</th>\n      <td>2017-12-01 00:00:00+01:00</td>\n      <td>61.81</td>\n    </tr>\n    <tr>\n      <th>1</th>\n      <td>2017-12-01 01:00:00+01:00</td>\n      <td>49.34</td>\n    </tr>\n    <tr>\n      <th>2</th>\n      <td>2017-12-01 02:00:00+01:00</td>\n      <td>47.53</td>\n    </tr>\n    <tr>\n      <th>3</th>\n      <td>2017-12-01 03:00:00+01:00</td>\n      <td>49.14</td>\n    </tr>\n    <tr>\n      <th>4</th>\n      <td>2017-12-01 04:00:00+01:00</td>\n      <td>44.96</td>\n    </tr>\n  </tbody>\n</table>\n</div>"
     },
     "execution_count": 1,
     "metadata": {},
     "output_type": "execute_result"
    }
   ],
   "source": [
    "from tzlocal import get_localzone  # tzlocal needs to be extra installed\n",
    "import pandas as pd\n",
    "\n",
    "\n",
    "df = pd.read_csv(r\"/Users/shakhawat_hossain_turag/PycharmProjects/EWL-DUE/outfile.csv\")\n",
    "df.head()\n"
   ],
   "metadata": {
    "collapsed": false,
    "pycharm": {
     "name": "#%%\n"
    }
   }
  },
  {
   "cell_type": "code",
   "execution_count": 2,
   "outputs": [
    {
     "data": {
      "text/plain": "pandas.core.frame.DataFrame"
     },
     "execution_count": 2,
     "metadata": {},
     "output_type": "execute_result"
    }
   ],
   "source": [
    "type(df)"
   ],
   "metadata": {
    "collapsed": false,
    "pycharm": {
     "name": "#%%\n"
    }
   }
  },
  {
   "cell_type": "code",
   "execution_count": 13,
   "outputs": [
    {
     "data": {
      "text/plain": "0      2017-12-01 00:00:00+01:00\n1      2017-12-01 01:00:00+01:00\n2      2017-12-01 02:00:00+01:00\n3      2017-12-01 03:00:00+01:00\n4      2017-12-01 04:00:00+01:00\n                 ...            \n739    2017-12-31 19:00:00+01:00\n740    2017-12-31 20:00:00+01:00\n741    2017-12-31 21:00:00+01:00\n742    2017-12-31 22:00:00+01:00\n743    2017-12-31 23:00:00+01:00\nName: Unnamed: 0, Length: 744, dtype: object"
     },
     "execution_count": 13,
     "metadata": {},
     "output_type": "execute_result"
    }
   ],
   "source": [
    "df1 = df.iloc[:,0]\n",
    "df1"
   ],
   "metadata": {
    "collapsed": false,
    "pycharm": {
     "name": "#%%\n"
    }
   }
  },
  {
   "cell_type": "code",
   "execution_count": 17,
   "outputs": [
    {
     "ename": "TypeError",
     "evalue": "index is not a valid DatetimeIndex or PeriodIndex",
     "output_type": "error",
     "traceback": [
      "\u001B[0;31m---------------------------------------------------------------------------\u001B[0m",
      "\u001B[0;31mTypeError\u001B[0m                                 Traceback (most recent call last)",
      "\u001B[0;32m<ipython-input-17-0c7c69ca895c>\u001B[0m in \u001B[0;36m<module>\u001B[0;34m\u001B[0m\n\u001B[0;32m----> 1\u001B[0;31m \u001B[0mdf\u001B[0m\u001B[0;34m.\u001B[0m\u001B[0mtz_localize\u001B[0m\u001B[0;34m(\u001B[0m\u001B[0;32mNone\u001B[0m\u001B[0;34m)\u001B[0m\u001B[0;34m\u001B[0m\u001B[0;34m\u001B[0m\u001B[0m\n\u001B[0m\u001B[1;32m      2\u001B[0m \u001B[0;34m\u001B[0m\u001B[0m\n",
      "\u001B[0;32m/Library/Python/3.8/site-packages/pandas/core/generic.py\u001B[0m in \u001B[0;36mtz_localize\u001B[0;34m(self, tz, axis, level, copy, ambiguous, nonexistent)\u001B[0m\n\u001B[1;32m   9646\u001B[0m             \u001B[0;32mif\u001B[0m \u001B[0mlevel\u001B[0m \u001B[0;32mnot\u001B[0m \u001B[0;32min\u001B[0m \u001B[0;34m(\u001B[0m\u001B[0;32mNone\u001B[0m\u001B[0;34m,\u001B[0m \u001B[0;36m0\u001B[0m\u001B[0;34m,\u001B[0m \u001B[0max\u001B[0m\u001B[0;34m.\u001B[0m\u001B[0mname\u001B[0m\u001B[0;34m)\u001B[0m\u001B[0;34m:\u001B[0m\u001B[0;34m\u001B[0m\u001B[0;34m\u001B[0m\u001B[0m\n\u001B[1;32m   9647\u001B[0m                 \u001B[0;32mraise\u001B[0m \u001B[0mValueError\u001B[0m\u001B[0;34m(\u001B[0m\u001B[0;34mf\"The level {level} is not valid\"\u001B[0m\u001B[0;34m)\u001B[0m\u001B[0;34m\u001B[0m\u001B[0;34m\u001B[0m\u001B[0m\n\u001B[0;32m-> 9648\u001B[0;31m             \u001B[0max\u001B[0m \u001B[0;34m=\u001B[0m \u001B[0m_tz_localize\u001B[0m\u001B[0;34m(\u001B[0m\u001B[0max\u001B[0m\u001B[0;34m,\u001B[0m \u001B[0mtz\u001B[0m\u001B[0;34m,\u001B[0m \u001B[0mambiguous\u001B[0m\u001B[0;34m,\u001B[0m \u001B[0mnonexistent\u001B[0m\u001B[0;34m)\u001B[0m\u001B[0;34m\u001B[0m\u001B[0;34m\u001B[0m\u001B[0m\n\u001B[0m\u001B[1;32m   9649\u001B[0m \u001B[0;34m\u001B[0m\u001B[0m\n\u001B[1;32m   9650\u001B[0m         \u001B[0mresult\u001B[0m \u001B[0;34m=\u001B[0m \u001B[0mself\u001B[0m\u001B[0;34m.\u001B[0m\u001B[0mcopy\u001B[0m\u001B[0;34m(\u001B[0m\u001B[0mdeep\u001B[0m\u001B[0;34m=\u001B[0m\u001B[0mcopy\u001B[0m\u001B[0;34m)\u001B[0m\u001B[0;34m\u001B[0m\u001B[0;34m\u001B[0m\u001B[0m\n",
      "\u001B[0;32m/Library/Python/3.8/site-packages/pandas/core/generic.py\u001B[0m in \u001B[0;36m_tz_localize\u001B[0;34m(ax, tz, ambiguous, nonexistent)\u001B[0m\n\u001B[1;32m   9628\u001B[0m                 \u001B[0;32mif\u001B[0m \u001B[0mlen\u001B[0m\u001B[0;34m(\u001B[0m\u001B[0max\u001B[0m\u001B[0;34m)\u001B[0m \u001B[0;34m>\u001B[0m \u001B[0;36m0\u001B[0m\u001B[0;34m:\u001B[0m\u001B[0;34m\u001B[0m\u001B[0;34m\u001B[0m\u001B[0m\n\u001B[1;32m   9629\u001B[0m                     \u001B[0max_name\u001B[0m \u001B[0;34m=\u001B[0m \u001B[0mself\u001B[0m\u001B[0;34m.\u001B[0m\u001B[0m_get_axis_name\u001B[0m\u001B[0;34m(\u001B[0m\u001B[0maxis\u001B[0m\u001B[0;34m)\u001B[0m\u001B[0;34m\u001B[0m\u001B[0;34m\u001B[0m\u001B[0m\n\u001B[0;32m-> 9630\u001B[0;31m                     raise TypeError(\n\u001B[0m\u001B[1;32m   9631\u001B[0m                         \u001B[0;34mf\"{ax_name} is not a valid DatetimeIndex or PeriodIndex\"\u001B[0m\u001B[0;34m\u001B[0m\u001B[0;34m\u001B[0m\u001B[0m\n\u001B[1;32m   9632\u001B[0m                     )\n",
      "\u001B[0;31mTypeError\u001B[0m: index is not a valid DatetimeIndex or PeriodIndex"
     ]
    }
   ],
   "source": [
    "df.tz_localize(None)"
   ],
   "metadata": {
    "collapsed": false,
    "pycharm": {
     "name": "#%%\n"
    }
   }
  },
  {
   "cell_type": "code",
   "execution_count": 15,
   "outputs": [
    {
     "data": {
      "text/plain": "                               0\nUnnamed: 0                      \n2017-12-01 00:00:00+01:00  61.81\n2017-12-01 01:00:00+01:00  49.34\n2017-12-01 02:00:00+01:00  47.53\n2017-12-01 03:00:00+01:00  49.14\n2017-12-01 04:00:00+01:00  44.96\n...                          ...\n2017-12-31 19:00:00+01:00  22.00\n2017-12-31 20:00:00+01:00  19.69\n2017-12-31 21:00:00+01:00  17.85\n2017-12-31 22:00:00+01:00  18.94\n2017-12-31 23:00:00+01:00  14.04\n\n[744 rows x 1 columns]",
      "text/html": "<div>\n<style scoped>\n    .dataframe tbody tr th:only-of-type {\n        vertical-align: middle;\n    }\n\n    .dataframe tbody tr th {\n        vertical-align: top;\n    }\n\n    .dataframe thead th {\n        text-align: right;\n    }\n</style>\n<table border=\"1\" class=\"dataframe\">\n  <thead>\n    <tr style=\"text-align: right;\">\n      <th></th>\n      <th>0</th>\n    </tr>\n    <tr>\n      <th>Unnamed: 0</th>\n      <th></th>\n    </tr>\n  </thead>\n  <tbody>\n    <tr>\n      <th>2017-12-01 00:00:00+01:00</th>\n      <td>61.81</td>\n    </tr>\n    <tr>\n      <th>2017-12-01 01:00:00+01:00</th>\n      <td>49.34</td>\n    </tr>\n    <tr>\n      <th>2017-12-01 02:00:00+01:00</th>\n      <td>47.53</td>\n    </tr>\n    <tr>\n      <th>2017-12-01 03:00:00+01:00</th>\n      <td>49.14</td>\n    </tr>\n    <tr>\n      <th>2017-12-01 04:00:00+01:00</th>\n      <td>44.96</td>\n    </tr>\n    <tr>\n      <th>...</th>\n      <td>...</td>\n    </tr>\n    <tr>\n      <th>2017-12-31 19:00:00+01:00</th>\n      <td>22.00</td>\n    </tr>\n    <tr>\n      <th>2017-12-31 20:00:00+01:00</th>\n      <td>19.69</td>\n    </tr>\n    <tr>\n      <th>2017-12-31 21:00:00+01:00</th>\n      <td>17.85</td>\n    </tr>\n    <tr>\n      <th>2017-12-31 22:00:00+01:00</th>\n      <td>18.94</td>\n    </tr>\n    <tr>\n      <th>2017-12-31 23:00:00+01:00</th>\n      <td>14.04</td>\n    </tr>\n  </tbody>\n</table>\n<p>744 rows × 1 columns</p>\n</div>"
     },
     "execution_count": 15,
     "metadata": {},
     "output_type": "execute_result"
    }
   ],
   "source": [
    "df.set_index(\"Unnamed: 0\")\n"
   ],
   "metadata": {
    "collapsed": false,
    "pycharm": {
     "name": "#%%\n"
    }
   }
  },
  {
   "cell_type": "code",
   "execution_count": 21,
   "outputs": [
    {
     "data": {
      "text/plain": "pandas.core.indexes.datetimes.DatetimeIndex"
     },
     "execution_count": 21,
     "metadata": {},
     "output_type": "execute_result"
    }
   ],
   "source": [
    "t = pd.date_range(start=\"2013-05-18 12:00:00\", periods=2, freq='H',\n",
    "                          tz= \"Europe/Brussels\")\n",
    "\n",
    "t\n",
    "type(t)"
   ],
   "metadata": {
    "collapsed": false,
    "pycharm": {
     "name": "#%%\n"
    }
   }
  },
  {
   "cell_type": "code",
   "execution_count": 20,
   "outputs": [
    {
     "data": {
      "text/plain": "DatetimeIndex(['2013-05-18 12:00:00', '2013-05-18 13:00:00'], dtype='datetime64[ns]', freq=None)"
     },
     "execution_count": 20,
     "metadata": {},
     "output_type": "execute_result"
    }
   ],
   "source": [
    "t.tz_localize(None)"
   ],
   "metadata": {
    "collapsed": false,
    "pycharm": {
     "name": "#%%\n"
    }
   }
  },
  {
   "cell_type": "code",
   "execution_count": null,
   "outputs": [],
   "source": [],
   "metadata": {
    "collapsed": false,
    "pycharm": {
     "name": "#%%\n"
    }
   }
  }
 ],
 "metadata": {
  "kernelspec": {
   "display_name": "Python 3",
   "language": "python",
   "name": "python3"
  },
  "language_info": {
   "codemirror_mode": {
    "name": "ipython",
    "version": 2
   },
   "file_extension": ".py",
   "mimetype": "text/x-python",
   "name": "python",
   "nbconvert_exporter": "python",
   "pygments_lexer": "ipython2",
   "version": "2.7.6"
  }
 },
 "nbformat": 4,
 "nbformat_minor": 0
}