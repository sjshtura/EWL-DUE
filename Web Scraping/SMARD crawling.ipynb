{
 "cells": [
  {
   "cell_type": "code",
   "execution_count": 9,
   "metadata": {
    "collapsed": true
   },
   "outputs": [
    {
     "name": "stdout",
     "output_type": "stream",
     "text": [
      "['https://www.smard.de/en/downloadcenter/download_market_data/5730']\n",
      "<function smard_spider.parse at 0x000002EF1EE9DF70>\n"
     ]
    }
   ],
   "source": [
    "import scrapy\n",
    "from scrapy.selector import Selector\n",
    "class smard_spider(scrapy.Spider):\n",
    "    name = \"smard\"\n",
    "    start_urls = [\n",
    "        \"https://www.smard.de/en/downloadcenter/download_market_data/5730\"\n",
    "    ]\n",
    "    print(start_urls)\n",
    "\n",
    "    def parse(self, response):\n",
    "        select_main_category = response.css(\"select.ng-pristine ng-valid ng-not-empty ng-touched::text\").extract()\n",
    "    print(parse)\n"
   ]
  },
  {
   "cell_type": "code",
   "execution_count": null,
   "outputs": [],
   "source": [],
   "metadata": {
    "collapsed": false,
    "pycharm": {
     "name": "#%%\n"
    }
   }
  }
 ],
 "metadata": {
  "kernelspec": {
   "display_name": "Python 3",
   "language": "python",
   "name": "python3"
  },
  "language_info": {
   "codemirror_mode": {
    "name": "ipython",
    "version": 2
   },
   "file_extension": ".py",
   "mimetype": "text/x-python",
   "name": "python",
   "nbconvert_exporter": "python",
   "pygments_lexer": "ipython2",
   "version": "2.7.6"
  }
 },
 "nbformat": 4,
 "nbformat_minor": 0
}