{
 "cells": [
  {
   "cell_type": "code",
   "execution_count": 12,
   "metadata": {
    "collapsed": true,
    "pycharm": {
     "name": "#%%\n"
    }
   },
   "outputs": [
    {
     "name": "stderr",
     "output_type": "stream",
     "text": [
      "BokehDeprecationWarning: 'legend' keyword is deprecated, use explicit 'legend_label', 'legend_field', or 'legend_group' keywords instead\n",
      "BokehDeprecationWarning: 'legend' keyword is deprecated, use explicit 'legend_label', 'legend_field', or 'legend_group' keywords instead\n",
      "BokehDeprecationWarning: 'legend' keyword is deprecated, use explicit 'legend_label', 'legend_field', or 'legend_group' keywords instead\n",
      "BokehDeprecationWarning: 'legend' keyword is deprecated, use explicit 'legend_label', 'legend_field', or 'legend_group' keywords instead\n"
     ]
    }
   ],
   "source": [
    "from bokeh.core.properties import value\n",
    "from bokeh.plotting import figure, show, output_file\n",
    "from bokeh.layouts import row\n",
    "from bokeh.models import Legend\n",
    "from bokeh.layouts import column\n",
    "output_file('stacked.html')\n",
    "\n",
    "capacity = ['CO\\N{SUBSCRIPT TWO} Cap', 'RES Min Quota', 'CO\\N{SUBSCRIPT TWO} Tax', 'FIT']\n",
    "types = ['Li-Ion', 'PSH']\n",
    "colors = [\"#87CD5C\", \"#51B351\"]\n",
    "\n",
    "# maxload = [90.03467675, 90.03467675, 90.03467675, 90.03467675]\n",
    "# Total_demand = [540.7686148, 540.7686148, 540.7686148, 540.7686148]\n",
    "\n",
    "\n",
    "data = {'capacity' : capacity,\n",
    "        'Li-Ion'   : [6.679838997, 4.634989823, 6.662090027, 2.767248123],\n",
    "        'PSH'   : [13.74249003, 35.57488525, 13.75983893, 22.14477819]\n",
    "        }\n",
    "\n",
    "data1 = {'capacity' : capacity,\n",
    "        'Li-Ion'   : [21.56012255, 13.20917061, 21.46477519, 9.243699164],\n",
    "        'PSH'   : [240.5969273, 1997.715258, 240.6769677, 381.3648777]\n",
    "        }\n",
    "\n",
    "s1 = figure(x_range=capacity, plot_height=450,plot_width=555, title=\"Capacity (in GW)\",\n",
    "           toolbar_location='above')\n",
    "s2 = figure(x_range=capacity, plot_height=450,plot_width=555, title=\"Volume (in GWh)\",\n",
    "           toolbar_location='above')\n",
    "\n",
    "s1.vbar_stack(types, x='capacity', width=0.3, color=colors, source=data,\n",
    "             legend=[value(x) for x in types], hatch_pattern=['dot', 'spiral'])\n",
    "# s1.line(x = capacity, y = maxload, color=\"red\", line_width=3, legend_label = \"max_load\")\n",
    "\n",
    "s2.vbar_stack(types, x='capacity', width=0.3, color=colors, source=data1,\n",
    "             legend=[value(x) for x in types], hatch_pattern=['dot', 'spiral'])\n",
    "# s2.line(x = capacity, y = Total_demand, color=\"blue\", line_width=3, legend_label = \"max_load\")\n",
    "\n",
    "\n",
    "s1.y_range.start = 0\n",
    "s1.x_range.range_padding = 0.1\n",
    "s1.xgrid.grid_line_color = None\n",
    "s1.axis.minor_tick_line_color = None\n",
    "s1.outline_line_color = None\n",
    "s1.toolbar.logo = None\n",
    "s1.toolbar_location = None\n",
    "s1.yaxis.major_label_text_font_size = \"12px\"\n",
    "s1.xaxis.major_label_text_font_size = \"12px\"\n",
    "\n",
    "\n",
    "s2.y_range.start = 0\n",
    "s2.x_range.range_padding = 0.1\n",
    "s2.xgrid.grid_line_color = None\n",
    "s2.axis.minor_tick_line_color = None\n",
    "s2.outline_line_color = None\n",
    "# p.legend.location = \"top_left\"\n",
    "# p.legend.orientation = \"vertical\"\n",
    "s2.toolbar.logo = None\n",
    "s2.toolbar_location = None\n",
    "s2.yaxis.major_label_text_font_size = \"12px\"\n",
    "s2.xaxis.major_label_text_font_size = \"12px\"\n",
    "show(row(s1,s2))"
   ]
  },
  {
   "cell_type": "code",
   "execution_count": 3,
   "outputs": [],
   "source": [],
   "metadata": {
    "collapsed": false,
    "pycharm": {
     "name": "#%%\n"
    }
   }
  },
  {
   "cell_type": "code",
   "execution_count": null,
   "outputs": [],
   "source": [],
   "metadata": {
    "collapsed": false,
    "pycharm": {
     "name": "#%%\n"
    }
   }
  }
 ],
 "metadata": {
  "kernelspec": {
   "display_name": "Python 3",
   "language": "python",
   "name": "python3"
  },
  "language_info": {
   "codemirror_mode": {
    "name": "ipython",
    "version": 2
   },
   "file_extension": ".py",
   "mimetype": "text/x-python",
   "name": "python",
   "nbconvert_exporter": "python",
   "pygments_lexer": "ipython2",
   "version": "2.7.6"
  }
 },
 "nbformat": 4,
 "nbformat_minor": 0
}