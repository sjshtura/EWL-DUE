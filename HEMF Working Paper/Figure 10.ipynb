{
 "cells": [
  {
   "cell_type": "code",
   "execution_count": 83,
   "outputs": [
    {
     "data": {
      "text/plain": "          Row  Total_CO2_Emissions Pol_Inst Technologie  Shock  Unnamed: 5  \\\n0  1455555555               1503.6  CO2_Cap     Lignite   -0.1   455555555   \n1  1535555555               1503.6  CO2_Cap         Gas   -0.2   535555555   \n2  1545555555               1503.6  CO2_Cap         Gas   -0.1   545555555   \n3  1553555555               1503.6  CO2_Cap    Hardcoal   -0.2   553555555   \n4  1554555555               1503.6  CO2_Cap    Hardcoal   -0.1   554555555   \n\n   Unnamed: 6  Unnamed: 7  Unnamed: 8  Unnamed: 9  Lignite  Hard Coal  CCGT  \\\n0           1         4.0         NaN         NaN      0.0          0   0.0   \n1           2         3.0         NaN         NaN      0.0          0   0.0   \n2           2         4.0         NaN         NaN      0.0          0   0.0   \n3           3         3.0         NaN         NaN      0.0          0   0.0   \n4           3         4.0         NaN         NaN      0.0          0   0.0   \n\n   OCGT  Wind Onshore  Wind Offshore   PV  Li-Ion  PSH  Mixed  \n0   0.0           0.0            0.0  0.0     0.0  0.0    0.0  \n1   0.0           0.0            0.0  0.0     0.0  0.0    0.0  \n2   0.0           0.0            0.0  0.0     0.0  0.0    0.0  \n3   0.0           0.0            0.0  0.0     0.0  0.0    0.0  \n4   0.0           0.0            0.0  0.0     0.0  0.0    0.0  ",
      "text/html": "<div>\n<style scoped>\n    .dataframe tbody tr th:only-of-type {\n        vertical-align: middle;\n    }\n\n    .dataframe tbody tr th {\n        vertical-align: top;\n    }\n\n    .dataframe thead th {\n        text-align: right;\n    }\n</style>\n<table border=\"1\" class=\"dataframe\">\n  <thead>\n    <tr style=\"text-align: right;\">\n      <th></th>\n      <th>Row</th>\n      <th>Total_CO2_Emissions</th>\n      <th>Pol_Inst</th>\n      <th>Technologie</th>\n      <th>Shock</th>\n      <th>Unnamed: 5</th>\n      <th>Unnamed: 6</th>\n      <th>Unnamed: 7</th>\n      <th>Unnamed: 8</th>\n      <th>Unnamed: 9</th>\n      <th>Lignite</th>\n      <th>Hard Coal</th>\n      <th>CCGT</th>\n      <th>OCGT</th>\n      <th>Wind Onshore</th>\n      <th>Wind Offshore</th>\n      <th>PV</th>\n      <th>Li-Ion</th>\n      <th>PSH</th>\n      <th>Mixed</th>\n    </tr>\n  </thead>\n  <tbody>\n    <tr>\n      <th>0</th>\n      <td>1455555555</td>\n      <td>1503.6</td>\n      <td>CO2_Cap</td>\n      <td>Lignite</td>\n      <td>-0.1</td>\n      <td>455555555</td>\n      <td>1</td>\n      <td>4.0</td>\n      <td>NaN</td>\n      <td>NaN</td>\n      <td>0.0</td>\n      <td>0</td>\n      <td>0.0</td>\n      <td>0.0</td>\n      <td>0.0</td>\n      <td>0.0</td>\n      <td>0.0</td>\n      <td>0.0</td>\n      <td>0.0</td>\n      <td>0.0</td>\n    </tr>\n    <tr>\n      <th>1</th>\n      <td>1535555555</td>\n      <td>1503.6</td>\n      <td>CO2_Cap</td>\n      <td>Gas</td>\n      <td>-0.2</td>\n      <td>535555555</td>\n      <td>2</td>\n      <td>3.0</td>\n      <td>NaN</td>\n      <td>NaN</td>\n      <td>0.0</td>\n      <td>0</td>\n      <td>0.0</td>\n      <td>0.0</td>\n      <td>0.0</td>\n      <td>0.0</td>\n      <td>0.0</td>\n      <td>0.0</td>\n      <td>0.0</td>\n      <td>0.0</td>\n    </tr>\n    <tr>\n      <th>2</th>\n      <td>1545555555</td>\n      <td>1503.6</td>\n      <td>CO2_Cap</td>\n      <td>Gas</td>\n      <td>-0.1</td>\n      <td>545555555</td>\n      <td>2</td>\n      <td>4.0</td>\n      <td>NaN</td>\n      <td>NaN</td>\n      <td>0.0</td>\n      <td>0</td>\n      <td>0.0</td>\n      <td>0.0</td>\n      <td>0.0</td>\n      <td>0.0</td>\n      <td>0.0</td>\n      <td>0.0</td>\n      <td>0.0</td>\n      <td>0.0</td>\n    </tr>\n    <tr>\n      <th>3</th>\n      <td>1553555555</td>\n      <td>1503.6</td>\n      <td>CO2_Cap</td>\n      <td>Hardcoal</td>\n      <td>-0.2</td>\n      <td>553555555</td>\n      <td>3</td>\n      <td>3.0</td>\n      <td>NaN</td>\n      <td>NaN</td>\n      <td>0.0</td>\n      <td>0</td>\n      <td>0.0</td>\n      <td>0.0</td>\n      <td>0.0</td>\n      <td>0.0</td>\n      <td>0.0</td>\n      <td>0.0</td>\n      <td>0.0</td>\n      <td>0.0</td>\n    </tr>\n    <tr>\n      <th>4</th>\n      <td>1554555555</td>\n      <td>1503.6</td>\n      <td>CO2_Cap</td>\n      <td>Hardcoal</td>\n      <td>-0.1</td>\n      <td>554555555</td>\n      <td>3</td>\n      <td>4.0</td>\n      <td>NaN</td>\n      <td>NaN</td>\n      <td>0.0</td>\n      <td>0</td>\n      <td>0.0</td>\n      <td>0.0</td>\n      <td>0.0</td>\n      <td>0.0</td>\n      <td>0.0</td>\n      <td>0.0</td>\n      <td>0.0</td>\n      <td>0.0</td>\n    </tr>\n  </tbody>\n</table>\n</div>"
     },
     "execution_count": 83,
     "metadata": {},
     "output_type": "execute_result"
    }
   ],
   "source": [
    "from bokeh.models import NumeralTickFormatter\n",
    "from bokeh.plotting import figure, output_file, show\n",
    "from bokeh.models import Title\n",
    "import pandas as pd\n",
    "import numpy as np\n",
    "import matplotlib.pyplot as plt\n",
    "#names1 = [\"Total_Co2_Emissions\",\"Pol_Inst\",\"Technologie\",\"Shock\",\"Lignite\",\"Coal\",\"CCGT\",\"OCGT\",\"Wind_Onshore\",\"Wind_Offshore\",\"Solar\",\"LitIon\",\"PSH\",\"Total\"]\n",
    "data = pd.read_excel(r'Figures_Data_Preparation_9-12.xlsx', sheet_name = 'Figure 9-12', skiprows=[1])\n",
    "#df = df.set_index([df.iloc[0], df.columns[0]])\n",
    "data.head()"
   ],
   "metadata": {
    "collapsed": false,
    "pycharm": {
     "name": "#%%\n"
    }
   }
  },
  {
   "cell_type": "code",
   "execution_count": 84,
   "outputs": [
    {
     "data": {
      "text/plain": "Row                      int64\nTotal_CO2_Emissions    float64\nPol_Inst                object\nTechnologie             object\nShock                  float64\nUnnamed: 5               int64\nUnnamed: 6               int64\nUnnamed: 7             float64\nUnnamed: 8             float64\nUnnamed: 9             float64\nLignite                float64\nHard Coal                int64\nCCGT                   float64\nOCGT                   float64\nWind Onshore           float64\nWind Offshore          float64\nPV                     float64\nLi-Ion                 float64\nPSH                    float64\nMixed                  float64\ndtype: object"
     },
     "execution_count": 84,
     "metadata": {},
     "output_type": "execute_result"
    }
   ],
   "source": [
    "data.dtypes"
   ],
   "metadata": {
    "collapsed": false,
    "pycharm": {
     "name": "#%%\n"
    }
   }
  },
  {
   "cell_type": "code",
   "execution_count": 85,
   "outputs": [
    {
     "data": {
      "text/plain": "Index(['Row', 'Total_CO2_Emissions', 'Pol_Inst', 'Technologie', 'Shock',\n       'Unnamed: 5', 'Unnamed: 6', 'Unnamed: 7', 'Unnamed: 8', 'Unnamed: 9',\n       'Lignite', 'Hard Coal', 'CCGT', 'OCGT', 'Wind Onshore', 'Wind Offshore',\n       'PV', 'Li-Ion', 'PSH', 'Mixed'],\n      dtype='object')"
     },
     "execution_count": 85,
     "metadata": {},
     "output_type": "execute_result"
    }
   ],
   "source": [
    "data.columns\n"
   ],
   "metadata": {
    "collapsed": false,
    "pycharm": {
     "name": "#%%\n"
    }
   }
  },
  {
   "cell_type": "code",
   "execution_count": 86,
   "outputs": [
    {
     "data": {
      "text/plain": "array(['Lignite', 'Gas', 'Hard coal', 'Demand', 'PV', 'Wind Onshore',\n       'Wind Offshore', 'Li-Ion', 'PSH', 'no'], dtype=object)"
     },
     "execution_count": 86,
     "metadata": {},
     "output_type": "execute_result"
    }
   ],
   "source": [
    "data[\"Technologie\"]= data[\"Technologie\"].replace(\"Hardcoal\", \"Hard coal\")\n",
    "data[\"Technologie\"]= data[\"Technologie\"].replace(\"Solar\", \"PV\")\n",
    "data[\"Technologie\"]= data[\"Technologie\"].replace(\"Wind_Onshore\", \"Wind Onshore\")\n",
    "data[\"Technologie\"]= data[\"Technologie\"].replace(\"Wind_Offshore\", \"Wind Offshore\")\n",
    "data[\"Technologie\"]= data[\"Technologie\"].replace(\"Lit_Ion\", \"Li-Ion\")\n",
    "data0 = data[['Technologie', \"Shock\", \"Pol_Inst\" ,'Lignite', 'Hard Coal', 'CCGT', 'OCGT', 'Wind Onshore', 'Wind Offshore',\n",
    "       'PV', 'Li-Ion', 'PSH', 'Mixed']]\n",
    "data0.Technologie.unique()"
   ],
   "metadata": {
    "collapsed": false,
    "pycharm": {
     "name": "#%%\n"
    }
   }
  },
  {
   "cell_type": "code",
   "execution_count": 86,
   "outputs": [],
   "source": [],
   "metadata": {
    "collapsed": false,
    "pycharm": {
     "name": "#%%\n"
    }
   }
  },
  {
   "cell_type": "code",
   "execution_count": 87,
   "outputs": [
    {
     "data": {
      "text/plain": "array(['Gas', 'Hard coal', 'Demand', 'PV', 'Wind Onshore',\n       'Wind Offshore', 'Li-Ion', 'PSH', 'Lignite'], dtype=object)"
     },
     "execution_count": 87,
     "metadata": {},
     "output_type": "execute_result"
    }
   ],
   "source": [
    "data0 = data0.loc[data['Technologie']!='no']\n",
    "data0 = data0.loc[(data[\"Shock\"] == -0.2) | (data[\"Shock\"] == 0.2)]\n",
    "\n",
    "data0.Technologie.unique()\n",
    "\n"
   ],
   "metadata": {
    "collapsed": false,
    "pycharm": {
     "name": "#%%\n"
    }
   }
  },
  {
   "cell_type": "code",
   "execution_count": 88,
   "outputs": [],
   "source": [
    "data_co2_cap0 = data0.loc[data['Pol_Inst']=='CO2_Tax']"
   ],
   "metadata": {
    "collapsed": false,
    "pycharm": {
     "name": "#%%\n"
    }
   }
  },
  {
   "cell_type": "code",
   "execution_count": 89,
   "outputs": [],
   "source": [
    "data_co2_cap = data_co2_cap0[['Technologie','Lignite', 'Hard Coal', 'CCGT', 'OCGT', 'Wind Onshore', 'Wind Offshore',\n",
    "       'PV', 'Li-Ion', 'PSH', 'Mixed']]"
   ],
   "metadata": {
    "collapsed": false,
    "pycharm": {
     "name": "#%%\n"
    }
   }
  },
  {
   "cell_type": "code",
   "execution_count": 90,
   "outputs": [
    {
     "data": {
      "text/plain": "array(['Lignite', 'Gas', 'Hard coal', 'Demand', 'PV', 'Wind Onshore',\n       'Wind Offshore', 'Li-Ion', 'PSH'], dtype=object)"
     },
     "execution_count": 90,
     "metadata": {},
     "output_type": "execute_result"
    }
   ],
   "source": [
    "data_co2_cap.Technologie.unique()"
   ],
   "metadata": {
    "collapsed": false,
    "pycharm": {
     "name": "#%%\n"
    }
   }
  },
  {
   "cell_type": "code",
   "execution_count": 91,
   "outputs": [
    {
     "name": "stderr",
     "output_type": "stream",
     "text": [
      "<ipython-input-91-078049eb2d51>:3: SettingWithCopyWarning: \n",
      "A value is trying to be set on a copy of a slice from a DataFrame.\n",
      "Try using .loc[row_indexer,col_indexer] = value instead\n",
      "\n",
      "See the caveats in the documentation: https://pandas.pydata.org/pandas-docs/stable/user_guide/indexing.html#returning-a-view-versus-a-copy\n",
      "  data_co2_cap['Technologie'] = pd.Categorical(data_co2_cap0['Technologie'], [ 'Lignite', 'Gas', 'Hard coal', 'PV', 'Wind Onshore',\n"
     ]
    },
    {
     "data": {
      "text/plain": "       Technologie  Lignite  Hard Coal  CCGT  OCGT  Wind Onshore  \\\n73         Lignite      0.0          0  0.00  0.00          0.00   \n75             Gas      0.0          0  0.00  0.00          0.00   \n77       Hard coal      0.0          0  0.00  0.00          0.00   \n79          Demand      0.0          0 -0.34 -0.40         -0.05   \n81              PV      0.0          0 -0.02 -0.12          0.00   \n83    Wind Onshore      0.0          0 -0.01 -0.03         -0.17   \n85   Wind Offshore      0.0          0 -0.03 -0.04         -0.14   \n87          Li-Ion      0.0          0  0.00  0.00          0.00   \n89             PSH      0.0          0 -0.01 -0.10          0.00   \n93             PSH      0.0          0  0.00  0.00          0.00   \n95          Li-Ion      0.0          0  0.00  0.00          0.00   \n97   Wind Offshore      0.0          0  0.00  0.00          0.00   \n99    Wind Onshore      0.0          0  0.00  0.00          0.06   \n101             PV      0.0          0  0.00  0.00          0.00   \n103         Demand      0.0          0  0.00  0.00          0.00   \n105      Hard coal      0.0          0  0.00  0.00          0.00   \n107            Gas      0.0          0 -0.02 -0.09          0.00   \n109        Lignite      0.0          0  0.00  0.00          0.00   \n\n     Wind Offshore    PV  Li-Ion   PSH  Mixed  \n73            0.00  0.00    0.00  0.00   0.00  \n75           -0.01 -0.01   -0.28 -0.11  -0.02  \n77            0.00  0.00    0.00  0.00   0.00  \n79           -0.04 -0.03   -0.25 -0.17  -0.09  \n81           -0.01 -0.18    0.00 -0.02  -0.05  \n83           -0.10 -0.01   -0.19 -0.04  -0.09  \n85           -0.17 -0.05   -0.02 -0.04  -0.10  \n87            0.00  0.00   -0.15 -0.02   0.00  \n89            0.00  0.00   -0.09 -0.18  -0.01  \n93            0.00  0.00    0.01  0.02   0.00  \n95            0.00  0.00    0.08  0.01   0.00  \n97            0.01  0.00   -0.03  0.00   0.00  \n99            0.00  0.00    0.01 -0.04   0.02  \n101           0.00  0.04   -0.02 -0.02   0.01  \n103           0.00  0.00    0.00  0.00   0.00  \n105           0.00  0.00    0.00  0.00   0.00  \n107           0.00  0.00    0.05 -0.03   0.00  \n109           0.00  0.00    0.00  0.00   0.00  ",
      "text/html": "<div>\n<style scoped>\n    .dataframe tbody tr th:only-of-type {\n        vertical-align: middle;\n    }\n\n    .dataframe tbody tr th {\n        vertical-align: top;\n    }\n\n    .dataframe thead th {\n        text-align: right;\n    }\n</style>\n<table border=\"1\" class=\"dataframe\">\n  <thead>\n    <tr style=\"text-align: right;\">\n      <th></th>\n      <th>Technologie</th>\n      <th>Lignite</th>\n      <th>Hard Coal</th>\n      <th>CCGT</th>\n      <th>OCGT</th>\n      <th>Wind Onshore</th>\n      <th>Wind Offshore</th>\n      <th>PV</th>\n      <th>Li-Ion</th>\n      <th>PSH</th>\n      <th>Mixed</th>\n    </tr>\n  </thead>\n  <tbody>\n    <tr>\n      <th>73</th>\n      <td>Lignite</td>\n      <td>0.0</td>\n      <td>0</td>\n      <td>0.00</td>\n      <td>0.00</td>\n      <td>0.00</td>\n      <td>0.00</td>\n      <td>0.00</td>\n      <td>0.00</td>\n      <td>0.00</td>\n      <td>0.00</td>\n    </tr>\n    <tr>\n      <th>75</th>\n      <td>Gas</td>\n      <td>0.0</td>\n      <td>0</td>\n      <td>0.00</td>\n      <td>0.00</td>\n      <td>0.00</td>\n      <td>-0.01</td>\n      <td>-0.01</td>\n      <td>-0.28</td>\n      <td>-0.11</td>\n      <td>-0.02</td>\n    </tr>\n    <tr>\n      <th>77</th>\n      <td>Hard coal</td>\n      <td>0.0</td>\n      <td>0</td>\n      <td>0.00</td>\n      <td>0.00</td>\n      <td>0.00</td>\n      <td>0.00</td>\n      <td>0.00</td>\n      <td>0.00</td>\n      <td>0.00</td>\n      <td>0.00</td>\n    </tr>\n    <tr>\n      <th>79</th>\n      <td>Demand</td>\n      <td>0.0</td>\n      <td>0</td>\n      <td>-0.34</td>\n      <td>-0.40</td>\n      <td>-0.05</td>\n      <td>-0.04</td>\n      <td>-0.03</td>\n      <td>-0.25</td>\n      <td>-0.17</td>\n      <td>-0.09</td>\n    </tr>\n    <tr>\n      <th>81</th>\n      <td>PV</td>\n      <td>0.0</td>\n      <td>0</td>\n      <td>-0.02</td>\n      <td>-0.12</td>\n      <td>0.00</td>\n      <td>-0.01</td>\n      <td>-0.18</td>\n      <td>0.00</td>\n      <td>-0.02</td>\n      <td>-0.05</td>\n    </tr>\n    <tr>\n      <th>83</th>\n      <td>Wind Onshore</td>\n      <td>0.0</td>\n      <td>0</td>\n      <td>-0.01</td>\n      <td>-0.03</td>\n      <td>-0.17</td>\n      <td>-0.10</td>\n      <td>-0.01</td>\n      <td>-0.19</td>\n      <td>-0.04</td>\n      <td>-0.09</td>\n    </tr>\n    <tr>\n      <th>85</th>\n      <td>Wind Offshore</td>\n      <td>0.0</td>\n      <td>0</td>\n      <td>-0.03</td>\n      <td>-0.04</td>\n      <td>-0.14</td>\n      <td>-0.17</td>\n      <td>-0.05</td>\n      <td>-0.02</td>\n      <td>-0.04</td>\n      <td>-0.10</td>\n    </tr>\n    <tr>\n      <th>87</th>\n      <td>Li-Ion</td>\n      <td>0.0</td>\n      <td>0</td>\n      <td>0.00</td>\n      <td>0.00</td>\n      <td>0.00</td>\n      <td>0.00</td>\n      <td>0.00</td>\n      <td>-0.15</td>\n      <td>-0.02</td>\n      <td>0.00</td>\n    </tr>\n    <tr>\n      <th>89</th>\n      <td>PSH</td>\n      <td>0.0</td>\n      <td>0</td>\n      <td>-0.01</td>\n      <td>-0.10</td>\n      <td>0.00</td>\n      <td>0.00</td>\n      <td>0.00</td>\n      <td>-0.09</td>\n      <td>-0.18</td>\n      <td>-0.01</td>\n    </tr>\n    <tr>\n      <th>93</th>\n      <td>PSH</td>\n      <td>0.0</td>\n      <td>0</td>\n      <td>0.00</td>\n      <td>0.00</td>\n      <td>0.00</td>\n      <td>0.00</td>\n      <td>0.00</td>\n      <td>0.01</td>\n      <td>0.02</td>\n      <td>0.00</td>\n    </tr>\n    <tr>\n      <th>95</th>\n      <td>Li-Ion</td>\n      <td>0.0</td>\n      <td>0</td>\n      <td>0.00</td>\n      <td>0.00</td>\n      <td>0.00</td>\n      <td>0.00</td>\n      <td>0.00</td>\n      <td>0.08</td>\n      <td>0.01</td>\n      <td>0.00</td>\n    </tr>\n    <tr>\n      <th>97</th>\n      <td>Wind Offshore</td>\n      <td>0.0</td>\n      <td>0</td>\n      <td>0.00</td>\n      <td>0.00</td>\n      <td>0.00</td>\n      <td>0.01</td>\n      <td>0.00</td>\n      <td>-0.03</td>\n      <td>0.00</td>\n      <td>0.00</td>\n    </tr>\n    <tr>\n      <th>99</th>\n      <td>Wind Onshore</td>\n      <td>0.0</td>\n      <td>0</td>\n      <td>0.00</td>\n      <td>0.00</td>\n      <td>0.06</td>\n      <td>0.00</td>\n      <td>0.00</td>\n      <td>0.01</td>\n      <td>-0.04</td>\n      <td>0.02</td>\n    </tr>\n    <tr>\n      <th>101</th>\n      <td>PV</td>\n      <td>0.0</td>\n      <td>0</td>\n      <td>0.00</td>\n      <td>0.00</td>\n      <td>0.00</td>\n      <td>0.00</td>\n      <td>0.04</td>\n      <td>-0.02</td>\n      <td>-0.02</td>\n      <td>0.01</td>\n    </tr>\n    <tr>\n      <th>103</th>\n      <td>Demand</td>\n      <td>0.0</td>\n      <td>0</td>\n      <td>0.00</td>\n      <td>0.00</td>\n      <td>0.00</td>\n      <td>0.00</td>\n      <td>0.00</td>\n      <td>0.00</td>\n      <td>0.00</td>\n      <td>0.00</td>\n    </tr>\n    <tr>\n      <th>105</th>\n      <td>Hard coal</td>\n      <td>0.0</td>\n      <td>0</td>\n      <td>0.00</td>\n      <td>0.00</td>\n      <td>0.00</td>\n      <td>0.00</td>\n      <td>0.00</td>\n      <td>0.00</td>\n      <td>0.00</td>\n      <td>0.00</td>\n    </tr>\n    <tr>\n      <th>107</th>\n      <td>Gas</td>\n      <td>0.0</td>\n      <td>0</td>\n      <td>-0.02</td>\n      <td>-0.09</td>\n      <td>0.00</td>\n      <td>0.00</td>\n      <td>0.00</td>\n      <td>0.05</td>\n      <td>-0.03</td>\n      <td>0.00</td>\n    </tr>\n    <tr>\n      <th>109</th>\n      <td>Lignite</td>\n      <td>0.0</td>\n      <td>0</td>\n      <td>0.00</td>\n      <td>0.00</td>\n      <td>0.00</td>\n      <td>0.00</td>\n      <td>0.00</td>\n      <td>0.00</td>\n      <td>0.00</td>\n      <td>0.00</td>\n    </tr>\n  </tbody>\n</table>\n</div>"
     },
     "execution_count": 91,
     "metadata": {},
     "output_type": "execute_result"
    }
   ],
   "source": [
    "data_co2_cap0\n",
    "\n",
    "data_co2_cap['Technologie'] = pd.Categorical(data_co2_cap0['Technologie'], [ 'Lignite', 'Gas', 'Hard coal', 'PV', 'Wind Onshore',\n",
    "       'Wind Offshore', 'Li-Ion', 'PSH', 'Demand'])\n",
    "data_co2_cap.sort_values(\"Technologie\")\n",
    "data_co2_cap"
   ],
   "metadata": {
    "collapsed": false,
    "pycharm": {
     "name": "#%%\n"
    }
   }
  },
  {
   "cell_type": "code",
   "execution_count": 92,
   "outputs": [],
   "source": [
    "#hue1 = [\"#ADD8E6\", \"#414141\", \"#FFA500\", \"#fff340\", \"#00b8f2\", \"#a19595\", \"#f23333\", \"#2397fc\"]\n",
    "\n",
    "#hue1"
   ],
   "metadata": {
    "collapsed": false,
    "pycharm": {
     "name": "#%%\n"
    }
   }
  },
  {
   "cell_type": "code",
   "execution_count": 93,
   "outputs": [
    {
     "data": {
      "text/plain": "    Technologie intensities  values\n0       Lignite     Lignite    0.00\n1           Gas     Lignite    0.00\n2     Hard coal     Lignite    0.00\n3        Demand     Lignite    0.00\n4            PV     Lignite    0.00\n..          ...         ...     ...\n175          PV       Mixed    0.01\n176      Demand       Mixed    0.00\n177   Hard coal       Mixed    0.00\n178         Gas       Mixed    0.00\n179     Lignite       Mixed    0.00\n\n[180 rows x 3 columns]",
      "text/html": "<div>\n<style scoped>\n    .dataframe tbody tr th:only-of-type {\n        vertical-align: middle;\n    }\n\n    .dataframe tbody tr th {\n        vertical-align: top;\n    }\n\n    .dataframe thead th {\n        text-align: right;\n    }\n</style>\n<table border=\"1\" class=\"dataframe\">\n  <thead>\n    <tr style=\"text-align: right;\">\n      <th></th>\n      <th>Technologie</th>\n      <th>intensities</th>\n      <th>values</th>\n    </tr>\n  </thead>\n  <tbody>\n    <tr>\n      <th>0</th>\n      <td>Lignite</td>\n      <td>Lignite</td>\n      <td>0.00</td>\n    </tr>\n    <tr>\n      <th>1</th>\n      <td>Gas</td>\n      <td>Lignite</td>\n      <td>0.00</td>\n    </tr>\n    <tr>\n      <th>2</th>\n      <td>Hard coal</td>\n      <td>Lignite</td>\n      <td>0.00</td>\n    </tr>\n    <tr>\n      <th>3</th>\n      <td>Demand</td>\n      <td>Lignite</td>\n      <td>0.00</td>\n    </tr>\n    <tr>\n      <th>4</th>\n      <td>PV</td>\n      <td>Lignite</td>\n      <td>0.00</td>\n    </tr>\n    <tr>\n      <th>...</th>\n      <td>...</td>\n      <td>...</td>\n      <td>...</td>\n    </tr>\n    <tr>\n      <th>175</th>\n      <td>PV</td>\n      <td>Mixed</td>\n      <td>0.01</td>\n    </tr>\n    <tr>\n      <th>176</th>\n      <td>Demand</td>\n      <td>Mixed</td>\n      <td>0.00</td>\n    </tr>\n    <tr>\n      <th>177</th>\n      <td>Hard coal</td>\n      <td>Mixed</td>\n      <td>0.00</td>\n    </tr>\n    <tr>\n      <th>178</th>\n      <td>Gas</td>\n      <td>Mixed</td>\n      <td>0.00</td>\n    </tr>\n    <tr>\n      <th>179</th>\n      <td>Lignite</td>\n      <td>Mixed</td>\n      <td>0.00</td>\n    </tr>\n  </tbody>\n</table>\n<p>180 rows × 3 columns</p>\n</div>"
     },
     "execution_count": 93,
     "metadata": {},
     "output_type": "execute_result"
    }
   ],
   "source": [
    "import seaborn as sns\n",
    "import matplotlib.pyplot as plt\n",
    "df_melt=pd.melt(data_co2_cap,id_vars=['Technologie'], var_name='intensities', value_name='values')\n",
    "df_melt"
   ],
   "metadata": {
    "collapsed": false,
    "pycharm": {
     "name": "#%%\n"
    }
   }
  },
  {
   "cell_type": "code",
   "execution_count": 94,
   "outputs": [],
   "source": [
    "#df = df_melt[(df_melt[['values']] != 0).all(axis=1)]\n"
   ],
   "metadata": {
    "collapsed": false,
    "pycharm": {
     "name": "#%%\n"
    }
   }
  },
  {
   "cell_type": "code",
   "execution_count": 95,
   "outputs": [
    {
     "data": {
      "text/plain": "    Technologie intensities  values\n0       Lignite     Lignite     NaN\n1           Gas     Lignite     NaN\n2     Hard coal     Lignite     NaN\n3        Demand     Lignite     NaN\n4            PV     Lignite     NaN\n..          ...         ...     ...\n175          PV       Mixed    0.01\n176      Demand       Mixed     NaN\n177   Hard coal       Mixed     NaN\n178         Gas       Mixed     NaN\n179     Lignite       Mixed     NaN\n\n[180 rows x 3 columns]",
      "text/html": "<div>\n<style scoped>\n    .dataframe tbody tr th:only-of-type {\n        vertical-align: middle;\n    }\n\n    .dataframe tbody tr th {\n        vertical-align: top;\n    }\n\n    .dataframe thead th {\n        text-align: right;\n    }\n</style>\n<table border=\"1\" class=\"dataframe\">\n  <thead>\n    <tr style=\"text-align: right;\">\n      <th></th>\n      <th>Technologie</th>\n      <th>intensities</th>\n      <th>values</th>\n    </tr>\n  </thead>\n  <tbody>\n    <tr>\n      <th>0</th>\n      <td>Lignite</td>\n      <td>Lignite</td>\n      <td>NaN</td>\n    </tr>\n    <tr>\n      <th>1</th>\n      <td>Gas</td>\n      <td>Lignite</td>\n      <td>NaN</td>\n    </tr>\n    <tr>\n      <th>2</th>\n      <td>Hard coal</td>\n      <td>Lignite</td>\n      <td>NaN</td>\n    </tr>\n    <tr>\n      <th>3</th>\n      <td>Demand</td>\n      <td>Lignite</td>\n      <td>NaN</td>\n    </tr>\n    <tr>\n      <th>4</th>\n      <td>PV</td>\n      <td>Lignite</td>\n      <td>NaN</td>\n    </tr>\n    <tr>\n      <th>...</th>\n      <td>...</td>\n      <td>...</td>\n      <td>...</td>\n    </tr>\n    <tr>\n      <th>175</th>\n      <td>PV</td>\n      <td>Mixed</td>\n      <td>0.01</td>\n    </tr>\n    <tr>\n      <th>176</th>\n      <td>Demand</td>\n      <td>Mixed</td>\n      <td>NaN</td>\n    </tr>\n    <tr>\n      <th>177</th>\n      <td>Hard coal</td>\n      <td>Mixed</td>\n      <td>NaN</td>\n    </tr>\n    <tr>\n      <th>178</th>\n      <td>Gas</td>\n      <td>Mixed</td>\n      <td>NaN</td>\n    </tr>\n    <tr>\n      <th>179</th>\n      <td>Lignite</td>\n      <td>Mixed</td>\n      <td>NaN</td>\n    </tr>\n  </tbody>\n</table>\n<p>180 rows × 3 columns</p>\n</div>"
     },
     "execution_count": 95,
     "metadata": {},
     "output_type": "execute_result"
    }
   ],
   "source": [
    "# data[\"Technologie\"].unique()\n",
    "df_melt['values']=df_melt['values'].replace(0, np.nan)\n",
    "df_melt\n",
    "#['Technologie','Lignite', 'Coal', 'CCGT', 'OCGT', 'Wind_Onshore', 'Wind_Offshore',\n",
    "#       'Solar', 'LitIon', 'PSH', 'Total']"
   ],
   "metadata": {
    "collapsed": false,
    "pycharm": {
     "name": "#%%\n"
    }
   }
  },
  {
   "cell_type": "code",
   "execution_count": 96,
   "outputs": [
    {
     "data": {
      "text/plain": "<Figure size 469.85x360 with 1 Axes>",
      "image/png": "[encoded data removed]"
     },
     "metadata": {},
     "output_type": "display_data"
    }
   ],
   "source": [
    "import matplotlib.pyplot as plt\n",
    "#sns.set_palette(sns.color_palette(hue1))\n",
    "ax = sns.catplot(x=\"intensities\", y=\"values\", data=df_melt,linewidth=1, s=10, hue='Technologie', palette = sns.color_palette([\"#9A7B5C\", \"#C7DADA\", \"#8D4D4D\", \"#FFF340\", \"#5A67FF\", \"#00B8F2\", \"#87CD5C\", \"#51B351\", \"#404040\"]))\n",
    "sns.set(rc={'figure.figsize':(20,15)})\n",
    "\n",
    "ax.set_xticklabels(rotation = 90)\n",
    "\n",
    "ax.axes[0][0].axhline(y = 0, ls='--', color='black', linewidth=2, alpha=.7)\n",
    "ax._legend.remove()\n",
    "ax.set_axis_labels(\"\",\"\")\n",
    "#ax.set_xlim((-0.65,0.2))\n",
    "ax._legend.set_title(\"Shock on...\")\n",
    "# ax.set_xlabels()\n",
    "ax.set_ylabels(\"Profit per Investment (npv)\")\n",
    "ax.set_xlabels(\"Investors\")\n",
    "plt.ylim(-0.65,0.2)\n",
    "plt.legend(bbox_to_anchor=(1.05, 1), loc=2, borderaxespad=0., title=\"Shock On...\");"
   ],
   "metadata": {
    "collapsed": false,
    "pycharm": {
     "name": "#%%\n"
    }
   }
  },
  {
   "cell_type": "code",
   "execution_count": 97,
   "outputs": [
    {
     "data": {
      "text/plain": "    Technologie intensities  values\n0       Lignite     Lignite     NaN\n1           Gas     Lignite     NaN\n2     Hard coal     Lignite     NaN\n3        Demand     Lignite     NaN\n4            PV     Lignite     NaN\n..          ...         ...     ...\n175          PV       Mixed    0.01\n176      Demand       Mixed     NaN\n177   Hard coal       Mixed     NaN\n178         Gas       Mixed     NaN\n179     Lignite       Mixed     NaN\n\n[180 rows x 3 columns]",
      "text/html": "<div>\n<style scoped>\n    .dataframe tbody tr th:only-of-type {\n        vertical-align: middle;\n    }\n\n    .dataframe tbody tr th {\n        vertical-align: top;\n    }\n\n    .dataframe thead th {\n        text-align: right;\n    }\n</style>\n<table border=\"1\" class=\"dataframe\">\n  <thead>\n    <tr style=\"text-align: right;\">\n      <th></th>\n      <th>Technologie</th>\n      <th>intensities</th>\n      <th>values</th>\n    </tr>\n  </thead>\n  <tbody>\n    <tr>\n      <th>0</th>\n      <td>Lignite</td>\n      <td>Lignite</td>\n      <td>NaN</td>\n    </tr>\n    <tr>\n      <th>1</th>\n      <td>Gas</td>\n      <td>Lignite</td>\n      <td>NaN</td>\n    </tr>\n    <tr>\n      <th>2</th>\n      <td>Hard coal</td>\n      <td>Lignite</td>\n      <td>NaN</td>\n    </tr>\n    <tr>\n      <th>3</th>\n      <td>Demand</td>\n      <td>Lignite</td>\n      <td>NaN</td>\n    </tr>\n    <tr>\n      <th>4</th>\n      <td>PV</td>\n      <td>Lignite</td>\n      <td>NaN</td>\n    </tr>\n    <tr>\n      <th>...</th>\n      <td>...</td>\n      <td>...</td>\n      <td>...</td>\n    </tr>\n    <tr>\n      <th>175</th>\n      <td>PV</td>\n      <td>Mixed</td>\n      <td>0.01</td>\n    </tr>\n    <tr>\n      <th>176</th>\n      <td>Demand</td>\n      <td>Mixed</td>\n      <td>NaN</td>\n    </tr>\n    <tr>\n      <th>177</th>\n      <td>Hard coal</td>\n      <td>Mixed</td>\n      <td>NaN</td>\n    </tr>\n    <tr>\n      <th>178</th>\n      <td>Gas</td>\n      <td>Mixed</td>\n      <td>NaN</td>\n    </tr>\n    <tr>\n      <th>179</th>\n      <td>Lignite</td>\n      <td>Mixed</td>\n      <td>NaN</td>\n    </tr>\n  </tbody>\n</table>\n<p>180 rows × 3 columns</p>\n</div>"
     },
     "execution_count": 97,
     "metadata": {},
     "output_type": "execute_result"
    }
   ],
   "source": [
    "df_melt.head(200)"
   ],
   "metadata": {
    "collapsed": false,
    "pycharm": {
     "name": "#%%\n"
    }
   }
  },
  {
   "cell_type": "code",
   "execution_count": 98,
   "outputs": [],
   "source": [
    "ax.savefig(\"images\\Figure10_CO2_Tax.svg\")"
   ],
   "metadata": {
    "collapsed": false,
    "pycharm": {
     "name": "#%%\n"
    }
   }
  },
  {
   "cell_type": "code",
   "execution_count": null,
   "outputs": [],
   "source": [],
   "metadata": {
    "collapsed": false,
    "pycharm": {
     "name": "#%%\n"
    }
   }
  }
 ],
 "metadata": {
  "kernelspec": {
   "display_name": "Python 3",
   "language": "python",
   "name": "python3"
  },
  "language_info": {
   "codemirror_mode": {
    "name": "ipython",
    "version": 2
   },
   "file_extension": ".py",
   "mimetype": "text/x-python",
   "name": "python",
   "nbconvert_exporter": "python",
   "pygments_lexer": "ipython2",
   "version": "2.7.6"
  }
 },
 "nbformat": 4,
 "nbformat_minor": 0
}