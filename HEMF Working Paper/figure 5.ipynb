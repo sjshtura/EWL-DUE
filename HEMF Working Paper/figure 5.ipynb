{
 "cells": [
  {
   "cell_type": "code",
   "execution_count": 2,
   "metadata": {
    "collapsed": true,
    "pycharm": {
     "name": "#%%\n"
    }
   },
   "outputs": [
    {
     "name": "stderr",
     "output_type": "stream",
     "text": [
      "BokehDeprecationWarning: 'legend' keyword is deprecated, use explicit 'legend_label', 'legend_field', or 'legend_group' keywords instead\n",
      "BokehDeprecationWarning: 'legend' keyword is deprecated, use explicit 'legend_label', 'legend_field', or 'legend_group' keywords instead\n",
      "BokehDeprecationWarning: 'legend' keyword is deprecated, use explicit 'legend_label', 'legend_field', or 'legend_group' keywords instead\n",
      "BokehDeprecationWarning: 'legend' keyword is deprecated, use explicit 'legend_label', 'legend_field', or 'legend_group' keywords instead\n",
      "BokehDeprecationWarning: 'legend' keyword is deprecated, use explicit 'legend_label', 'legend_field', or 'legend_group' keywords instead\n",
      "BokehDeprecationWarning: 'legend' keyword is deprecated, use explicit 'legend_label', 'legend_field', or 'legend_group' keywords instead\n"
     ]
    }
   ],
   "source": [
    "from bokeh.core.properties import value\n",
    "\n",
    "from bokeh.plotting import figure, show, output_file\n",
    "from bokeh.layouts import row\n",
    "from bokeh.models import Legend\n",
    "\n",
    "output_file('stacked.html')\n",
    "\n",
    "capacity = ['CO2_Cap', 'Min_RES_Quota', 'CO2_Tax', 'FIT']\n",
    "types = ['Generation Capacity Investment', 'Fuel', 'Storage Capacity Investment', 'Storage Volume Investment', 'Lost Load', 'Emission Tax']\n",
    "colors = [\"#c9d9d3\", \"#718dbf\", \"#e84d60\", \"#FFA500\", \"#32CD32\", '#00FFFF']\n",
    "\n",
    "# maxload = [90.03467675, 90.03467675, 90.03467675, 90.03467675]\n",
    "# Total_demand = [540.7686148, 540.7686148, 540.7686148, 540.7686148]\n",
    "\n",
    "\n",
    "data = {'capacity' : capacity,\n",
    "        'Generation Capacity Investment': [30.3949783, 42.4681283, 30.3921603, 48.0477212],\n",
    "        'Fuel': [0.93016001, 2.28100832, 0.93107182, 1.41870756],\n",
    "        'Storage Capacity Investment': [0.60875806, 3.05888709, 0.60772661, 0.66485247],\n",
    "        'Storage Volume Investment': [11.2047388, 1.68108057, 11.2062415, 1.93524234],\n",
    "        'Lost Load': [0, 0, 10.7381893, 0],\n",
    "        'Emission Tax': [0.00308851, 0, 0.00308351, 0.08348272]\n",
    "        }\n",
    "\n",
    "\n",
    "s1 = figure(x_range=capacity, plot_height=450,plot_width=855, title=\"Costs (in B€)\",\n",
    "           toolbar_location='above')\n",
    "\n",
    "\n",
    "s1.vbar_stack(types, x='capacity', width=0.5, color=colors, source=data,\n",
    "             legend=[value(x) for x in types], hatch_pattern=['dot', 'spiral', 'vertical_wave', 'right_diagonal_line', 'vertical_dash', 'left_diagonal_line'])\n",
    "\n",
    "\n",
    "s1.y_range.start = 0\n",
    "s1.x_range.range_padding = 0.7\n",
    "s1.xgrid.grid_line_color = None\n",
    "s1.axis.minor_tick_line_color = None\n",
    "s1.outline_line_color = None\n",
    "\n",
    "# p.legend.location = \"top_left\"\n",
    "# p.legend.orientation = \"vertical\"\n",
    "s1.toolbar.logo = None\n",
    "s1.toolbar_location = None\n",
    "show(s1)"
   ]
  },
  {
   "cell_type": "code",
   "execution_count": null,
   "outputs": [],
   "source": [],
   "metadata": {
    "collapsed": false,
    "pycharm": {
     "name": "#%%\n"
    }
   }
  }
 ],
 "metadata": {
  "kernelspec": {
   "display_name": "Python 3",
   "language": "python",
   "name": "python3"
  },
  "language_info": {
   "codemirror_mode": {
    "name": "ipython",
    "version": 2
   },
   "file_extension": ".py",
   "mimetype": "text/x-python",
   "name": "python",
   "nbconvert_exporter": "python",
   "pygments_lexer": "ipython2",
   "version": "2.7.6"
  }
 },
 "nbformat": 4,
 "nbformat_minor": 0
}