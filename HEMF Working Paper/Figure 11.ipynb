{
 "cells": [
  {
   "cell_type": "code",
   "execution_count": 1,
   "outputs": [
    {
     "data": {
      "text/plain": "          Row  Total_CO2_Emissions Pol_Inst Technologie  Shock  Unnamed: 5  \\\n0  1455555555               1503.6  CO2_Cap     Lignite   -0.1   455555555   \n1  1535555555               1503.6  CO2_Cap         Gas   -0.2   535555555   \n2  1545555555               1503.6  CO2_Cap         Gas   -0.1   545555555   \n3  1553555555               1503.6  CO2_Cap    Hardcoal   -0.2   553555555   \n4  1554555555               1503.6  CO2_Cap    Hardcoal   -0.1   554555555   \n\n   Unnamed: 6  Unnamed: 7  Unnamed: 8  Unnamed: 9  Lignite  Coal  CCGT  OCGT  \\\n0           1         4.0         NaN         NaN      0.0     0   0.0   0.0   \n1           2         3.0         NaN         NaN      0.0     0   0.0   0.0   \n2           2         4.0         NaN         NaN      0.0     0   0.0   0.0   \n3           3         3.0         NaN         NaN      0.0     0   0.0   0.0   \n4           3         4.0         NaN         NaN      0.0     0   0.0   0.0   \n\n   Wind_Onshore  Wind_Offshore  Solar  LitIon  PSH  Mixed  \n0           0.0            0.0    0.0     0.0  0.0    0.0  \n1           0.0            0.0    0.0     0.0  0.0    0.0  \n2           0.0            0.0    0.0     0.0  0.0    0.0  \n3           0.0            0.0    0.0     0.0  0.0    0.0  \n4           0.0            0.0    0.0     0.0  0.0    0.0  ",
      "text/html": "<div>\n<style scoped>\n    .dataframe tbody tr th:only-of-type {\n        vertical-align: middle;\n    }\n\n    .dataframe tbody tr th {\n        vertical-align: top;\n    }\n\n    .dataframe thead th {\n        text-align: right;\n    }\n</style>\n<table border=\"1\" class=\"dataframe\">\n  <thead>\n    <tr style=\"text-align: right;\">\n      <th></th>\n      <th>Row</th>\n      <th>Total_CO2_Emissions</th>\n      <th>Pol_Inst</th>\n      <th>Technologie</th>\n      <th>Shock</th>\n      <th>Unnamed: 5</th>\n      <th>Unnamed: 6</th>\n      <th>Unnamed: 7</th>\n      <th>Unnamed: 8</th>\n      <th>Unnamed: 9</th>\n      <th>Lignite</th>\n      <th>Coal</th>\n      <th>CCGT</th>\n      <th>OCGT</th>\n      <th>Wind_Onshore</th>\n      <th>Wind_Offshore</th>\n      <th>Solar</th>\n      <th>LitIon</th>\n      <th>PSH</th>\n      <th>Mixed</th>\n    </tr>\n  </thead>\n  <tbody>\n    <tr>\n      <th>0</th>\n      <td>1455555555</td>\n      <td>1503.6</td>\n      <td>CO2_Cap</td>\n      <td>Lignite</td>\n      <td>-0.1</td>\n      <td>455555555</td>\n      <td>1</td>\n      <td>4.0</td>\n      <td>NaN</td>\n      <td>NaN</td>\n      <td>0.0</td>\n      <td>0</td>\n      <td>0.0</td>\n      <td>0.0</td>\n      <td>0.0</td>\n      <td>0.0</td>\n      <td>0.0</td>\n      <td>0.0</td>\n      <td>0.0</td>\n      <td>0.0</td>\n    </tr>\n    <tr>\n      <th>1</th>\n      <td>1535555555</td>\n      <td>1503.6</td>\n      <td>CO2_Cap</td>\n      <td>Gas</td>\n      <td>-0.2</td>\n      <td>535555555</td>\n      <td>2</td>\n      <td>3.0</td>\n      <td>NaN</td>\n      <td>NaN</td>\n      <td>0.0</td>\n      <td>0</td>\n      <td>0.0</td>\n      <td>0.0</td>\n      <td>0.0</td>\n      <td>0.0</td>\n      <td>0.0</td>\n      <td>0.0</td>\n      <td>0.0</td>\n      <td>0.0</td>\n    </tr>\n    <tr>\n      <th>2</th>\n      <td>1545555555</td>\n      <td>1503.6</td>\n      <td>CO2_Cap</td>\n      <td>Gas</td>\n      <td>-0.1</td>\n      <td>545555555</td>\n      <td>2</td>\n      <td>4.0</td>\n      <td>NaN</td>\n      <td>NaN</td>\n      <td>0.0</td>\n      <td>0</td>\n      <td>0.0</td>\n      <td>0.0</td>\n      <td>0.0</td>\n      <td>0.0</td>\n      <td>0.0</td>\n      <td>0.0</td>\n      <td>0.0</td>\n      <td>0.0</td>\n    </tr>\n    <tr>\n      <th>3</th>\n      <td>1553555555</td>\n      <td>1503.6</td>\n      <td>CO2_Cap</td>\n      <td>Hardcoal</td>\n      <td>-0.2</td>\n      <td>553555555</td>\n      <td>3</td>\n      <td>3.0</td>\n      <td>NaN</td>\n      <td>NaN</td>\n      <td>0.0</td>\n      <td>0</td>\n      <td>0.0</td>\n      <td>0.0</td>\n      <td>0.0</td>\n      <td>0.0</td>\n      <td>0.0</td>\n      <td>0.0</td>\n      <td>0.0</td>\n      <td>0.0</td>\n    </tr>\n    <tr>\n      <th>4</th>\n      <td>1554555555</td>\n      <td>1503.6</td>\n      <td>CO2_Cap</td>\n      <td>Hardcoal</td>\n      <td>-0.1</td>\n      <td>554555555</td>\n      <td>3</td>\n      <td>4.0</td>\n      <td>NaN</td>\n      <td>NaN</td>\n      <td>0.0</td>\n      <td>0</td>\n      <td>0.0</td>\n      <td>0.0</td>\n      <td>0.0</td>\n      <td>0.0</td>\n      <td>0.0</td>\n      <td>0.0</td>\n      <td>0.0</td>\n      <td>0.0</td>\n    </tr>\n  </tbody>\n</table>\n</div>"
     },
     "execution_count": 1,
     "metadata": {},
     "output_type": "execute_result"
    }
   ],
   "source": [
    "\n",
    "from bokeh.models import NumeralTickFormatter\n",
    "from bokeh.plotting import figure, output_file, show\n",
    "from bokeh.models import Title\n",
    "import pandas as pd\n",
    "import matplotlib.pyplot as plt\n",
    "#names1 = [\"Total_Co2_Emissions\",\"Pol_Inst\",\"Technologie\",\"Shock\",\"Lignite\",\"Coal\",\"CCGT\",\"OCGT\",\"Wind_Onshore\",\"Wind_Offshore\",\"Solar\",\"LitIon\",\"PSH\",\"Total\"]\n",
    "data = pd.read_excel(r'Figures_Data_Preparation_9-12.xlsx', sheet_name = 'Figure 9-12', skiprows=[1])\n",
    "#df = df.set_index([df.iloc[0], df.columns[0]])\n",
    "data.head()"
   ],
   "metadata": {
    "collapsed": false,
    "pycharm": {
     "name": "#%%\n"
    }
   }
  },
  {
   "cell_type": "code",
   "execution_count": 2,
   "outputs": [
    {
     "data": {
      "text/plain": "Row                      int64\nTotal_CO2_Emissions    float64\nPol_Inst                object\nTechnologie             object\nShock                  float64\nUnnamed: 5               int64\nUnnamed: 6               int64\nUnnamed: 7             float64\nUnnamed: 8             float64\nUnnamed: 9             float64\nLignite                float64\nCoal                     int64\nCCGT                   float64\nOCGT                   float64\nWind_Onshore           float64\nWind_Offshore          float64\nSolar                  float64\nLitIon                 float64\nPSH                    float64\nMixed                  float64\ndtype: object"
     },
     "execution_count": 2,
     "metadata": {},
     "output_type": "execute_result"
    }
   ],
   "source": [
    "data.dtypes"
   ],
   "metadata": {
    "collapsed": false,
    "pycharm": {
     "name": "#%%\n"
    }
   }
  },
  {
   "cell_type": "code",
   "execution_count": 3,
   "outputs": [
    {
     "data": {
      "text/plain": "Index(['Row', 'Total_CO2_Emissions', 'Pol_Inst', 'Technologie', 'Shock',\n       'Unnamed: 5', 'Unnamed: 6', 'Unnamed: 7', 'Unnamed: 8', 'Unnamed: 9',\n       'Lignite', 'Coal', 'CCGT', 'OCGT', 'Wind_Onshore', 'Wind_Offshore',\n       'Solar', 'LitIon', 'PSH', 'Mixed'],\n      dtype='object')"
     },
     "execution_count": 3,
     "metadata": {},
     "output_type": "execute_result"
    }
   ],
   "source": [
    "data.columns\n"
   ],
   "metadata": {
    "collapsed": false,
    "pycharm": {
     "name": "#%%\n"
    }
   }
  },
  {
   "cell_type": "code",
   "execution_count": 4,
   "outputs": [
    {
     "data": {
      "text/plain": "      Technologie  Shock Pol_Inst  Lignite  Coal  CCGT  OCGT  Wind_Onshore  \\\n1             Gas   -0.2  CO2_Cap      0.0     0  0.00  0.00          0.00   \n3        Hardcoal   -0.2  CO2_Cap      0.0     0  0.00  0.00          0.00   \n5          Demand   -0.2  CO2_Cap      0.0     0 -0.55 -0.58         -0.15   \n7           Solar   -0.2  CO2_Cap      0.0     0  0.00 -0.01         -0.02   \n9    Wind_Onshore   -0.2  CO2_Cap      0.0     0  0.00  0.00         -0.17   \n..            ...    ...      ...      ...   ...   ...   ...           ...   \n138         Solar    0.2      FIT      0.0     0  0.00  0.00          0.00   \n140        Demand    0.2      FIT      0.0     0  0.00  0.00          0.00   \n142      Hardcoal    0.2      FIT      0.0     0  0.00  0.00          0.00   \n144           Gas    0.2      FIT      0.0     0 -0.01 -0.02          0.00   \n146       Lignite    0.2      FIT      0.0     0  0.00  0.00          0.00   \n\n     Wind_Offshore  Solar  LitIon   PSH  Mixed  \n1             0.00   0.00    0.00  0.00   0.00  \n3             0.00   0.00    0.00  0.00   0.00  \n5            -0.15  -0.14   -0.53 -0.33  -0.22  \n7            -0.04  -0.18    0.01 -0.01  -0.06  \n9            -0.13  -0.07   -0.25 -0.03  -0.11  \n..             ...    ...     ...   ...    ...  \n138           0.00   0.00    0.00  0.00   0.00  \n140           0.00   0.00   -0.01  0.00   0.00  \n142           0.00   0.00    0.00  0.00   0.00  \n144           0.00   0.00    0.00  0.00   0.00  \n146           0.00   0.00    0.00 -0.01   0.00  \n\n[71 rows x 13 columns]",
      "text/html": "<div>\n<style scoped>\n    .dataframe tbody tr th:only-of-type {\n        vertical-align: middle;\n    }\n\n    .dataframe tbody tr th {\n        vertical-align: top;\n    }\n\n    .dataframe thead th {\n        text-align: right;\n    }\n</style>\n<table border=\"1\" class=\"dataframe\">\n  <thead>\n    <tr style=\"text-align: right;\">\n      <th></th>\n      <th>Technologie</th>\n      <th>Shock</th>\n      <th>Pol_Inst</th>\n      <th>Lignite</th>\n      <th>Coal</th>\n      <th>CCGT</th>\n      <th>OCGT</th>\n      <th>Wind_Onshore</th>\n      <th>Wind_Offshore</th>\n      <th>Solar</th>\n      <th>LitIon</th>\n      <th>PSH</th>\n      <th>Mixed</th>\n    </tr>\n  </thead>\n  <tbody>\n    <tr>\n      <th>1</th>\n      <td>Gas</td>\n      <td>-0.2</td>\n      <td>CO2_Cap</td>\n      <td>0.0</td>\n      <td>0</td>\n      <td>0.00</td>\n      <td>0.00</td>\n      <td>0.00</td>\n      <td>0.00</td>\n      <td>0.00</td>\n      <td>0.00</td>\n      <td>0.00</td>\n      <td>0.00</td>\n    </tr>\n    <tr>\n      <th>3</th>\n      <td>Hardcoal</td>\n      <td>-0.2</td>\n      <td>CO2_Cap</td>\n      <td>0.0</td>\n      <td>0</td>\n      <td>0.00</td>\n      <td>0.00</td>\n      <td>0.00</td>\n      <td>0.00</td>\n      <td>0.00</td>\n      <td>0.00</td>\n      <td>0.00</td>\n      <td>0.00</td>\n    </tr>\n    <tr>\n      <th>5</th>\n      <td>Demand</td>\n      <td>-0.2</td>\n      <td>CO2_Cap</td>\n      <td>0.0</td>\n      <td>0</td>\n      <td>-0.55</td>\n      <td>-0.58</td>\n      <td>-0.15</td>\n      <td>-0.15</td>\n      <td>-0.14</td>\n      <td>-0.53</td>\n      <td>-0.33</td>\n      <td>-0.22</td>\n    </tr>\n    <tr>\n      <th>7</th>\n      <td>Solar</td>\n      <td>-0.2</td>\n      <td>CO2_Cap</td>\n      <td>0.0</td>\n      <td>0</td>\n      <td>0.00</td>\n      <td>-0.01</td>\n      <td>-0.02</td>\n      <td>-0.04</td>\n      <td>-0.18</td>\n      <td>0.01</td>\n      <td>-0.01</td>\n      <td>-0.06</td>\n    </tr>\n    <tr>\n      <th>9</th>\n      <td>Wind_Onshore</td>\n      <td>-0.2</td>\n      <td>CO2_Cap</td>\n      <td>0.0</td>\n      <td>0</td>\n      <td>0.00</td>\n      <td>0.00</td>\n      <td>-0.17</td>\n      <td>-0.13</td>\n      <td>-0.07</td>\n      <td>-0.25</td>\n      <td>-0.03</td>\n      <td>-0.11</td>\n    </tr>\n    <tr>\n      <th>...</th>\n      <td>...</td>\n      <td>...</td>\n      <td>...</td>\n      <td>...</td>\n      <td>...</td>\n      <td>...</td>\n      <td>...</td>\n      <td>...</td>\n      <td>...</td>\n      <td>...</td>\n      <td>...</td>\n      <td>...</td>\n      <td>...</td>\n    </tr>\n    <tr>\n      <th>138</th>\n      <td>Solar</td>\n      <td>0.2</td>\n      <td>FIT</td>\n      <td>0.0</td>\n      <td>0</td>\n      <td>0.00</td>\n      <td>0.00</td>\n      <td>0.00</td>\n      <td>0.00</td>\n      <td>0.00</td>\n      <td>0.00</td>\n      <td>0.00</td>\n      <td>0.00</td>\n    </tr>\n    <tr>\n      <th>140</th>\n      <td>Demand</td>\n      <td>0.2</td>\n      <td>FIT</td>\n      <td>0.0</td>\n      <td>0</td>\n      <td>0.00</td>\n      <td>0.00</td>\n      <td>0.00</td>\n      <td>0.00</td>\n      <td>0.00</td>\n      <td>-0.01</td>\n      <td>0.00</td>\n      <td>0.00</td>\n    </tr>\n    <tr>\n      <th>142</th>\n      <td>Hardcoal</td>\n      <td>0.2</td>\n      <td>FIT</td>\n      <td>0.0</td>\n      <td>0</td>\n      <td>0.00</td>\n      <td>0.00</td>\n      <td>0.00</td>\n      <td>0.00</td>\n      <td>0.00</td>\n      <td>0.00</td>\n      <td>0.00</td>\n      <td>0.00</td>\n    </tr>\n    <tr>\n      <th>144</th>\n      <td>Gas</td>\n      <td>0.2</td>\n      <td>FIT</td>\n      <td>0.0</td>\n      <td>0</td>\n      <td>-0.01</td>\n      <td>-0.02</td>\n      <td>0.00</td>\n      <td>0.00</td>\n      <td>0.00</td>\n      <td>0.00</td>\n      <td>0.00</td>\n      <td>0.00</td>\n    </tr>\n    <tr>\n      <th>146</th>\n      <td>Lignite</td>\n      <td>0.2</td>\n      <td>FIT</td>\n      <td>0.0</td>\n      <td>0</td>\n      <td>0.00</td>\n      <td>0.00</td>\n      <td>0.00</td>\n      <td>0.00</td>\n      <td>0.00</td>\n      <td>0.00</td>\n      <td>-0.01</td>\n      <td>0.00</td>\n    </tr>\n  </tbody>\n</table>\n<p>71 rows × 13 columns</p>\n</div>"
     },
     "execution_count": 4,
     "metadata": {},
     "output_type": "execute_result"
    }
   ],
   "source": [
    "data0 = data[['Technologie', \"Shock\", \"Pol_Inst\" ,'Lignite', 'Coal', 'CCGT', 'OCGT', 'Wind_Onshore', 'Wind_Offshore',\n",
    "       'Solar', 'LitIon', 'PSH', 'Mixed']]\n",
    "\n",
    "data0 = data0.loc[data['Technologie']!='no']\n",
    "data0 = data0.loc[(data[\"Shock\"] == -0.2) | (data[\"Shock\"] == 0.2)]\n",
    "\n",
    "data0\n",
    "\n"
   ],
   "metadata": {
    "collapsed": false,
    "pycharm": {
     "name": "#%%\n"
    }
   }
  },
  {
   "cell_type": "code",
   "execution_count": 5,
   "outputs": [],
   "source": [
    "data_co2_cap0 = data0.loc[data['Pol_Inst']=='FIT']"
   ],
   "metadata": {
    "collapsed": false,
    "pycharm": {
     "name": "#%%\n"
    }
   }
  },
  {
   "cell_type": "code",
   "execution_count": 6,
   "outputs": [],
   "source": [
    "data_co2_cap = data_co2_cap0[['Technologie','Lignite', 'Coal', 'CCGT', 'OCGT', 'Wind_Onshore', 'Wind_Offshore',\n",
    "       'Solar', 'LitIon', 'PSH', 'Mixed']]"
   ],
   "metadata": {
    "collapsed": false,
    "pycharm": {
     "name": "#%%\n"
    }
   }
  },
  {
   "cell_type": "code",
   "execution_count": 7,
   "outputs": [
    {
     "data": {
      "text/plain": "       Technologie  Shock Pol_Inst  Lignite  Coal  CCGT  OCGT  Wind_Onshore  \\\n110        Lignite   -0.2      FIT     0.00     0  0.00  0.00           0.0   \n112            Gas   -0.2      FIT    -0.02     0 -0.01  0.00           0.0   \n114       Hardcoal   -0.2      FIT    -0.01     0 -0.01  0.00           0.0   \n116         Demand   -0.2      FIT    -0.30     0 -0.36 -0.41           0.0   \n118          Solar   -0.2      FIT     0.00     0  0.00  0.00           0.0   \n120   Wind_Onshore   -0.2      FIT     0.00     0  0.00  0.00           0.0   \n122  Wind_Offshore   -0.2      FIT     0.00     0  0.00  0.00           0.0   \n124        Lit_Ion   -0.2      FIT     0.00     0  0.00  0.00           0.0   \n126            PSH   -0.2      FIT    -0.02     0 -0.02 -0.04           0.0   \n130            PSH    0.2      FIT     0.00     0  0.00  0.00           0.0   \n132        Lit_Ion    0.2      FIT     0.00     0  0.00  0.00           0.0   \n134  Wind_Offshore    0.2      FIT     0.00     0  0.00  0.00           0.0   \n136   Wind_Onshore    0.2      FIT     0.00     0  0.00  0.00           0.0   \n138          Solar    0.2      FIT     0.00     0  0.00  0.00           0.0   \n140         Demand    0.2      FIT     0.00     0  0.00  0.00           0.0   \n142       Hardcoal    0.2      FIT     0.00     0  0.00  0.00           0.0   \n144            Gas    0.2      FIT     0.00     0 -0.01 -0.02           0.0   \n146        Lignite    0.2      FIT     0.00     0  0.00  0.00           0.0   \n\n     Wind_Offshore  Solar  LitIon   PSH  Mixed  \n110            0.0    0.0    0.00  0.01   0.00  \n112            0.0    0.0    0.00 -0.01   0.00  \n114            0.0    0.0    0.00  0.00   0.00  \n116            0.0    0.0   -0.30 -0.19  -0.05  \n118            0.0    0.0    0.00  0.00   0.00  \n120            0.0    0.0    0.00  0.00   0.00  \n122            0.0    0.0    0.00  0.00   0.00  \n124            0.0    0.0   -0.11 -0.05   0.00  \n126            0.0    0.0   -0.04 -0.17  -0.01  \n130            0.0    0.0    0.05  0.03   0.00  \n132            0.0    0.0    0.10  0.00   0.00  \n134            0.0    0.0    0.00  0.00   0.00  \n136            0.0    0.0    0.00  0.00   0.00  \n138            0.0    0.0    0.00  0.00   0.00  \n140            0.0    0.0   -0.01  0.00   0.00  \n142            0.0    0.0    0.00  0.00   0.00  \n144            0.0    0.0    0.00  0.00   0.00  \n146            0.0    0.0    0.00 -0.01   0.00  ",
      "text/html": "<div>\n<style scoped>\n    .dataframe tbody tr th:only-of-type {\n        vertical-align: middle;\n    }\n\n    .dataframe tbody tr th {\n        vertical-align: top;\n    }\n\n    .dataframe thead th {\n        text-align: right;\n    }\n</style>\n<table border=\"1\" class=\"dataframe\">\n  <thead>\n    <tr style=\"text-align: right;\">\n      <th></th>\n      <th>Technologie</th>\n      <th>Shock</th>\n      <th>Pol_Inst</th>\n      <th>Lignite</th>\n      <th>Coal</th>\n      <th>CCGT</th>\n      <th>OCGT</th>\n      <th>Wind_Onshore</th>\n      <th>Wind_Offshore</th>\n      <th>Solar</th>\n      <th>LitIon</th>\n      <th>PSH</th>\n      <th>Mixed</th>\n    </tr>\n  </thead>\n  <tbody>\n    <tr>\n      <th>110</th>\n      <td>Lignite</td>\n      <td>-0.2</td>\n      <td>FIT</td>\n      <td>0.00</td>\n      <td>0</td>\n      <td>0.00</td>\n      <td>0.00</td>\n      <td>0.0</td>\n      <td>0.0</td>\n      <td>0.0</td>\n      <td>0.00</td>\n      <td>0.01</td>\n      <td>0.00</td>\n    </tr>\n    <tr>\n      <th>112</th>\n      <td>Gas</td>\n      <td>-0.2</td>\n      <td>FIT</td>\n      <td>-0.02</td>\n      <td>0</td>\n      <td>-0.01</td>\n      <td>0.00</td>\n      <td>0.0</td>\n      <td>0.0</td>\n      <td>0.0</td>\n      <td>0.00</td>\n      <td>-0.01</td>\n      <td>0.00</td>\n    </tr>\n    <tr>\n      <th>114</th>\n      <td>Hardcoal</td>\n      <td>-0.2</td>\n      <td>FIT</td>\n      <td>-0.01</td>\n      <td>0</td>\n      <td>-0.01</td>\n      <td>0.00</td>\n      <td>0.0</td>\n      <td>0.0</td>\n      <td>0.0</td>\n      <td>0.00</td>\n      <td>0.00</td>\n      <td>0.00</td>\n    </tr>\n    <tr>\n      <th>116</th>\n      <td>Demand</td>\n      <td>-0.2</td>\n      <td>FIT</td>\n      <td>-0.30</td>\n      <td>0</td>\n      <td>-0.36</td>\n      <td>-0.41</td>\n      <td>0.0</td>\n      <td>0.0</td>\n      <td>0.0</td>\n      <td>-0.30</td>\n      <td>-0.19</td>\n      <td>-0.05</td>\n    </tr>\n    <tr>\n      <th>118</th>\n      <td>Solar</td>\n      <td>-0.2</td>\n      <td>FIT</td>\n      <td>0.00</td>\n      <td>0</td>\n      <td>0.00</td>\n      <td>0.00</td>\n      <td>0.0</td>\n      <td>0.0</td>\n      <td>0.0</td>\n      <td>0.00</td>\n      <td>0.00</td>\n      <td>0.00</td>\n    </tr>\n    <tr>\n      <th>120</th>\n      <td>Wind_Onshore</td>\n      <td>-0.2</td>\n      <td>FIT</td>\n      <td>0.00</td>\n      <td>0</td>\n      <td>0.00</td>\n      <td>0.00</td>\n      <td>0.0</td>\n      <td>0.0</td>\n      <td>0.0</td>\n      <td>0.00</td>\n      <td>0.00</td>\n      <td>0.00</td>\n    </tr>\n    <tr>\n      <th>122</th>\n      <td>Wind_Offshore</td>\n      <td>-0.2</td>\n      <td>FIT</td>\n      <td>0.00</td>\n      <td>0</td>\n      <td>0.00</td>\n      <td>0.00</td>\n      <td>0.0</td>\n      <td>0.0</td>\n      <td>0.0</td>\n      <td>0.00</td>\n      <td>0.00</td>\n      <td>0.00</td>\n    </tr>\n    <tr>\n      <th>124</th>\n      <td>Lit_Ion</td>\n      <td>-0.2</td>\n      <td>FIT</td>\n      <td>0.00</td>\n      <td>0</td>\n      <td>0.00</td>\n      <td>0.00</td>\n      <td>0.0</td>\n      <td>0.0</td>\n      <td>0.0</td>\n      <td>-0.11</td>\n      <td>-0.05</td>\n      <td>0.00</td>\n    </tr>\n    <tr>\n      <th>126</th>\n      <td>PSH</td>\n      <td>-0.2</td>\n      <td>FIT</td>\n      <td>-0.02</td>\n      <td>0</td>\n      <td>-0.02</td>\n      <td>-0.04</td>\n      <td>0.0</td>\n      <td>0.0</td>\n      <td>0.0</td>\n      <td>-0.04</td>\n      <td>-0.17</td>\n      <td>-0.01</td>\n    </tr>\n    <tr>\n      <th>130</th>\n      <td>PSH</td>\n      <td>0.2</td>\n      <td>FIT</td>\n      <td>0.00</td>\n      <td>0</td>\n      <td>0.00</td>\n      <td>0.00</td>\n      <td>0.0</td>\n      <td>0.0</td>\n      <td>0.0</td>\n      <td>0.05</td>\n      <td>0.03</td>\n      <td>0.00</td>\n    </tr>\n    <tr>\n      <th>132</th>\n      <td>Lit_Ion</td>\n      <td>0.2</td>\n      <td>FIT</td>\n      <td>0.00</td>\n      <td>0</td>\n      <td>0.00</td>\n      <td>0.00</td>\n      <td>0.0</td>\n      <td>0.0</td>\n      <td>0.0</td>\n      <td>0.10</td>\n      <td>0.00</td>\n      <td>0.00</td>\n    </tr>\n    <tr>\n      <th>134</th>\n      <td>Wind_Offshore</td>\n      <td>0.2</td>\n      <td>FIT</td>\n      <td>0.00</td>\n      <td>0</td>\n      <td>0.00</td>\n      <td>0.00</td>\n      <td>0.0</td>\n      <td>0.0</td>\n      <td>0.0</td>\n      <td>0.00</td>\n      <td>0.00</td>\n      <td>0.00</td>\n    </tr>\n    <tr>\n      <th>136</th>\n      <td>Wind_Onshore</td>\n      <td>0.2</td>\n      <td>FIT</td>\n      <td>0.00</td>\n      <td>0</td>\n      <td>0.00</td>\n      <td>0.00</td>\n      <td>0.0</td>\n      <td>0.0</td>\n      <td>0.0</td>\n      <td>0.00</td>\n      <td>0.00</td>\n      <td>0.00</td>\n    </tr>\n    <tr>\n      <th>138</th>\n      <td>Solar</td>\n      <td>0.2</td>\n      <td>FIT</td>\n      <td>0.00</td>\n      <td>0</td>\n      <td>0.00</td>\n      <td>0.00</td>\n      <td>0.0</td>\n      <td>0.0</td>\n      <td>0.0</td>\n      <td>0.00</td>\n      <td>0.00</td>\n      <td>0.00</td>\n    </tr>\n    <tr>\n      <th>140</th>\n      <td>Demand</td>\n      <td>0.2</td>\n      <td>FIT</td>\n      <td>0.00</td>\n      <td>0</td>\n      <td>0.00</td>\n      <td>0.00</td>\n      <td>0.0</td>\n      <td>0.0</td>\n      <td>0.0</td>\n      <td>-0.01</td>\n      <td>0.00</td>\n      <td>0.00</td>\n    </tr>\n    <tr>\n      <th>142</th>\n      <td>Hardcoal</td>\n      <td>0.2</td>\n      <td>FIT</td>\n      <td>0.00</td>\n      <td>0</td>\n      <td>0.00</td>\n      <td>0.00</td>\n      <td>0.0</td>\n      <td>0.0</td>\n      <td>0.0</td>\n      <td>0.00</td>\n      <td>0.00</td>\n      <td>0.00</td>\n    </tr>\n    <tr>\n      <th>144</th>\n      <td>Gas</td>\n      <td>0.2</td>\n      <td>FIT</td>\n      <td>0.00</td>\n      <td>0</td>\n      <td>-0.01</td>\n      <td>-0.02</td>\n      <td>0.0</td>\n      <td>0.0</td>\n      <td>0.0</td>\n      <td>0.00</td>\n      <td>0.00</td>\n      <td>0.00</td>\n    </tr>\n    <tr>\n      <th>146</th>\n      <td>Lignite</td>\n      <td>0.2</td>\n      <td>FIT</td>\n      <td>0.00</td>\n      <td>0</td>\n      <td>0.00</td>\n      <td>0.00</td>\n      <td>0.0</td>\n      <td>0.0</td>\n      <td>0.0</td>\n      <td>0.00</td>\n      <td>-0.01</td>\n      <td>0.00</td>\n    </tr>\n  </tbody>\n</table>\n</div>"
     },
     "execution_count": 7,
     "metadata": {},
     "output_type": "execute_result"
    }
   ],
   "source": [
    "data_co2_cap0"
   ],
   "metadata": {
    "collapsed": false,
    "pycharm": {
     "name": "#%%\n"
    }
   }
  },
  {
   "cell_type": "code",
   "execution_count": 8,
   "outputs": [
    {
     "data": {
      "text/plain": "['#ADD8E6',\n '#414141',\n '#FFA500',\n '#fff340',\n '#00b8f2',\n '#a19595',\n '#f23333',\n '#2397fc']"
     },
     "execution_count": 8,
     "metadata": {},
     "output_type": "execute_result"
    }
   ],
   "source": [
    "hue1 = [\"#ADD8E6\", \"#414141\", \"#FFA500\", \"#fff340\", \"#00b8f2\", \"#a19595\", \"#f23333\", \"#2397fc\"]\n",
    "\n",
    "hue1"
   ],
   "metadata": {
    "collapsed": false,
    "pycharm": {
     "name": "#%%\n"
    }
   }
  },
  {
   "cell_type": "code",
   "execution_count": 9,
   "outputs": [],
   "source": [
    "import seaborn as sns\n",
    "import matplotlib.pyplot as plt\n",
    "df_melt=pd.melt(data_co2_cap,id_vars=['Technologie'], var_name='intensities', value_name='values')\n"
   ],
   "metadata": {
    "collapsed": false,
    "pycharm": {
     "name": "#%%\n"
    }
   }
  },
  {
   "cell_type": "code",
   "execution_count": 10,
   "outputs": [
    {
     "data": {
      "text/plain": "    Technologie intensities  values\n1           Gas     Lignite   -0.02\n2      Hardcoal     Lignite   -0.01\n3        Demand     Lignite   -0.30\n8           PSH     Lignite   -0.02\n37          Gas        CCGT   -0.01\n38     Hardcoal        CCGT   -0.01\n39       Demand        CCGT   -0.36\n44          PSH        CCGT   -0.02\n52          Gas        CCGT   -0.01\n57       Demand        OCGT   -0.41\n62          PSH        OCGT   -0.04\n70          Gas        OCGT   -0.02\n129      Demand      LitIon   -0.30\n133     Lit_Ion      LitIon   -0.11\n134         PSH      LitIon   -0.04\n135         PSH      LitIon    0.05\n136     Lit_Ion      LitIon    0.10\n140      Demand      LitIon   -0.01\n144     Lignite         PSH    0.01\n145         Gas         PSH   -0.01\n147      Demand         PSH   -0.19\n151     Lit_Ion         PSH   -0.05\n152         PSH         PSH   -0.17\n153         PSH         PSH    0.03\n161     Lignite         PSH   -0.01\n165      Demand       Mixed   -0.05\n170         PSH       Mixed   -0.01",
      "text/html": "<div>\n<style scoped>\n    .dataframe tbody tr th:only-of-type {\n        vertical-align: middle;\n    }\n\n    .dataframe tbody tr th {\n        vertical-align: top;\n    }\n\n    .dataframe thead th {\n        text-align: right;\n    }\n</style>\n<table border=\"1\" class=\"dataframe\">\n  <thead>\n    <tr style=\"text-align: right;\">\n      <th></th>\n      <th>Technologie</th>\n      <th>intensities</th>\n      <th>values</th>\n    </tr>\n  </thead>\n  <tbody>\n    <tr>\n      <th>1</th>\n      <td>Gas</td>\n      <td>Lignite</td>\n      <td>-0.02</td>\n    </tr>\n    <tr>\n      <th>2</th>\n      <td>Hardcoal</td>\n      <td>Lignite</td>\n      <td>-0.01</td>\n    </tr>\n    <tr>\n      <th>3</th>\n      <td>Demand</td>\n      <td>Lignite</td>\n      <td>-0.30</td>\n    </tr>\n    <tr>\n      <th>8</th>\n      <td>PSH</td>\n      <td>Lignite</td>\n      <td>-0.02</td>\n    </tr>\n    <tr>\n      <th>37</th>\n      <td>Gas</td>\n      <td>CCGT</td>\n      <td>-0.01</td>\n    </tr>\n    <tr>\n      <th>38</th>\n      <td>Hardcoal</td>\n      <td>CCGT</td>\n      <td>-0.01</td>\n    </tr>\n    <tr>\n      <th>39</th>\n      <td>Demand</td>\n      <td>CCGT</td>\n      <td>-0.36</td>\n    </tr>\n    <tr>\n      <th>44</th>\n      <td>PSH</td>\n      <td>CCGT</td>\n      <td>-0.02</td>\n    </tr>\n    <tr>\n      <th>52</th>\n      <td>Gas</td>\n      <td>CCGT</td>\n      <td>-0.01</td>\n    </tr>\n    <tr>\n      <th>57</th>\n      <td>Demand</td>\n      <td>OCGT</td>\n      <td>-0.41</td>\n    </tr>\n    <tr>\n      <th>62</th>\n      <td>PSH</td>\n      <td>OCGT</td>\n      <td>-0.04</td>\n    </tr>\n    <tr>\n      <th>70</th>\n      <td>Gas</td>\n      <td>OCGT</td>\n      <td>-0.02</td>\n    </tr>\n    <tr>\n      <th>129</th>\n      <td>Demand</td>\n      <td>LitIon</td>\n      <td>-0.30</td>\n    </tr>\n    <tr>\n      <th>133</th>\n      <td>Lit_Ion</td>\n      <td>LitIon</td>\n      <td>-0.11</td>\n    </tr>\n    <tr>\n      <th>134</th>\n      <td>PSH</td>\n      <td>LitIon</td>\n      <td>-0.04</td>\n    </tr>\n    <tr>\n      <th>135</th>\n      <td>PSH</td>\n      <td>LitIon</td>\n      <td>0.05</td>\n    </tr>\n    <tr>\n      <th>136</th>\n      <td>Lit_Ion</td>\n      <td>LitIon</td>\n      <td>0.10</td>\n    </tr>\n    <tr>\n      <th>140</th>\n      <td>Demand</td>\n      <td>LitIon</td>\n      <td>-0.01</td>\n    </tr>\n    <tr>\n      <th>144</th>\n      <td>Lignite</td>\n      <td>PSH</td>\n      <td>0.01</td>\n    </tr>\n    <tr>\n      <th>145</th>\n      <td>Gas</td>\n      <td>PSH</td>\n      <td>-0.01</td>\n    </tr>\n    <tr>\n      <th>147</th>\n      <td>Demand</td>\n      <td>PSH</td>\n      <td>-0.19</td>\n    </tr>\n    <tr>\n      <th>151</th>\n      <td>Lit_Ion</td>\n      <td>PSH</td>\n      <td>-0.05</td>\n    </tr>\n    <tr>\n      <th>152</th>\n      <td>PSH</td>\n      <td>PSH</td>\n      <td>-0.17</td>\n    </tr>\n    <tr>\n      <th>153</th>\n      <td>PSH</td>\n      <td>PSH</td>\n      <td>0.03</td>\n    </tr>\n    <tr>\n      <th>161</th>\n      <td>Lignite</td>\n      <td>PSH</td>\n      <td>-0.01</td>\n    </tr>\n    <tr>\n      <th>165</th>\n      <td>Demand</td>\n      <td>Mixed</td>\n      <td>-0.05</td>\n    </tr>\n    <tr>\n      <th>170</th>\n      <td>PSH</td>\n      <td>Mixed</td>\n      <td>-0.01</td>\n    </tr>\n  </tbody>\n</table>\n</div>"
     },
     "execution_count": 10,
     "metadata": {},
     "output_type": "execute_result"
    }
   ],
   "source": [
    "df = df_melt[(df_melt[['values']] != 0).all(axis=1)]\n",
    "\n",
    "df"
   ],
   "metadata": {
    "collapsed": false,
    "pycharm": {
     "name": "#%%\n"
    }
   }
  },
  {
   "cell_type": "code",
   "execution_count": 11,
   "outputs": [
    {
     "data": {
      "text/plain": "array(['Lignite', 'Gas', 'Hardcoal', 'Demand', 'Solar', 'Wind_Onshore',\n       'Wind_Offshore', 'Lit_Ion', 'PSH', 'no'], dtype=object)"
     },
     "execution_count": 11,
     "metadata": {},
     "output_type": "execute_result"
    }
   ],
   "source": [
    "data[\"Technologie\"].unique()\n",
    "\n",
    "#['Technologie','Lignite', 'Coal', 'CCGT', 'OCGT', 'Wind_Onshore', 'Wind_Offshore',\n",
    "#       'Solar', 'LitIon', 'PSH', 'Total']"
   ],
   "metadata": {
    "collapsed": false,
    "pycharm": {
     "name": "#%%\n"
    }
   }
  },
  {
   "cell_type": "code",
   "execution_count": 12,
   "outputs": [
    {
     "name": "stderr",
     "output_type": "stream",
     "text": [
      "c:\\users\\shakh\\appdata\\local\\programs\\python\\python38-32\\lib\\site-packages\\seaborn\\categorical.py:3692: UserWarning: The `size` parameter has been renamed to `height`; please update your code.\n",
      "  warnings.warn(msg, UserWarning)\n"
     ]
    },
    {
     "data": {
      "text/plain": "<seaborn.axisgrid.FacetGrid at 0x16c51928>"
     },
     "execution_count": 12,
     "metadata": {},
     "output_type": "execute_result"
    },
    {
     "data": {
      "text/plain": "<Figure size 684.875x576 with 1 Axes>",
      "image/png": "[encoded data removed]"
     },
     "metadata": {
      "needs_background": "light"
     },
     "output_type": "display_data"
    }
   ],
   "source": [
    "markers1 = {'Demand': '>', 'Hardcoal': \"s\", 'Solar': '<', 'Wind_Onshore' : '.',\n",
    "       'Wind_Offshore' : ',', 'Lit_Ion': '-', 'PSH':'#'}\n",
    "#    {\"Lunch\": \"s\", \"Dinner\": \"X\"}\n",
    "\n",
    "\n",
    "sns.set_palette(sns.color_palette(hue1))\n",
    "ax = sns.catplot(x=\"intensities\", y=\"values\", data=df_melt, s=10, size=8, hue='Technologie', palette = sns.color_palette([\"#ADD8E6\", \"#414141\", \"#FFA500\", \"#fff340\", \"#00b8f2\", \"#a19595\", \"#f23333\", \"#2397fc\"]))\n",
    "\n",
    "ax.set_xticklabels(rotation = 45)\n",
    "\n",
    "ax.axes[0][0].axhline(y = 0, ls='--', color='blue', linewidth=2, alpha=.7)\n",
    "\n",
    "ax.set_axis_labels(\"\",\"\")\n",
    "# ax.set_xlabels()\n",
    "# ax.set_xlabel('')"
   ],
   "metadata": {
    "collapsed": false,
    "pycharm": {
     "name": "#%%\n"
    }
   }
  },
  {
   "cell_type": "code",
   "execution_count": 13,
   "outputs": [
    {
     "data": {
      "text/plain": "    Technologie intensities  values\n0       Lignite     Lignite    0.00\n1           Gas     Lignite   -0.02\n2      Hardcoal     Lignite   -0.01\n3        Demand     Lignite   -0.30\n4         Solar     Lignite    0.00\n..          ...         ...     ...\n175       Solar       Mixed    0.00\n176      Demand       Mixed    0.00\n177    Hardcoal       Mixed    0.00\n178         Gas       Mixed    0.00\n179     Lignite       Mixed    0.00\n\n[180 rows x 3 columns]",
      "text/html": "<div>\n<style scoped>\n    .dataframe tbody tr th:only-of-type {\n        vertical-align: middle;\n    }\n\n    .dataframe tbody tr th {\n        vertical-align: top;\n    }\n\n    .dataframe thead th {\n        text-align: right;\n    }\n</style>\n<table border=\"1\" class=\"dataframe\">\n  <thead>\n    <tr style=\"text-align: right;\">\n      <th></th>\n      <th>Technologie</th>\n      <th>intensities</th>\n      <th>values</th>\n    </tr>\n  </thead>\n  <tbody>\n    <tr>\n      <th>0</th>\n      <td>Lignite</td>\n      <td>Lignite</td>\n      <td>0.00</td>\n    </tr>\n    <tr>\n      <th>1</th>\n      <td>Gas</td>\n      <td>Lignite</td>\n      <td>-0.02</td>\n    </tr>\n    <tr>\n      <th>2</th>\n      <td>Hardcoal</td>\n      <td>Lignite</td>\n      <td>-0.01</td>\n    </tr>\n    <tr>\n      <th>3</th>\n      <td>Demand</td>\n      <td>Lignite</td>\n      <td>-0.30</td>\n    </tr>\n    <tr>\n      <th>4</th>\n      <td>Solar</td>\n      <td>Lignite</td>\n      <td>0.00</td>\n    </tr>\n    <tr>\n      <th>...</th>\n      <td>...</td>\n      <td>...</td>\n      <td>...</td>\n    </tr>\n    <tr>\n      <th>175</th>\n      <td>Solar</td>\n      <td>Mixed</td>\n      <td>0.00</td>\n    </tr>\n    <tr>\n      <th>176</th>\n      <td>Demand</td>\n      <td>Mixed</td>\n      <td>0.00</td>\n    </tr>\n    <tr>\n      <th>177</th>\n      <td>Hardcoal</td>\n      <td>Mixed</td>\n      <td>0.00</td>\n    </tr>\n    <tr>\n      <th>178</th>\n      <td>Gas</td>\n      <td>Mixed</td>\n      <td>0.00</td>\n    </tr>\n    <tr>\n      <th>179</th>\n      <td>Lignite</td>\n      <td>Mixed</td>\n      <td>0.00</td>\n    </tr>\n  </tbody>\n</table>\n<p>180 rows × 3 columns</p>\n</div>"
     },
     "execution_count": 13,
     "metadata": {},
     "output_type": "execute_result"
    }
   ],
   "source": [
    "df_melt.head(200)"
   ],
   "metadata": {
    "collapsed": false,
    "pycharm": {
     "name": "#%%\n"
    }
   }
  },
  {
   "cell_type": "code",
   "execution_count": 14,
   "outputs": [],
   "source": [
    "ax.savefig(\"images\\Figure11_FIT.png\")"
   ],
   "metadata": {
    "collapsed": false,
    "pycharm": {
     "name": "#%%\n"
    }
   }
  },
  {
   "cell_type": "code",
   "execution_count": null,
   "outputs": [],
   "source": [],
   "metadata": {
    "collapsed": false,
    "pycharm": {
     "name": "#%%\n"
    }
   }
  }
 ],
 "metadata": {
  "kernelspec": {
   "display_name": "Python 3",
   "language": "python",
   "name": "python3"
  },
  "language_info": {
   "codemirror_mode": {
    "name": "ipython",
    "version": 2
   },
   "file_extension": ".py",
   "mimetype": "text/x-python",
   "name": "python",
   "nbconvert_exporter": "python",
   "pygments_lexer": "ipython2",
   "version": "2.7.6"
  }
 },
 "nbformat": 4,
 "nbformat_minor": 0
}