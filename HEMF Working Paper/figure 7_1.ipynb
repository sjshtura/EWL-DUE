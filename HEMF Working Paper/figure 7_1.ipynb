{
 "cells": [
  {
   "cell_type": "code",
   "execution_count": 73,
   "metadata": {
    "collapsed": true
   },
   "outputs": [
    {
     "name": "stdout",
     "output_type": "stream",
     "text": [
      "     Total_CO2_Emissions Pol_Inst Technologie  Total_System_Cost\n",
      "0                 1503.6  CO2_Cap     Lignite         553.126627\n",
      "1                 1503.6  CO2_Cap     Lignite         553.126627\n",
      "2                 1503.6  CO2_Cap         Gas         526.529330\n",
      "3                 1503.6  CO2_Cap         Gas         539.827978\n",
      "4                 1503.6  CO2_Cap    Hardcoal         553.126627\n",
      "..                   ...      ...         ...                ...\n",
      "155                  NaN      NaN         NaN                NaN\n",
      "156                  NaN      NaN         NaN                NaN\n",
      "157                  NaN      NaN         NaN                NaN\n",
      "158                  NaN      NaN         NaN                NaN\n",
      "159                  NaN      NaN         NaN                NaN\n",
      "\n",
      "[160 rows x 4 columns]\n",
      "['Lignite' 'Gas' 'Hardcoal' 'Demand' 'PV']\n",
      "['Wind_Onshore' 'Wind_Offshore' 'Lit_Ion' 'PSH' 'no' nan]\n"
     ]
    },
    {
     "name": "stderr",
     "output_type": "stream",
     "text": [
      "<ipython-input-73-72fe592f4cb7>:9: SettingWithCopyWarning:\n",
      "\n",
      "\n",
      "A value is trying to be set on a copy of a slice from a DataFrame.\n",
      "Try using .loc[row_indexer,col_indexer] = value instead\n",
      "\n",
      "See the caveats in the documentation: https://pandas.pydata.org/pandas-docs/stable/user_guide/indexing.html#returning-a-view-versus-a-copy\n",
      "\n"
     ]
    }
   ],
   "source": [
    " from bokeh.models import NumeralTickFormatter\n",
    "from bokeh.plotting import figure, output_file, show\n",
    "from bokeh.models import Title\n",
    "import pandas as pd\n",
    "import plotly.express as px\n",
    "\n",
    "data = pd.read_excel(r'Copy of Figures_Data_Preparation.xlsx', sheet_name = 'Figure 7')\n",
    "data1 = data[[\"Total_CO2_Emissions\",\"Pol_Inst\",\"Technologie\",\"Total_System_Cost\"]]\n",
    "data1[\"Technologie\"]= data1[\"Technologie\"].replace(\"Solar\", \"PV\")\n",
    "data2 = data1.dropna()\n",
    "# data2 = data2.loc[data2[\"Technologie\"] != \"no\"]\n",
    "\n",
    "capacity = data1['Pol_Inst'].unique()\n",
    "types = data1['Technologie'].unique()\n",
    "type1 = types[:5]\n",
    "type2 = types[5:]\n",
    "print(data1)\n",
    "print(type1)\n",
    "print(type2)\n",
    "#print(data3)"
   ]
  },
  {
   "cell_type": "code",
   "execution_count": 74,
   "outputs": [
    {
     "name": "stdout",
     "output_type": "stream",
     "text": [
      "     Total_CO2_Emissions       Pol_Inst Technologie  Total_System_Cost\n",
      "0            1503.600000        CO2_Cap     Lignite         553.126627\n",
      "1            1503.600000        CO2_Cap     Lignite         553.126627\n",
      "35           1503.600000        CO2_Cap     Lignite         553.126627\n",
      "36           1503.600000        CO2_Cap     Lignite         553.126627\n",
      "37           1504.557988  Min_RES_Quota     Lignite         632.778793\n",
      "38           1503.716112  Min_RES_Quota     Lignite         633.643492\n",
      "72           1500.851112  Min_RES_Quota     Lignite         635.370246\n",
      "73           1494.907694  Min_RES_Quota     Lignite         636.227293\n",
      "74           1503.801654        CO2_Tax     Lignite         553.108165\n",
      "75           1503.801654        CO2_Tax     Lignite         553.108165\n",
      "109          1503.801654        CO2_Tax     Lignite         553.108165\n",
      "110          1503.801654        CO2_Tax     Lignite         553.108165\n",
      "111          1526.011591            FIT     Lignite         666.921487\n",
      "112          1517.932149            FIT     Lignite         667.776595\n",
      "146          1483.893265            FIT     Lignite         669.457821\n",
      "147          1468.099519            FIT     Lignite         670.272434\n"
     ]
    }
   ],
   "source": [
    "\n",
    "Lignite1 = pd.DataFrame()\n",
    "Gas1 = pd.DataFrame()\n",
    "Hardcoal1 = pd.DataFrame()\n",
    "Demand1 = pd.DataFrame()\n",
    "PV1 = pd.DataFrame()\n",
    "Wind_Onshore1 = pd.DataFrame()\n",
    "Wind_Offshore1 = pd.DataFrame()\n",
    "Lit_Ion1 = pd.DataFrame()\n",
    "PSH1 = pd.DataFrame()\n",
    "No1 = pd.DataFrame()\n",
    "for x in capacity:\n",
    "    Lignite = data1.loc[(data1['Pol_Inst'] == x) & (data1['Technologie'] == types[0])]\n",
    "    Gas = data1.loc[(data1['Pol_Inst'] == x) & (data1['Technologie'] == types[1])]\n",
    "    Hardcoal = data1.loc[(data1['Pol_Inst'] == x) & (data1['Technologie'] == types[2])]\n",
    "    Demand = data1.loc[(data1['Pol_Inst'] == x) & (data1['Technologie'] == types[3])]\n",
    "    PV = data1.loc[(data1['Pol_Inst'] == x) & (data1['Technologie'] == types[4])]\n",
    "    Wind_Onshore = data1.loc[(data1['Pol_Inst'] == x) & (data1['Technologie'] == types[5])]\n",
    "    Wind_Offshore = data1.loc[(data1['Pol_Inst'] == x) & (data1['Technologie'] == types[6])]\n",
    "    Lit_Ion = data1.loc[(data1['Pol_Inst'] == x) & (data1['Technologie'] == types[7])]\n",
    "    PSH = data1.loc[(data1['Pol_Inst'] == x) & (data1['Technologie'] == types[8])]\n",
    "    No = data1.loc[(data1['Pol_Inst'] == x) & (data1['Technologie'] == types[9])]\n",
    "    Lignite1 = Lignite1.append(Lignite)\n",
    "    Gas1 = Gas1.append(Gas)\n",
    "    Hardcoal1 = Hardcoal1.append(Hardcoal)\n",
    "    Demand1 = Demand1.append(Demand)\n",
    "    PV1 = PV1.append(PV)\n",
    "    Wind_Offshore1 = Wind_Offshore1.append(Wind_Offshore)\n",
    "    Wind_Onshore1 = Wind_Onshore1.append(Wind_Onshore)\n",
    "    Lit_Ion1 = Lit_Ion1.append(Lit_Ion)\n",
    "    PSH1 = PSH1.append(PSH)\n",
    "    No1 = No1.append(No)\n",
    "print(Lignite1)"
   ],
   "metadata": {
    "collapsed": false,
    "pycharm": {
     "name": "#%%\n"
    }
   }
  },
  {
   "cell_type": "code",
   "execution_count": 75,
   "outputs": [],
   "source": [
    "# from plotly.subplots import make_subplots\n",
    "# fig = make_subplots(rows=2)\n",
    "#\n",
    "# fig.add_scatter(\n",
    "#\n",
    "# )\n",
    "# fig = px.scatter(data2, x = \"Total_System_Cost\", y= \"Total_CO2_Emissions\",\n",
    "#                             color=\"Pol_Inst\", symbol=\"Pol_Inst\",\n",
    "#                             facet_col='Technologie',facet_col_wrap=3,width=1000, height=800)\n",
    "#\n",
    "# #fig.write_image(\"images/gg2.png\")\n",
    "# fig.update_traces(marker=dict(size=10,\n",
    "#                               line=dict(width=1)))\n",
    "# fig.show()"
   ],
   "metadata": {
    "collapsed": false,
    "pycharm": {
     "name": "#%%\n"
    }
   }
  },
  {
   "cell_type": "code",
   "execution_count": 76,
   "outputs": [
    {
     "data": {
      "text/plain": "[     Total_CO2_Emissions       Pol_Inst Technologie  Total_System_Cost\n 0            1503.600000        CO2_Cap     Lignite         553.126627\n 1            1503.600000        CO2_Cap     Lignite         553.126627\n 35           1503.600000        CO2_Cap     Lignite         553.126627\n 36           1503.600000        CO2_Cap     Lignite         553.126627\n 37           1504.557988  Min_RES_Quota     Lignite         632.778793\n 38           1503.716112  Min_RES_Quota     Lignite         633.643492\n 72           1500.851112  Min_RES_Quota     Lignite         635.370246\n 73           1494.907694  Min_RES_Quota     Lignite         636.227293\n 74           1503.801654        CO2_Tax     Lignite         553.108165\n 75           1503.801654        CO2_Tax     Lignite         553.108165\n 109          1503.801654        CO2_Tax     Lignite         553.108165\n 110          1503.801654        CO2_Tax     Lignite         553.108165\n 111          1526.011591            FIT     Lignite         666.921487\n 112          1517.932149            FIT     Lignite         667.776595\n 146          1483.893265            FIT     Lignite         669.457821\n 147          1468.099519            FIT     Lignite         670.272434,\n      Total_CO2_Emissions       Pol_Inst Technologie  Total_System_Cost\n 2            1503.600000        CO2_Cap         Gas         526.529330\n 3            1503.600000        CO2_Cap         Gas         539.827978\n 33           1503.600000        CO2_Cap         Gas         566.425276\n 34           1503.600000        CO2_Cap         Gas         579.723924\n 39           1480.440240  Min_RES_Quota         Gas         631.788478\n 40           1486.501327  Min_RES_Quota         Gas         633.245616\n 70           1506.699364  Min_RES_Quota         Gas         635.613548\n 71           1509.399223  Min_RES_Quota         Gas         636.673065\n 76           1806.363344        CO2_Tax         Gas         499.566415\n 77           1651.308017        CO2_Tax         Gas         526.788820\n 107          1344.983767        CO2_Tax         Gas         579.649327\n 108          1255.505560        CO2_Tax         Gas         598.892621\n 113          1440.038214            FIT         Gas         664.938773\n 114          1482.920261            FIT         Gas         666.975294\n 144          1521.041561            FIT         Gas         669.988022\n 145          1551.055722            FIT         Gas         671.140181,\n      Total_CO2_Emissions       Pol_Inst Technologie  Total_System_Cost\n 4            1503.600000        CO2_Cap    Hardcoal         553.126627\n 5            1503.600000        CO2_Cap    Hardcoal         553.126627\n 31           1503.600000        CO2_Cap    Hardcoal         553.126627\n 32           1503.600000        CO2_Cap    Hardcoal         553.126627\n 41           1495.816813  Min_RES_Quota    Hardcoal         634.423545\n 42           1503.266678  Min_RES_Quota    Hardcoal         634.507363\n 68           1503.275425  Min_RES_Quota    Hardcoal         634.507363\n 69           1503.271784  Min_RES_Quota    Hardcoal         634.507363\n 78           1503.801654        CO2_Tax    Hardcoal         553.108165\n 79           1503.801654        CO2_Tax    Hardcoal         553.108165\n 105          1503.801654        CO2_Tax    Hardcoal         553.108165\n 106          1503.801654        CO2_Tax    Hardcoal         553.108165\n 115          1514.032566            FIT    Hardcoal         668.327738\n 116          1508.773968            FIT    Hardcoal         668.584432\n 142          1503.676013            FIT    Hardcoal         668.623194\n 143          1503.675998            FIT    Hardcoal         668.623194,\n      Total_CO2_Emissions       Pol_Inst Technologie  Total_System_Cost\n 6            1503.600000        CO2_Cap      Demand         447.005920\n 7            1503.600000        CO2_Cap      Demand         495.479253\n 29           1503.600000        CO2_Cap      Demand         617.592035\n 30           1503.600000        CO2_Cap      Demand         683.084647\n 43           1153.692829  Min_RES_Quota      Demand         530.431392\n 44           1347.647506  Min_RES_Quota      Demand         578.305063\n 66           1646.441204  Min_RES_Quota      Demand         693.244851\n 67           1789.612125  Min_RES_Quota      Demand         751.982339\n 80           1171.080816        CO2_Tax      Demand         458.157202\n 81           1353.029434        CO2_Tax      Demand         503.172792\n 103          1647.020859        CO2_Tax      Demand         604.310383\n 104          1790.240064        CO2_Tax      Demand         655.512601\n 117           772.480815            FIT      Demand         639.539622\n 118          1093.782561            FIT      Demand         653.080054\n 140          1964.631752            FIT      Demand         684.895782\n 141          2507.737368            FIT      Demand         701.622533,\n      Total_CO2_Emissions       Pol_Inst Technologie  Total_System_Cost\n 8            1503.600000        CO2_Cap          PV         543.352638\n 9            1503.600000        CO2_Cap          PV         549.193062\n 27           1503.600000        CO2_Cap          PV         554.748172\n 28           1503.600000        CO2_Cap          PV         554.955107\n 45           1485.440643  Min_RES_Quota          PV         621.230072\n 46           1489.025945  Min_RES_Quota          PV         628.463150\n 64           1503.583974  Min_RES_Quota          PV         638.661177\n 65           1506.633229  Min_RES_Quota          PV         641.119370\n 82           1310.786806        CO2_Tax          PV         558.839856\n 83           1388.193316        CO2_Tax          PV         558.962880\n 101          1611.242934        CO2_Tax          PV         545.956469\n 102          1625.266750        CO2_Tax          PV         545.165306\n 119          1503.676049            FIT          PV         656.947113\n 120          1503.676049            FIT          PV         662.785154\n 138          1503.676049            FIT          PV         674.461235\n 139          1503.676049            FIT          PV         680.299275,\n      Total_CO2_Emissions       Pol_Inst   Technologie  Total_System_Cost\n 10           1503.600000        CO2_Cap  Wind_Onshore         532.160503\n 11           1503.600000        CO2_Cap  Wind_Onshore         543.674045\n 25           1503.600000        CO2_Cap  Wind_Onshore         556.871964\n 26           1503.600000        CO2_Cap  Wind_Onshore         557.677119\n 47           1483.886933  Min_RES_Quota  Wind_Onshore         610.048272\n 48           1485.022445  Min_RES_Quota  Wind_Onshore         624.706535\n 62           1505.229215  Min_RES_Quota  Wind_Onshore         637.760035\n 63           1506.060890  Min_RES_Quota  Wind_Onshore         638.876591\n 84           1384.022864        CO2_Tax  Wind_Onshore         542.603745\n 85           1435.453462        CO2_Tax  Wind_Onshore         550.305792\n 99           1482.808552        CO2_Tax  Wind_Onshore         558.943163\n 100          1480.762313        CO2_Tax  Wind_Onshore         559.889957\n 121          1503.676049            FIT  Wind_Onshore         656.659002\n 122          1503.676049            FIT  Wind_Onshore         662.641098\n 136          1503.676049            FIT  Wind_Onshore         674.605290\n 137          1503.676049            FIT  Wind_Onshore         680.587387,\n      Total_CO2_Emissions       Pol_Inst    Technologie  Total_System_Cost\n 12           1503.600000        CO2_Cap  Wind_Offshore         531.707686\n 13           1503.600000        CO2_Cap  Wind_Offshore         544.733622\n 23           1503.600000        CO2_Cap  Wind_Offshore         553.739176\n 24           1503.600000        CO2_Cap  Wind_Offshore         553.739176\n 49           1503.007354  Min_RES_Quota  Wind_Offshore         605.264137\n 50           1505.518594  Min_RES_Quota  Wind_Offshore         622.038717\n 60           1480.911377  Min_RES_Quota  Wind_Offshore         638.591504\n 61           1478.811026  Min_RES_Quota  Wind_Offshore         638.720305\n 86           1206.200995        CO2_Tax  Wind_Offshore         554.465482\n 87           1362.404953        CO2_Tax  Wind_Offshore         556.828123\n 97           1569.170158        CO2_Tax  Wind_Offshore         548.487672\n 98           1569.170158        CO2_Tax  Wind_Offshore         548.487672\n 123          1503.676049            FIT  Wind_Offshore         650.324265\n 124          1503.676049            FIT  Wind_Offshore         659.473730\n 134          1503.676049            FIT  Wind_Offshore         677.772659\n 135          1503.676049            FIT  Wind_Offshore         686.922123,\n      Total_CO2_Emissions       Pol_Inst Technologie  Total_System_Cost\n 14           1503.600000        CO2_Cap     Lit_Ion         552.691358\n 15           1503.600000        CO2_Cap     Lit_Ion         552.917590\n 21           1503.600000        CO2_Cap     Lit_Ion         553.240164\n 22           1503.600000        CO2_Cap     Lit_Ion         553.325264\n 51           1501.095966  Min_RES_Quota     Lit_Ion         633.914263\n 52           1502.592437  Min_RES_Quota     Lit_Ion         634.322584\n 58           1504.727169  Min_RES_Quota     Lit_Ion         634.573595\n 59           1504.859276  Min_RES_Quota     Lit_Ion         634.585141\n 88           1474.373062        CO2_Tax     Lit_Ion         555.353811\n 89           1497.566842        CO2_Tax     Lit_Ion         553.465001\n 95           1507.410071        CO2_Tax     Lit_Ion         552.906585\n 96           1508.592392        CO2_Tax     Lit_Ion         552.918380\n 125          1477.618152            FIT     Lit_Ion         667.764015\n 126          1488.882376            FIT     Lit_Ion         668.312745\n 132          1503.678458            FIT     Lit_Ion         668.696610\n 133          1507.592556            FIT     Lit_Ion         668.743263,\n      Total_CO2_Emissions       Pol_Inst Technologie  Total_System_Cost\n 16           1503.600000        CO2_Cap         PSH         551.778008\n 17           1503.600000        CO2_Cap         PSH         552.646738\n 19           1503.600000        CO2_Cap         PSH         553.226220\n 20           1503.600000        CO2_Cap         PSH         553.232368\n 53           1499.474899  Min_RES_Quota         PSH         631.770105\n 54           1503.717211  Min_RES_Quota         PSH         633.289707\n 56           1499.139100  Min_RES_Quota         PSH         635.121755\n 57           1496.282356  Min_RES_Quota         PSH         635.466881\n 90           1416.071078        CO2_Tax         PSH         559.368362\n 91           1463.844987        CO2_Tax         PSH         556.093035\n 93           1536.803411        CO2_Tax         PSH         550.650076\n 94           1536.803411        CO2_Tax         PSH         550.650076\n 127          1346.792085            FIT         PSH         666.629817\n 128          1406.564815            FIT         PSH         667.938421\n 130          1548.334923            FIT         PSH         668.759467\n 131          1548.156173            FIT         PSH         668.760169,\n      Total_CO2_Emissions       Pol_Inst Technologie  Total_System_Cost\n 18           1503.600000        CO2_Cap          no         553.126627\n 55           1503.269313  Min_RES_Quota          no         634.507363\n 92           1503.801654        CO2_Tax          no         553.108165\n 129          1503.676049            FIT          no         668.623194]"
     },
     "execution_count": 76,
     "metadata": {},
     "output_type": "execute_result"
    }
   ],
   "source": [
    "df = [Lignite1, Gas1, Hardcoal1, Demand1, PV1, Wind_Onshore1, Wind_Offshore1, Lit_Ion1, PSH1, No1]\n",
    "df"
   ],
   "metadata": {
    "collapsed": false,
    "pycharm": {
     "name": "#%%\n"
    }
   }
  },
  {
   "cell_type": "code",
   "execution_count": 77,
   "outputs": [
    {
     "data": {
      "text/plain": "[    Total_CO2_Emissions Pol_Inst Technologie  Total_System_Cost\n 0                1503.6  CO2_Cap     Lignite         553.126627\n 1                1503.6  CO2_Cap     Lignite         553.126627\n 35               1503.6  CO2_Cap     Lignite         553.126627\n 36               1503.6  CO2_Cap     Lignite         553.126627,\n     Total_CO2_Emissions       Pol_Inst Technologie  Total_System_Cost\n 37          1504.557988  Min_RES_Quota     Lignite         632.778793\n 38          1503.716112  Min_RES_Quota     Lignite         633.643492\n 72          1500.851112  Min_RES_Quota     Lignite         635.370246\n 73          1494.907694  Min_RES_Quota     Lignite         636.227293,\n      Total_CO2_Emissions Pol_Inst Technologie  Total_System_Cost\n 74           1503.801654  CO2_Tax     Lignite         553.108165\n 75           1503.801654  CO2_Tax     Lignite         553.108165\n 109          1503.801654  CO2_Tax     Lignite         553.108165\n 110          1503.801654  CO2_Tax     Lignite         553.108165,\n      Total_CO2_Emissions Pol_Inst Technologie  Total_System_Cost\n 111          1526.011591      FIT     Lignite         666.921487\n 112          1517.932149      FIT     Lignite         667.776595\n 146          1483.893265      FIT     Lignite         669.457821\n 147          1468.099519      FIT     Lignite         670.272434]"
     },
     "execution_count": 77,
     "metadata": {},
     "output_type": "execute_result"
    }
   ],
   "source": [
    "x1 = []\n",
    "for i in df:\n",
    "    a = i.loc[i[\"Pol_Inst\"]==\"CO2_Cap\"]\n",
    "    b = i.loc[i[\"Pol_Inst\"]==\"Min_RES_Quota\"]\n",
    "    c = i.loc[i[\"Pol_Inst\"]==\"CO2_Tax\"]\n",
    "    d = i.loc[i[\"Pol_Inst\"]==\"FIT\"]\n",
    "    x1.append([a,b,c,d])\n",
    "x1[0]\n"
   ],
   "metadata": {
    "collapsed": false,
    "pycharm": {
     "name": "#%%\n"
    }
   }
  },
  {
   "cell_type": "code",
   "source": [],
   "metadata": {
    "collapsed": false,
    "pycharm": {
     "name": "#%%\n"
    }
   },
   "execution_count": 77,
   "outputs": []
  },
  {
   "cell_type": "code",
   "execution_count": 78,
   "outputs": [],
   "source": [
    "from plotly.subplots import make_subplots\n",
    "fig = make_subplots(rows=2)\n",
    "Tech = data2.Technologie.unique()\n",
    "\n",
    "import plotly.graph_objects as go\n",
    "from plotly.validators.scatter.marker import SymbolValidator\n",
    "\n",
    "raw_symbols = SymbolValidator().values\n",
    "namestems = []\n",
    "namevariants = []\n",
    "symbols = []\n",
    "for i in range(0,len(raw_symbols),2):\n",
    "    name = raw_symbols[i+1]\n",
    "    symbols.append(raw_symbols[i])\n",
    "    namestems.append(name)\n",
    "    namevariants.append(name[len(namestems[-1]):])\n",
    "\n",
    "fig = make_subplots(rows=3, cols=3, subplot_titles=(\"Lignite Fuel Cost\", \"Gas Fuel Cost\", \"Hardcoal Fuel Cost\", \"PV Investment Cost\", \"Wind Onshore Investment Cost\", \"Wind Offshore Investment Cost\", \"Li-Ion Investment Cost\", \"PSH Investment Cost\"))\n",
    "\n",
    "#range_y =[1200, 1800]\n",
    "#Lignite1, Gas1, Hardcoal1, Demand1, PV1, Wind_Onshore1, Wind_Offshore1, Lit_Ion1, PSH1\n"
   ],
   "metadata": {
    "collapsed": false,
    "pycharm": {
     "name": "#%%\n"
    }
   }
  },
  {
   "cell_type": "code",
   "source": [
    "raw_symbols"
   ],
   "metadata": {
    "collapsed": false,
    "pycharm": {
     "name": "#%%\n"
    }
   },
   "execution_count": 79,
   "outputs": [
    {
     "data": {
      "text/plain": "[0,\n 'circle',\n 100,\n 'circle-open',\n 200,\n 'circle-dot',\n 300,\n 'circle-open-dot',\n 1,\n 'square',\n 101,\n 'square-open',\n 201,\n 'square-dot',\n 301,\n 'square-open-dot',\n 2,\n 'diamond',\n 102,\n 'diamond-open',\n 202,\n 'diamond-dot',\n 302,\n 'diamond-open-dot',\n 3,\n 'cross',\n 103,\n 'cross-open',\n 203,\n 'cross-dot',\n 303,\n 'cross-open-dot',\n 4,\n 'x',\n 104,\n 'x-open',\n 204,\n 'x-dot',\n 304,\n 'x-open-dot',\n 5,\n 'triangle-up',\n 105,\n 'triangle-up-open',\n 205,\n 'triangle-up-dot',\n 305,\n 'triangle-up-open-dot',\n 6,\n 'triangle-down',\n 106,\n 'triangle-down-open',\n 206,\n 'triangle-down-dot',\n 306,\n 'triangle-down-open-dot',\n 7,\n 'triangle-left',\n 107,\n 'triangle-left-open',\n 207,\n 'triangle-left-dot',\n 307,\n 'triangle-left-open-dot',\n 8,\n 'triangle-right',\n 108,\n 'triangle-right-open',\n 208,\n 'triangle-right-dot',\n 308,\n 'triangle-right-open-dot',\n 9,\n 'triangle-ne',\n 109,\n 'triangle-ne-open',\n 209,\n 'triangle-ne-dot',\n 309,\n 'triangle-ne-open-dot',\n 10,\n 'triangle-se',\n 110,\n 'triangle-se-open',\n 210,\n 'triangle-se-dot',\n 310,\n 'triangle-se-open-dot',\n 11,\n 'triangle-sw',\n 111,\n 'triangle-sw-open',\n 211,\n 'triangle-sw-dot',\n 311,\n 'triangle-sw-open-dot',\n 12,\n 'triangle-nw',\n 112,\n 'triangle-nw-open',\n 212,\n 'triangle-nw-dot',\n 312,\n 'triangle-nw-open-dot',\n 13,\n 'pentagon',\n 113,\n 'pentagon-open',\n 213,\n 'pentagon-dot',\n 313,\n 'pentagon-open-dot',\n 14,\n 'hexagon',\n 114,\n 'hexagon-open',\n 214,\n 'hexagon-dot',\n 314,\n 'hexagon-open-dot',\n 15,\n 'hexagon2',\n 115,\n 'hexagon2-open',\n 215,\n 'hexagon2-dot',\n 315,\n 'hexagon2-open-dot',\n 16,\n 'octagon',\n 116,\n 'octagon-open',\n 216,\n 'octagon-dot',\n 316,\n 'octagon-open-dot',\n 17,\n 'star',\n 117,\n 'star-open',\n 217,\n 'star-dot',\n 317,\n 'star-open-dot',\n 18,\n 'hexagram',\n 118,\n 'hexagram-open',\n 218,\n 'hexagram-dot',\n 318,\n 'hexagram-open-dot',\n 19,\n 'star-triangle-up',\n 119,\n 'star-triangle-up-open',\n 219,\n 'star-triangle-up-dot',\n 319,\n 'star-triangle-up-open-dot',\n 20,\n 'star-triangle-down',\n 120,\n 'star-triangle-down-open',\n 220,\n 'star-triangle-down-dot',\n 320,\n 'star-triangle-down-open-dot',\n 21,\n 'star-square',\n 121,\n 'star-square-open',\n 221,\n 'star-square-dot',\n 321,\n 'star-square-open-dot',\n 22,\n 'star-diamond',\n 122,\n 'star-diamond-open',\n 222,\n 'star-diamond-dot',\n 322,\n 'star-diamond-open-dot',\n 23,\n 'diamond-tall',\n 123,\n 'diamond-tall-open',\n 223,\n 'diamond-tall-dot',\n 323,\n 'diamond-tall-open-dot',\n 24,\n 'diamond-wide',\n 124,\n 'diamond-wide-open',\n 224,\n 'diamond-wide-dot',\n 324,\n 'diamond-wide-open-dot',\n 25,\n 'hourglass',\n 125,\n 'hourglass-open',\n 26,\n 'bowtie',\n 126,\n 'bowtie-open',\n 27,\n 'circle-cross',\n 127,\n 'circle-cross-open',\n 28,\n 'circle-x',\n 128,\n 'circle-x-open',\n 29,\n 'square-cross',\n 129,\n 'square-cross-open',\n 30,\n 'square-x',\n 130,\n 'square-x-open',\n 31,\n 'diamond-cross',\n 131,\n 'diamond-cross-open',\n 32,\n 'diamond-x',\n 132,\n 'diamond-x-open',\n 33,\n 'cross-thin',\n 133,\n 'cross-thin-open',\n 34,\n 'x-thin',\n 134,\n 'x-thin-open',\n 35,\n 'asterisk',\n 135,\n 'asterisk-open',\n 36,\n 'hash',\n 136,\n 'hash-open',\n 236,\n 'hash-dot',\n 336,\n 'hash-open-dot',\n 37,\n 'y-up',\n 137,\n 'y-up-open',\n 38,\n 'y-down',\n 138,\n 'y-down-open',\n 39,\n 'y-left',\n 139,\n 'y-left-open',\n 40,\n 'y-right',\n 140,\n 'y-right-open',\n 41,\n 'line-ew',\n 141,\n 'line-ew-open',\n 42,\n 'line-ns',\n 142,\n 'line-ns-open',\n 43,\n 'line-ne',\n 143,\n 'line-ne-open',\n 44,\n 'line-nw',\n 144,\n 'line-nw-open']"
     },
     "execution_count": 79,
     "metadata": {},
     "output_type": "execute_result"
    }
   ]
  },
  {
   "cell_type": "code",
   "execution_count": 80,
   "outputs": [
    {
     "data": {
      "application/vnd.plotly.v1+json": {
       "config": {
        "plotlyServerURL": "https://plot.ly"
       },
       "data": [
        {
         "marker": {
          "color": "red",
          "line": {
           "color": "black",
           "width": 1
          },
          "size": 15,
          "symbol": 0
         },
         "mode": "markers",
         "showlegend": false,
         "type": "scatter",
         "x": [
          553.1266271112929,
          553.1266271112933,
          553.1266271112935,
          553.1266271112934
         ],
         "xaxis": "x",
         "y": [
          1503.6000000000251,
          1503.6000000000251,
          1503.6000000000265,
          1503.6000000000263
         ],
         "yaxis": "y"
        },
        {
         "marker": {
          "color": "green",
          "line": {
           "color": "black",
           "width": 1
          },
          "size": 15,
          "symbol": 2
         },
         "mode": "markers",
         "showlegend": false,
         "type": "scatter",
         "x": [
          632.7787933973613,
          633.643492401635,
          635.3702457338186,
          636.2272934424533
         ],
         "xaxis": "x",
         "y": [
          1504.557987673836,
          1503.7161124474305,
          1500.8511119586074,
          1494.9076944995368
         ],
         "yaxis": "y"
        },
        {
         "marker": {
          "color": "yellow",
          "line": {
           "color": "black",
           "width": 1
          },
          "size": 15,
          "symbol": 7
         },
         "mode": "markers",
         "showlegend": false,
         "type": "scatter",
         "x": [
          553.1081652975546,
          553.1081652975545,
          553.1081652975546,
          553.1081652975546
         ],
         "xaxis": "x",
         "y": [
          1503.801653972579,
          1503.8016539725809,
          1503.8016539725804,
          1503.8016539725795
         ],
         "yaxis": "y"
        },
        {
         "marker": {
          "color": "blue",
          "line": {
           "color": "black",
           "width": 1
          },
          "size": 15,
          "symbol": 4
         },
         "mode": "markers",
         "showlegend": false,
         "type": "scatter",
         "x": [
          666.9214867699912,
          667.776594895491,
          669.457821139106,
          670.2724339973812
         ],
         "xaxis": "x",
         "y": [
          1526.0115906720816,
          1517.9321486232348,
          1483.893265441994,
          1468.0995185073084
         ],
         "yaxis": "y"
        },
        {
         "marker": {
          "color": "white",
          "line": {
           "color": "black",
           "width": 1
          },
          "size": 10,
          "symbol": 0
         },
         "mode": "markers",
         "showlegend": false,
         "type": "scatter",
         "x": [
          553.1266271112935
         ],
         "xaxis": "x",
         "y": [
          1503.6000000000258
         ],
         "yaxis": "y"
        },
        {
         "marker": {
          "color": "white",
          "line": {
           "color": "black",
           "width": 1
          },
          "size": 10,
          "symbol": 2
         },
         "mode": "markers",
         "showlegend": false,
         "type": "scatter",
         "x": [
          634.5073629116724
         ],
         "xaxis": "x",
         "y": [
          1503.2693131994488
         ],
         "yaxis": "y"
        },
        {
         "marker": {
          "color": "white",
          "line": {
           "color": "black",
           "width": 1
          },
          "size": 10,
          "symbol": 7
         },
         "mode": "markers",
         "showlegend": false,
         "type": "scatter",
         "x": [
          553.1081652975545
         ],
         "xaxis": "x",
         "y": [
          1503.801653972579
         ],
         "yaxis": "y"
        },
        {
         "marker": {
          "color": "white",
          "line": {
           "color": "black",
           "width": 1
          },
          "size": 10,
          "symbol": 4
         },
         "mode": "markers",
         "showlegend": false,
         "type": "scatter",
         "x": [
          668.6231941490724
         ],
         "xaxis": "x",
         "y": [
          1503.6760485649447
         ],
         "yaxis": "y"
        }
       ],
       "layout": {
        "annotations": [
         {
          "font": {
           "size": 16
          },
          "showarrow": false,
          "text": "Lignite Fuel Cost",
          "x": 0.14444444444444446,
          "xanchor": "center",
          "xref": "paper",
          "y": 1.0,
          "yanchor": "bottom",
          "yref": "paper"
         },
         {
          "font": {
           "size": 16
          },
          "showarrow": false,
          "text": "Gas Fuel Cost",
          "x": 0.5,
          "xanchor": "center",
          "xref": "paper",
          "y": 1.0,
          "yanchor": "bottom",
          "yref": "paper"
         },
         {
          "font": {
           "size": 16
          },
          "showarrow": false,
          "text": "Hardcoal Fuel Cost",
          "x": 0.8555555555555556,
          "xanchor": "center",
          "xref": "paper",
          "y": 1.0,
          "yanchor": "bottom",
          "yref": "paper"
         },
         {
          "font": {
           "size": 16
          },
          "showarrow": false,
          "text": "PV Investment Cost",
          "x": 0.14444444444444446,
          "xanchor": "center",
          "xref": "paper",
          "y": 0.6111111111111112,
          "yanchor": "bottom",
          "yref": "paper"
         },
         {
          "font": {
           "size": 16
          },
          "showarrow": false,
          "text": "Wind Onshore Investment Cost",
          "x": 0.5,
          "xanchor": "center",
          "xref": "paper",
          "y": 0.6111111111111112,
          "yanchor": "bottom",
          "yref": "paper"
         },
         {
          "font": {
           "size": 16
          },
          "showarrow": false,
          "text": "Wind Offshore Investment Cost",
          "x": 0.8555555555555556,
          "xanchor": "center",
          "xref": "paper",
          "y": 0.6111111111111112,
          "yanchor": "bottom",
          "yref": "paper"
         },
         {
          "font": {
           "size": 16
          },
          "showarrow": false,
          "text": "Li-Ion Investment Cost",
          "x": 0.14444444444444446,
          "xanchor": "center",
          "xref": "paper",
          "y": 0.22222222222222224,
          "yanchor": "bottom",
          "yref": "paper"
         },
         {
          "font": {
           "size": 16
          },
          "showarrow": false,
          "text": "PSH Investment Cost",
          "x": 0.5,
          "xanchor": "center",
          "xref": "paper",
          "y": 0.22222222222222224,
          "yanchor": "bottom",
          "yref": "paper"
         }
        ],
        "template": {
         "data": {
          "bar": [
           {
            "error_x": {
             "color": "#2a3f5f"
            },
            "error_y": {
             "color": "#2a3f5f"
            },
            "marker": {
             "line": {
              "color": "#E5ECF6",
              "width": 0.5
             }
            },
            "type": "bar"
           }
          ],
          "barpolar": [
           {
            "marker": {
             "line": {
              "color": "#E5ECF6",
              "width": 0.5
             }
            },
            "type": "barpolar"
           }
          ],
          "carpet": [
           {
            "aaxis": {
             "endlinecolor": "#2a3f5f",
             "gridcolor": "white",
             "linecolor": "white",
             "minorgridcolor": "white",
             "startlinecolor": "#2a3f5f"
            },
            "baxis": {
             "endlinecolor": "#2a3f5f",
             "gridcolor": "white",
             "linecolor": "white",
             "minorgridcolor": "white",
             "startlinecolor": "#2a3f5f"
            },
            "type": "carpet"
           }
          ],
          "choropleth": [
           {
            "colorbar": {
             "outlinewidth": 0,
             "ticks": ""
            },
            "type": "choropleth"
           }
          ],
          "contour": [
           {
            "colorbar": {
             "outlinewidth": 0,
             "ticks": ""
            },
            "colorscale": [
             [
              0.0,
              "#0d0887"
             ],
             [
              0.1111111111111111,
              "#46039f"
             ],
             [
              0.2222222222222222,
              "#7201a8"
             ],
             [
              0.3333333333333333,
              "#9c179e"
             ],
             [
              0.4444444444444444,
              "#bd3786"
             ],
             [
              0.5555555555555556,
              "#d8576b"
             ],
             [
              0.6666666666666666,
              "#ed7953"
             ],
             [
              0.7777777777777778,
              "#fb9f3a"
             ],
             [
              0.8888888888888888,
              "#fdca26"
             ],
             [
              1.0,
              "#f0f921"
             ]
            ],
            "type": "contour"
           }
          ],
          "contourcarpet": [
           {
            "colorbar": {
             "outlinewidth": 0,
             "ticks": ""
            },
            "type": "contourcarpet"
           }
          ],
          "heatmap": [
           {
            "colorbar": {
             "outlinewidth": 0,
             "ticks": ""
            },
            "colorscale": [
             [
              0.0,
              "#0d0887"
             ],
             [
              0.1111111111111111,
              "#46039f"
             ],
             [
              0.2222222222222222,
              "#7201a8"
             ],
             [
              0.3333333333333333,
              "#9c179e"
             ],
             [
              0.4444444444444444,
              "#bd3786"
             ],
             [
              0.5555555555555556,
              "#d8576b"
             ],
             [
              0.6666666666666666,
              "#ed7953"
             ],
             [
              0.7777777777777778,
              "#fb9f3a"
             ],
             [
              0.8888888888888888,
              "#fdca26"
             ],
             [
              1.0,
              "#f0f921"
             ]
            ],
            "type": "heatmap"
           }
          ],
          "heatmapgl": [
           {
            "colorbar": {
             "outlinewidth": 0,
             "ticks": ""
            },
            "colorscale": [
             [
              0.0,
              "#0d0887"
             ],
             [
              0.1111111111111111,
              "#46039f"
             ],
             [
              0.2222222222222222,
              "#7201a8"
             ],
             [
              0.3333333333333333,
              "#9c179e"
             ],
             [
              0.4444444444444444,
              "#bd3786"
             ],
             [
              0.5555555555555556,
              "#d8576b"
             ],
             [
              0.6666666666666666,
              "#ed7953"
             ],
             [
              0.7777777777777778,
              "#fb9f3a"
             ],
             [
              0.8888888888888888,
              "#fdca26"
             ],
             [
              1.0,
              "#f0f921"
             ]
            ],
            "type": "heatmapgl"
           }
          ],
          "histogram": [
           {
            "marker": {
             "colorbar": {
              "outlinewidth": 0,
              "ticks": ""
             }
            },
            "type": "histogram"
           }
          ],
          "histogram2d": [
           {
            "colorbar": {
             "outlinewidth": 0,
             "ticks": ""
            },
            "colorscale": [
             [
              0.0,
              "#0d0887"
             ],
             [
              0.1111111111111111,
              "#46039f"
             ],
             [
              0.2222222222222222,
              "#7201a8"
             ],
             [
              0.3333333333333333,
              "#9c179e"
             ],
             [
              0.4444444444444444,
              "#bd3786"
             ],
             [
              0.5555555555555556,
              "#d8576b"
             ],
             [
              0.6666666666666666,
              "#ed7953"
             ],
             [
              0.7777777777777778,
              "#fb9f3a"
             ],
             [
              0.8888888888888888,
              "#fdca26"
             ],
             [
              1.0,
              "#f0f921"
             ]
            ],
            "type": "histogram2d"
           }
          ],
          "histogram2dcontour": [
           {
            "colorbar": {
             "outlinewidth": 0,
             "ticks": ""
            },
            "colorscale": [
             [
              0.0,
              "#0d0887"
             ],
             [
              0.1111111111111111,
              "#46039f"
             ],
             [
              0.2222222222222222,
              "#7201a8"
             ],
             [
              0.3333333333333333,
              "#9c179e"
             ],
             [
              0.4444444444444444,
              "#bd3786"
             ],
             [
              0.5555555555555556,
              "#d8576b"
             ],
             [
              0.6666666666666666,
              "#ed7953"
             ],
             [
              0.7777777777777778,
              "#fb9f3a"
             ],
             [
              0.8888888888888888,
              "#fdca26"
             ],
             [
              1.0,
              "#f0f921"
             ]
            ],
            "type": "histogram2dcontour"
           }
          ],
          "mesh3d": [
           {
            "colorbar": {
             "outlinewidth": 0,
             "ticks": ""
            },
            "type": "mesh3d"
           }
          ],
          "parcoords": [
           {
            "line": {
             "colorbar": {
              "outlinewidth": 0,
              "ticks": ""
             }
            },
            "type": "parcoords"
           }
          ],
          "pie": [
           {
            "automargin": true,
            "type": "pie"
           }
          ],
          "scatter": [
           {
            "marker": {
             "colorbar": {
              "outlinewidth": 0,
              "ticks": ""
             }
            },
            "type": "scatter"
           }
          ],
          "scatter3d": [
           {
            "line": {
             "colorbar": {
              "outlinewidth": 0,
              "ticks": ""
             }
            },
            "marker": {
             "colorbar": {
              "outlinewidth": 0,
              "ticks": ""
             }
            },
            "type": "scatter3d"
           }
          ],
          "scattercarpet": [
           {
            "marker": {
             "colorbar": {
              "outlinewidth": 0,
              "ticks": ""
             }
            },
            "type": "scattercarpet"
           }
          ],
          "scattergeo": [
           {
            "marker": {
             "colorbar": {
              "outlinewidth": 0,
              "ticks": ""
             }
            },
            "type": "scattergeo"
           }
          ],
          "scattergl": [
           {
            "marker": {
             "colorbar": {
              "outlinewidth": 0,
              "ticks": ""
             }
            },
            "type": "scattergl"
           }
          ],
          "scattermapbox": [
           {
            "marker": {
             "colorbar": {
              "outlinewidth": 0,
              "ticks": ""
             }
            },
            "type": "scattermapbox"
           }
          ],
          "scatterpolar": [
           {
            "marker": {
             "colorbar": {
              "outlinewidth": 0,
              "ticks": ""
             }
            },
            "type": "scatterpolar"
           }
          ],
          "scatterpolargl": [
           {
            "marker": {
             "colorbar": {
              "outlinewidth": 0,
              "ticks": ""
             }
            },
            "type": "scatterpolargl"
           }
          ],
          "scatterternary": [
           {
            "marker": {
             "colorbar": {
              "outlinewidth": 0,
              "ticks": ""
             }
            },
            "type": "scatterternary"
           }
          ],
          "surface": [
           {
            "colorbar": {
             "outlinewidth": 0,
             "ticks": ""
            },
            "colorscale": [
             [
              0.0,
              "#0d0887"
             ],
             [
              0.1111111111111111,
              "#46039f"
             ],
             [
              0.2222222222222222,
              "#7201a8"
             ],
             [
              0.3333333333333333,
              "#9c179e"
             ],
             [
              0.4444444444444444,
              "#bd3786"
             ],
             [
              0.5555555555555556,
              "#d8576b"
             ],
             [
              0.6666666666666666,
              "#ed7953"
             ],
             [
              0.7777777777777778,
              "#fb9f3a"
             ],
             [
              0.8888888888888888,
              "#fdca26"
             ],
             [
              1.0,
              "#f0f921"
             ]
            ],
            "type": "surface"
           }
          ],
          "table": [
           {
            "cells": {
             "fill": {
              "color": "#EBF0F8"
             },
             "line": {
              "color": "white"
             }
            },
            "header": {
             "fill": {
              "color": "#C8D4E3"
             },
             "line": {
              "color": "white"
             }
            },
            "type": "table"
           }
          ]
         },
         "layout": {
          "annotationdefaults": {
           "arrowcolor": "#2a3f5f",
           "arrowhead": 0,
           "arrowwidth": 1
          },
          "coloraxis": {
           "colorbar": {
            "outlinewidth": 0,
            "ticks": ""
           }
          },
          "colorscale": {
           "diverging": [
            [
             0,
             "#8e0152"
            ],
            [
             0.1,
             "#c51b7d"
            ],
            [
             0.2,
             "#de77ae"
            ],
            [
             0.3,
             "#f1b6da"
            ],
            [
             0.4,
             "#fde0ef"
            ],
            [
             0.5,
             "#f7f7f7"
            ],
            [
             0.6,
             "#e6f5d0"
            ],
            [
             0.7,
             "#b8e186"
            ],
            [
             0.8,
             "#7fbc41"
            ],
            [
             0.9,
             "#4d9221"
            ],
            [
             1,
             "#276419"
            ]
           ],
           "sequential": [
            [
             0.0,
             "#0d0887"
            ],
            [
             0.1111111111111111,
             "#46039f"
            ],
            [
             0.2222222222222222,
             "#7201a8"
            ],
            [
             0.3333333333333333,
             "#9c179e"
            ],
            [
             0.4444444444444444,
             "#bd3786"
            ],
            [
             0.5555555555555556,
             "#d8576b"
            ],
            [
             0.6666666666666666,
             "#ed7953"
            ],
            [
             0.7777777777777778,
             "#fb9f3a"
            ],
            [
             0.8888888888888888,
             "#fdca26"
            ],
            [
             1.0,
             "#f0f921"
            ]
           ],
           "sequentialminus": [
            [
             0.0,
             "#0d0887"
            ],
            [
             0.1111111111111111,
             "#46039f"
            ],
            [
             0.2222222222222222,
             "#7201a8"
            ],
            [
             0.3333333333333333,
             "#9c179e"
            ],
            [
             0.4444444444444444,
             "#bd3786"
            ],
            [
             0.5555555555555556,
             "#d8576b"
            ],
            [
             0.6666666666666666,
             "#ed7953"
            ],
            [
             0.7777777777777778,
             "#fb9f3a"
            ],
            [
             0.8888888888888888,
             "#fdca26"
            ],
            [
             1.0,
             "#f0f921"
            ]
           ]
          },
          "colorway": [
           "#636efa",
           "#EF553B",
           "#00cc96",
           "#ab63fa",
           "#FFA15A",
           "#19d3f3",
           "#FF6692",
           "#B6E880",
           "#FF97FF",
           "#FECB52"
          ],
          "font": {
           "color": "#2a3f5f"
          },
          "geo": {
           "bgcolor": "white",
           "lakecolor": "white",
           "landcolor": "#E5ECF6",
           "showlakes": true,
           "showland": true,
           "subunitcolor": "white"
          },
          "hoverlabel": {
           "align": "left"
          },
          "hovermode": "closest",
          "mapbox": {
           "style": "light"
          },
          "paper_bgcolor": "white",
          "plot_bgcolor": "#E5ECF6",
          "polar": {
           "angularaxis": {
            "gridcolor": "white",
            "linecolor": "white",
            "ticks": ""
           },
           "bgcolor": "#E5ECF6",
           "radialaxis": {
            "gridcolor": "white",
            "linecolor": "white",
            "ticks": ""
           }
          },
          "scene": {
           "xaxis": {
            "backgroundcolor": "#E5ECF6",
            "gridcolor": "white",
            "gridwidth": 2,
            "linecolor": "white",
            "showbackground": true,
            "ticks": "",
            "zerolinecolor": "white"
           },
           "yaxis": {
            "backgroundcolor": "#E5ECF6",
            "gridcolor": "white",
            "gridwidth": 2,
            "linecolor": "white",
            "showbackground": true,
            "ticks": "",
            "zerolinecolor": "white"
           },
           "zaxis": {
            "backgroundcolor": "#E5ECF6",
            "gridcolor": "white",
            "gridwidth": 2,
            "linecolor": "white",
            "showbackground": true,
            "ticks": "",
            "zerolinecolor": "white"
           }
          },
          "shapedefaults": {
           "line": {
            "color": "#2a3f5f"
           }
          },
          "ternary": {
           "aaxis": {
            "gridcolor": "white",
            "linecolor": "white",
            "ticks": ""
           },
           "baxis": {
            "gridcolor": "white",
            "linecolor": "white",
            "ticks": ""
           },
           "bgcolor": "#E5ECF6",
           "caxis": {
            "gridcolor": "white",
            "linecolor": "white",
            "ticks": ""
           }
          },
          "title": {
           "x": 0.05
          },
          "xaxis": {
           "automargin": true,
           "gridcolor": "white",
           "linecolor": "white",
           "ticks": "",
           "title": {
            "standoff": 15
           },
           "zerolinecolor": "white",
           "zerolinewidth": 2
          },
          "yaxis": {
           "automargin": true,
           "gridcolor": "white",
           "linecolor": "white",
           "ticks": "",
           "title": {
            "standoff": 15
           },
           "zerolinecolor": "white",
           "zerolinewidth": 2
          }
         }
        },
        "xaxis": {
         "anchor": "y",
         "domain": [
          0.0,
          0.2888888888888889
         ]
        },
        "xaxis2": {
         "anchor": "y2",
         "domain": [
          0.35555555555555557,
          0.6444444444444445
         ]
        },
        "xaxis3": {
         "anchor": "y3",
         "domain": [
          0.7111111111111111,
          1.0
         ]
        },
        "xaxis4": {
         "anchor": "y4",
         "domain": [
          0.0,
          0.2888888888888889
         ]
        },
        "xaxis5": {
         "anchor": "y5",
         "domain": [
          0.35555555555555557,
          0.6444444444444445
         ]
        },
        "xaxis6": {
         "anchor": "y6",
         "domain": [
          0.7111111111111111,
          1.0
         ]
        },
        "xaxis7": {
         "anchor": "y7",
         "domain": [
          0.0,
          0.2888888888888889
         ]
        },
        "xaxis8": {
         "anchor": "y8",
         "domain": [
          0.35555555555555557,
          0.6444444444444445
         ]
        },
        "xaxis9": {
         "anchor": "y9",
         "domain": [
          0.7111111111111111,
          1.0
         ]
        },
        "yaxis": {
         "anchor": "x",
         "domain": [
          0.7777777777777778,
          1.0
         ]
        },
        "yaxis2": {
         "anchor": "x2",
         "domain": [
          0.7777777777777778,
          1.0
         ]
        },
        "yaxis3": {
         "anchor": "x3",
         "domain": [
          0.7777777777777778,
          1.0
         ]
        },
        "yaxis4": {
         "anchor": "x4",
         "domain": [
          0.3888888888888889,
          0.6111111111111112
         ]
        },
        "yaxis5": {
         "anchor": "x5",
         "domain": [
          0.3888888888888889,
          0.6111111111111112
         ]
        },
        "yaxis6": {
         "anchor": "x6",
         "domain": [
          0.3888888888888889,
          0.6111111111111112
         ]
        },
        "yaxis7": {
         "anchor": "x7",
         "domain": [
          0.0,
          0.22222222222222224
         ]
        },
        "yaxis8": {
         "anchor": "x8",
         "domain": [
          0.0,
          0.22222222222222224
         ]
        },
        "yaxis9": {
         "anchor": "x9",
         "domain": [
          0.0,
          0.22222222222222224
         ]
        }
       }
      },
      "text/html": "<div>\n        \n        \n            <div id=\"8278ef5b-9f6d-45f8-ae00-3a59f61c9519\" class=\"plotly-graph-div\" style=\"height:525px; width:100%;\"></div>\n            <script type=\"text/javascript\">\n                require([\"plotly\"], function(Plotly) {\n                    window.PLOTLYENV=window.PLOTLYENV || {};\n                    \n                if (document.getElementById(\"8278ef5b-9f6d-45f8-ae00-3a59f61c9519\")) {\n                    Plotly.newPlot(\n                        '8278ef5b-9f6d-45f8-ae00-3a59f61c9519',\n                        [{\"marker\": {\"color\": \"red\", \"line\": {\"color\": \"black\", \"width\": 1}, \"size\": 15, \"symbol\": 0}, \"mode\": \"markers\", \"showlegend\": false, \"type\": \"scatter\", \"x\": [553.1266271112929, 553.1266271112933, 553.1266271112935, 553.1266271112934], \"xaxis\": \"x\", \"y\": [1503.6000000000251, 1503.6000000000251, 1503.6000000000265, 1503.6000000000263], \"yaxis\": \"y\"}, {\"marker\": {\"color\": \"green\", \"line\": {\"color\": \"black\", \"width\": 1}, \"size\": 15, \"symbol\": 2}, \"mode\": \"markers\", \"showlegend\": false, \"type\": \"scatter\", \"x\": [632.7787933973613, 633.643492401635, 635.3702457338186, 636.2272934424533], \"xaxis\": \"x\", \"y\": [1504.557987673836, 1503.7161124474305, 1500.8511119586074, 1494.9076944995368], \"yaxis\": \"y\"}, {\"marker\": {\"color\": \"yellow\", \"line\": {\"color\": \"black\", \"width\": 1}, \"size\": 15, \"symbol\": 7}, \"mode\": \"markers\", \"showlegend\": false, \"type\": \"scatter\", \"x\": [553.1081652975546, 553.1081652975545, 553.1081652975546, 553.1081652975546], \"xaxis\": \"x\", \"y\": [1503.801653972579, 1503.8016539725809, 1503.8016539725804, 1503.8016539725795], \"yaxis\": \"y\"}, {\"marker\": {\"color\": \"blue\", \"line\": {\"color\": \"black\", \"width\": 1}, \"size\": 15, \"symbol\": 4}, \"mode\": \"markers\", \"showlegend\": false, \"type\": \"scatter\", \"x\": [666.9214867699912, 667.776594895491, 669.457821139106, 670.2724339973812], \"xaxis\": \"x\", \"y\": [1526.0115906720816, 1517.9321486232348, 1483.893265441994, 1468.0995185073084], \"yaxis\": \"y\"}, {\"marker\": {\"color\": \"white\", \"line\": {\"color\": \"black\", \"width\": 1}, \"size\": 10, \"symbol\": 0}, \"mode\": \"markers\", \"showlegend\": false, \"type\": \"scatter\", \"x\": [553.1266271112935], \"xaxis\": \"x\", \"y\": [1503.6000000000258], \"yaxis\": \"y\"}, {\"marker\": {\"color\": \"white\", \"line\": {\"color\": \"black\", \"width\": 1}, \"size\": 10, \"symbol\": 2}, \"mode\": \"markers\", \"showlegend\": false, \"type\": \"scatter\", \"x\": [634.5073629116724], \"xaxis\": \"x\", \"y\": [1503.2693131994488], \"yaxis\": \"y\"}, {\"marker\": {\"color\": \"white\", \"line\": {\"color\": \"black\", \"width\": 1}, \"size\": 10, \"symbol\": 7}, \"mode\": \"markers\", \"showlegend\": false, \"type\": \"scatter\", \"x\": [553.1081652975545], \"xaxis\": \"x\", \"y\": [1503.801653972579], \"yaxis\": \"y\"}, {\"marker\": {\"color\": \"white\", \"line\": {\"color\": \"black\", \"width\": 1}, \"size\": 10, \"symbol\": 4}, \"mode\": \"markers\", \"showlegend\": false, \"type\": \"scatter\", \"x\": [668.6231941490724], \"xaxis\": \"x\", \"y\": [1503.6760485649447], \"yaxis\": \"y\"}],\n                        {\"annotations\": [{\"font\": {\"size\": 16}, \"showarrow\": false, \"text\": \"Lignite Fuel Cost\", \"x\": 0.14444444444444446, \"xanchor\": \"center\", \"xref\": \"paper\", \"y\": 1.0, \"yanchor\": \"bottom\", \"yref\": \"paper\"}, {\"font\": {\"size\": 16}, \"showarrow\": false, \"text\": \"Gas Fuel Cost\", \"x\": 0.5, \"xanchor\": \"center\", \"xref\": \"paper\", \"y\": 1.0, \"yanchor\": \"bottom\", \"yref\": \"paper\"}, {\"font\": {\"size\": 16}, \"showarrow\": false, \"text\": \"Hardcoal Fuel Cost\", \"x\": 0.8555555555555556, \"xanchor\": \"center\", \"xref\": \"paper\", \"y\": 1.0, \"yanchor\": \"bottom\", \"yref\": \"paper\"}, {\"font\": {\"size\": 16}, \"showarrow\": false, \"text\": \"PV Investment Cost\", \"x\": 0.14444444444444446, \"xanchor\": \"center\", \"xref\": \"paper\", \"y\": 0.6111111111111112, \"yanchor\": \"bottom\", \"yref\": \"paper\"}, {\"font\": {\"size\": 16}, \"showarrow\": false, \"text\": \"Wind Onshore Investment Cost\", \"x\": 0.5, \"xanchor\": \"center\", \"xref\": \"paper\", \"y\": 0.6111111111111112, \"yanchor\": \"bottom\", \"yref\": \"paper\"}, {\"font\": {\"size\": 16}, \"showarrow\": false, \"text\": \"Wind Offshore Investment Cost\", \"x\": 0.8555555555555556, \"xanchor\": \"center\", \"xref\": \"paper\", \"y\": 0.6111111111111112, \"yanchor\": \"bottom\", \"yref\": \"paper\"}, {\"font\": {\"size\": 16}, \"showarrow\": false, \"text\": \"Li-Ion Investment Cost\", \"x\": 0.14444444444444446, \"xanchor\": \"center\", \"xref\": \"paper\", \"y\": 0.22222222222222224, \"yanchor\": \"bottom\", \"yref\": \"paper\"}, {\"font\": {\"size\": 16}, \"showarrow\": false, \"text\": \"PSH Investment Cost\", \"x\": 0.5, \"xanchor\": \"center\", \"xref\": \"paper\", \"y\": 0.22222222222222224, \"yanchor\": \"bottom\", \"yref\": \"paper\"}], \"template\": {\"data\": {\"bar\": [{\"error_x\": {\"color\": \"#2a3f5f\"}, \"error_y\": {\"color\": \"#2a3f5f\"}, \"marker\": {\"line\": {\"color\": \"#E5ECF6\", \"width\": 0.5}}, \"type\": \"bar\"}], \"barpolar\": [{\"marker\": {\"line\": {\"color\": \"#E5ECF6\", \"width\": 0.5}}, \"type\": \"barpolar\"}], \"carpet\": [{\"aaxis\": {\"endlinecolor\": \"#2a3f5f\", \"gridcolor\": \"white\", \"linecolor\": \"white\", \"minorgridcolor\": \"white\", \"startlinecolor\": \"#2a3f5f\"}, \"baxis\": {\"endlinecolor\": \"#2a3f5f\", \"gridcolor\": \"white\", \"linecolor\": \"white\", \"minorgridcolor\": \"white\", \"startlinecolor\": \"#2a3f5f\"}, \"type\": \"carpet\"}], \"choropleth\": [{\"colorbar\": {\"outlinewidth\": 0, \"ticks\": \"\"}, \"type\": \"choropleth\"}], \"contour\": [{\"colorbar\": {\"outlinewidth\": 0, \"ticks\": \"\"}, \"colorscale\": [[0.0, \"#0d0887\"], [0.1111111111111111, \"#46039f\"], [0.2222222222222222, \"#7201a8\"], [0.3333333333333333, \"#9c179e\"], [0.4444444444444444, \"#bd3786\"], [0.5555555555555556, \"#d8576b\"], [0.6666666666666666, \"#ed7953\"], [0.7777777777777778, \"#fb9f3a\"], [0.8888888888888888, \"#fdca26\"], [1.0, \"#f0f921\"]], \"type\": \"contour\"}], \"contourcarpet\": [{\"colorbar\": {\"outlinewidth\": 0, \"ticks\": \"\"}, \"type\": \"contourcarpet\"}], \"heatmap\": [{\"colorbar\": {\"outlinewidth\": 0, \"ticks\": \"\"}, \"colorscale\": [[0.0, \"#0d0887\"], [0.1111111111111111, \"#46039f\"], [0.2222222222222222, \"#7201a8\"], [0.3333333333333333, \"#9c179e\"], [0.4444444444444444, \"#bd3786\"], [0.5555555555555556, \"#d8576b\"], [0.6666666666666666, \"#ed7953\"], [0.7777777777777778, \"#fb9f3a\"], [0.8888888888888888, \"#fdca26\"], [1.0, \"#f0f921\"]], \"type\": \"heatmap\"}], \"heatmapgl\": [{\"colorbar\": {\"outlinewidth\": 0, \"ticks\": \"\"}, \"colorscale\": [[0.0, \"#0d0887\"], [0.1111111111111111, \"#46039f\"], [0.2222222222222222, \"#7201a8\"], [0.3333333333333333, \"#9c179e\"], [0.4444444444444444, \"#bd3786\"], [0.5555555555555556, \"#d8576b\"], [0.6666666666666666, \"#ed7953\"], [0.7777777777777778, \"#fb9f3a\"], [0.8888888888888888, \"#fdca26\"], [1.0, \"#f0f921\"]], \"type\": \"heatmapgl\"}], \"histogram\": [{\"marker\": {\"colorbar\": {\"outlinewidth\": 0, \"ticks\": \"\"}}, \"type\": \"histogram\"}], \"histogram2d\": [{\"colorbar\": {\"outlinewidth\": 0, \"ticks\": \"\"}, \"colorscale\": [[0.0, \"#0d0887\"], [0.1111111111111111, \"#46039f\"], [0.2222222222222222, \"#7201a8\"], [0.3333333333333333, \"#9c179e\"], [0.4444444444444444, \"#bd3786\"], [0.5555555555555556, \"#d8576b\"], [0.6666666666666666, \"#ed7953\"], [0.7777777777777778, \"#fb9f3a\"], [0.8888888888888888, \"#fdca26\"], [1.0, \"#f0f921\"]], \"type\": \"histogram2d\"}], \"histogram2dcontour\": [{\"colorbar\": {\"outlinewidth\": 0, \"ticks\": \"\"}, \"colorscale\": [[0.0, \"#0d0887\"], [0.1111111111111111, \"#46039f\"], [0.2222222222222222, \"#7201a8\"], [0.3333333333333333, \"#9c179e\"], [0.4444444444444444, \"#bd3786\"], [0.5555555555555556, \"#d8576b\"], [0.6666666666666666, \"#ed7953\"], [0.7777777777777778, \"#fb9f3a\"], [0.8888888888888888, \"#fdca26\"], [1.0, \"#f0f921\"]], \"type\": \"histogram2dcontour\"}], \"mesh3d\": [{\"colorbar\": {\"outlinewidth\": 0, \"ticks\": \"\"}, \"type\": \"mesh3d\"}], \"parcoords\": [{\"line\": {\"colorbar\": {\"outlinewidth\": 0, \"ticks\": \"\"}}, \"type\": \"parcoords\"}], \"pie\": [{\"automargin\": true, \"type\": \"pie\"}], \"scatter\": [{\"marker\": {\"colorbar\": {\"outlinewidth\": 0, \"ticks\": \"\"}}, \"type\": \"scatter\"}], \"scatter3d\": [{\"line\": {\"colorbar\": {\"outlinewidth\": 0, \"ticks\": \"\"}}, \"marker\": {\"colorbar\": {\"outlinewidth\": 0, \"ticks\": \"\"}}, \"type\": \"scatter3d\"}], \"scattercarpet\": [{\"marker\": {\"colorbar\": {\"outlinewidth\": 0, \"ticks\": \"\"}}, \"type\": \"scattercarpet\"}], \"scattergeo\": [{\"marker\": {\"colorbar\": {\"outlinewidth\": 0, \"ticks\": \"\"}}, \"type\": \"scattergeo\"}], \"scattergl\": [{\"marker\": {\"colorbar\": {\"outlinewidth\": 0, \"ticks\": \"\"}}, \"type\": \"scattergl\"}], \"scattermapbox\": [{\"marker\": {\"colorbar\": {\"outlinewidth\": 0, \"ticks\": \"\"}}, \"type\": \"scattermapbox\"}], \"scatterpolar\": [{\"marker\": {\"colorbar\": {\"outlinewidth\": 0, \"ticks\": \"\"}}, \"type\": \"scatterpolar\"}], \"scatterpolargl\": [{\"marker\": {\"colorbar\": {\"outlinewidth\": 0, \"ticks\": \"\"}}, \"type\": \"scatterpolargl\"}], \"scatterternary\": [{\"marker\": {\"colorbar\": {\"outlinewidth\": 0, \"ticks\": \"\"}}, \"type\": \"scatterternary\"}], \"surface\": [{\"colorbar\": {\"outlinewidth\": 0, \"ticks\": \"\"}, \"colorscale\": [[0.0, \"#0d0887\"], [0.1111111111111111, \"#46039f\"], [0.2222222222222222, \"#7201a8\"], [0.3333333333333333, \"#9c179e\"], [0.4444444444444444, \"#bd3786\"], [0.5555555555555556, \"#d8576b\"], [0.6666666666666666, \"#ed7953\"], [0.7777777777777778, \"#fb9f3a\"], [0.8888888888888888, \"#fdca26\"], [1.0, \"#f0f921\"]], \"type\": \"surface\"}], \"table\": [{\"cells\": {\"fill\": {\"color\": \"#EBF0F8\"}, \"line\": {\"color\": \"white\"}}, \"header\": {\"fill\": {\"color\": \"#C8D4E3\"}, \"line\": {\"color\": \"white\"}}, \"type\": \"table\"}]}, \"layout\": {\"annotationdefaults\": {\"arrowcolor\": \"#2a3f5f\", \"arrowhead\": 0, \"arrowwidth\": 1}, \"coloraxis\": {\"colorbar\": {\"outlinewidth\": 0, \"ticks\": \"\"}}, \"colorscale\": {\"diverging\": [[0, \"#8e0152\"], [0.1, \"#c51b7d\"], [0.2, \"#de77ae\"], [0.3, \"#f1b6da\"], [0.4, \"#fde0ef\"], [0.5, \"#f7f7f7\"], [0.6, \"#e6f5d0\"], [0.7, \"#b8e186\"], [0.8, \"#7fbc41\"], [0.9, \"#4d9221\"], [1, \"#276419\"]], \"sequential\": [[0.0, \"#0d0887\"], [0.1111111111111111, \"#46039f\"], [0.2222222222222222, \"#7201a8\"], [0.3333333333333333, \"#9c179e\"], [0.4444444444444444, \"#bd3786\"], [0.5555555555555556, \"#d8576b\"], [0.6666666666666666, \"#ed7953\"], [0.7777777777777778, \"#fb9f3a\"], [0.8888888888888888, \"#fdca26\"], [1.0, \"#f0f921\"]], \"sequentialminus\": [[0.0, \"#0d0887\"], [0.1111111111111111, \"#46039f\"], [0.2222222222222222, \"#7201a8\"], [0.3333333333333333, \"#9c179e\"], [0.4444444444444444, \"#bd3786\"], [0.5555555555555556, \"#d8576b\"], [0.6666666666666666, \"#ed7953\"], [0.7777777777777778, \"#fb9f3a\"], [0.8888888888888888, \"#fdca26\"], [1.0, \"#f0f921\"]]}, \"colorway\": [\"#636efa\", \"#EF553B\", \"#00cc96\", \"#ab63fa\", \"#FFA15A\", \"#19d3f3\", \"#FF6692\", \"#B6E880\", \"#FF97FF\", \"#FECB52\"], \"font\": {\"color\": \"#2a3f5f\"}, \"geo\": {\"bgcolor\": \"white\", \"lakecolor\": \"white\", \"landcolor\": \"#E5ECF6\", \"showlakes\": true, \"showland\": true, \"subunitcolor\": \"white\"}, \"hoverlabel\": {\"align\": \"left\"}, \"hovermode\": \"closest\", \"mapbox\": {\"style\": \"light\"}, \"paper_bgcolor\": \"white\", \"plot_bgcolor\": \"#E5ECF6\", \"polar\": {\"angularaxis\": {\"gridcolor\": \"white\", \"linecolor\": \"white\", \"ticks\": \"\"}, \"bgcolor\": \"#E5ECF6\", \"radialaxis\": {\"gridcolor\": \"white\", \"linecolor\": \"white\", \"ticks\": \"\"}}, \"scene\": {\"xaxis\": {\"backgroundcolor\": \"#E5ECF6\", \"gridcolor\": \"white\", \"gridwidth\": 2, \"linecolor\": \"white\", \"showbackground\": true, \"ticks\": \"\", \"zerolinecolor\": \"white\"}, \"yaxis\": {\"backgroundcolor\": \"#E5ECF6\", \"gridcolor\": \"white\", \"gridwidth\": 2, \"linecolor\": \"white\", \"showbackground\": true, \"ticks\": \"\", \"zerolinecolor\": \"white\"}, \"zaxis\": {\"backgroundcolor\": \"#E5ECF6\", \"gridcolor\": \"white\", \"gridwidth\": 2, \"linecolor\": \"white\", \"showbackground\": true, \"ticks\": \"\", \"zerolinecolor\": \"white\"}}, \"shapedefaults\": {\"line\": {\"color\": \"#2a3f5f\"}}, \"ternary\": {\"aaxis\": {\"gridcolor\": \"white\", \"linecolor\": \"white\", \"ticks\": \"\"}, \"baxis\": {\"gridcolor\": \"white\", \"linecolor\": \"white\", \"ticks\": \"\"}, \"bgcolor\": \"#E5ECF6\", \"caxis\": {\"gridcolor\": \"white\", \"linecolor\": \"white\", \"ticks\": \"\"}}, \"title\": {\"x\": 0.05}, \"xaxis\": {\"automargin\": true, \"gridcolor\": \"white\", \"linecolor\": \"white\", \"ticks\": \"\", \"title\": {\"standoff\": 15}, \"zerolinecolor\": \"white\", \"zerolinewidth\": 2}, \"yaxis\": {\"automargin\": true, \"gridcolor\": \"white\", \"linecolor\": \"white\", \"ticks\": \"\", \"title\": {\"standoff\": 15}, \"zerolinecolor\": \"white\", \"zerolinewidth\": 2}}}, \"xaxis\": {\"anchor\": \"y\", \"domain\": [0.0, 0.2888888888888889]}, \"xaxis2\": {\"anchor\": \"y2\", \"domain\": [0.35555555555555557, 0.6444444444444445]}, \"xaxis3\": {\"anchor\": \"y3\", \"domain\": [0.7111111111111111, 1.0]}, \"xaxis4\": {\"anchor\": \"y4\", \"domain\": [0.0, 0.2888888888888889]}, \"xaxis5\": {\"anchor\": \"y5\", \"domain\": [0.35555555555555557, 0.6444444444444445]}, \"xaxis6\": {\"anchor\": \"y6\", \"domain\": [0.7111111111111111, 1.0]}, \"xaxis7\": {\"anchor\": \"y7\", \"domain\": [0.0, 0.2888888888888889]}, \"xaxis8\": {\"anchor\": \"y8\", \"domain\": [0.35555555555555557, 0.6444444444444445]}, \"xaxis9\": {\"anchor\": \"y9\", \"domain\": [0.7111111111111111, 1.0]}, \"yaxis\": {\"anchor\": \"x\", \"domain\": [0.7777777777777778, 1.0]}, \"yaxis2\": {\"anchor\": \"x2\", \"domain\": [0.7777777777777778, 1.0]}, \"yaxis3\": {\"anchor\": \"x3\", \"domain\": [0.7777777777777778, 1.0]}, \"yaxis4\": {\"anchor\": \"x4\", \"domain\": [0.3888888888888889, 0.6111111111111112]}, \"yaxis5\": {\"anchor\": \"x5\", \"domain\": [0.3888888888888889, 0.6111111111111112]}, \"yaxis6\": {\"anchor\": \"x6\", \"domain\": [0.3888888888888889, 0.6111111111111112]}, \"yaxis7\": {\"anchor\": \"x7\", \"domain\": [0.0, 0.22222222222222224]}, \"yaxis8\": {\"anchor\": \"x8\", \"domain\": [0.0, 0.22222222222222224]}, \"yaxis9\": {\"anchor\": \"x9\", \"domain\": [0.0, 0.22222222222222224]}},\n                        {\"responsive\": true}\n                    ).then(function(){\n                            \nvar gd = document.getElementById('8278ef5b-9f6d-45f8-ae00-3a59f61c9519');\nvar x = new MutationObserver(function (mutations, observer) {{\n        var display = window.getComputedStyle(gd).display;\n        if (!display || display === 'none') {{\n            console.log([gd, 'removed!']);\n            Plotly.purge(gd);\n            observer.disconnect();\n        }}\n}});\n\n// Listen for the removal of the full notebook cells\nvar notebookContainer = gd.closest('#notebook-container');\nif (notebookContainer) {{\n    x.observe(notebookContainer, {childList: true});\n}}\n\n// Listen for the clearing of the current output cell\nvar outputEl = gd.closest('.output');\nif (outputEl) {{\n    x.observe(outputEl, {childList: true});\n}}\n\n                        })\n                };\n                });\n            </script>\n        </div>"
     },
     "metadata": {},
     "output_type": "display_data"
    }
   ],
   "source": [
    "symbols\n",
    "#name1\n",
    "\n",
    "#symbol1\n",
    "\n",
    "fig.data = []\n",
    "\n",
    "\n",
    "symbol1 =[symbols[0],symbols[8],symbols[28],symbols[16]]\n",
    "marker_color2 = [\"white\",\"white\",\"white\",\"white\"]\n",
    "name1 = ['CO\\N{SUBSCRIPT TWO} Cap', 'RES Min Quota', 'CO\\N{SUBSCRIPT TWO} Tax', 'FIT']\n",
    "marker_color1 = [\"red\",\"green\",\"yellow\",\"blue\"]\n",
    "\n",
    "for i,j,k,l in zip(x1[0],symbol1,name1,marker_color1):\n",
    "    fig.add_trace(\n",
    "        go.Scatter(x=i.Total_System_Cost,y=i.Total_CO2_Emissions,\n",
    "               mode=\"markers\",\n",
    "               marker_symbol=j,\n",
    "               marker_line_color=\"black\", marker_color=l,\n",
    "               marker_line_width=1, marker_size=15,\n",
    "               #name = k,\n",
    "               showlegend= False,\n",
    "               #hovertemplate=\"name: %{y}%{x}<br>number: %{marker.symbol}<extra></extra>\"\n",
    "                ),\n",
    "               row=1,col=1\n",
    "    )\n",
    "\n",
    "for i,j,k,l in zip(x1[9],symbol1,name1,marker_color2):\n",
    "    fig.add_trace(\n",
    "        go.Scatter(x=i.Total_System_Cost,y=i.Total_CO2_Emissions,\n",
    "               mode=\"markers\",\n",
    "               marker_symbol=j,\n",
    "               marker_line_color=\"black\", marker_color = l,\n",
    "               marker_line_width=1, marker_size=10,\n",
    "               #name = k,\n",
    "               showlegend= False,\n",
    "               #hovertemplate=\"name: %{y}%{x}<br>number: %{marker.symbol}<extra></extra>\"\n",
    "               ),\n",
    "               row=1,col=1\n",
    "    )\n",
    "    #fig.update_xaxes(title='Lignite')\n",
    "\n",
    "fig.show()"
   ],
   "metadata": {
    "collapsed": false,
    "pycharm": {
     "name": "#%%\n"
    }
   }
  },
  {
   "cell_type": "code",
   "execution_count": 81,
   "outputs": [],
   "source": [
    "for i,j,k,l in zip(x1[1],symbol1,name1,marker_color1):\n",
    "    fig.add_trace(\n",
    "        go.Scatter(x=i.Total_System_Cost,y=i.Total_CO2_Emissions,\n",
    "               mode=\"markers\",\n",
    "               marker_symbol=j,\n",
    "               marker_line_color=\"black\", marker_color=l,\n",
    "               marker_line_width=1, marker_size=15,\n",
    "               #name = k,\n",
    "               showlegend= False,\n",
    "               #hovertemplate=\"name: %{y}%{x}<br>number: %{marker.symbol}<extra></extra>\"\n",
    "               ),\n",
    "               row=1,col=2\n",
    "    )\n",
    "\n",
    "for i,j,k,l in zip(x1[9],symbol1,name1,marker_color2):\n",
    "    fig.add_trace(\n",
    "        go.Scatter(x=i.Total_System_Cost,y=i.Total_CO2_Emissions,\n",
    "               mode=\"markers\",\n",
    "               marker_symbol=j,\n",
    "               marker_line_color=\"black\", marker_color = l,\n",
    "               marker_line_width=1, marker_size=10,\n",
    "               #name = k,\n",
    "               showlegend= False,\n",
    "               #hovertemplate=\"name: %{y}%{x}<br>number: %{marker.symbol}<extra></extra>\"\n",
    "               ),\n",
    "               row=1,col=2\n",
    "    )\n",
    "\n",
    "\n",
    "\n",
    "for i,j,k,l in zip(x1[2],symbol1,name1,marker_color1):\n",
    "    fig.add_trace(\n",
    "        go.Scatter(x=i.Total_System_Cost,y=i.Total_CO2_Emissions,\n",
    "               mode=\"markers\",\n",
    "               marker_symbol=j,\n",
    "               marker_line_color=\"black\", marker_color=l,\n",
    "               marker_line_width=1, marker_size=15,\n",
    "               #name = k,\n",
    "               showlegend= False,\n",
    "               #hovertemplate=\"name: %{y}%{x}<br>number: %{marker.symbol}<extra></extra>\"\n",
    "                ),\n",
    "               row=1,col=3\n",
    "    )\n",
    "\n",
    "for i,j,k,l in zip(x1[9],symbol1,name1,marker_color2):\n",
    "    fig.add_trace(\n",
    "        go.Scatter(x=i.Total_System_Cost,y=i.Total_CO2_Emissions,\n",
    "               mode=\"markers\",\n",
    "               marker_symbol=j,\n",
    "               marker_line_color=\"black\", marker_color = l,\n",
    "               marker_line_width=1, marker_size=10,\n",
    "               #name = k,\n",
    "               showlegend= False,\n",
    "               #hovertemplate=\"name: %{y}%{x}<br>number: %{marker.symbol}<extra></extra>\"\n",
    "               ),\n",
    "               row=1,col=3\n",
    "    )\n",
    "\n",
    "\n",
    "\n",
    "for i,j,k,l in zip(x1[4],symbol1,name1,marker_color1):\n",
    "    fig.add_trace(\n",
    "        go.Scatter(x=i.Total_System_Cost,y=i.Total_CO2_Emissions,\n",
    "               mode=\"markers\",\n",
    "               marker_symbol=j,\n",
    "               marker_line_color=\"black\", marker_color=l,\n",
    "               marker_line_width=1, marker_size=15,\n",
    "               #name = k,\n",
    "               showlegend= False,\n",
    "               #hovertemplate=\"name: %{y}%{x}<br>number: %{marker.symbol}<extra></extra>\"\n",
    "               ),\n",
    "               row=2,col=1\n",
    "    )\n",
    "\n",
    "for i,j,k,l in zip(x1[9],symbol1,name1,marker_color2):\n",
    "    fig.add_trace(\n",
    "        go.Scatter(x=i.Total_System_Cost,y=i.Total_CO2_Emissions,\n",
    "               mode=\"markers\",\n",
    "               marker_symbol=j,\n",
    "               marker_line_color=\"black\", marker_color = l,\n",
    "               marker_line_width=1, marker_size=10,\n",
    "               #name = k,\n",
    "               showlegend= False,\n",
    "               #hovertemplate=\"name: %{y}%{x}<br>number: %{marker.symbol}<extra></extra>\"\n",
    "               ),\n",
    "               row=2,col=1\n",
    "    )\n",
    "\n",
    "\n",
    "\n",
    "for i,j,k,l in zip(x1[5],symbol1,name1,marker_color1):\n",
    "    fig.add_trace(\n",
    "        go.Scatter(x=i.Total_System_Cost,y=i.Total_CO2_Emissions,\n",
    "               mode=\"markers\",\n",
    "               marker_symbol=j,\n",
    "               marker_line_color=\"black\", marker_color=l,\n",
    "               marker_line_width=1, marker_size=15,\n",
    "               #name = k,\n",
    "               showlegend= False,\n",
    "               #hovertemplate=\"name: %{y}%{x}<br>number: %{marker.symbol}<extra></extra>\"\n",
    "                ),\n",
    "               row=2,col=2\n",
    "    )\n",
    "\n",
    "for i,j,k,l in zip(x1[9],symbol1,name1,marker_color2):\n",
    "    fig.add_trace(\n",
    "        go.Scatter(x=i.Total_System_Cost,y=i.Total_CO2_Emissions,\n",
    "               mode=\"markers\",\n",
    "               marker_symbol=j,\n",
    "               marker_line_color=\"black\", marker_color = l,\n",
    "               marker_line_width=1, marker_size=10,\n",
    "               #name = k,\n",
    "               showlegend= False,\n",
    "               #hovertemplate=\"name: %{y}%{x}<br>number: %{marker.symbol}<extra></extra>\"\n",
    "               ),\n",
    "               row=2,col=2\n",
    "    )\n",
    "\n",
    "\n",
    "\n",
    "\n",
    "\n",
    "for i,j,k,l in zip(x1[6],symbol1,name1,marker_color1):\n",
    "    fig.add_trace(\n",
    "        go.Scatter(x=i.Total_System_Cost,y=i.Total_CO2_Emissions,\n",
    "               mode=\"markers\",\n",
    "               marker_symbol=j,\n",
    "               marker_line_color=\"black\", marker_color=l,\n",
    "               marker_line_width=1, marker_size=15,\n",
    "               #name = k,\n",
    "               showlegend= False,\n",
    "               #hovertemplate=\"name: %{y}%{x}<br>number: %{marker.symbol}<extra></extra>\"\n",
    "                ),\n",
    "               row=2,col=3\n",
    "    )\n",
    "\n",
    "for i,j,k,l in zip(x1[9],symbol1,name1,marker_color2):\n",
    "    fig.add_trace(\n",
    "        go.Scatter(x=i.Total_System_Cost,y=i.Total_CO2_Emissions,\n",
    "               mode=\"markers\",\n",
    "               marker_symbol=j,\n",
    "               marker_line_color=\"black\", marker_color = l,\n",
    "               marker_line_width=1, marker_size=10,\n",
    "               #name = k,\n",
    "               showlegend= False,\n",
    "               #hovertemplate=\"name: %{y}%{x}<br>number: %{marker.symbol}<extra></extra>\"\n",
    "               ),\n",
    "               row=2,col=3\n",
    "    )\n",
    "\n",
    "\n",
    "\n",
    "\n",
    "for i,j,k,l in zip(x1[7],symbol1,name1,marker_color1):\n",
    "    fig.add_trace(\n",
    "        go.Scatter(x=i.Total_System_Cost,y=i.Total_CO2_Emissions,\n",
    "               mode=\"markers\",\n",
    "               marker_symbol=j,\n",
    "               marker_line_color=\"black\", marker_color=l,\n",
    "               marker_line_width=1, marker_size=15,\n",
    "               #name = k,\n",
    "               showlegend= False,\n",
    "               #hovertemplate=\"name: %{y}%{x}<br>number: %{marker.symbol}<extra></extra>\"\n",
    "                ),\n",
    "               row=3,col=1\n",
    "    )\n",
    "\n",
    "for i,j,k,l in zip(x1[9],symbol1,name1,marker_color2):\n",
    "    fig.add_trace(\n",
    "        go.Scatter(x=i.Total_System_Cost,y=i.Total_CO2_Emissions,\n",
    "               mode=\"markers\",\n",
    "               marker_symbol=j,\n",
    "               marker_line_color=\"black\", marker_color = l,\n",
    "               marker_line_width=1, marker_size=10,\n",
    "               #name = k,\n",
    "               showlegend= False,\n",
    "               #hovertemplate=\"name: %{y}%{x}<br>number: %{marker.symbol}<extra></extra>\"\n",
    "               ),\n",
    "               row=3,col=1\n",
    "    )\n",
    "\n",
    "\n",
    "\n",
    "\n",
    "for i,j,k,l in zip(x1[8],symbol1,name1,marker_color1):\n",
    "    fig.add_trace(\n",
    "        go.Scatter(x=i.Total_System_Cost,y=i.Total_CO2_Emissions,\n",
    "               mode=\"markers\",\n",
    "               marker_symbol=j,\n",
    "               marker_line_color=\"black\", marker_color=l,\n",
    "               marker_line_width=1, marker_size=15,\n",
    "               name = k,\n",
    "               showlegend= True,\n",
    "               #hovertemplate=\"name: %{y}%{x}<br>number: %{marker.symbol}<extra></extra>\"\n",
    "              ),\n",
    "               row=3,col=2\n",
    "    )\n",
    "\n",
    "for i,j,k,l in zip(x1[9],symbol1,name1,marker_color2):\n",
    "    fig.add_trace(\n",
    "        go.Scatter(x=i.Total_System_Cost,y=i.Total_CO2_Emissions,\n",
    "               mode=\"markers\",\n",
    "               marker_symbol=j,\n",
    "               marker_line_color=\"black\", marker_color = l,\n",
    "               marker_line_width=1, marker_size=10,\n",
    "               #name = k,\n",
    "               showlegend= False,\n",
    "               #hovertemplate=\"name: %{y}%{x}<br>number: %{marker.symbol}<extra></extra>\"\n",
    "               ),\n",
    "               row=3,col=2\n",
    "    )\n",
    "\n"
   ],
   "metadata": {
    "collapsed": false,
    "pycharm": {
     "name": "#%%\n"
    }
   }
  },
  {
   "cell_type": "code",
   "execution_count": 82,
   "outputs": [
    {
     "data": {
      "application/vnd.plotly.v1+json": {
       "config": {
        "plotlyServerURL": "https://plot.ly"
       },
       "data": [
        {
         "marker": {
          "color": "red",
          "line": {
           "color": "black",
           "width": 1
          },
          "size": 15,
          "symbol": 0
         },
         "mode": "markers",
         "showlegend": false,
         "type": "scatter",
         "x": [
          553.1266271112929,
          553.1266271112933,
          553.1266271112935,
          553.1266271112934
         ],
         "xaxis": "x",
         "y": [
          1503.6000000000251,
          1503.6000000000251,
          1503.6000000000265,
          1503.6000000000263
         ],
         "yaxis": "y"
        },
        {
         "marker": {
          "color": "green",
          "line": {
           "color": "black",
           "width": 1
          },
          "size": 15,
          "symbol": 2
         },
         "mode": "markers",
         "showlegend": false,
         "type": "scatter",
         "x": [
          632.7787933973613,
          633.643492401635,
          635.3702457338186,
          636.2272934424533
         ],
         "xaxis": "x",
         "y": [
          1504.557987673836,
          1503.7161124474305,
          1500.8511119586074,
          1494.9076944995368
         ],
         "yaxis": "y"
        },
        {
         "marker": {
          "color": "yellow",
          "line": {
           "color": "black",
           "width": 1
          },
          "size": 15,
          "symbol": 7
         },
         "mode": "markers",
         "showlegend": false,
         "type": "scatter",
         "x": [
          553.1081652975546,
          553.1081652975545,
          553.1081652975546,
          553.1081652975546
         ],
         "xaxis": "x",
         "y": [
          1503.801653972579,
          1503.8016539725809,
          1503.8016539725804,
          1503.8016539725795
         ],
         "yaxis": "y"
        },
        {
         "marker": {
          "color": "blue",
          "line": {
           "color": "black",
           "width": 1
          },
          "size": 15,
          "symbol": 4
         },
         "mode": "markers",
         "showlegend": false,
         "type": "scatter",
         "x": [
          666.9214867699912,
          667.776594895491,
          669.457821139106,
          670.2724339973812
         ],
         "xaxis": "x",
         "y": [
          1526.0115906720816,
          1517.9321486232348,
          1483.893265441994,
          1468.0995185073084
         ],
         "yaxis": "y"
        },
        {
         "marker": {
          "color": "white",
          "line": {
           "color": "black",
           "width": 1
          },
          "size": 10,
          "symbol": 0
         },
         "mode": "markers",
         "showlegend": false,
         "type": "scatter",
         "x": [
          553.1266271112935
         ],
         "xaxis": "x",
         "y": [
          1503.6000000000258
         ],
         "yaxis": "y"
        },
        {
         "marker": {
          "color": "white",
          "line": {
           "color": "black",
           "width": 1
          },
          "size": 10,
          "symbol": 2
         },
         "mode": "markers",
         "showlegend": false,
         "type": "scatter",
         "x": [
          634.5073629116724
         ],
         "xaxis": "x",
         "y": [
          1503.2693131994488
         ],
         "yaxis": "y"
        },
        {
         "marker": {
          "color": "white",
          "line": {
           "color": "black",
           "width": 1
          },
          "size": 10,
          "symbol": 7
         },
         "mode": "markers",
         "showlegend": false,
         "type": "scatter",
         "x": [
          553.1081652975545
         ],
         "xaxis": "x",
         "y": [
          1503.801653972579
         ],
         "yaxis": "y"
        },
        {
         "marker": {
          "color": "white",
          "line": {
           "color": "black",
           "width": 1
          },
          "size": 10,
          "symbol": 4
         },
         "mode": "markers",
         "showlegend": false,
         "type": "scatter",
         "x": [
          668.6231941490724
         ],
         "xaxis": "x",
         "y": [
          1503.6760485649447
         ],
         "yaxis": "y"
        },
        {
         "marker": {
          "color": "red",
          "line": {
           "color": "black",
           "width": 1
          },
          "size": 15,
          "symbol": 0
         },
         "mode": "markers",
         "showlegend": false,
         "type": "scatter",
         "x": [
          526.5293297255688,
          539.8279784190082,
          566.4252758041453,
          579.7239244970095
         ],
         "xaxis": "x2",
         "y": [
          1503.6000000000251,
          1503.6000000000251,
          1503.6000000000265,
          1503.6000000000263
         ],
         "yaxis": "y2"
        },
        {
         "marker": {
          "color": "green",
          "line": {
           "color": "black",
           "width": 1
          },
          "size": 15,
          "symbol": 2
         },
         "mode": "markers",
         "showlegend": false,
         "type": "scatter",
         "x": [
          631.7884782734966,
          633.2456158105357,
          635.6135484904446,
          636.6730653776041
         ],
         "xaxis": "x2",
         "y": [
          1480.4402399099138,
          1486.5013273637492,
          1506.6993644595618,
          1509.399223060313
         ],
         "yaxis": "y2"
        },
        {
         "marker": {
          "color": "yellow",
          "line": {
           "color": "black",
           "width": 1
          },
          "size": 15,
          "symbol": 7
         },
         "mode": "markers",
         "showlegend": false,
         "type": "scatter",
         "x": [
          499.56641468636155,
          526.7888204303384,
          579.6493267304301,
          598.8926214386688
         ],
         "xaxis": "x2",
         "y": [
          1806.3633435617776,
          1651.3080171855752,
          1344.9837668817665,
          1255.5055596014556
         ],
         "yaxis": "y2"
        },
        {
         "marker": {
          "color": "blue",
          "line": {
           "color": "black",
           "width": 1
          },
          "size": 15,
          "symbol": 4
         },
         "mode": "markers",
         "showlegend": false,
         "type": "scatter",
         "x": [
          664.9387729510082,
          666.9752937371659,
          669.9880216533309,
          671.1401811682015
         ],
         "xaxis": "x2",
         "y": [
          1440.0382142315934,
          1482.9202612724303,
          1521.0415608353153,
          1551.0557215161055
         ],
         "yaxis": "y2"
        },
        {
         "marker": {
          "color": "white",
          "line": {
           "color": "black",
           "width": 1
          },
          "size": 10,
          "symbol": 0
         },
         "mode": "markers",
         "showlegend": false,
         "type": "scatter",
         "x": [
          553.1266271112935
         ],
         "xaxis": "x2",
         "y": [
          1503.6000000000258
         ],
         "yaxis": "y2"
        },
        {
         "marker": {
          "color": "white",
          "line": {
           "color": "black",
           "width": 1
          },
          "size": 10,
          "symbol": 2
         },
         "mode": "markers",
         "showlegend": false,
         "type": "scatter",
         "x": [
          634.5073629116724
         ],
         "xaxis": "x2",
         "y": [
          1503.2693131994488
         ],
         "yaxis": "y2"
        },
        {
         "marker": {
          "color": "white",
          "line": {
           "color": "black",
           "width": 1
          },
          "size": 10,
          "symbol": 7
         },
         "mode": "markers",
         "showlegend": false,
         "type": "scatter",
         "x": [
          553.1081652975545
         ],
         "xaxis": "x2",
         "y": [
          1503.801653972579
         ],
         "yaxis": "y2"
        },
        {
         "marker": {
          "color": "white",
          "line": {
           "color": "black",
           "width": 1
          },
          "size": 10,
          "symbol": 4
         },
         "mode": "markers",
         "showlegend": false,
         "type": "scatter",
         "x": [
          668.6231941490724
         ],
         "xaxis": "x2",
         "y": [
          1503.6760485649447
         ],
         "yaxis": "y2"
        },
        {
         "marker": {
          "color": "red",
          "line": {
           "color": "black",
           "width": 1
          },
          "size": 15,
          "symbol": 0
         },
         "mode": "markers",
         "showlegend": false,
         "type": "scatter",
         "x": [
          553.126627111293,
          553.1266271112931,
          553.1266271112933,
          553.1266271112934
         ],
         "xaxis": "x3",
         "y": [
          1503.600000000024,
          1503.6000000000242,
          1503.6000000000265,
          1503.6000000000265
         ],
         "yaxis": "y3"
        },
        {
         "marker": {
          "color": "green",
          "line": {
           "color": "black",
           "width": 1
          },
          "size": 15,
          "symbol": 2
         },
         "mode": "markers",
         "showlegend": false,
         "type": "scatter",
         "x": [
          634.4235445736465,
          634.507362911671,
          634.5073629116486,
          634.5073629116464
         ],
         "xaxis": "x3",
         "y": [
          1495.8168127965505,
          1503.2666779648625,
          1503.2754253373519,
          1503.2717838426718
         ],
         "yaxis": "y3"
        },
        {
         "marker": {
          "color": "yellow",
          "line": {
           "color": "black",
           "width": 1
          },
          "size": 15,
          "symbol": 7
         },
         "mode": "markers",
         "showlegend": false,
         "type": "scatter",
         "x": [
          553.1081652975545,
          553.1081652975545,
          553.1081652975545,
          553.1081652975547
         ],
         "xaxis": "x3",
         "y": [
          1503.8016539725804,
          1503.8016539725807,
          1503.8016539725804,
          1503.8016539725795
         ],
         "yaxis": "y3"
        },
        {
         "marker": {
          "color": "blue",
          "line": {
           "color": "black",
           "width": 1
          },
          "size": 15,
          "symbol": 4
         },
         "mode": "markers",
         "showlegend": false,
         "type": "scatter",
         "x": [
          668.3277381107644,
          668.5844322792195,
          668.6231940402533,
          668.6231939398816
         ],
         "xaxis": "x3",
         "y": [
          1514.0325659485193,
          1508.7739679576441,
          1503.6760133773234,
          1503.6759982112908
         ],
         "yaxis": "y3"
        },
        {
         "marker": {
          "color": "white",
          "line": {
           "color": "black",
           "width": 1
          },
          "size": 10,
          "symbol": 0
         },
         "mode": "markers",
         "showlegend": false,
         "type": "scatter",
         "x": [
          553.1266271112935
         ],
         "xaxis": "x3",
         "y": [
          1503.6000000000258
         ],
         "yaxis": "y3"
        },
        {
         "marker": {
          "color": "white",
          "line": {
           "color": "black",
           "width": 1
          },
          "size": 10,
          "symbol": 2
         },
         "mode": "markers",
         "showlegend": false,
         "type": "scatter",
         "x": [
          634.5073629116724
         ],
         "xaxis": "x3",
         "y": [
          1503.2693131994488
         ],
         "yaxis": "y3"
        },
        {
         "marker": {
          "color": "white",
          "line": {
           "color": "black",
           "width": 1
          },
          "size": 10,
          "symbol": 7
         },
         "mode": "markers",
         "showlegend": false,
         "type": "scatter",
         "x": [
          553.1081652975545
         ],
         "xaxis": "x3",
         "y": [
          1503.801653972579
         ],
         "yaxis": "y3"
        },
        {
         "marker": {
          "color": "white",
          "line": {
           "color": "black",
           "width": 1
          },
          "size": 10,
          "symbol": 4
         },
         "mode": "markers",
         "showlegend": false,
         "type": "scatter",
         "x": [
          668.6231941490724
         ],
         "xaxis": "x3",
         "y": [
          1503.6760485649447
         ],
         "yaxis": "y3"
        },
        {
         "marker": {
          "color": "red",
          "line": {
           "color": "black",
           "width": 1
          },
          "size": 15,
          "symbol": 0
         },
         "mode": "markers",
         "showlegend": false,
         "type": "scatter",
         "x": [
          543.3526375160038,
          549.1930617593407,
          554.748172469783,
          554.9551074257157
         ],
         "xaxis": "x4",
         "y": [
          1503.6000000000108,
          1503.6000000000042,
          1503.5999999999976,
          1503.5999999999992
         ],
         "yaxis": "y4"
        },
        {
         "marker": {
          "color": "green",
          "line": {
           "color": "black",
           "width": 1
          },
          "size": 15,
          "symbol": 2
         },
         "mode": "markers",
         "showlegend": false,
         "type": "scatter",
         "x": [
          621.230072478402,
          628.4631499843746,
          638.6611773140654,
          641.1193703806749
         ],
         "xaxis": "x4",
         "y": [
          1485.4406426177497,
          1489.025945013304,
          1503.5839743943638,
          1506.6332287464913
         ],
         "yaxis": "y4"
        },
        {
         "marker": {
          "color": "yellow",
          "line": {
           "color": "black",
           "width": 1
          },
          "size": 15,
          "symbol": 7
         },
         "mode": "markers",
         "showlegend": false,
         "type": "scatter",
         "x": [
          558.8398564662577,
          558.962879808985,
          545.9564690380251,
          545.1653063764985
         ],
         "xaxis": "x4",
         "y": [
          1310.7868062900495,
          1388.1933164039292,
          1611.242933505131,
          1625.2667498496337
         ],
         "yaxis": "y4"
        },
        {
         "marker": {
          "color": "blue",
          "line": {
           "color": "black",
           "width": 1
          },
          "size": 15,
          "symbol": 4
         },
         "mode": "markers",
         "showlegend": false,
         "type": "scatter",
         "x": [
          656.9471130021547,
          662.7851535756134,
          674.4612347225311,
          680.2992752959898
         ],
         "xaxis": "x4",
         "y": [
          1503.6760485649447,
          1503.6760485649447,
          1503.6760485649447,
          1503.6760485649447
         ],
         "yaxis": "y4"
        },
        {
         "marker": {
          "color": "white",
          "line": {
           "color": "black",
           "width": 1
          },
          "size": 10,
          "symbol": 0
         },
         "mode": "markers",
         "showlegend": false,
         "type": "scatter",
         "x": [
          553.1266271112935
         ],
         "xaxis": "x4",
         "y": [
          1503.6000000000258
         ],
         "yaxis": "y4"
        },
        {
         "marker": {
          "color": "white",
          "line": {
           "color": "black",
           "width": 1
          },
          "size": 10,
          "symbol": 2
         },
         "mode": "markers",
         "showlegend": false,
         "type": "scatter",
         "x": [
          634.5073629116724
         ],
         "xaxis": "x4",
         "y": [
          1503.2693131994488
         ],
         "yaxis": "y4"
        },
        {
         "marker": {
          "color": "white",
          "line": {
           "color": "black",
           "width": 1
          },
          "size": 10,
          "symbol": 7
         },
         "mode": "markers",
         "showlegend": false,
         "type": "scatter",
         "x": [
          553.1081652975545
         ],
         "xaxis": "x4",
         "y": [
          1503.801653972579
         ],
         "yaxis": "y4"
        },
        {
         "marker": {
          "color": "white",
          "line": {
           "color": "black",
           "width": 1
          },
          "size": 10,
          "symbol": 4
         },
         "mode": "markers",
         "showlegend": false,
         "type": "scatter",
         "x": [
          668.6231941490724
         ],
         "xaxis": "x4",
         "y": [
          1503.6760485649447
         ],
         "yaxis": "y4"
        },
        {
         "marker": {
          "color": "red",
          "line": {
           "color": "black",
           "width": 1
          },
          "size": 15,
          "symbol": 0
         },
         "mode": "markers",
         "showlegend": false,
         "type": "scatter",
         "x": [
          532.1605032228498,
          543.6740445891883,
          556.8719636191157,
          557.6771187140765
         ],
         "xaxis": "x5",
         "y": [
          1503.6000000000042,
          1503.5999999999997,
          1503.5999999999992,
          1503.6000000000017
         ],
         "yaxis": "y5"
        },
        {
         "marker": {
          "color": "green",
          "line": {
           "color": "black",
           "width": 1
          },
          "size": 15,
          "symbol": 2
         },
         "mode": "markers",
         "showlegend": false,
         "type": "scatter",
         "x": [
          610.0482715517451,
          624.7065348058808,
          637.7600348023955,
          638.8765911440548
         ],
         "xaxis": "x5",
         "y": [
          1483.8869327781256,
          1485.0224454860768,
          1505.229214879801,
          1506.0608902025454
         ],
         "yaxis": "y5"
        },
        {
         "marker": {
          "color": "yellow",
          "line": {
           "color": "black",
           "width": 1
          },
          "size": 15,
          "symbol": 7
         },
         "mode": "markers",
         "showlegend": false,
         "type": "scatter",
         "x": [
          542.6037445185249,
          550.3057921839822,
          558.9431628998851,
          559.8899567950596
         ],
         "xaxis": "x5",
         "y": [
          1384.0228643365867,
          1435.4534616780047,
          1482.808551865554,
          1480.7623127992408
         ],
         "yaxis": "y5"
        },
        {
         "marker": {
          "color": "blue",
          "line": {
           "color": "black",
           "width": 1
          },
          "size": 15,
          "symbol": 4
         },
         "mode": "markers",
         "showlegend": false,
         "type": "scatter",
         "x": [
          656.6590017468011,
          662.6410979479368,
          674.6052903502078,
          680.5873865513432
         ],
         "xaxis": "x5",
         "y": [
          1503.6760485649447,
          1503.6760485649447,
          1503.6760485649447,
          1503.6760485649447
         ],
         "yaxis": "y5"
        },
        {
         "marker": {
          "color": "white",
          "line": {
           "color": "black",
           "width": 1
          },
          "size": 10,
          "symbol": 0
         },
         "mode": "markers",
         "showlegend": false,
         "type": "scatter",
         "x": [
          553.1266271112935
         ],
         "xaxis": "x5",
         "y": [
          1503.6000000000258
         ],
         "yaxis": "y5"
        },
        {
         "marker": {
          "color": "white",
          "line": {
           "color": "black",
           "width": 1
          },
          "size": 10,
          "symbol": 2
         },
         "mode": "markers",
         "showlegend": false,
         "type": "scatter",
         "x": [
          634.5073629116724
         ],
         "xaxis": "x5",
         "y": [
          1503.2693131994488
         ],
         "yaxis": "y5"
        },
        {
         "marker": {
          "color": "white",
          "line": {
           "color": "black",
           "width": 1
          },
          "size": 10,
          "symbol": 7
         },
         "mode": "markers",
         "showlegend": false,
         "type": "scatter",
         "x": [
          553.1081652975545
         ],
         "xaxis": "x5",
         "y": [
          1503.801653972579
         ],
         "yaxis": "y5"
        },
        {
         "marker": {
          "color": "white",
          "line": {
           "color": "black",
           "width": 1
          },
          "size": 10,
          "symbol": 4
         },
         "mode": "markers",
         "showlegend": false,
         "type": "scatter",
         "x": [
          668.6231941490724
         ],
         "xaxis": "x5",
         "y": [
          1503.6760485649447
         ],
         "yaxis": "y5"
        },
        {
         "marker": {
          "color": "red",
          "line": {
           "color": "black",
           "width": 1
          },
          "size": 15,
          "symbol": 0
         },
         "mode": "markers",
         "showlegend": false,
         "type": "scatter",
         "x": [
          531.7076858953939,
          544.7336221535802,
          553.7391756862779,
          553.7391756862779
         ],
         "xaxis": "x6",
         "y": [
          1503.5999999999988,
          1503.6000000000015,
          1503.5999999999924,
          1503.5999999999924
         ],
         "yaxis": "y6"
        },
        {
         "marker": {
          "color": "green",
          "line": {
           "color": "black",
           "width": 1
          },
          "size": 15,
          "symbol": 2
         },
         "mode": "markers",
         "showlegend": false,
         "type": "scatter",
         "x": [
          605.264136771886,
          622.0387167209441,
          638.5915038543739,
          638.7203051068951
         ],
         "xaxis": "x6",
         "y": [
          1503.007353720442,
          1505.5185937525969,
          1480.9113771291793,
          1478.8110260693136
         ],
         "yaxis": "y6"
        },
        {
         "marker": {
          "color": "yellow",
          "line": {
           "color": "black",
           "width": 1
          },
          "size": 15,
          "symbol": 7
         },
         "mode": "markers",
         "showlegend": false,
         "type": "scatter",
         "x": [
          554.4654817016145,
          556.8281227658545,
          548.4876720043937,
          548.4876720043936
         ],
         "xaxis": "x6",
         "y": [
          1206.2009951088423,
          1362.4049531065282,
          1569.170157668117,
          1569.170157668117
         ],
         "yaxis": "y6"
        },
        {
         "marker": {
          "color": "blue",
          "line": {
           "color": "black",
           "width": 1
          },
          "size": 15,
          "symbol": 4
         },
         "mode": "markers",
         "showlegend": false,
         "type": "scatter",
         "x": [
          650.3242653239007,
          659.4737297364866,
          677.7726585616579,
          686.9221229742438
         ],
         "xaxis": "x6",
         "y": [
          1503.6760485649447,
          1503.6760485649447,
          1503.6760485649447,
          1503.6760485649447
         ],
         "yaxis": "y6"
        },
        {
         "marker": {
          "color": "white",
          "line": {
           "color": "black",
           "width": 1
          },
          "size": 10,
          "symbol": 0
         },
         "mode": "markers",
         "showlegend": false,
         "type": "scatter",
         "x": [
          553.1266271112935
         ],
         "xaxis": "x6",
         "y": [
          1503.6000000000258
         ],
         "yaxis": "y6"
        },
        {
         "marker": {
          "color": "white",
          "line": {
           "color": "black",
           "width": 1
          },
          "size": 10,
          "symbol": 2
         },
         "mode": "markers",
         "showlegend": false,
         "type": "scatter",
         "x": [
          634.5073629116724
         ],
         "xaxis": "x6",
         "y": [
          1503.2693131994488
         ],
         "yaxis": "y6"
        },
        {
         "marker": {
          "color": "white",
          "line": {
           "color": "black",
           "width": 1
          },
          "size": 10,
          "symbol": 7
         },
         "mode": "markers",
         "showlegend": false,
         "type": "scatter",
         "x": [
          553.1081652975545
         ],
         "xaxis": "x6",
         "y": [
          1503.801653972579
         ],
         "yaxis": "y6"
        },
        {
         "marker": {
          "color": "white",
          "line": {
           "color": "black",
           "width": 1
          },
          "size": 10,
          "symbol": 4
         },
         "mode": "markers",
         "showlegend": false,
         "type": "scatter",
         "x": [
          668.6231941490724
         ],
         "xaxis": "x6",
         "y": [
          1503.6760485649447
         ],
         "yaxis": "y6"
        },
        {
         "marker": {
          "color": "red",
          "line": {
           "color": "black",
           "width": 1
          },
          "size": 15,
          "symbol": 0
         },
         "mode": "markers",
         "showlegend": false,
         "type": "scatter",
         "x": [
          552.6913582876738,
          552.9175903618712,
          553.2401636138597,
          553.3252635738852
         ],
         "xaxis": "x7",
         "y": [
          1503.600000000015,
          1503.5999999999947,
          1503.5999999999817,
          1503.6000000000067
         ],
         "yaxis": "y7"
        },
        {
         "marker": {
          "color": "green",
          "line": {
           "color": "black",
           "width": 1
          },
          "size": 15,
          "symbol": 2
         },
         "mode": "markers",
         "showlegend": false,
         "type": "scatter",
         "x": [
          633.9142630666571,
          634.3225839089904,
          634.5735948606737,
          634.5851414100404
         ],
         "xaxis": "x7",
         "y": [
          1501.0959661376844,
          1502.5924365865822,
          1504.7271691726417,
          1504.8592762427056
         ],
         "yaxis": "y7"
        },
        {
         "marker": {
          "color": "yellow",
          "line": {
           "color": "black",
           "width": 1
          },
          "size": 15,
          "symbol": 7
         },
         "mode": "markers",
         "showlegend": false,
         "type": "scatter",
         "x": [
          555.353811212827,
          553.4650012003925,
          552.9065848043812,
          552.9183800088248
         ],
         "xaxis": "x7",
         "y": [
          1474.3730623099818,
          1497.5668424702426,
          1507.4100705910687,
          1508.5923924756758
         ],
         "yaxis": "y7"
        },
        {
         "marker": {
          "color": "blue",
          "line": {
           "color": "black",
           "width": 1
          },
          "size": 15,
          "symbol": 4
         },
         "mode": "markers",
         "showlegend": false,
         "type": "scatter",
         "x": [
          667.7640154208909,
          668.3127449690467,
          668.6966103077588,
          668.7432628977808
         ],
         "xaxis": "x7",
         "y": [
          1477.6181517922635,
          1488.8823758270275,
          1503.6784584674585,
          1507.5925561083723
         ],
         "yaxis": "y7"
        },
        {
         "marker": {
          "color": "white",
          "line": {
           "color": "black",
           "width": 1
          },
          "size": 10,
          "symbol": 0
         },
         "mode": "markers",
         "showlegend": false,
         "type": "scatter",
         "x": [
          553.1266271112935
         ],
         "xaxis": "x7",
         "y": [
          1503.6000000000258
         ],
         "yaxis": "y7"
        },
        {
         "marker": {
          "color": "white",
          "line": {
           "color": "black",
           "width": 1
          },
          "size": 10,
          "symbol": 2
         },
         "mode": "markers",
         "showlegend": false,
         "type": "scatter",
         "x": [
          634.5073629116724
         ],
         "xaxis": "x7",
         "y": [
          1503.2693131994488
         ],
         "yaxis": "y7"
        },
        {
         "marker": {
          "color": "white",
          "line": {
           "color": "black",
           "width": 1
          },
          "size": 10,
          "symbol": 7
         },
         "mode": "markers",
         "showlegend": false,
         "type": "scatter",
         "x": [
          553.1081652975545
         ],
         "xaxis": "x7",
         "y": [
          1503.801653972579
         ],
         "yaxis": "y7"
        },
        {
         "marker": {
          "color": "white",
          "line": {
           "color": "black",
           "width": 1
          },
          "size": 10,
          "symbol": 4
         },
         "mode": "markers",
         "showlegend": false,
         "type": "scatter",
         "x": [
          668.6231941490724
         ],
         "xaxis": "x7",
         "y": [
          1503.6760485649447
         ],
         "yaxis": "y7"
        },
        {
         "marker": {
          "color": "red",
          "line": {
           "color": "black",
           "width": 1
          },
          "size": 15,
          "symbol": 0
         },
         "mode": "markers",
         "name": "CO₂ Cap",
         "showlegend": true,
         "type": "scatter",
         "x": [
          551.778007903179,
          552.6467377857164,
          553.2262201957802,
          553.2323676045323
         ],
         "xaxis": "x8",
         "y": [
          1503.6000000000188,
          1503.5999999999892,
          1503.600000000007,
          1503.6000000000029
         ],
         "yaxis": "y8"
        },
        {
         "marker": {
          "color": "green",
          "line": {
           "color": "black",
           "width": 1
          },
          "size": 15,
          "symbol": 2
         },
         "mode": "markers",
         "name": "RES Min Quota",
         "showlegend": true,
         "type": "scatter",
         "x": [
          631.7701053234985,
          633.2897072435201,
          635.1217552418339,
          635.4668809170383
         ],
         "xaxis": "x8",
         "y": [
          1499.4748990079293,
          1503.7172106053483,
          1499.1391000591577,
          1496.2823562875851
         ],
         "yaxis": "y8"
        },
        {
         "marker": {
          "color": "yellow",
          "line": {
           "color": "black",
           "width": 1
          },
          "size": 15,
          "symbol": 7
         },
         "mode": "markers",
         "name": "CO₂ Tax",
         "showlegend": true,
         "type": "scatter",
         "x": [
          559.3683620517837,
          556.0930348282075,
          550.6500758685086,
          550.6500758685086
         ],
         "xaxis": "x8",
         "y": [
          1416.0710780995782,
          1463.8449871882356,
          1536.8034107575202,
          1536.8034107575206
         ],
         "yaxis": "y8"
        },
        {
         "marker": {
          "color": "blue",
          "line": {
           "color": "black",
           "width": 1
          },
          "size": 15,
          "symbol": 4
         },
         "mode": "markers",
         "name": "FIT",
         "showlegend": true,
         "type": "scatter",
         "x": [
          666.6298168860753,
          667.9384210568884,
          668.7594669702439,
          668.7601688800027
         ],
         "xaxis": "x8",
         "y": [
          1346.792084538043,
          1406.5648152026122,
          1548.334923074543,
          1548.156172711803
         ],
         "yaxis": "y8"
        },
        {
         "marker": {
          "color": "white",
          "line": {
           "color": "black",
           "width": 1
          },
          "size": 10,
          "symbol": 0
         },
         "mode": "markers",
         "showlegend": false,
         "type": "scatter",
         "x": [
          553.1266271112935
         ],
         "xaxis": "x8",
         "y": [
          1503.6000000000258
         ],
         "yaxis": "y8"
        },
        {
         "marker": {
          "color": "white",
          "line": {
           "color": "black",
           "width": 1
          },
          "size": 10,
          "symbol": 2
         },
         "mode": "markers",
         "showlegend": false,
         "type": "scatter",
         "x": [
          634.5073629116724
         ],
         "xaxis": "x8",
         "y": [
          1503.2693131994488
         ],
         "yaxis": "y8"
        },
        {
         "marker": {
          "color": "white",
          "line": {
           "color": "black",
           "width": 1
          },
          "size": 10,
          "symbol": 7
         },
         "mode": "markers",
         "showlegend": false,
         "type": "scatter",
         "x": [
          553.1081652975545
         ],
         "xaxis": "x8",
         "y": [
          1503.801653972579
         ],
         "yaxis": "y8"
        },
        {
         "marker": {
          "color": "white",
          "line": {
           "color": "black",
           "width": 1
          },
          "size": 10,
          "symbol": 4
         },
         "mode": "markers",
         "showlegend": false,
         "type": "scatter",
         "x": [
          668.6231941490724
         ],
         "xaxis": "x8",
         "y": [
          1503.6760485649447
         ],
         "yaxis": "y8"
        }
       ],
       "layout": {
        "annotations": [
         {
          "font": {
           "size": 16
          },
          "showarrow": false,
          "text": "Lignite Fuel Cost",
          "x": 0.14444444444444446,
          "xanchor": "center",
          "xref": "paper",
          "y": 1.0,
          "yanchor": "bottom",
          "yref": "paper"
         },
         {
          "font": {
           "size": 16
          },
          "showarrow": false,
          "text": "Gas Fuel Cost",
          "x": 0.5,
          "xanchor": "center",
          "xref": "paper",
          "y": 1.0,
          "yanchor": "bottom",
          "yref": "paper"
         },
         {
          "font": {
           "size": 16
          },
          "showarrow": false,
          "text": "Hardcoal Fuel Cost",
          "x": 0.8555555555555556,
          "xanchor": "center",
          "xref": "paper",
          "y": 1.0,
          "yanchor": "bottom",
          "yref": "paper"
         },
         {
          "font": {
           "size": 16
          },
          "showarrow": false,
          "text": "PV Investment Cost",
          "x": 0.14444444444444446,
          "xanchor": "center",
          "xref": "paper",
          "y": 0.6111111111111112,
          "yanchor": "bottom",
          "yref": "paper"
         },
         {
          "font": {
           "size": 16
          },
          "showarrow": false,
          "text": "Wind Onshore Investment Cost",
          "x": 0.5,
          "xanchor": "center",
          "xref": "paper",
          "y": 0.6111111111111112,
          "yanchor": "bottom",
          "yref": "paper"
         },
         {
          "font": {
           "size": 16
          },
          "showarrow": false,
          "text": "Wind Offshore Investment Cost",
          "x": 0.8555555555555556,
          "xanchor": "center",
          "xref": "paper",
          "y": 0.6111111111111112,
          "yanchor": "bottom",
          "yref": "paper"
         },
         {
          "font": {
           "size": 16
          },
          "showarrow": false,
          "text": "Li-Ion Investment Cost",
          "x": 0.14444444444444446,
          "xanchor": "center",
          "xref": "paper",
          "y": 0.22222222222222224,
          "yanchor": "bottom",
          "yref": "paper"
         },
         {
          "font": {
           "size": 16
          },
          "showarrow": false,
          "text": "PSH Investment Cost",
          "x": 0.5,
          "xanchor": "center",
          "xref": "paper",
          "y": 0.22222222222222224,
          "yanchor": "bottom",
          "yref": "paper"
         }
        ],
        "height": 700,
        "showlegend": true,
        "template": {
         "data": {
          "bar": [
           {
            "error_x": {
             "color": "#2a3f5f"
            },
            "error_y": {
             "color": "#2a3f5f"
            },
            "marker": {
             "line": {
              "color": "#E5ECF6",
              "width": 0.5
             }
            },
            "type": "bar"
           }
          ],
          "barpolar": [
           {
            "marker": {
             "line": {
              "color": "#E5ECF6",
              "width": 0.5
             }
            },
            "type": "barpolar"
           }
          ],
          "carpet": [
           {
            "aaxis": {
             "endlinecolor": "#2a3f5f",
             "gridcolor": "white",
             "linecolor": "white",
             "minorgridcolor": "white",
             "startlinecolor": "#2a3f5f"
            },
            "baxis": {
             "endlinecolor": "#2a3f5f",
             "gridcolor": "white",
             "linecolor": "white",
             "minorgridcolor": "white",
             "startlinecolor": "#2a3f5f"
            },
            "type": "carpet"
           }
          ],
          "choropleth": [
           {
            "colorbar": {
             "outlinewidth": 0,
             "ticks": ""
            },
            "type": "choropleth"
           }
          ],
          "contour": [
           {
            "colorbar": {
             "outlinewidth": 0,
             "ticks": ""
            },
            "colorscale": [
             [
              0.0,
              "#0d0887"
             ],
             [
              0.1111111111111111,
              "#46039f"
             ],
             [
              0.2222222222222222,
              "#7201a8"
             ],
             [
              0.3333333333333333,
              "#9c179e"
             ],
             [
              0.4444444444444444,
              "#bd3786"
             ],
             [
              0.5555555555555556,
              "#d8576b"
             ],
             [
              0.6666666666666666,
              "#ed7953"
             ],
             [
              0.7777777777777778,
              "#fb9f3a"
             ],
             [
              0.8888888888888888,
              "#fdca26"
             ],
             [
              1.0,
              "#f0f921"
             ]
            ],
            "type": "contour"
           }
          ],
          "contourcarpet": [
           {
            "colorbar": {
             "outlinewidth": 0,
             "ticks": ""
            },
            "type": "contourcarpet"
           }
          ],
          "heatmap": [
           {
            "colorbar": {
             "outlinewidth": 0,
             "ticks": ""
            },
            "colorscale": [
             [
              0.0,
              "#0d0887"
             ],
             [
              0.1111111111111111,
              "#46039f"
             ],
             [
              0.2222222222222222,
              "#7201a8"
             ],
             [
              0.3333333333333333,
              "#9c179e"
             ],
             [
              0.4444444444444444,
              "#bd3786"
             ],
             [
              0.5555555555555556,
              "#d8576b"
             ],
             [
              0.6666666666666666,
              "#ed7953"
             ],
             [
              0.7777777777777778,
              "#fb9f3a"
             ],
             [
              0.8888888888888888,
              "#fdca26"
             ],
             [
              1.0,
              "#f0f921"
             ]
            ],
            "type": "heatmap"
           }
          ],
          "heatmapgl": [
           {
            "colorbar": {
             "outlinewidth": 0,
             "ticks": ""
            },
            "colorscale": [
             [
              0.0,
              "#0d0887"
             ],
             [
              0.1111111111111111,
              "#46039f"
             ],
             [
              0.2222222222222222,
              "#7201a8"
             ],
             [
              0.3333333333333333,
              "#9c179e"
             ],
             [
              0.4444444444444444,
              "#bd3786"
             ],
             [
              0.5555555555555556,
              "#d8576b"
             ],
             [
              0.6666666666666666,
              "#ed7953"
             ],
             [
              0.7777777777777778,
              "#fb9f3a"
             ],
             [
              0.8888888888888888,
              "#fdca26"
             ],
             [
              1.0,
              "#f0f921"
             ]
            ],
            "type": "heatmapgl"
           }
          ],
          "histogram": [
           {
            "marker": {
             "colorbar": {
              "outlinewidth": 0,
              "ticks": ""
             }
            },
            "type": "histogram"
           }
          ],
          "histogram2d": [
           {
            "colorbar": {
             "outlinewidth": 0,
             "ticks": ""
            },
            "colorscale": [
             [
              0.0,
              "#0d0887"
             ],
             [
              0.1111111111111111,
              "#46039f"
             ],
             [
              0.2222222222222222,
              "#7201a8"
             ],
             [
              0.3333333333333333,
              "#9c179e"
             ],
             [
              0.4444444444444444,
              "#bd3786"
             ],
             [
              0.5555555555555556,
              "#d8576b"
             ],
             [
              0.6666666666666666,
              "#ed7953"
             ],
             [
              0.7777777777777778,
              "#fb9f3a"
             ],
             [
              0.8888888888888888,
              "#fdca26"
             ],
             [
              1.0,
              "#f0f921"
             ]
            ],
            "type": "histogram2d"
           }
          ],
          "histogram2dcontour": [
           {
            "colorbar": {
             "outlinewidth": 0,
             "ticks": ""
            },
            "colorscale": [
             [
              0.0,
              "#0d0887"
             ],
             [
              0.1111111111111111,
              "#46039f"
             ],
             [
              0.2222222222222222,
              "#7201a8"
             ],
             [
              0.3333333333333333,
              "#9c179e"
             ],
             [
              0.4444444444444444,
              "#bd3786"
             ],
             [
              0.5555555555555556,
              "#d8576b"
             ],
             [
              0.6666666666666666,
              "#ed7953"
             ],
             [
              0.7777777777777778,
              "#fb9f3a"
             ],
             [
              0.8888888888888888,
              "#fdca26"
             ],
             [
              1.0,
              "#f0f921"
             ]
            ],
            "type": "histogram2dcontour"
           }
          ],
          "mesh3d": [
           {
            "colorbar": {
             "outlinewidth": 0,
             "ticks": ""
            },
            "type": "mesh3d"
           }
          ],
          "parcoords": [
           {
            "line": {
             "colorbar": {
              "outlinewidth": 0,
              "ticks": ""
             }
            },
            "type": "parcoords"
           }
          ],
          "pie": [
           {
            "automargin": true,
            "type": "pie"
           }
          ],
          "scatter": [
           {
            "marker": {
             "colorbar": {
              "outlinewidth": 0,
              "ticks": ""
             }
            },
            "type": "scatter"
           }
          ],
          "scatter3d": [
           {
            "line": {
             "colorbar": {
              "outlinewidth": 0,
              "ticks": ""
             }
            },
            "marker": {
             "colorbar": {
              "outlinewidth": 0,
              "ticks": ""
             }
            },
            "type": "scatter3d"
           }
          ],
          "scattercarpet": [
           {
            "marker": {
             "colorbar": {
              "outlinewidth": 0,
              "ticks": ""
             }
            },
            "type": "scattercarpet"
           }
          ],
          "scattergeo": [
           {
            "marker": {
             "colorbar": {
              "outlinewidth": 0,
              "ticks": ""
             }
            },
            "type": "scattergeo"
           }
          ],
          "scattergl": [
           {
            "marker": {
             "colorbar": {
              "outlinewidth": 0,
              "ticks": ""
             }
            },
            "type": "scattergl"
           }
          ],
          "scattermapbox": [
           {
            "marker": {
             "colorbar": {
              "outlinewidth": 0,
              "ticks": ""
             }
            },
            "type": "scattermapbox"
           }
          ],
          "scatterpolar": [
           {
            "marker": {
             "colorbar": {
              "outlinewidth": 0,
              "ticks": ""
             }
            },
            "type": "scatterpolar"
           }
          ],
          "scatterpolargl": [
           {
            "marker": {
             "colorbar": {
              "outlinewidth": 0,
              "ticks": ""
             }
            },
            "type": "scatterpolargl"
           }
          ],
          "scatterternary": [
           {
            "marker": {
             "colorbar": {
              "outlinewidth": 0,
              "ticks": ""
             }
            },
            "type": "scatterternary"
           }
          ],
          "surface": [
           {
            "colorbar": {
             "outlinewidth": 0,
             "ticks": ""
            },
            "colorscale": [
             [
              0.0,
              "#0d0887"
             ],
             [
              0.1111111111111111,
              "#46039f"
             ],
             [
              0.2222222222222222,
              "#7201a8"
             ],
             [
              0.3333333333333333,
              "#9c179e"
             ],
             [
              0.4444444444444444,
              "#bd3786"
             ],
             [
              0.5555555555555556,
              "#d8576b"
             ],
             [
              0.6666666666666666,
              "#ed7953"
             ],
             [
              0.7777777777777778,
              "#fb9f3a"
             ],
             [
              0.8888888888888888,
              "#fdca26"
             ],
             [
              1.0,
              "#f0f921"
             ]
            ],
            "type": "surface"
           }
          ],
          "table": [
           {
            "cells": {
             "fill": {
              "color": "#EBF0F8"
             },
             "line": {
              "color": "white"
             }
            },
            "header": {
             "fill": {
              "color": "#C8D4E3"
             },
             "line": {
              "color": "white"
             }
            },
            "type": "table"
           }
          ]
         },
         "layout": {
          "annotationdefaults": {
           "arrowcolor": "#2a3f5f",
           "arrowhead": 0,
           "arrowwidth": 1
          },
          "coloraxis": {
           "colorbar": {
            "outlinewidth": 0,
            "ticks": ""
           }
          },
          "colorscale": {
           "diverging": [
            [
             0,
             "#8e0152"
            ],
            [
             0.1,
             "#c51b7d"
            ],
            [
             0.2,
             "#de77ae"
            ],
            [
             0.3,
             "#f1b6da"
            ],
            [
             0.4,
             "#fde0ef"
            ],
            [
             0.5,
             "#f7f7f7"
            ],
            [
             0.6,
             "#e6f5d0"
            ],
            [
             0.7,
             "#b8e186"
            ],
            [
             0.8,
             "#7fbc41"
            ],
            [
             0.9,
             "#4d9221"
            ],
            [
             1,
             "#276419"
            ]
           ],
           "sequential": [
            [
             0.0,
             "#0d0887"
            ],
            [
             0.1111111111111111,
             "#46039f"
            ],
            [
             0.2222222222222222,
             "#7201a8"
            ],
            [
             0.3333333333333333,
             "#9c179e"
            ],
            [
             0.4444444444444444,
             "#bd3786"
            ],
            [
             0.5555555555555556,
             "#d8576b"
            ],
            [
             0.6666666666666666,
             "#ed7953"
            ],
            [
             0.7777777777777778,
             "#fb9f3a"
            ],
            [
             0.8888888888888888,
             "#fdca26"
            ],
            [
             1.0,
             "#f0f921"
            ]
           ],
           "sequentialminus": [
            [
             0.0,
             "#0d0887"
            ],
            [
             0.1111111111111111,
             "#46039f"
            ],
            [
             0.2222222222222222,
             "#7201a8"
            ],
            [
             0.3333333333333333,
             "#9c179e"
            ],
            [
             0.4444444444444444,
             "#bd3786"
            ],
            [
             0.5555555555555556,
             "#d8576b"
            ],
            [
             0.6666666666666666,
             "#ed7953"
            ],
            [
             0.7777777777777778,
             "#fb9f3a"
            ],
            [
             0.8888888888888888,
             "#fdca26"
            ],
            [
             1.0,
             "#f0f921"
            ]
           ]
          },
          "colorway": [
           "#636efa",
           "#EF553B",
           "#00cc96",
           "#ab63fa",
           "#FFA15A",
           "#19d3f3",
           "#FF6692",
           "#B6E880",
           "#FF97FF",
           "#FECB52"
          ],
          "font": {
           "color": "#2a3f5f"
          },
          "geo": {
           "bgcolor": "white",
           "lakecolor": "white",
           "landcolor": "#E5ECF6",
           "showlakes": true,
           "showland": true,
           "subunitcolor": "white"
          },
          "hoverlabel": {
           "align": "left"
          },
          "hovermode": "closest",
          "mapbox": {
           "style": "light"
          },
          "paper_bgcolor": "white",
          "plot_bgcolor": "#E5ECF6",
          "polar": {
           "angularaxis": {
            "gridcolor": "white",
            "linecolor": "white",
            "ticks": ""
           },
           "bgcolor": "#E5ECF6",
           "radialaxis": {
            "gridcolor": "white",
            "linecolor": "white",
            "ticks": ""
           }
          },
          "scene": {
           "xaxis": {
            "backgroundcolor": "#E5ECF6",
            "gridcolor": "white",
            "gridwidth": 2,
            "linecolor": "white",
            "showbackground": true,
            "ticks": "",
            "zerolinecolor": "white"
           },
           "yaxis": {
            "backgroundcolor": "#E5ECF6",
            "gridcolor": "white",
            "gridwidth": 2,
            "linecolor": "white",
            "showbackground": true,
            "ticks": "",
            "zerolinecolor": "white"
           },
           "zaxis": {
            "backgroundcolor": "#E5ECF6",
            "gridcolor": "white",
            "gridwidth": 2,
            "linecolor": "white",
            "showbackground": true,
            "ticks": "",
            "zerolinecolor": "white"
           }
          },
          "shapedefaults": {
           "line": {
            "color": "#2a3f5f"
           }
          },
          "ternary": {
           "aaxis": {
            "gridcolor": "white",
            "linecolor": "white",
            "ticks": ""
           },
           "baxis": {
            "gridcolor": "white",
            "linecolor": "white",
            "ticks": ""
           },
           "bgcolor": "#E5ECF6",
           "caxis": {
            "gridcolor": "white",
            "linecolor": "white",
            "ticks": ""
           }
          },
          "title": {
           "x": 0.05
          },
          "xaxis": {
           "automargin": true,
           "gridcolor": "white",
           "linecolor": "white",
           "ticks": "",
           "title": {
            "standoff": 15
           },
           "zerolinecolor": "white",
           "zerolinewidth": 2
          },
          "yaxis": {
           "automargin": true,
           "gridcolor": "white",
           "linecolor": "white",
           "ticks": "",
           "title": {
            "standoff": 15
           },
           "zerolinecolor": "white",
           "zerolinewidth": 2
          }
         }
        },
        "width": 1000,
        "xaxis": {
         "anchor": "y",
         "domain": [
          0.0,
          0.2888888888888889
         ],
         "range": [
          450,
          750
         ],
         "title": {
          "text": ""
         }
        },
        "xaxis2": {
         "anchor": "y2",
         "domain": [
          0.35555555555555557,
          0.6444444444444445
         ],
         "range": [
          450,
          750
         ],
         "title": {
          "text": ""
         }
        },
        "xaxis3": {
         "anchor": "y3",
         "domain": [
          0.7111111111111111,
          1.0
         ],
         "range": [
          450,
          750
         ],
         "title": {
          "text": ""
         }
        },
        "xaxis4": {
         "anchor": "y4",
         "domain": [
          0.0,
          0.2888888888888889
         ],
         "range": [
          450,
          750
         ],
         "title": {
          "text": ""
         }
        },
        "xaxis5": {
         "anchor": "y5",
         "domain": [
          0.35555555555555557,
          0.6444444444444445
         ],
         "range": [
          450,
          750
         ],
         "title": {
          "text": ""
         }
        },
        "xaxis6": {
         "anchor": "y6",
         "domain": [
          0.7111111111111111,
          1.0
         ],
         "range": [
          450,
          750
         ],
         "title": {
          "text": ""
         }
        },
        "xaxis7": {
         "anchor": "y7",
         "domain": [
          0.0,
          0.2888888888888889
         ],
         "range": [
          450,
          750
         ],
         "title": {
          "text": ""
         }
        },
        "xaxis8": {
         "anchor": "y8",
         "domain": [
          0.35555555555555557,
          0.6444444444444445
         ],
         "range": [
          450,
          750
         ],
         "title": {
          "text": "Total System Cost (in bn €)"
         }
        },
        "xaxis9": {
         "anchor": "y9",
         "domain": [
          0.7111111111111111,
          1.0
         ],
         "range": [
          450,
          750
         ]
        },
        "yaxis": {
         "anchor": "x",
         "domain": [
          0.7777777777777778,
          1.0
         ],
         "range": [
          1100,
          1900
         ],
         "title": {
          "text": ""
         }
        },
        "yaxis2": {
         "anchor": "x2",
         "domain": [
          0.7777777777777778,
          1.0
         ],
         "range": [
          1100,
          1900
         ],
         "title": {
          "text": ""
         }
        },
        "yaxis3": {
         "anchor": "x3",
         "domain": [
          0.7777777777777778,
          1.0
         ],
         "range": [
          1100,
          1900
         ],
         "title": {
          "text": ""
         }
        },
        "yaxis4": {
         "anchor": "x4",
         "domain": [
          0.3888888888888889,
          0.6111111111111112
         ],
         "range": [
          1100,
          1900
         ],
         "title": {
          "text": "Total CO₂ Emissions (in mio t)"
         }
        },
        "yaxis5": {
         "anchor": "x5",
         "domain": [
          0.3888888888888889,
          0.6111111111111112
         ],
         "range": [
          1100,
          1900
         ],
         "title": {
          "text": ""
         }
        },
        "yaxis6": {
         "anchor": "x6",
         "domain": [
          0.3888888888888889,
          0.6111111111111112
         ],
         "range": [
          1100,
          1900
         ],
         "title": {
          "text": ""
         }
        },
        "yaxis7": {
         "anchor": "x7",
         "domain": [
          0.0,
          0.22222222222222224
         ],
         "range": [
          1100,
          1900
         ],
         "title": {
          "text": ""
         }
        },
        "yaxis8": {
         "anchor": "x8",
         "domain": [
          0.0,
          0.22222222222222224
         ],
         "range": [
          1100,
          1900
         ],
         "title": {
          "text": ""
         }
        },
        "yaxis9": {
         "anchor": "x9",
         "domain": [
          0.0,
          0.22222222222222224
         ],
         "range": [
          1100,
          1900
         ]
        }
       }
      },
      "text/html": "<div>\n        \n        \n            <div id=\"7f125dc4-fee4-4fbb-b15b-f612bb1ae829\" class=\"plotly-graph-div\" style=\"height:700px; width:1000px;\"></div>\n            <script type=\"text/javascript\">\n                require([\"plotly\"], function(Plotly) {\n                    window.PLOTLYENV=window.PLOTLYENV || {};\n                    \n                if (document.getElementById(\"7f125dc4-fee4-4fbb-b15b-f612bb1ae829\")) {\n                    Plotly.newPlot(\n                        '7f125dc4-fee4-4fbb-b15b-f612bb1ae829',\n                        [{\"marker\": {\"color\": \"red\", \"line\": {\"color\": \"black\", \"width\": 1}, \"size\": 15, \"symbol\": 0}, \"mode\": \"markers\", \"showlegend\": false, \"type\": \"scatter\", \"x\": [553.1266271112929, 553.1266271112933, 553.1266271112935, 553.1266271112934], \"xaxis\": \"x\", \"y\": [1503.6000000000251, 1503.6000000000251, 1503.6000000000265, 1503.6000000000263], \"yaxis\": \"y\"}, {\"marker\": {\"color\": \"green\", \"line\": {\"color\": \"black\", \"width\": 1}, \"size\": 15, \"symbol\": 2}, \"mode\": \"markers\", \"showlegend\": false, \"type\": \"scatter\", \"x\": [632.7787933973613, 633.643492401635, 635.3702457338186, 636.2272934424533], \"xaxis\": \"x\", \"y\": [1504.557987673836, 1503.7161124474305, 1500.8511119586074, 1494.9076944995368], \"yaxis\": \"y\"}, {\"marker\": {\"color\": \"yellow\", \"line\": {\"color\": \"black\", \"width\": 1}, \"size\": 15, \"symbol\": 7}, \"mode\": \"markers\", \"showlegend\": false, \"type\": \"scatter\", \"x\": [553.1081652975546, 553.1081652975545, 553.1081652975546, 553.1081652975546], \"xaxis\": \"x\", \"y\": [1503.801653972579, 1503.8016539725809, 1503.8016539725804, 1503.8016539725795], \"yaxis\": \"y\"}, {\"marker\": {\"color\": \"blue\", \"line\": {\"color\": \"black\", \"width\": 1}, \"size\": 15, \"symbol\": 4}, \"mode\": \"markers\", \"showlegend\": false, \"type\": \"scatter\", \"x\": [666.9214867699912, 667.776594895491, 669.457821139106, 670.2724339973812], \"xaxis\": \"x\", \"y\": [1526.0115906720816, 1517.9321486232348, 1483.893265441994, 1468.0995185073084], \"yaxis\": \"y\"}, {\"marker\": {\"color\": \"white\", \"line\": {\"color\": \"black\", \"width\": 1}, \"size\": 10, \"symbol\": 0}, \"mode\": \"markers\", \"showlegend\": false, \"type\": \"scatter\", \"x\": [553.1266271112935], \"xaxis\": \"x\", \"y\": [1503.6000000000258], \"yaxis\": \"y\"}, {\"marker\": {\"color\": \"white\", \"line\": {\"color\": \"black\", \"width\": 1}, \"size\": 10, \"symbol\": 2}, \"mode\": \"markers\", \"showlegend\": false, \"type\": \"scatter\", \"x\": [634.5073629116724], \"xaxis\": \"x\", \"y\": [1503.2693131994488], \"yaxis\": \"y\"}, {\"marker\": {\"color\": \"white\", \"line\": {\"color\": \"black\", \"width\": 1}, \"size\": 10, \"symbol\": 7}, \"mode\": \"markers\", \"showlegend\": false, \"type\": \"scatter\", \"x\": [553.1081652975545], \"xaxis\": \"x\", \"y\": [1503.801653972579], \"yaxis\": \"y\"}, {\"marker\": {\"color\": \"white\", \"line\": {\"color\": \"black\", \"width\": 1}, \"size\": 10, \"symbol\": 4}, \"mode\": \"markers\", \"showlegend\": false, \"type\": \"scatter\", \"x\": [668.6231941490724], \"xaxis\": \"x\", \"y\": [1503.6760485649447], \"yaxis\": \"y\"}, {\"marker\": {\"color\": \"red\", \"line\": {\"color\": \"black\", \"width\": 1}, \"size\": 15, \"symbol\": 0}, \"mode\": \"markers\", \"showlegend\": false, \"type\": \"scatter\", \"x\": [526.5293297255688, 539.8279784190082, 566.4252758041453, 579.7239244970095], \"xaxis\": \"x2\", \"y\": [1503.6000000000251, 1503.6000000000251, 1503.6000000000265, 1503.6000000000263], \"yaxis\": \"y2\"}, {\"marker\": {\"color\": \"green\", \"line\": {\"color\": \"black\", \"width\": 1}, \"size\": 15, \"symbol\": 2}, \"mode\": \"markers\", \"showlegend\": false, \"type\": \"scatter\", \"x\": [631.7884782734966, 633.2456158105357, 635.6135484904446, 636.6730653776041], \"xaxis\": \"x2\", \"y\": [1480.4402399099138, 1486.5013273637492, 1506.6993644595618, 1509.399223060313], \"yaxis\": \"y2\"}, {\"marker\": {\"color\": \"yellow\", \"line\": {\"color\": \"black\", \"width\": 1}, \"size\": 15, \"symbol\": 7}, \"mode\": \"markers\", \"showlegend\": false, \"type\": \"scatter\", \"x\": [499.56641468636155, 526.7888204303384, 579.6493267304301, 598.8926214386688], \"xaxis\": \"x2\", \"y\": [1806.3633435617776, 1651.3080171855752, 1344.9837668817665, 1255.5055596014556], \"yaxis\": \"y2\"}, {\"marker\": {\"color\": \"blue\", \"line\": {\"color\": \"black\", \"width\": 1}, \"size\": 15, \"symbol\": 4}, \"mode\": \"markers\", \"showlegend\": false, \"type\": \"scatter\", \"x\": [664.9387729510082, 666.9752937371659, 669.9880216533309, 671.1401811682015], \"xaxis\": \"x2\", \"y\": [1440.0382142315934, 1482.9202612724303, 1521.0415608353153, 1551.0557215161055], \"yaxis\": \"y2\"}, {\"marker\": {\"color\": \"white\", \"line\": {\"color\": \"black\", \"width\": 1}, \"size\": 10, \"symbol\": 0}, \"mode\": \"markers\", \"showlegend\": false, \"type\": \"scatter\", \"x\": [553.1266271112935], \"xaxis\": \"x2\", \"y\": [1503.6000000000258], \"yaxis\": \"y2\"}, {\"marker\": {\"color\": \"white\", \"line\": {\"color\": \"black\", \"width\": 1}, \"size\": 10, \"symbol\": 2}, \"mode\": \"markers\", \"showlegend\": false, \"type\": \"scatter\", \"x\": [634.5073629116724], \"xaxis\": \"x2\", \"y\": [1503.2693131994488], \"yaxis\": \"y2\"}, {\"marker\": {\"color\": \"white\", \"line\": {\"color\": \"black\", \"width\": 1}, \"size\": 10, \"symbol\": 7}, \"mode\": \"markers\", \"showlegend\": false, \"type\": \"scatter\", \"x\": [553.1081652975545], \"xaxis\": \"x2\", \"y\": [1503.801653972579], \"yaxis\": \"y2\"}, {\"marker\": {\"color\": \"white\", \"line\": {\"color\": \"black\", \"width\": 1}, \"size\": 10, \"symbol\": 4}, \"mode\": \"markers\", \"showlegend\": false, \"type\": \"scatter\", \"x\": [668.6231941490724], \"xaxis\": \"x2\", \"y\": [1503.6760485649447], \"yaxis\": \"y2\"}, {\"marker\": {\"color\": \"red\", \"line\": {\"color\": \"black\", \"width\": 1}, \"size\": 15, \"symbol\": 0}, \"mode\": \"markers\", \"showlegend\": false, \"type\": \"scatter\", \"x\": [553.126627111293, 553.1266271112931, 553.1266271112933, 553.1266271112934], \"xaxis\": \"x3\", \"y\": [1503.600000000024, 1503.6000000000242, 1503.6000000000265, 1503.6000000000265], \"yaxis\": \"y3\"}, {\"marker\": {\"color\": \"green\", \"line\": {\"color\": \"black\", \"width\": 1}, \"size\": 15, \"symbol\": 2}, \"mode\": \"markers\", \"showlegend\": false, \"type\": \"scatter\", \"x\": [634.4235445736465, 634.507362911671, 634.5073629116486, 634.5073629116464], \"xaxis\": \"x3\", \"y\": [1495.8168127965505, 1503.2666779648625, 1503.2754253373519, 1503.2717838426718], \"yaxis\": \"y3\"}, {\"marker\": {\"color\": \"yellow\", \"line\": {\"color\": \"black\", \"width\": 1}, \"size\": 15, \"symbol\": 7}, \"mode\": \"markers\", \"showlegend\": false, \"type\": \"scatter\", \"x\": [553.1081652975545, 553.1081652975545, 553.1081652975545, 553.1081652975547], \"xaxis\": \"x3\", \"y\": [1503.8016539725804, 1503.8016539725807, 1503.8016539725804, 1503.8016539725795], \"yaxis\": \"y3\"}, {\"marker\": {\"color\": \"blue\", \"line\": {\"color\": \"black\", \"width\": 1}, \"size\": 15, \"symbol\": 4}, \"mode\": \"markers\", \"showlegend\": false, \"type\": \"scatter\", \"x\": [668.3277381107644, 668.5844322792195, 668.6231940402533, 668.6231939398816], \"xaxis\": \"x3\", \"y\": [1514.0325659485193, 1508.7739679576441, 1503.6760133773234, 1503.6759982112908], \"yaxis\": \"y3\"}, {\"marker\": {\"color\": \"white\", \"line\": {\"color\": \"black\", \"width\": 1}, \"size\": 10, \"symbol\": 0}, \"mode\": \"markers\", \"showlegend\": false, \"type\": \"scatter\", \"x\": [553.1266271112935], \"xaxis\": \"x3\", \"y\": [1503.6000000000258], \"yaxis\": \"y3\"}, {\"marker\": {\"color\": \"white\", \"line\": {\"color\": \"black\", \"width\": 1}, \"size\": 10, \"symbol\": 2}, \"mode\": \"markers\", \"showlegend\": false, \"type\": \"scatter\", \"x\": [634.5073629116724], \"xaxis\": \"x3\", \"y\": [1503.2693131994488], \"yaxis\": \"y3\"}, {\"marker\": {\"color\": \"white\", \"line\": {\"color\": \"black\", \"width\": 1}, \"size\": 10, \"symbol\": 7}, \"mode\": \"markers\", \"showlegend\": false, \"type\": \"scatter\", \"x\": [553.1081652975545], \"xaxis\": \"x3\", \"y\": [1503.801653972579], \"yaxis\": \"y3\"}, {\"marker\": {\"color\": \"white\", \"line\": {\"color\": \"black\", \"width\": 1}, \"size\": 10, \"symbol\": 4}, \"mode\": \"markers\", \"showlegend\": false, \"type\": \"scatter\", \"x\": [668.6231941490724], \"xaxis\": \"x3\", \"y\": [1503.6760485649447], \"yaxis\": \"y3\"}, {\"marker\": {\"color\": \"red\", \"line\": {\"color\": \"black\", \"width\": 1}, \"size\": 15, \"symbol\": 0}, \"mode\": \"markers\", \"showlegend\": false, \"type\": \"scatter\", \"x\": [543.3526375160038, 549.1930617593407, 554.748172469783, 554.9551074257157], \"xaxis\": \"x4\", \"y\": [1503.6000000000108, 1503.6000000000042, 1503.5999999999976, 1503.5999999999992], \"yaxis\": \"y4\"}, {\"marker\": {\"color\": \"green\", \"line\": {\"color\": \"black\", \"width\": 1}, \"size\": 15, \"symbol\": 2}, \"mode\": \"markers\", \"showlegend\": false, \"type\": \"scatter\", \"x\": [621.230072478402, 628.4631499843746, 638.6611773140654, 641.1193703806749], \"xaxis\": \"x4\", \"y\": [1485.4406426177497, 1489.025945013304, 1503.5839743943638, 1506.6332287464913], \"yaxis\": \"y4\"}, {\"marker\": {\"color\": \"yellow\", \"line\": {\"color\": \"black\", \"width\": 1}, \"size\": 15, \"symbol\": 7}, \"mode\": \"markers\", \"showlegend\": false, \"type\": \"scatter\", \"x\": [558.8398564662577, 558.962879808985, 545.9564690380251, 545.1653063764985], \"xaxis\": \"x4\", \"y\": [1310.7868062900495, 1388.1933164039292, 1611.242933505131, 1625.2667498496337], \"yaxis\": \"y4\"}, {\"marker\": {\"color\": \"blue\", \"line\": {\"color\": \"black\", \"width\": 1}, \"size\": 15, \"symbol\": 4}, \"mode\": \"markers\", \"showlegend\": false, \"type\": \"scatter\", \"x\": [656.9471130021547, 662.7851535756134, 674.4612347225311, 680.2992752959898], \"xaxis\": \"x4\", \"y\": [1503.6760485649447, 1503.6760485649447, 1503.6760485649447, 1503.6760485649447], \"yaxis\": \"y4\"}, {\"marker\": {\"color\": \"white\", \"line\": {\"color\": \"black\", \"width\": 1}, \"size\": 10, \"symbol\": 0}, \"mode\": \"markers\", \"showlegend\": false, \"type\": \"scatter\", \"x\": [553.1266271112935], \"xaxis\": \"x4\", \"y\": [1503.6000000000258], \"yaxis\": \"y4\"}, {\"marker\": {\"color\": \"white\", \"line\": {\"color\": \"black\", \"width\": 1}, \"size\": 10, \"symbol\": 2}, \"mode\": \"markers\", \"showlegend\": false, \"type\": \"scatter\", \"x\": [634.5073629116724], \"xaxis\": \"x4\", \"y\": [1503.2693131994488], \"yaxis\": \"y4\"}, {\"marker\": {\"color\": \"white\", \"line\": {\"color\": \"black\", \"width\": 1}, \"size\": 10, \"symbol\": 7}, \"mode\": \"markers\", \"showlegend\": false, \"type\": \"scatter\", \"x\": [553.1081652975545], \"xaxis\": \"x4\", \"y\": [1503.801653972579], \"yaxis\": \"y4\"}, {\"marker\": {\"color\": \"white\", \"line\": {\"color\": \"black\", \"width\": 1}, \"size\": 10, \"symbol\": 4}, \"mode\": \"markers\", \"showlegend\": false, \"type\": \"scatter\", \"x\": [668.6231941490724], \"xaxis\": \"x4\", \"y\": [1503.6760485649447], \"yaxis\": \"y4\"}, {\"marker\": {\"color\": \"red\", \"line\": {\"color\": \"black\", \"width\": 1}, \"size\": 15, \"symbol\": 0}, \"mode\": \"markers\", \"showlegend\": false, \"type\": \"scatter\", \"x\": [532.1605032228498, 543.6740445891883, 556.8719636191157, 557.6771187140765], \"xaxis\": \"x5\", \"y\": [1503.6000000000042, 1503.5999999999997, 1503.5999999999992, 1503.6000000000017], \"yaxis\": \"y5\"}, {\"marker\": {\"color\": \"green\", \"line\": {\"color\": \"black\", \"width\": 1}, \"size\": 15, \"symbol\": 2}, \"mode\": \"markers\", \"showlegend\": false, \"type\": \"scatter\", \"x\": [610.0482715517451, 624.7065348058808, 637.7600348023955, 638.8765911440548], \"xaxis\": \"x5\", \"y\": [1483.8869327781256, 1485.0224454860768, 1505.229214879801, 1506.0608902025454], \"yaxis\": \"y5\"}, {\"marker\": {\"color\": \"yellow\", \"line\": {\"color\": \"black\", \"width\": 1}, \"size\": 15, \"symbol\": 7}, \"mode\": \"markers\", \"showlegend\": false, \"type\": \"scatter\", \"x\": [542.6037445185249, 550.3057921839822, 558.9431628998851, 559.8899567950596], \"xaxis\": \"x5\", \"y\": [1384.0228643365867, 1435.4534616780047, 1482.808551865554, 1480.7623127992408], \"yaxis\": \"y5\"}, {\"marker\": {\"color\": \"blue\", \"line\": {\"color\": \"black\", \"width\": 1}, \"size\": 15, \"symbol\": 4}, \"mode\": \"markers\", \"showlegend\": false, \"type\": \"scatter\", \"x\": [656.6590017468011, 662.6410979479368, 674.6052903502078, 680.5873865513432], \"xaxis\": \"x5\", \"y\": [1503.6760485649447, 1503.6760485649447, 1503.6760485649447, 1503.6760485649447], \"yaxis\": \"y5\"}, {\"marker\": {\"color\": \"white\", \"line\": {\"color\": \"black\", \"width\": 1}, \"size\": 10, \"symbol\": 0}, \"mode\": \"markers\", \"showlegend\": false, \"type\": \"scatter\", \"x\": [553.1266271112935], \"xaxis\": \"x5\", \"y\": [1503.6000000000258], \"yaxis\": \"y5\"}, {\"marker\": {\"color\": \"white\", \"line\": {\"color\": \"black\", \"width\": 1}, \"size\": 10, \"symbol\": 2}, \"mode\": \"markers\", \"showlegend\": false, \"type\": \"scatter\", \"x\": [634.5073629116724], \"xaxis\": \"x5\", \"y\": [1503.2693131994488], \"yaxis\": \"y5\"}, {\"marker\": {\"color\": \"white\", \"line\": {\"color\": \"black\", \"width\": 1}, \"size\": 10, \"symbol\": 7}, \"mode\": \"markers\", \"showlegend\": false, \"type\": \"scatter\", \"x\": [553.1081652975545], \"xaxis\": \"x5\", \"y\": [1503.801653972579], \"yaxis\": \"y5\"}, {\"marker\": {\"color\": \"white\", \"line\": {\"color\": \"black\", \"width\": 1}, \"size\": 10, \"symbol\": 4}, \"mode\": \"markers\", \"showlegend\": false, \"type\": \"scatter\", \"x\": [668.6231941490724], \"xaxis\": \"x5\", \"y\": [1503.6760485649447], \"yaxis\": \"y5\"}, {\"marker\": {\"color\": \"red\", \"line\": {\"color\": \"black\", \"width\": 1}, \"size\": 15, \"symbol\": 0}, \"mode\": \"markers\", \"showlegend\": false, \"type\": \"scatter\", \"x\": [531.7076858953939, 544.7336221535802, 553.7391756862779, 553.7391756862779], \"xaxis\": \"x6\", \"y\": [1503.5999999999988, 1503.6000000000015, 1503.5999999999924, 1503.5999999999924], \"yaxis\": \"y6\"}, {\"marker\": {\"color\": \"green\", \"line\": {\"color\": \"black\", \"width\": 1}, \"size\": 15, \"symbol\": 2}, \"mode\": \"markers\", \"showlegend\": false, \"type\": \"scatter\", \"x\": [605.264136771886, 622.0387167209441, 638.5915038543739, 638.7203051068951], \"xaxis\": \"x6\", \"y\": [1503.007353720442, 1505.5185937525969, 1480.9113771291793, 1478.8110260693136], \"yaxis\": \"y6\"}, {\"marker\": {\"color\": \"yellow\", \"line\": {\"color\": \"black\", \"width\": 1}, \"size\": 15, \"symbol\": 7}, \"mode\": \"markers\", \"showlegend\": false, \"type\": \"scatter\", \"x\": [554.4654817016145, 556.8281227658545, 548.4876720043937, 548.4876720043936], \"xaxis\": \"x6\", \"y\": [1206.2009951088423, 1362.4049531065282, 1569.170157668117, 1569.170157668117], \"yaxis\": \"y6\"}, {\"marker\": {\"color\": \"blue\", \"line\": {\"color\": \"black\", \"width\": 1}, \"size\": 15, \"symbol\": 4}, \"mode\": \"markers\", \"showlegend\": false, \"type\": \"scatter\", \"x\": [650.3242653239007, 659.4737297364866, 677.7726585616579, 686.9221229742438], \"xaxis\": \"x6\", \"y\": [1503.6760485649447, 1503.6760485649447, 1503.6760485649447, 1503.6760485649447], \"yaxis\": \"y6\"}, {\"marker\": {\"color\": \"white\", \"line\": {\"color\": \"black\", \"width\": 1}, \"size\": 10, \"symbol\": 0}, \"mode\": \"markers\", \"showlegend\": false, \"type\": \"scatter\", \"x\": [553.1266271112935], \"xaxis\": \"x6\", \"y\": [1503.6000000000258], \"yaxis\": \"y6\"}, {\"marker\": {\"color\": \"white\", \"line\": {\"color\": \"black\", \"width\": 1}, \"size\": 10, \"symbol\": 2}, \"mode\": \"markers\", \"showlegend\": false, \"type\": \"scatter\", \"x\": [634.5073629116724], \"xaxis\": \"x6\", \"y\": [1503.2693131994488], \"yaxis\": \"y6\"}, {\"marker\": {\"color\": \"white\", \"line\": {\"color\": \"black\", \"width\": 1}, \"size\": 10, \"symbol\": 7}, \"mode\": \"markers\", \"showlegend\": false, \"type\": \"scatter\", \"x\": [553.1081652975545], \"xaxis\": \"x6\", \"y\": [1503.801653972579], \"yaxis\": \"y6\"}, {\"marker\": {\"color\": \"white\", \"line\": {\"color\": \"black\", \"width\": 1}, \"size\": 10, \"symbol\": 4}, \"mode\": \"markers\", \"showlegend\": false, \"type\": \"scatter\", \"x\": [668.6231941490724], \"xaxis\": \"x6\", \"y\": [1503.6760485649447], \"yaxis\": \"y6\"}, {\"marker\": {\"color\": \"red\", \"line\": {\"color\": \"black\", \"width\": 1}, \"size\": 15, \"symbol\": 0}, \"mode\": \"markers\", \"showlegend\": false, \"type\": \"scatter\", \"x\": [552.6913582876738, 552.9175903618712, 553.2401636138597, 553.3252635738852], \"xaxis\": \"x7\", \"y\": [1503.600000000015, 1503.5999999999947, 1503.5999999999817, 1503.6000000000067], \"yaxis\": \"y7\"}, {\"marker\": {\"color\": \"green\", \"line\": {\"color\": \"black\", \"width\": 1}, \"size\": 15, \"symbol\": 2}, \"mode\": \"markers\", \"showlegend\": false, \"type\": \"scatter\", \"x\": [633.9142630666571, 634.3225839089904, 634.5735948606737, 634.5851414100404], \"xaxis\": \"x7\", \"y\": [1501.0959661376844, 1502.5924365865822, 1504.7271691726417, 1504.8592762427056], \"yaxis\": \"y7\"}, {\"marker\": {\"color\": \"yellow\", \"line\": {\"color\": \"black\", \"width\": 1}, \"size\": 15, \"symbol\": 7}, \"mode\": \"markers\", \"showlegend\": false, \"type\": \"scatter\", \"x\": [555.353811212827, 553.4650012003925, 552.9065848043812, 552.9183800088248], \"xaxis\": \"x7\", \"y\": [1474.3730623099818, 1497.5668424702426, 1507.4100705910687, 1508.5923924756758], \"yaxis\": \"y7\"}, {\"marker\": {\"color\": \"blue\", \"line\": {\"color\": \"black\", \"width\": 1}, \"size\": 15, \"symbol\": 4}, \"mode\": \"markers\", \"showlegend\": false, \"type\": \"scatter\", \"x\": [667.7640154208909, 668.3127449690467, 668.6966103077588, 668.7432628977808], \"xaxis\": \"x7\", \"y\": [1477.6181517922635, 1488.8823758270275, 1503.6784584674585, 1507.5925561083723], \"yaxis\": \"y7\"}, {\"marker\": {\"color\": \"white\", \"line\": {\"color\": \"black\", \"width\": 1}, \"size\": 10, \"symbol\": 0}, \"mode\": \"markers\", \"showlegend\": false, \"type\": \"scatter\", \"x\": [553.1266271112935], \"xaxis\": \"x7\", \"y\": [1503.6000000000258], \"yaxis\": \"y7\"}, {\"marker\": {\"color\": \"white\", \"line\": {\"color\": \"black\", \"width\": 1}, \"size\": 10, \"symbol\": 2}, \"mode\": \"markers\", \"showlegend\": false, \"type\": \"scatter\", \"x\": [634.5073629116724], \"xaxis\": \"x7\", \"y\": [1503.2693131994488], \"yaxis\": \"y7\"}, {\"marker\": {\"color\": \"white\", \"line\": {\"color\": \"black\", \"width\": 1}, \"size\": 10, \"symbol\": 7}, \"mode\": \"markers\", \"showlegend\": false, \"type\": \"scatter\", \"x\": [553.1081652975545], \"xaxis\": \"x7\", \"y\": [1503.801653972579], \"yaxis\": \"y7\"}, {\"marker\": {\"color\": \"white\", \"line\": {\"color\": \"black\", \"width\": 1}, \"size\": 10, \"symbol\": 4}, \"mode\": \"markers\", \"showlegend\": false, \"type\": \"scatter\", \"x\": [668.6231941490724], \"xaxis\": \"x7\", \"y\": [1503.6760485649447], \"yaxis\": \"y7\"}, {\"marker\": {\"color\": \"red\", \"line\": {\"color\": \"black\", \"width\": 1}, \"size\": 15, \"symbol\": 0}, \"mode\": \"markers\", \"name\": \"CO\\u2082 Cap\", \"showlegend\": true, \"type\": \"scatter\", \"x\": [551.778007903179, 552.6467377857164, 553.2262201957802, 553.2323676045323], \"xaxis\": \"x8\", \"y\": [1503.6000000000188, 1503.5999999999892, 1503.600000000007, 1503.6000000000029], \"yaxis\": \"y8\"}, {\"marker\": {\"color\": \"green\", \"line\": {\"color\": \"black\", \"width\": 1}, \"size\": 15, \"symbol\": 2}, \"mode\": \"markers\", \"name\": \"RES Min Quota\", \"showlegend\": true, \"type\": \"scatter\", \"x\": [631.7701053234985, 633.2897072435201, 635.1217552418339, 635.4668809170383], \"xaxis\": \"x8\", \"y\": [1499.4748990079293, 1503.7172106053483, 1499.1391000591577, 1496.2823562875851], \"yaxis\": \"y8\"}, {\"marker\": {\"color\": \"yellow\", \"line\": {\"color\": \"black\", \"width\": 1}, \"size\": 15, \"symbol\": 7}, \"mode\": \"markers\", \"name\": \"CO\\u2082 Tax\", \"showlegend\": true, \"type\": \"scatter\", \"x\": [559.3683620517837, 556.0930348282075, 550.6500758685086, 550.6500758685086], \"xaxis\": \"x8\", \"y\": [1416.0710780995782, 1463.8449871882356, 1536.8034107575202, 1536.8034107575206], \"yaxis\": \"y8\"}, {\"marker\": {\"color\": \"blue\", \"line\": {\"color\": \"black\", \"width\": 1}, \"size\": 15, \"symbol\": 4}, \"mode\": \"markers\", \"name\": \"FIT\", \"showlegend\": true, \"type\": \"scatter\", \"x\": [666.6298168860753, 667.9384210568884, 668.7594669702439, 668.7601688800027], \"xaxis\": \"x8\", \"y\": [1346.792084538043, 1406.5648152026122, 1548.334923074543, 1548.156172711803], \"yaxis\": \"y8\"}, {\"marker\": {\"color\": \"white\", \"line\": {\"color\": \"black\", \"width\": 1}, \"size\": 10, \"symbol\": 0}, \"mode\": \"markers\", \"showlegend\": false, \"type\": \"scatter\", \"x\": [553.1266271112935], \"xaxis\": \"x8\", \"y\": [1503.6000000000258], \"yaxis\": \"y8\"}, {\"marker\": {\"color\": \"white\", \"line\": {\"color\": \"black\", \"width\": 1}, \"size\": 10, \"symbol\": 2}, \"mode\": \"markers\", \"showlegend\": false, \"type\": \"scatter\", \"x\": [634.5073629116724], \"xaxis\": \"x8\", \"y\": [1503.2693131994488], \"yaxis\": \"y8\"}, {\"marker\": {\"color\": \"white\", \"line\": {\"color\": \"black\", \"width\": 1}, \"size\": 10, \"symbol\": 7}, \"mode\": \"markers\", \"showlegend\": false, \"type\": \"scatter\", \"x\": [553.1081652975545], \"xaxis\": \"x8\", \"y\": [1503.801653972579], \"yaxis\": \"y8\"}, {\"marker\": {\"color\": \"white\", \"line\": {\"color\": \"black\", \"width\": 1}, \"size\": 10, \"symbol\": 4}, \"mode\": \"markers\", \"showlegend\": false, \"type\": \"scatter\", \"x\": [668.6231941490724], \"xaxis\": \"x8\", \"y\": [1503.6760485649447], \"yaxis\": \"y8\"}],\n                        {\"annotations\": [{\"font\": {\"size\": 16}, \"showarrow\": false, \"text\": \"Lignite Fuel Cost\", \"x\": 0.14444444444444446, \"xanchor\": \"center\", \"xref\": \"paper\", \"y\": 1.0, \"yanchor\": \"bottom\", \"yref\": \"paper\"}, {\"font\": {\"size\": 16}, \"showarrow\": false, \"text\": \"Gas Fuel Cost\", \"x\": 0.5, \"xanchor\": \"center\", \"xref\": \"paper\", \"y\": 1.0, \"yanchor\": \"bottom\", \"yref\": \"paper\"}, {\"font\": {\"size\": 16}, \"showarrow\": false, \"text\": \"Hardcoal Fuel Cost\", \"x\": 0.8555555555555556, \"xanchor\": \"center\", \"xref\": \"paper\", \"y\": 1.0, \"yanchor\": \"bottom\", \"yref\": \"paper\"}, {\"font\": {\"size\": 16}, \"showarrow\": false, \"text\": \"PV Investment Cost\", \"x\": 0.14444444444444446, \"xanchor\": \"center\", \"xref\": \"paper\", \"y\": 0.6111111111111112, \"yanchor\": \"bottom\", \"yref\": \"paper\"}, {\"font\": {\"size\": 16}, \"showarrow\": false, \"text\": \"Wind Onshore Investment Cost\", \"x\": 0.5, \"xanchor\": \"center\", \"xref\": \"paper\", \"y\": 0.6111111111111112, \"yanchor\": \"bottom\", \"yref\": \"paper\"}, {\"font\": {\"size\": 16}, \"showarrow\": false, \"text\": \"Wind Offshore Investment Cost\", \"x\": 0.8555555555555556, \"xanchor\": \"center\", \"xref\": \"paper\", \"y\": 0.6111111111111112, \"yanchor\": \"bottom\", \"yref\": \"paper\"}, {\"font\": {\"size\": 16}, \"showarrow\": false, \"text\": \"Li-Ion Investment Cost\", \"x\": 0.14444444444444446, \"xanchor\": \"center\", \"xref\": \"paper\", \"y\": 0.22222222222222224, \"yanchor\": \"bottom\", \"yref\": \"paper\"}, {\"font\": {\"size\": 16}, \"showarrow\": false, \"text\": \"PSH Investment Cost\", \"x\": 0.5, \"xanchor\": \"center\", \"xref\": \"paper\", \"y\": 0.22222222222222224, \"yanchor\": \"bottom\", \"yref\": \"paper\"}], \"height\": 700, \"showlegend\": true, \"template\": {\"data\": {\"bar\": [{\"error_x\": {\"color\": \"#2a3f5f\"}, \"error_y\": {\"color\": \"#2a3f5f\"}, \"marker\": {\"line\": {\"color\": \"#E5ECF6\", \"width\": 0.5}}, \"type\": \"bar\"}], \"barpolar\": [{\"marker\": {\"line\": {\"color\": \"#E5ECF6\", \"width\": 0.5}}, \"type\": \"barpolar\"}], \"carpet\": [{\"aaxis\": {\"endlinecolor\": \"#2a3f5f\", \"gridcolor\": \"white\", \"linecolor\": \"white\", \"minorgridcolor\": \"white\", \"startlinecolor\": \"#2a3f5f\"}, \"baxis\": {\"endlinecolor\": \"#2a3f5f\", \"gridcolor\": \"white\", \"linecolor\": \"white\", \"minorgridcolor\": \"white\", \"startlinecolor\": \"#2a3f5f\"}, \"type\": \"carpet\"}], \"choropleth\": [{\"colorbar\": {\"outlinewidth\": 0, \"ticks\": \"\"}, \"type\": \"choropleth\"}], \"contour\": [{\"colorbar\": {\"outlinewidth\": 0, \"ticks\": \"\"}, \"colorscale\": [[0.0, \"#0d0887\"], [0.1111111111111111, \"#46039f\"], [0.2222222222222222, \"#7201a8\"], [0.3333333333333333, \"#9c179e\"], [0.4444444444444444, \"#bd3786\"], [0.5555555555555556, \"#d8576b\"], [0.6666666666666666, \"#ed7953\"], [0.7777777777777778, \"#fb9f3a\"], [0.8888888888888888, \"#fdca26\"], [1.0, \"#f0f921\"]], \"type\": \"contour\"}], \"contourcarpet\": [{\"colorbar\": {\"outlinewidth\": 0, \"ticks\": \"\"}, \"type\": \"contourcarpet\"}], \"heatmap\": [{\"colorbar\": {\"outlinewidth\": 0, \"ticks\": \"\"}, \"colorscale\": [[0.0, \"#0d0887\"], [0.1111111111111111, \"#46039f\"], [0.2222222222222222, \"#7201a8\"], [0.3333333333333333, \"#9c179e\"], [0.4444444444444444, \"#bd3786\"], [0.5555555555555556, \"#d8576b\"], [0.6666666666666666, \"#ed7953\"], [0.7777777777777778, \"#fb9f3a\"], [0.8888888888888888, \"#fdca26\"], [1.0, \"#f0f921\"]], \"type\": \"heatmap\"}], \"heatmapgl\": [{\"colorbar\": {\"outlinewidth\": 0, \"ticks\": \"\"}, \"colorscale\": [[0.0, \"#0d0887\"], [0.1111111111111111, \"#46039f\"], [0.2222222222222222, \"#7201a8\"], [0.3333333333333333, \"#9c179e\"], [0.4444444444444444, \"#bd3786\"], [0.5555555555555556, \"#d8576b\"], [0.6666666666666666, \"#ed7953\"], [0.7777777777777778, \"#fb9f3a\"], [0.8888888888888888, \"#fdca26\"], [1.0, \"#f0f921\"]], \"type\": \"heatmapgl\"}], \"histogram\": [{\"marker\": {\"colorbar\": {\"outlinewidth\": 0, \"ticks\": \"\"}}, \"type\": \"histogram\"}], \"histogram2d\": [{\"colorbar\": {\"outlinewidth\": 0, \"ticks\": \"\"}, \"colorscale\": [[0.0, \"#0d0887\"], [0.1111111111111111, \"#46039f\"], [0.2222222222222222, \"#7201a8\"], [0.3333333333333333, \"#9c179e\"], [0.4444444444444444, \"#bd3786\"], [0.5555555555555556, \"#d8576b\"], [0.6666666666666666, \"#ed7953\"], [0.7777777777777778, \"#fb9f3a\"], [0.8888888888888888, \"#fdca26\"], [1.0, \"#f0f921\"]], \"type\": \"histogram2d\"}], \"histogram2dcontour\": [{\"colorbar\": {\"outlinewidth\": 0, \"ticks\": \"\"}, \"colorscale\": [[0.0, \"#0d0887\"], [0.1111111111111111, \"#46039f\"], [0.2222222222222222, \"#7201a8\"], [0.3333333333333333, \"#9c179e\"], [0.4444444444444444, \"#bd3786\"], [0.5555555555555556, \"#d8576b\"], [0.6666666666666666, \"#ed7953\"], [0.7777777777777778, \"#fb9f3a\"], [0.8888888888888888, \"#fdca26\"], [1.0, \"#f0f921\"]], \"type\": \"histogram2dcontour\"}], \"mesh3d\": [{\"colorbar\": {\"outlinewidth\": 0, \"ticks\": \"\"}, \"type\": \"mesh3d\"}], \"parcoords\": [{\"line\": {\"colorbar\": {\"outlinewidth\": 0, \"ticks\": \"\"}}, \"type\": \"parcoords\"}], \"pie\": [{\"automargin\": true, \"type\": \"pie\"}], \"scatter\": [{\"marker\": {\"colorbar\": {\"outlinewidth\": 0, \"ticks\": \"\"}}, \"type\": \"scatter\"}], \"scatter3d\": [{\"line\": {\"colorbar\": {\"outlinewidth\": 0, \"ticks\": \"\"}}, \"marker\": {\"colorbar\": {\"outlinewidth\": 0, \"ticks\": \"\"}}, \"type\": \"scatter3d\"}], \"scattercarpet\": [{\"marker\": {\"colorbar\": {\"outlinewidth\": 0, \"ticks\": \"\"}}, \"type\": \"scattercarpet\"}], \"scattergeo\": [{\"marker\": {\"colorbar\": {\"outlinewidth\": 0, \"ticks\": \"\"}}, \"type\": \"scattergeo\"}], \"scattergl\": [{\"marker\": {\"colorbar\": {\"outlinewidth\": 0, \"ticks\": \"\"}}, \"type\": \"scattergl\"}], \"scattermapbox\": [{\"marker\": {\"colorbar\": {\"outlinewidth\": 0, \"ticks\": \"\"}}, \"type\": \"scattermapbox\"}], \"scatterpolar\": [{\"marker\": {\"colorbar\": {\"outlinewidth\": 0, \"ticks\": \"\"}}, \"type\": \"scatterpolar\"}], \"scatterpolargl\": [{\"marker\": {\"colorbar\": {\"outlinewidth\": 0, \"ticks\": \"\"}}, \"type\": \"scatterpolargl\"}], \"scatterternary\": [{\"marker\": {\"colorbar\": {\"outlinewidth\": 0, \"ticks\": \"\"}}, \"type\": \"scatterternary\"}], \"surface\": [{\"colorbar\": {\"outlinewidth\": 0, \"ticks\": \"\"}, \"colorscale\": [[0.0, \"#0d0887\"], [0.1111111111111111, \"#46039f\"], [0.2222222222222222, \"#7201a8\"], [0.3333333333333333, \"#9c179e\"], [0.4444444444444444, \"#bd3786\"], [0.5555555555555556, \"#d8576b\"], [0.6666666666666666, \"#ed7953\"], [0.7777777777777778, \"#fb9f3a\"], [0.8888888888888888, \"#fdca26\"], [1.0, \"#f0f921\"]], \"type\": \"surface\"}], \"table\": [{\"cells\": {\"fill\": {\"color\": \"#EBF0F8\"}, \"line\": {\"color\": \"white\"}}, \"header\": {\"fill\": {\"color\": \"#C8D4E3\"}, \"line\": {\"color\": \"white\"}}, \"type\": \"table\"}]}, \"layout\": {\"annotationdefaults\": {\"arrowcolor\": \"#2a3f5f\", \"arrowhead\": 0, \"arrowwidth\": 1}, \"coloraxis\": {\"colorbar\": {\"outlinewidth\": 0, \"ticks\": \"\"}}, \"colorscale\": {\"diverging\": [[0, \"#8e0152\"], [0.1, \"#c51b7d\"], [0.2, \"#de77ae\"], [0.3, \"#f1b6da\"], [0.4, \"#fde0ef\"], [0.5, \"#f7f7f7\"], [0.6, \"#e6f5d0\"], [0.7, \"#b8e186\"], [0.8, \"#7fbc41\"], [0.9, \"#4d9221\"], [1, \"#276419\"]], \"sequential\": [[0.0, \"#0d0887\"], [0.1111111111111111, \"#46039f\"], [0.2222222222222222, \"#7201a8\"], [0.3333333333333333, \"#9c179e\"], [0.4444444444444444, \"#bd3786\"], [0.5555555555555556, \"#d8576b\"], [0.6666666666666666, \"#ed7953\"], [0.7777777777777778, \"#fb9f3a\"], [0.8888888888888888, \"#fdca26\"], [1.0, \"#f0f921\"]], \"sequentialminus\": [[0.0, \"#0d0887\"], [0.1111111111111111, \"#46039f\"], [0.2222222222222222, \"#7201a8\"], [0.3333333333333333, \"#9c179e\"], [0.4444444444444444, \"#bd3786\"], [0.5555555555555556, \"#d8576b\"], [0.6666666666666666, \"#ed7953\"], [0.7777777777777778, \"#fb9f3a\"], [0.8888888888888888, \"#fdca26\"], [1.0, \"#f0f921\"]]}, \"colorway\": [\"#636efa\", \"#EF553B\", \"#00cc96\", \"#ab63fa\", \"#FFA15A\", \"#19d3f3\", \"#FF6692\", \"#B6E880\", \"#FF97FF\", \"#FECB52\"], \"font\": {\"color\": \"#2a3f5f\"}, \"geo\": {\"bgcolor\": \"white\", \"lakecolor\": \"white\", \"landcolor\": \"#E5ECF6\", \"showlakes\": true, \"showland\": true, \"subunitcolor\": \"white\"}, \"hoverlabel\": {\"align\": \"left\"}, \"hovermode\": \"closest\", \"mapbox\": {\"style\": \"light\"}, \"paper_bgcolor\": \"white\", \"plot_bgcolor\": \"#E5ECF6\", \"polar\": {\"angularaxis\": {\"gridcolor\": \"white\", \"linecolor\": \"white\", \"ticks\": \"\"}, \"bgcolor\": \"#E5ECF6\", \"radialaxis\": {\"gridcolor\": \"white\", \"linecolor\": \"white\", \"ticks\": \"\"}}, \"scene\": {\"xaxis\": {\"backgroundcolor\": \"#E5ECF6\", \"gridcolor\": \"white\", \"gridwidth\": 2, \"linecolor\": \"white\", \"showbackground\": true, \"ticks\": \"\", \"zerolinecolor\": \"white\"}, \"yaxis\": {\"backgroundcolor\": \"#E5ECF6\", \"gridcolor\": \"white\", \"gridwidth\": 2, \"linecolor\": \"white\", \"showbackground\": true, \"ticks\": \"\", \"zerolinecolor\": \"white\"}, \"zaxis\": {\"backgroundcolor\": \"#E5ECF6\", \"gridcolor\": \"white\", \"gridwidth\": 2, \"linecolor\": \"white\", \"showbackground\": true, \"ticks\": \"\", \"zerolinecolor\": \"white\"}}, \"shapedefaults\": {\"line\": {\"color\": \"#2a3f5f\"}}, \"ternary\": {\"aaxis\": {\"gridcolor\": \"white\", \"linecolor\": \"white\", \"ticks\": \"\"}, \"baxis\": {\"gridcolor\": \"white\", \"linecolor\": \"white\", \"ticks\": \"\"}, \"bgcolor\": \"#E5ECF6\", \"caxis\": {\"gridcolor\": \"white\", \"linecolor\": \"white\", \"ticks\": \"\"}}, \"title\": {\"x\": 0.05}, \"xaxis\": {\"automargin\": true, \"gridcolor\": \"white\", \"linecolor\": \"white\", \"ticks\": \"\", \"title\": {\"standoff\": 15}, \"zerolinecolor\": \"white\", \"zerolinewidth\": 2}, \"yaxis\": {\"automargin\": true, \"gridcolor\": \"white\", \"linecolor\": \"white\", \"ticks\": \"\", \"title\": {\"standoff\": 15}, \"zerolinecolor\": \"white\", \"zerolinewidth\": 2}}}, \"width\": 1000, \"xaxis\": {\"anchor\": \"y\", \"domain\": [0.0, 0.2888888888888889], \"range\": [450, 750], \"title\": {\"text\": \"\"}}, \"xaxis2\": {\"anchor\": \"y2\", \"domain\": [0.35555555555555557, 0.6444444444444445], \"range\": [450, 750], \"title\": {\"text\": \"\"}}, \"xaxis3\": {\"anchor\": \"y3\", \"domain\": [0.7111111111111111, 1.0], \"range\": [450, 750], \"title\": {\"text\": \"\"}}, \"xaxis4\": {\"anchor\": \"y4\", \"domain\": [0.0, 0.2888888888888889], \"range\": [450, 750], \"title\": {\"text\": \"\"}}, \"xaxis5\": {\"anchor\": \"y5\", \"domain\": [0.35555555555555557, 0.6444444444444445], \"range\": [450, 750], \"title\": {\"text\": \"\"}}, \"xaxis6\": {\"anchor\": \"y6\", \"domain\": [0.7111111111111111, 1.0], \"range\": [450, 750], \"title\": {\"text\": \"\"}}, \"xaxis7\": {\"anchor\": \"y7\", \"domain\": [0.0, 0.2888888888888889], \"range\": [450, 750], \"title\": {\"text\": \"\"}}, \"xaxis8\": {\"anchor\": \"y8\", \"domain\": [0.35555555555555557, 0.6444444444444445], \"range\": [450, 750], \"title\": {\"text\": \"Total System Cost (in bn \\u20ac)\"}}, \"xaxis9\": {\"anchor\": \"y9\", \"domain\": [0.7111111111111111, 1.0], \"range\": [450, 750]}, \"yaxis\": {\"anchor\": \"x\", \"domain\": [0.7777777777777778, 1.0], \"range\": [1100, 1900], \"title\": {\"text\": \"\"}}, \"yaxis2\": {\"anchor\": \"x2\", \"domain\": [0.7777777777777778, 1.0], \"range\": [1100, 1900], \"title\": {\"text\": \"\"}}, \"yaxis3\": {\"anchor\": \"x3\", \"domain\": [0.7777777777777778, 1.0], \"range\": [1100, 1900], \"title\": {\"text\": \"\"}}, \"yaxis4\": {\"anchor\": \"x4\", \"domain\": [0.3888888888888889, 0.6111111111111112], \"range\": [1100, 1900], \"title\": {\"text\": \"Total CO\\u2082 Emissions (in mio t)\"}}, \"yaxis5\": {\"anchor\": \"x5\", \"domain\": [0.3888888888888889, 0.6111111111111112], \"range\": [1100, 1900], \"title\": {\"text\": \"\"}}, \"yaxis6\": {\"anchor\": \"x6\", \"domain\": [0.3888888888888889, 0.6111111111111112], \"range\": [1100, 1900], \"title\": {\"text\": \"\"}}, \"yaxis7\": {\"anchor\": \"x7\", \"domain\": [0.0, 0.22222222222222224], \"range\": [1100, 1900], \"title\": {\"text\": \"\"}}, \"yaxis8\": {\"anchor\": \"x8\", \"domain\": [0.0, 0.22222222222222224], \"range\": [1100, 1900], \"title\": {\"text\": \"\"}}, \"yaxis9\": {\"anchor\": \"x9\", \"domain\": [0.0, 0.22222222222222224], \"range\": [1100, 1900]}},\n                        {\"responsive\": true}\n                    ).then(function(){\n                            \nvar gd = document.getElementById('7f125dc4-fee4-4fbb-b15b-f612bb1ae829');\nvar x = new MutationObserver(function (mutations, observer) {{\n        var display = window.getComputedStyle(gd).display;\n        if (!display || display === 'none') {{\n            console.log([gd, 'removed!']);\n            Plotly.purge(gd);\n            observer.disconnect();\n        }}\n}});\n\n// Listen for the removal of the full notebook cells\nvar notebookContainer = gd.closest('#notebook-container');\nif (notebookContainer) {{\n    x.observe(notebookContainer, {childList: true});\n}}\n\n// Listen for the clearing of the current output cell\nvar outputEl = gd.closest('.output');\nif (outputEl) {{\n    x.observe(outputEl, {childList: true});\n}}\n\n                        })\n                };\n                });\n            </script>\n        </div>"
     },
     "metadata": {},
     "output_type": "display_data"
    }
   ],
   "source": [
    "#legend\n",
    "\n",
    "fig.update_layout(showlegend = True)\n",
    "fig.update_layout(height=700, width=1000)\n",
    "#fig.update_layout(grid_ygap=0.1)\n",
    "\n",
    "#fig.update_xaxes(title_font_family=\"helvetica\")\n",
    "fig.update_xaxes(range=[450,750])\n",
    "fig.update_yaxes(range=[1100,1900])\n",
    "\n",
    "#fig['layout']['yaxis2']['title']='Label x-axis 1'\n",
    "fig['layout']['xaxis']['title']=''\n",
    "fig['layout']['xaxis1']['title']=''\n",
    "fig['layout']['xaxis2']['title']=''\n",
    "fig['layout']['xaxis3']['title']=''\n",
    "fig['layout']['xaxis4']['title']=''\n",
    "fig['layout']['xaxis5']['title']=''\n",
    "fig['layout']['xaxis6']['title']=''\n",
    "fig['layout']['xaxis7']['title']=''\n",
    "fig['layout']['xaxis8']['title']='Total System Cost (in bn €)'\n",
    "\n",
    "\n",
    "fig['layout']['yaxis']['title']=''\n",
    "fig['layout']['yaxis1']['title']=''\n",
    "fig['layout']['yaxis2']['title']=''\n",
    "fig['layout']['yaxis3']['title']=''\n",
    "fig['layout']['yaxis4']['title']='Total CO\\N{SUBSCRIPT TWO} Emissions (in mio t)'\n",
    "fig['layout']['yaxis5']['title']=''\n",
    "fig['layout']['yaxis6']['title']=''\n",
    "fig['layout']['yaxis7']['title']=''\n",
    "fig['layout']['yaxis8']['title']=''\n",
    "fig.show()"
   ],
   "metadata": {
    "collapsed": false,
    "pycharm": {
     "name": "#%%\n"
    }
   }
  },
  {
   "cell_type": "code",
   "execution_count": 83,
   "outputs": [],
   "source": [
    "import psutil\n",
    "import requests\n",
    "fig.write_image(\"images/figure7_1.svg\")\n",
    "\n",
    "\n"
   ],
   "metadata": {
    "collapsed": false,
    "pycharm": {
     "name": "#%%\n"
    }
   }
  },
  {
   "cell_type": "code",
   "execution_count": 48,
   "outputs": [],
   "source": [],
   "metadata": {
    "collapsed": false,
    "pycharm": {
     "name": "#%%\n"
    }
   }
  },
  {
   "cell_type": "code",
   "execution_count": null,
   "outputs": [],
   "source": [],
   "metadata": {
    "collapsed": false,
    "pycharm": {
     "name": "#%%\n"
    }
   }
  }
 ],
 "metadata": {
  "kernelspec": {
   "display_name": "Python 3",
   "language": "python",
   "name": "python3"
  },
  "language_info": {
   "codemirror_mode": {
    "name": "ipython",
    "version": 2
   },
   "file_extension": ".py",
   "mimetype": "text/x-python",
   "name": "python",
   "nbconvert_exporter": "python",
   "pygments_lexer": "ipython2",
   "version": "2.7.6"
  }
 },
 "nbformat": 4,
 "nbformat_minor": 0
}