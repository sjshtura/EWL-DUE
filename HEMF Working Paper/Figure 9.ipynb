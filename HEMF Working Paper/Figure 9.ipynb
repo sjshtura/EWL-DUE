{
 "cells": [
  {
   "cell_type": "code",
   "execution_count": 487,
   "outputs": [
    {
     "data": {
      "text/plain": "          Row  Total_CO2_Emissions Pol_Inst Technologie  Shock  Unnamed: 5  \\\n0  1455555555               1503.6  CO2_Cap     Lignite   -0.1   455555555   \n1  1535555555               1503.6  CO2_Cap         Gas   -0.2   535555555   \n2  1545555555               1503.6  CO2_Cap         Gas   -0.1   545555555   \n3  1553555555               1503.6  CO2_Cap    Hardcoal   -0.2   553555555   \n4  1554555555               1503.6  CO2_Cap    Hardcoal   -0.1   554555555   \n\n   Unnamed: 6  Unnamed: 7  Unnamed: 8  Unnamed: 9  Lignite  Hard Coal  CCGT  \\\n0           1         4.0         NaN         NaN      0.0          0   0.0   \n1           2         3.0         NaN         NaN      0.0          0   0.0   \n2           2         4.0         NaN         NaN      0.0          0   0.0   \n3           3         3.0         NaN         NaN      0.0          0   0.0   \n4           3         4.0         NaN         NaN      0.0          0   0.0   \n\n   OCGT  Wind Onshore  Wind Offshore   PV  Li-Ion  PSH  Mixed  \n0   0.0           0.0            0.0  0.0     0.0  0.0    0.0  \n1   0.0           0.0            0.0  0.0     0.0  0.0    0.0  \n2   0.0           0.0            0.0  0.0     0.0  0.0    0.0  \n3   0.0           0.0            0.0  0.0     0.0  0.0    0.0  \n4   0.0           0.0            0.0  0.0     0.0  0.0    0.0  ",
      "text/html": "<div>\n<style scoped>\n    .dataframe tbody tr th:only-of-type {\n        vertical-align: middle;\n    }\n\n    .dataframe tbody tr th {\n        vertical-align: top;\n    }\n\n    .dataframe thead th {\n        text-align: right;\n    }\n</style>\n<table border=\"1\" class=\"dataframe\">\n  <thead>\n    <tr style=\"text-align: right;\">\n      <th></th>\n      <th>Row</th>\n      <th>Total_CO2_Emissions</th>\n      <th>Pol_Inst</th>\n      <th>Technologie</th>\n      <th>Shock</th>\n      <th>Unnamed: 5</th>\n      <th>Unnamed: 6</th>\n      <th>Unnamed: 7</th>\n      <th>Unnamed: 8</th>\n      <th>Unnamed: 9</th>\n      <th>Lignite</th>\n      <th>Hard Coal</th>\n      <th>CCGT</th>\n      <th>OCGT</th>\n      <th>Wind Onshore</th>\n      <th>Wind Offshore</th>\n      <th>PV</th>\n      <th>Li-Ion</th>\n      <th>PSH</th>\n      <th>Mixed</th>\n    </tr>\n  </thead>\n  <tbody>\n    <tr>\n      <th>0</th>\n      <td>1455555555</td>\n      <td>1503.6</td>\n      <td>CO2_Cap</td>\n      <td>Lignite</td>\n      <td>-0.1</td>\n      <td>455555555</td>\n      <td>1</td>\n      <td>4.0</td>\n      <td>NaN</td>\n      <td>NaN</td>\n      <td>0.0</td>\n      <td>0</td>\n      <td>0.0</td>\n      <td>0.0</td>\n      <td>0.0</td>\n      <td>0.0</td>\n      <td>0.0</td>\n      <td>0.0</td>\n      <td>0.0</td>\n      <td>0.0</td>\n    </tr>\n    <tr>\n      <th>1</th>\n      <td>1535555555</td>\n      <td>1503.6</td>\n      <td>CO2_Cap</td>\n      <td>Gas</td>\n      <td>-0.2</td>\n      <td>535555555</td>\n      <td>2</td>\n      <td>3.0</td>\n      <td>NaN</td>\n      <td>NaN</td>\n      <td>0.0</td>\n      <td>0</td>\n      <td>0.0</td>\n      <td>0.0</td>\n      <td>0.0</td>\n      <td>0.0</td>\n      <td>0.0</td>\n      <td>0.0</td>\n      <td>0.0</td>\n      <td>0.0</td>\n    </tr>\n    <tr>\n      <th>2</th>\n      <td>1545555555</td>\n      <td>1503.6</td>\n      <td>CO2_Cap</td>\n      <td>Gas</td>\n      <td>-0.1</td>\n      <td>545555555</td>\n      <td>2</td>\n      <td>4.0</td>\n      <td>NaN</td>\n      <td>NaN</td>\n      <td>0.0</td>\n      <td>0</td>\n      <td>0.0</td>\n      <td>0.0</td>\n      <td>0.0</td>\n      <td>0.0</td>\n      <td>0.0</td>\n      <td>0.0</td>\n      <td>0.0</td>\n      <td>0.0</td>\n    </tr>\n    <tr>\n      <th>3</th>\n      <td>1553555555</td>\n      <td>1503.6</td>\n      <td>CO2_Cap</td>\n      <td>Hardcoal</td>\n      <td>-0.2</td>\n      <td>553555555</td>\n      <td>3</td>\n      <td>3.0</td>\n      <td>NaN</td>\n      <td>NaN</td>\n      <td>0.0</td>\n      <td>0</td>\n      <td>0.0</td>\n      <td>0.0</td>\n      <td>0.0</td>\n      <td>0.0</td>\n      <td>0.0</td>\n      <td>0.0</td>\n      <td>0.0</td>\n      <td>0.0</td>\n    </tr>\n    <tr>\n      <th>4</th>\n      <td>1554555555</td>\n      <td>1503.6</td>\n      <td>CO2_Cap</td>\n      <td>Hardcoal</td>\n      <td>-0.1</td>\n      <td>554555555</td>\n      <td>3</td>\n      <td>4.0</td>\n      <td>NaN</td>\n      <td>NaN</td>\n      <td>0.0</td>\n      <td>0</td>\n      <td>0.0</td>\n      <td>0.0</td>\n      <td>0.0</td>\n      <td>0.0</td>\n      <td>0.0</td>\n      <td>0.0</td>\n      <td>0.0</td>\n      <td>0.0</td>\n    </tr>\n  </tbody>\n</table>\n</div>"
     },
     "execution_count": 487,
     "metadata": {},
     "output_type": "execute_result"
    }
   ],
   "source": [
    "from bokeh.models import NumeralTickFormatter\n",
    "from bokeh.plotting import figure, output_file, show\n",
    "from bokeh.models import Title\n",
    "import pandas as pd\n",
    "import numpy as np\n",
    "import matplotlib.pyplot as plt\n",
    "#names1 = [\"Total_Co2_Emissions\",\"Pol_Inst\",\"Technologie\",\"Shock\",\"Lignite\",\"Coal\",\"CCGT\",\"OCGT\",\"Wind_Onshore\",\"Wind_Offshore\",\"Solar\",\"LitIon\",\"PSH\",\"Total\"]\n",
    "data = pd.read_excel(r'Figures_Data_Preparation_9-12.xlsx', sheet_name = 'Figure 9-12', skiprows=[1])\n",
    "#df = df.set_index([df.iloc[0], df.columns[0]])\n",
    "data.head()"
   ],
   "metadata": {
    "collapsed": false,
    "pycharm": {
     "name": "#%%\n"
    }
   }
  },
  {
   "cell_type": "code",
   "execution_count": 488,
   "outputs": [
    {
     "data": {
      "text/plain": "Row                      int64\nTotal_CO2_Emissions    float64\nPol_Inst                object\nTechnologie             object\nShock                  float64\nUnnamed: 5               int64\nUnnamed: 6               int64\nUnnamed: 7             float64\nUnnamed: 8             float64\nUnnamed: 9             float64\nLignite                float64\nHard Coal                int64\nCCGT                   float64\nOCGT                   float64\nWind Onshore           float64\nWind Offshore          float64\nPV                     float64\nLi-Ion                 float64\nPSH                    float64\nMixed                  float64\ndtype: object"
     },
     "execution_count": 488,
     "metadata": {},
     "output_type": "execute_result"
    }
   ],
   "source": [
    "data.dtypes"
   ],
   "metadata": {
    "collapsed": false,
    "pycharm": {
     "name": "#%%\n"
    }
   }
  },
  {
   "cell_type": "code",
   "execution_count": 489,
   "outputs": [
    {
     "data": {
      "text/plain": "Index(['Row', 'Total_CO2_Emissions', 'Pol_Inst', 'Technologie', 'Shock',\n       'Unnamed: 5', 'Unnamed: 6', 'Unnamed: 7', 'Unnamed: 8', 'Unnamed: 9',\n       'Lignite', 'Hard Coal', 'CCGT', 'OCGT', 'Wind Onshore', 'Wind Offshore',\n       'PV', 'Li-Ion', 'PSH', 'Mixed'],\n      dtype='object')"
     },
     "execution_count": 489,
     "metadata": {},
     "output_type": "execute_result"
    }
   ],
   "source": [
    "data.columns\n"
   ],
   "metadata": {
    "collapsed": false,
    "pycharm": {
     "name": "#%%\n"
    }
   }
  },
  {
   "cell_type": "code",
   "execution_count": 490,
   "outputs": [
    {
     "data": {
      "text/plain": "array(['Lignite', 'Gas', 'Hard coal', 'Demand', 'PV', 'Wind Onshore',\n       'Wind Offshore', 'Li-Ion', 'PSH', 'no'], dtype=object)"
     },
     "execution_count": 490,
     "metadata": {},
     "output_type": "execute_result"
    }
   ],
   "source": [
    "data[\"Technologie\"]= data[\"Technologie\"].replace(\"Hardcoal\", \"Hard coal\")\n",
    "data[\"Technologie\"]= data[\"Technologie\"].replace(\"Solar\", \"PV\")\n",
    "data[\"Technologie\"]= data[\"Technologie\"].replace(\"Wind_Onshore\", \"Wind Onshore\")\n",
    "data[\"Technologie\"]= data[\"Technologie\"].replace(\"Wind_Offshore\", \"Wind Offshore\")\n",
    "data[\"Technologie\"]= data[\"Technologie\"].replace(\"Lit_Ion\", \"Li-Ion\")\n",
    "data0 = data[['Technologie', \"Shock\", \"Pol_Inst\" ,'Lignite', 'Hard Coal', 'CCGT', 'OCGT', 'Wind Onshore', 'Wind Offshore',\n",
    "       'PV', 'Li-Ion', 'PSH', 'Mixed']]\n",
    "data0.Technologie.unique()"
   ],
   "metadata": {
    "collapsed": false,
    "pycharm": {
     "name": "#%%\n"
    }
   }
  },
  {
   "cell_type": "code",
   "execution_count": 490,
   "outputs": [],
   "source": [],
   "metadata": {
    "collapsed": false,
    "pycharm": {
     "name": "#%%\n"
    }
   }
  },
  {
   "cell_type": "code",
   "execution_count": 491,
   "outputs": [
    {
     "data": {
      "text/plain": "array(['Gas', 'Hard coal', 'Demand', 'PV', 'Wind Onshore',\n       'Wind Offshore', 'Li-Ion', 'PSH', 'Lignite'], dtype=object)"
     },
     "execution_count": 491,
     "metadata": {},
     "output_type": "execute_result"
    }
   ],
   "source": [
    "data0 = data0.loc[data['Technologie']!='no']\n",
    "data0 = data0.loc[(data[\"Shock\"] == -0.2) | (data[\"Shock\"] == 0.2)]\n",
    "\n",
    "data0.Technologie.unique()\n",
    "\n"
   ],
   "metadata": {
    "collapsed": false,
    "pycharm": {
     "name": "#%%\n"
    }
   }
  },
  {
   "cell_type": "code",
   "execution_count": 492,
   "outputs": [],
   "source": [
    "data_co2_cap0 = data0.loc[data['Pol_Inst']=='CO2_Cap']"
   ],
   "metadata": {
    "collapsed": false,
    "pycharm": {
     "name": "#%%\n"
    }
   }
  },
  {
   "cell_type": "code",
   "execution_count": 493,
   "outputs": [],
   "source": [
    "data_co2_cap = data_co2_cap0[['Technologie','Lignite', 'Hard Coal', 'CCGT', 'OCGT', 'Wind Onshore', 'Wind Offshore',\n",
    "       'PV', 'Li-Ion', 'PSH', 'Mixed']]"
   ],
   "metadata": {
    "collapsed": false,
    "pycharm": {
     "name": "#%%\n"
    }
   }
  },
  {
   "cell_type": "code",
   "execution_count": 494,
   "outputs": [
    {
     "data": {
      "text/plain": "array(['Gas', 'Hard coal', 'Demand', 'PV', 'Wind Onshore',\n       'Wind Offshore', 'Li-Ion', 'PSH', 'Lignite'], dtype=object)"
     },
     "execution_count": 494,
     "metadata": {},
     "output_type": "execute_result"
    }
   ],
   "source": [
    "data_co2_cap.Technologie.unique()"
   ],
   "metadata": {
    "collapsed": false,
    "pycharm": {
     "name": "#%%\n"
    }
   }
  },
  {
   "cell_type": "code",
   "execution_count": 495,
   "outputs": [
    {
     "name": "stderr",
     "output_type": "stream",
     "text": [
      "<ipython-input-495-078049eb2d51>:3: SettingWithCopyWarning: \n",
      "A value is trying to be set on a copy of a slice from a DataFrame.\n",
      "Try using .loc[row_indexer,col_indexer] = value instead\n",
      "\n",
      "See the caveats in the documentation: https://pandas.pydata.org/pandas-docs/stable/user_guide/indexing.html#returning-a-view-versus-a-copy\n",
      "  data_co2_cap['Technologie'] = pd.Categorical(data_co2_cap0['Technologie'], [ 'Lignite', 'Gas', 'Hard coal', 'PV', 'Wind Onshore',\n"
     ]
    },
    {
     "data": {
      "text/plain": "      Technologie  Lignite  Hard Coal  CCGT  OCGT  Wind Onshore  \\\n1             Gas      0.0          0  0.00  0.00          0.00   \n3       Hard coal      0.0          0  0.00  0.00          0.00   \n5          Demand      0.0          0 -0.55 -0.58         -0.15   \n7              PV      0.0          0  0.00 -0.01         -0.02   \n9    Wind Onshore      0.0          0  0.00  0.00         -0.17   \n11  Wind Offshore      0.0          0  0.00  0.00         -0.12   \n13         Li-Ion      0.0          0  0.00  0.00          0.00   \n15            PSH      0.0          0  0.00 -0.07          0.00   \n19            PSH      0.0          0  0.00  0.00          0.00   \n21         Li-Ion      0.0          0  0.00  0.00          0.00   \n23  Wind Offshore      0.0          0  0.00  0.00          0.00   \n25   Wind Onshore      0.0          0  0.00  0.00          0.06   \n27             PV      0.0          0  0.00  0.00          0.00   \n29         Demand      0.0          0  0.00 -0.05          0.00   \n31      Hard coal      0.0          0  0.00  0.00          0.00   \n33            Gas      0.0          0  0.00  0.00          0.00   \n35        Lignite      0.0          0  0.00  0.00          0.00   \n\n    Wind Offshore    PV  Li-Ion   PSH  Mixed  \n1            0.00  0.00    0.00  0.00   0.00  \n3            0.00  0.00    0.00  0.00   0.00  \n5           -0.15 -0.14   -0.53 -0.33  -0.22  \n7           -0.04 -0.18    0.01 -0.01  -0.06  \n9           -0.13 -0.07   -0.25 -0.03  -0.11  \n11          -0.17 -0.14   -0.07 -0.08  -0.12  \n13           0.00  0.00   -0.16 -0.01   0.00  \n15           0.00  0.00   -0.09 -0.18  -0.01  \n19           0.00  0.00    0.02  0.04   0.00  \n21           0.00  0.00    0.08  0.01   0.00  \n23           0.01  0.00   -0.02 -0.01   0.00  \n25           0.00  0.00   -0.01 -0.07   0.02  \n27           0.00  0.06    0.00 -0.02   0.01  \n29           0.00  0.00    0.05 -0.03   0.00  \n31           0.00  0.00    0.00  0.00   0.00  \n33           0.00  0.00    0.00  0.00   0.00  \n35           0.00  0.00    0.00  0.00   0.00  ",
      "text/html": "<div>\n<style scoped>\n    .dataframe tbody tr th:only-of-type {\n        vertical-align: middle;\n    }\n\n    .dataframe tbody tr th {\n        vertical-align: top;\n    }\n\n    .dataframe thead th {\n        text-align: right;\n    }\n</style>\n<table border=\"1\" class=\"dataframe\">\n  <thead>\n    <tr style=\"text-align: right;\">\n      <th></th>\n      <th>Technologie</th>\n      <th>Lignite</th>\n      <th>Hard Coal</th>\n      <th>CCGT</th>\n      <th>OCGT</th>\n      <th>Wind Onshore</th>\n      <th>Wind Offshore</th>\n      <th>PV</th>\n      <th>Li-Ion</th>\n      <th>PSH</th>\n      <th>Mixed</th>\n    </tr>\n  </thead>\n  <tbody>\n    <tr>\n      <th>1</th>\n      <td>Gas</td>\n      <td>0.0</td>\n      <td>0</td>\n      <td>0.00</td>\n      <td>0.00</td>\n      <td>0.00</td>\n      <td>0.00</td>\n      <td>0.00</td>\n      <td>0.00</td>\n      <td>0.00</td>\n      <td>0.00</td>\n    </tr>\n    <tr>\n      <th>3</th>\n      <td>Hard coal</td>\n      <td>0.0</td>\n      <td>0</td>\n      <td>0.00</td>\n      <td>0.00</td>\n      <td>0.00</td>\n      <td>0.00</td>\n      <td>0.00</td>\n      <td>0.00</td>\n      <td>0.00</td>\n      <td>0.00</td>\n    </tr>\n    <tr>\n      <th>5</th>\n      <td>Demand</td>\n      <td>0.0</td>\n      <td>0</td>\n      <td>-0.55</td>\n      <td>-0.58</td>\n      <td>-0.15</td>\n      <td>-0.15</td>\n      <td>-0.14</td>\n      <td>-0.53</td>\n      <td>-0.33</td>\n      <td>-0.22</td>\n    </tr>\n    <tr>\n      <th>7</th>\n      <td>PV</td>\n      <td>0.0</td>\n      <td>0</td>\n      <td>0.00</td>\n      <td>-0.01</td>\n      <td>-0.02</td>\n      <td>-0.04</td>\n      <td>-0.18</td>\n      <td>0.01</td>\n      <td>-0.01</td>\n      <td>-0.06</td>\n    </tr>\n    <tr>\n      <th>9</th>\n      <td>Wind Onshore</td>\n      <td>0.0</td>\n      <td>0</td>\n      <td>0.00</td>\n      <td>0.00</td>\n      <td>-0.17</td>\n      <td>-0.13</td>\n      <td>-0.07</td>\n      <td>-0.25</td>\n      <td>-0.03</td>\n      <td>-0.11</td>\n    </tr>\n    <tr>\n      <th>11</th>\n      <td>Wind Offshore</td>\n      <td>0.0</td>\n      <td>0</td>\n      <td>0.00</td>\n      <td>0.00</td>\n      <td>-0.12</td>\n      <td>-0.17</td>\n      <td>-0.14</td>\n      <td>-0.07</td>\n      <td>-0.08</td>\n      <td>-0.12</td>\n    </tr>\n    <tr>\n      <th>13</th>\n      <td>Li-Ion</td>\n      <td>0.0</td>\n      <td>0</td>\n      <td>0.00</td>\n      <td>0.00</td>\n      <td>0.00</td>\n      <td>0.00</td>\n      <td>0.00</td>\n      <td>-0.16</td>\n      <td>-0.01</td>\n      <td>0.00</td>\n    </tr>\n    <tr>\n      <th>15</th>\n      <td>PSH</td>\n      <td>0.0</td>\n      <td>0</td>\n      <td>0.00</td>\n      <td>-0.07</td>\n      <td>0.00</td>\n      <td>0.00</td>\n      <td>0.00</td>\n      <td>-0.09</td>\n      <td>-0.18</td>\n      <td>-0.01</td>\n    </tr>\n    <tr>\n      <th>19</th>\n      <td>PSH</td>\n      <td>0.0</td>\n      <td>0</td>\n      <td>0.00</td>\n      <td>0.00</td>\n      <td>0.00</td>\n      <td>0.00</td>\n      <td>0.00</td>\n      <td>0.02</td>\n      <td>0.04</td>\n      <td>0.00</td>\n    </tr>\n    <tr>\n      <th>21</th>\n      <td>Li-Ion</td>\n      <td>0.0</td>\n      <td>0</td>\n      <td>0.00</td>\n      <td>0.00</td>\n      <td>0.00</td>\n      <td>0.00</td>\n      <td>0.00</td>\n      <td>0.08</td>\n      <td>0.01</td>\n      <td>0.00</td>\n    </tr>\n    <tr>\n      <th>23</th>\n      <td>Wind Offshore</td>\n      <td>0.0</td>\n      <td>0</td>\n      <td>0.00</td>\n      <td>0.00</td>\n      <td>0.00</td>\n      <td>0.01</td>\n      <td>0.00</td>\n      <td>-0.02</td>\n      <td>-0.01</td>\n      <td>0.00</td>\n    </tr>\n    <tr>\n      <th>25</th>\n      <td>Wind Onshore</td>\n      <td>0.0</td>\n      <td>0</td>\n      <td>0.00</td>\n      <td>0.00</td>\n      <td>0.06</td>\n      <td>0.00</td>\n      <td>0.00</td>\n      <td>-0.01</td>\n      <td>-0.07</td>\n      <td>0.02</td>\n    </tr>\n    <tr>\n      <th>27</th>\n      <td>PV</td>\n      <td>0.0</td>\n      <td>0</td>\n      <td>0.00</td>\n      <td>0.00</td>\n      <td>0.00</td>\n      <td>0.00</td>\n      <td>0.06</td>\n      <td>0.00</td>\n      <td>-0.02</td>\n      <td>0.01</td>\n    </tr>\n    <tr>\n      <th>29</th>\n      <td>Demand</td>\n      <td>0.0</td>\n      <td>0</td>\n      <td>0.00</td>\n      <td>-0.05</td>\n      <td>0.00</td>\n      <td>0.00</td>\n      <td>0.00</td>\n      <td>0.05</td>\n      <td>-0.03</td>\n      <td>0.00</td>\n    </tr>\n    <tr>\n      <th>31</th>\n      <td>Hard coal</td>\n      <td>0.0</td>\n      <td>0</td>\n      <td>0.00</td>\n      <td>0.00</td>\n      <td>0.00</td>\n      <td>0.00</td>\n      <td>0.00</td>\n      <td>0.00</td>\n      <td>0.00</td>\n      <td>0.00</td>\n    </tr>\n    <tr>\n      <th>33</th>\n      <td>Gas</td>\n      <td>0.0</td>\n      <td>0</td>\n      <td>0.00</td>\n      <td>0.00</td>\n      <td>0.00</td>\n      <td>0.00</td>\n      <td>0.00</td>\n      <td>0.00</td>\n      <td>0.00</td>\n      <td>0.00</td>\n    </tr>\n    <tr>\n      <th>35</th>\n      <td>Lignite</td>\n      <td>0.0</td>\n      <td>0</td>\n      <td>0.00</td>\n      <td>0.00</td>\n      <td>0.00</td>\n      <td>0.00</td>\n      <td>0.00</td>\n      <td>0.00</td>\n      <td>0.00</td>\n      <td>0.00</td>\n    </tr>\n  </tbody>\n</table>\n</div>"
     },
     "execution_count": 495,
     "metadata": {},
     "output_type": "execute_result"
    }
   ],
   "source": [
    "data_co2_cap0\n",
    "\n",
    "data_co2_cap['Technologie'] = pd.Categorical(data_co2_cap0['Technologie'], [ 'Lignite', 'Gas', 'Hard coal', 'PV', 'Wind Onshore',\n",
    "       'Wind Offshore', 'Li-Ion', 'PSH', 'Demand'])\n",
    "data_co2_cap.sort_values(\"Technologie\")\n",
    "data_co2_cap"
   ],
   "metadata": {
    "collapsed": false,
    "pycharm": {
     "name": "#%%\n"
    }
   }
  },
  {
   "cell_type": "code",
   "execution_count": 496,
   "outputs": [],
   "source": [
    "#hue1 = [\"#ADD8E6\", \"#414141\", \"#FFA500\", \"#fff340\", \"#00b8f2\", \"#a19595\", \"#f23333\", \"#2397fc\"]\n",
    "\n",
    "#hue1"
   ],
   "metadata": {
    "collapsed": false,
    "pycharm": {
     "name": "#%%\n"
    }
   }
  },
  {
   "cell_type": "code",
   "execution_count": 497,
   "outputs": [
    {
     "data": {
      "text/plain": "      Technologie intensities  values\n0             Gas     Lignite    0.00\n1       Hard coal     Lignite    0.00\n2          Demand     Lignite    0.00\n3              PV     Lignite    0.00\n4    Wind Onshore     Lignite    0.00\n..            ...         ...     ...\n165            PV       Mixed    0.01\n166        Demand       Mixed    0.00\n167     Hard coal       Mixed    0.00\n168           Gas       Mixed    0.00\n169       Lignite       Mixed    0.00\n\n[170 rows x 3 columns]",
      "text/html": "<div>\n<style scoped>\n    .dataframe tbody tr th:only-of-type {\n        vertical-align: middle;\n    }\n\n    .dataframe tbody tr th {\n        vertical-align: top;\n    }\n\n    .dataframe thead th {\n        text-align: right;\n    }\n</style>\n<table border=\"1\" class=\"dataframe\">\n  <thead>\n    <tr style=\"text-align: right;\">\n      <th></th>\n      <th>Technologie</th>\n      <th>intensities</th>\n      <th>values</th>\n    </tr>\n  </thead>\n  <tbody>\n    <tr>\n      <th>0</th>\n      <td>Gas</td>\n      <td>Lignite</td>\n      <td>0.00</td>\n    </tr>\n    <tr>\n      <th>1</th>\n      <td>Hard coal</td>\n      <td>Lignite</td>\n      <td>0.00</td>\n    </tr>\n    <tr>\n      <th>2</th>\n      <td>Demand</td>\n      <td>Lignite</td>\n      <td>0.00</td>\n    </tr>\n    <tr>\n      <th>3</th>\n      <td>PV</td>\n      <td>Lignite</td>\n      <td>0.00</td>\n    </tr>\n    <tr>\n      <th>4</th>\n      <td>Wind Onshore</td>\n      <td>Lignite</td>\n      <td>0.00</td>\n    </tr>\n    <tr>\n      <th>...</th>\n      <td>...</td>\n      <td>...</td>\n      <td>...</td>\n    </tr>\n    <tr>\n      <th>165</th>\n      <td>PV</td>\n      <td>Mixed</td>\n      <td>0.01</td>\n    </tr>\n    <tr>\n      <th>166</th>\n      <td>Demand</td>\n      <td>Mixed</td>\n      <td>0.00</td>\n    </tr>\n    <tr>\n      <th>167</th>\n      <td>Hard coal</td>\n      <td>Mixed</td>\n      <td>0.00</td>\n    </tr>\n    <tr>\n      <th>168</th>\n      <td>Gas</td>\n      <td>Mixed</td>\n      <td>0.00</td>\n    </tr>\n    <tr>\n      <th>169</th>\n      <td>Lignite</td>\n      <td>Mixed</td>\n      <td>0.00</td>\n    </tr>\n  </tbody>\n</table>\n<p>170 rows × 3 columns</p>\n</div>"
     },
     "execution_count": 497,
     "metadata": {},
     "output_type": "execute_result"
    }
   ],
   "source": [
    "import seaborn as sns\n",
    "import matplotlib.pyplot as plt\n",
    "df_melt=pd.melt(data_co2_cap,id_vars=['Technologie'], var_name='intensities', value_name='values')\n",
    "df_melt"
   ],
   "metadata": {
    "collapsed": false,
    "pycharm": {
     "name": "#%%\n"
    }
   }
  },
  {
   "cell_type": "code",
   "execution_count": 498,
   "outputs": [],
   "source": [
    "#df = df_melt[(df_melt[['values']] != 0).all(axis=1)]\n"
   ],
   "metadata": {
    "collapsed": false,
    "pycharm": {
     "name": "#%%\n"
    }
   }
  },
  {
   "cell_type": "code",
   "execution_count": 499,
   "outputs": [
    {
     "data": {
      "text/plain": "      Technologie intensities  values\n0             Gas     Lignite     NaN\n1       Hard coal     Lignite     NaN\n2          Demand     Lignite     NaN\n3              PV     Lignite     NaN\n4    Wind Onshore     Lignite     NaN\n..            ...         ...     ...\n165            PV       Mixed    0.01\n166        Demand       Mixed     NaN\n167     Hard coal       Mixed     NaN\n168           Gas       Mixed     NaN\n169       Lignite       Mixed     NaN\n\n[170 rows x 3 columns]",
      "text/html": "<div>\n<style scoped>\n    .dataframe tbody tr th:only-of-type {\n        vertical-align: middle;\n    }\n\n    .dataframe tbody tr th {\n        vertical-align: top;\n    }\n\n    .dataframe thead th {\n        text-align: right;\n    }\n</style>\n<table border=\"1\" class=\"dataframe\">\n  <thead>\n    <tr style=\"text-align: right;\">\n      <th></th>\n      <th>Technologie</th>\n      <th>intensities</th>\n      <th>values</th>\n    </tr>\n  </thead>\n  <tbody>\n    <tr>\n      <th>0</th>\n      <td>Gas</td>\n      <td>Lignite</td>\n      <td>NaN</td>\n    </tr>\n    <tr>\n      <th>1</th>\n      <td>Hard coal</td>\n      <td>Lignite</td>\n      <td>NaN</td>\n    </tr>\n    <tr>\n      <th>2</th>\n      <td>Demand</td>\n      <td>Lignite</td>\n      <td>NaN</td>\n    </tr>\n    <tr>\n      <th>3</th>\n      <td>PV</td>\n      <td>Lignite</td>\n      <td>NaN</td>\n    </tr>\n    <tr>\n      <th>4</th>\n      <td>Wind Onshore</td>\n      <td>Lignite</td>\n      <td>NaN</td>\n    </tr>\n    <tr>\n      <th>...</th>\n      <td>...</td>\n      <td>...</td>\n      <td>...</td>\n    </tr>\n    <tr>\n      <th>165</th>\n      <td>PV</td>\n      <td>Mixed</td>\n      <td>0.01</td>\n    </tr>\n    <tr>\n      <th>166</th>\n      <td>Demand</td>\n      <td>Mixed</td>\n      <td>NaN</td>\n    </tr>\n    <tr>\n      <th>167</th>\n      <td>Hard coal</td>\n      <td>Mixed</td>\n      <td>NaN</td>\n    </tr>\n    <tr>\n      <th>168</th>\n      <td>Gas</td>\n      <td>Mixed</td>\n      <td>NaN</td>\n    </tr>\n    <tr>\n      <th>169</th>\n      <td>Lignite</td>\n      <td>Mixed</td>\n      <td>NaN</td>\n    </tr>\n  </tbody>\n</table>\n<p>170 rows × 3 columns</p>\n</div>"
     },
     "execution_count": 499,
     "metadata": {},
     "output_type": "execute_result"
    }
   ],
   "source": [
    "# data[\"Technologie\"].unique()\n",
    "df_melt['values']=df_melt['values'].replace(0, np.nan)\n",
    "df_melt\n",
    "#['Technologie','Lignite', 'Coal', 'CCGT', 'OCGT', 'Wind_Onshore', 'Wind_Offshore',\n",
    "#       'Solar', 'LitIon', 'PSH', 'Total']"
   ],
   "metadata": {
    "collapsed": false,
    "pycharm": {
     "name": "#%%\n"
    }
   }
  },
  {
   "cell_type": "code",
   "execution_count": 500,
   "outputs": [
    {
     "data": {
      "text/plain": "<Figure size 469.85x360 with 1 Axes>",
      "image/png": "[encoded data removed]"
     },
     "metadata": {},
     "output_type": "display_data"
    }
   ],
   "source": [
    "import matplotlib.pyplot as plt\n",
    "#sns.set_palette(sns.color_palette(hue1))\n",
    "ax = sns.catplot(x=\"intensities\", y=\"values\", data=df_melt,linewidth=1, s=10, hue='Technologie', palette = sns.color_palette([\"#9A7B5C\", \"#C7DADA\", \"#8D4D4D\", \"#FFF340\", \"#5A67FF\", \"#00B8F2\", \"#87CD5C\", \"#51B351\", \"#404040\"]))\n",
    "sns.set(rc={'figure.figsize':(20,15)})\n",
    "\n",
    "ax.set_xticklabels(rotation = 90)\n",
    "\n",
    "ax.axes[0][0].axhline(y = 0, ls='--', color='black', linewidth=2, alpha=.7)\n",
    "ax._legend.remove()\n",
    "ax.set_axis_labels(\"\",\"\")\n",
    "#ax.set_xlim((-0.65,0.2))\n",
    "ax._legend.set_title(\"Shock on...\")\n",
    "# ax.set_xlabels()\n",
    "ax.set_ylabels(\"Profit per Investment (npv)\")\n",
    "ax.set_xlabels(\"Investors\")\n",
    "plt.ylim(-0.65,0.2)\n",
    "plt.legend(bbox_to_anchor=(1.05, 1), loc=2, borderaxespad=0., title=\"Shock On...\");"
   ],
   "metadata": {
    "collapsed": false,
    "pycharm": {
     "name": "#%%\n"
    }
   }
  },
  {
   "cell_type": "code",
   "execution_count": 501,
   "outputs": [
    {
     "data": {
      "text/plain": "      Technologie intensities  values\n0             Gas     Lignite     NaN\n1       Hard coal     Lignite     NaN\n2          Demand     Lignite     NaN\n3              PV     Lignite     NaN\n4    Wind Onshore     Lignite     NaN\n..            ...         ...     ...\n165            PV       Mixed    0.01\n166        Demand       Mixed     NaN\n167     Hard coal       Mixed     NaN\n168           Gas       Mixed     NaN\n169       Lignite       Mixed     NaN\n\n[170 rows x 3 columns]",
      "text/html": "<div>\n<style scoped>\n    .dataframe tbody tr th:only-of-type {\n        vertical-align: middle;\n    }\n\n    .dataframe tbody tr th {\n        vertical-align: top;\n    }\n\n    .dataframe thead th {\n        text-align: right;\n    }\n</style>\n<table border=\"1\" class=\"dataframe\">\n  <thead>\n    <tr style=\"text-align: right;\">\n      <th></th>\n      <th>Technologie</th>\n      <th>intensities</th>\n      <th>values</th>\n    </tr>\n  </thead>\n  <tbody>\n    <tr>\n      <th>0</th>\n      <td>Gas</td>\n      <td>Lignite</td>\n      <td>NaN</td>\n    </tr>\n    <tr>\n      <th>1</th>\n      <td>Hard coal</td>\n      <td>Lignite</td>\n      <td>NaN</td>\n    </tr>\n    <tr>\n      <th>2</th>\n      <td>Demand</td>\n      <td>Lignite</td>\n      <td>NaN</td>\n    </tr>\n    <tr>\n      <th>3</th>\n      <td>PV</td>\n      <td>Lignite</td>\n      <td>NaN</td>\n    </tr>\n    <tr>\n      <th>4</th>\n      <td>Wind Onshore</td>\n      <td>Lignite</td>\n      <td>NaN</td>\n    </tr>\n    <tr>\n      <th>...</th>\n      <td>...</td>\n      <td>...</td>\n      <td>...</td>\n    </tr>\n    <tr>\n      <th>165</th>\n      <td>PV</td>\n      <td>Mixed</td>\n      <td>0.01</td>\n    </tr>\n    <tr>\n      <th>166</th>\n      <td>Demand</td>\n      <td>Mixed</td>\n      <td>NaN</td>\n    </tr>\n    <tr>\n      <th>167</th>\n      <td>Hard coal</td>\n      <td>Mixed</td>\n      <td>NaN</td>\n    </tr>\n    <tr>\n      <th>168</th>\n      <td>Gas</td>\n      <td>Mixed</td>\n      <td>NaN</td>\n    </tr>\n    <tr>\n      <th>169</th>\n      <td>Lignite</td>\n      <td>Mixed</td>\n      <td>NaN</td>\n    </tr>\n  </tbody>\n</table>\n<p>170 rows × 3 columns</p>\n</div>"
     },
     "execution_count": 501,
     "metadata": {},
     "output_type": "execute_result"
    }
   ],
   "source": [
    "df_melt.head(200)"
   ],
   "metadata": {
    "collapsed": false,
    "pycharm": {
     "name": "#%%\n"
    }
   }
  },
  {
   "cell_type": "code",
   "execution_count": 502,
   "outputs": [],
   "source": [
    "#plt.savefig(images\\Figure9_CO2_Cap, format=\"svg\")\n",
    "ax.savefig(\"images\\Figure9_CO2_Cap.svg\")"
   ],
   "metadata": {
    "collapsed": false,
    "pycharm": {
     "name": "#%%\n"
    }
   }
  },
  {
   "cell_type": "code",
   "execution_count": null,
   "outputs": [],
   "source": [],
   "metadata": {
    "collapsed": false,
    "pycharm": {
     "name": "#%%\n"
    }
   }
  }
 ],
 "metadata": {
  "kernelspec": {
   "display_name": "Python 3",
   "language": "python",
   "name": "python3"
  },
  "language_info": {
   "codemirror_mode": {
    "name": "ipython",
    "version": 2
   },
   "file_extension": ".py",
   "mimetype": "text/x-python",
   "name": "python",
   "nbconvert_exporter": "python",
   "pygments_lexer": "ipython2",
   "version": "2.7.6"
  }
 },
 "nbformat": 4,
 "nbformat_minor": 0
}