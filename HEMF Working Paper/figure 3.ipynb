{
 "cells": [
  {
   "cell_type": "code",
   "execution_count": 1,
   "metadata": {
    "collapsed": true,
    "pycharm": {
     "name": "#%%\n"
    }
   },
   "outputs": [],
   "source": [
    "import scrapy as sp\n",
    "\n"
   ]
  },
  {
   "cell_type": "code",
   "execution_count": null,
   "outputs": [],
   "source": [
    "from bokeh.plotting import figure, output_file, show\n",
    "from bokeh.models import Title\n",
    "from bokeh.core.properties import value\n",
    "from bokeh.layouts import row\n",
    "from bokeh.models import Legend\n",
    "from bokeh.io import export_svgs\n",
    "from bokeh.models import LinearAxis, Range1d\n",
    "from bokeh.layouts import column\n",
    "output_file('stacked.html')\n",
    "\n",
    "capacity = ['CO\\N{SUBSCRIPT TWO} Cap', 'RES Min Quota', 'CO\\N{SUBSCRIPT TWO} Tax', 'FIT']\n",
    "types = ['Lignite', 'Hard Coal', 'CCGT', 'OCGT','Wind Onshore', 'Wind Offshore', 'PV']\n",
    "colors = [\"#9A7B5C\", \"#8D4D4D\", \"#C7DADA\", \"#758075\", \"#5A67FF\",'#00B8F2', '#FFF340']\n",
    "\n",
    "maxload = [90.03467675, 90.03467675, 90.03467675, 90.03467675]\n",
    "Total_demand = [540.7686148, 540.7686148, 540.7686148, 540.7686148]\n",
    "\n",
    "\n",
    "data = {'capacity' : capacity,\n",
    "        'Lignite'   : [0,22.28330605,0,25.76575924],\n",
    "        'Coal'   : [0, 0, 0,0],\n",
    "        'CCGT'   : [52.12309276, 0.209356135, 52.12598273, 6.416971663],\n",
    "        'OCGT'   : [10.1753325,20.35167058,10.1729694,22.18142626],\n",
    "        'Wind Onshore': [90.66714923, 77.28982927, 90.6875821, 86.3713515],\n",
    "        'Wind Offshore': [24.26075426, 53.92876756, 24.25201174, 60.265434],\n",
    "        'PV' : [90.1174063, 159.3567357, 90.0774928, 178.0811123]\n",
    "        }\n",
    "\n",
    "s1 = figure(x_range=capacity, plot_height=450,plot_width=555,\n",
    "            title=\"Capacity (in GW)\")\n",
    "\n",
    "\n",
    "s1.vbar_stack(types, x='capacity', width=0.5, color=colors, source=data,\n",
    "             legend=[value(x) for x in types], hatch_pattern=['dot', 'spiral',\n",
    "                                                              'vertical_wave', 'right_diagonal_line',\n",
    "                                                              'vertical_dash', 'left_diagonal_line', 'ring'])\n",
    "\n",
    "s1.ray(x=[-1], y = maxload, color=\"#FF4000\", line_width=3, legend_label = \"Max Load\")\n",
    "\n",
    "s1.y_range.start = 0\n",
    "s1.x_range.range_padding = 0.7\n",
    "s1.xaxis.major_label_text_font_size = \"10px\"\n",
    "s1.legend.location = \"top_right\"\n",
    "s1.legend.click_policy=\"hide\"\n",
    "s1.toolbar.logo = None\n",
    "s1.toolbar_location = None\n",
    "s1.yaxis.major_label_text_font_size = \"12px\"\n",
    "s1.xaxis.major_label_text_font_size = \"12px\"\n",
    "# s1.add_layout(Title(text=\"Capacity (in GW) \"), \"left\")\n",
    "\n",
    "\n",
    "\n",
    "#show(s1)\n",
    "\n",
    "\n",
    "data1 = {'capacity' : capacity,\n",
    "        'Lignite'   : [0,88.2252938,0,85.90146504],\n",
    "        'Coal'   : [0, 0, 0,0],\n",
    "        'CCGT'   : [218.8212912, 0.250079171, 218.8516421, 9.432063474],\n",
    "        'OCGT'   : [2.066936184, 12.32389683, 2.066549459, 9.832265967],\n",
    "        'Wind Onshore': [163.1994313, 139.1204674, 163.2362101, 155.4670635],\n",
    "        'Wind Offshore': [84.91148221, 188.748113, 84.8808838, 210.9261432],\n",
    "        'PV' : [81.10978468, 143.4283459, 81.0738607, 160.2811406]\n",
    "        }\n",
    "\n",
    "s2 = figure(x_range=capacity, plot_height=450,plot_width=555,\n",
    "            title=\"Power Generation (in TWh)\")\n",
    "s2.vbar_stack(types, x='capacity', width=0.5, color=colors, source=data1,\n",
    "             legend=[value(x) for x in types], hatch_pattern=['dot', 'spiral', 'vertical_wave', 'right_diagonal_line', 'vertical_dash', 'left_diagonal_line', 'ring'])\n",
    "s2.ray(x = [-1], y = Total_demand, color=\"#FF4000\", line_width=3, legend_label = \"Total Demand\")\n",
    "s2.yaxis.major_label_text_font_size = \"12px\"\n",
    "s2.xaxis.major_label_text_font_size = \"12px\"\n",
    "s2.y_range.start = 0\n",
    "s2.x_range.range_padding = 0.7\n",
    "s2.legend.location = \"top_right\"\n",
    "s2.legend.click_policy=\"hide\"\n",
    "s2.toolbar.logo = None\n",
    "s2.toolbar_location = None\n",
    "show(row(s1,s2))"
   ],
   "metadata": {
    "collapsed": false,
    "pycharm": {
     "name": "#%%\n"
    }
   }
  },
  {
   "cell_type": "code",
   "execution_count": 24,
   "outputs": [],
   "source": [],
   "metadata": {
    "collapsed": false,
    "pycharm": {
     "name": "#%%\n"
    }
   }
  },
  {
   "cell_type": "code",
   "execution_count": null,
   "outputs": [],
   "source": [],
   "metadata": {
    "collapsed": false,
    "pycharm": {
     "name": "#%%\n"
    }
   }
  }
 ],
 "metadata": {
  "kernelspec": {
   "display_name": "Python 3",
   "language": "python",
   "name": "python3"
  },
  "language_info": {
   "codemirror_mode": {
    "name": "ipython",
    "version": 2
   },
   "file_extension": ".py",
   "mimetype": "text/x-python",
   "name": "python",
   "nbconvert_exporter": "python",
   "pygments_lexer": "ipython2",
   "version": "2.7.6"
  }
 },
 "nbformat": 4,
 "nbformat_minor": 0
}