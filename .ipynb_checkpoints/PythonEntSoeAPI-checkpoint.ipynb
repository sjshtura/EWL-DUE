{
 "cells": [
  {
   "cell_type": "code",
   "execution_count": 30,
   "metadata": {
    "collapsed": true,
    "pycharm": {
     "is_executing": false
    }
   },
   "outputs": [
    {
     "ename": "ValueError",
     "evalue": "No objects to concatenate",
     "output_type": "error",
     "traceback": [
      "\u001b[0;31m---------------------------------------------------------------------------\u001b[0m",
      "\u001b[0;31mValueError\u001b[0m                                Traceback (most recent call last)",
      "\u001b[0;32m<ipython-input-30-a8fffd2f5d40>\u001b[0m in \u001b[0;36m<module>\u001b[0;34m\u001b[0m\n\u001b[1;32m     19\u001b[0m \u001b[0mclient\u001b[0m\u001b[0;34m.\u001b[0m\u001b[0mquery_installed_generation_capacity\u001b[0m\u001b[0;34m(\u001b[0m\u001b[0mcountry_code\u001b[0m\u001b[0;34m,\u001b[0m \u001b[0mstart\u001b[0m\u001b[0;34m=\u001b[0m\u001b[0mstart\u001b[0m\u001b[0;34m,\u001b[0m\u001b[0mend\u001b[0m\u001b[0;34m=\u001b[0m\u001b[0mend\u001b[0m\u001b[0;34m,\u001b[0m \u001b[0mpsr_type\u001b[0m\u001b[0;34m=\u001b[0m\u001b[0;32mNone\u001b[0m\u001b[0;34m)\u001b[0m\u001b[0;34m\u001b[0m\u001b[0;34m\u001b[0m\u001b[0m\n\u001b[1;32m     20\u001b[0m \u001b[0mclient\u001b[0m\u001b[0;34m.\u001b[0m\u001b[0mquery_crossborder_flows\u001b[0m\u001b[0;34m(\u001b[0m\u001b[0;34m'DE'\u001b[0m\u001b[0;34m,\u001b[0m \u001b[0;34m'DK'\u001b[0m\u001b[0;34m,\u001b[0m \u001b[0mstart\u001b[0m\u001b[0;34m=\u001b[0m\u001b[0mstart\u001b[0m\u001b[0;34m,\u001b[0m\u001b[0mend\u001b[0m\u001b[0;34m=\u001b[0m\u001b[0mend\u001b[0m\u001b[0;34m)\u001b[0m\u001b[0;34m\u001b[0m\u001b[0;34m\u001b[0m\u001b[0m\n\u001b[0;32m---> 21\u001b[0;31m \u001b[0mclient\u001b[0m\u001b[0;34m.\u001b[0m\u001b[0mquery_imbalance_prices\u001b[0m\u001b[0;34m(\u001b[0m\u001b[0mcountry_code\u001b[0m\u001b[0;34m,\u001b[0m \u001b[0mstart\u001b[0m\u001b[0;34m=\u001b[0m\u001b[0mstart\u001b[0m\u001b[0;34m,\u001b[0m\u001b[0mend\u001b[0m\u001b[0;34m=\u001b[0m\u001b[0mend\u001b[0m\u001b[0;34m,\u001b[0m \u001b[0mpsr_type\u001b[0m\u001b[0;34m=\u001b[0m\u001b[0;32mNone\u001b[0m\u001b[0;34m)\u001b[0m\u001b[0;34m\u001b[0m\u001b[0;34m\u001b[0m\u001b[0m\n\u001b[0m\u001b[1;32m     22\u001b[0m \u001b[0mclient\u001b[0m\u001b[0;34m.\u001b[0m\u001b[0mquery_unavailability_of_generation_units\u001b[0m\u001b[0;34m(\u001b[0m\u001b[0mcountry_code\u001b[0m\u001b[0;34m,\u001b[0m \u001b[0mstart\u001b[0m\u001b[0;34m=\u001b[0m\u001b[0mstart\u001b[0m\u001b[0;34m,\u001b[0m\u001b[0mend\u001b[0m\u001b[0;34m=\u001b[0m\u001b[0mend\u001b[0m\u001b[0;34m,\u001b[0m \u001b[0mdocstatus\u001b[0m\u001b[0;34m=\u001b[0m\u001b[0;32mNone\u001b[0m\u001b[0;34m)\u001b[0m\u001b[0;34m\u001b[0m\u001b[0;34m\u001b[0m\u001b[0m\n\u001b[1;32m     23\u001b[0m \u001b[0mclient\u001b[0m\u001b[0;34m.\u001b[0m\u001b[0mquery_withdrawn_unavailability_of_generation_units\u001b[0m\u001b[0;34m(\u001b[0m\u001b[0;34m'DE'\u001b[0m\u001b[0;34m,\u001b[0m \u001b[0mstart\u001b[0m\u001b[0;34m=\u001b[0m\u001b[0mstart\u001b[0m\u001b[0;34m,\u001b[0m\u001b[0mend\u001b[0m\u001b[0;34m=\u001b[0m\u001b[0mend\u001b[0m\u001b[0;34m)\u001b[0m\u001b[0;34m\u001b[0m\u001b[0;34m\u001b[0m\u001b[0m\n",
      "\u001b[0;32m~/Library/Python/3.7/lib/python/site-packages/entsoe/entsoe.py\u001b[0m in \u001b[0;36myear_wrapper\u001b[0;34m(start, end, *args, **kwargs)\u001b[0m\n\u001b[1;32m    738\u001b[0m         \u001b[0;32mfor\u001b[0m \u001b[0m_start\u001b[0m\u001b[0;34m,\u001b[0m \u001b[0m_end\u001b[0m \u001b[0;32min\u001b[0m \u001b[0mblocks\u001b[0m\u001b[0;34m:\u001b[0m\u001b[0;34m\u001b[0m\u001b[0;34m\u001b[0m\u001b[0m\n\u001b[1;32m    739\u001b[0m             \u001b[0;32mtry\u001b[0m\u001b[0;34m:\u001b[0m\u001b[0;34m\u001b[0m\u001b[0;34m\u001b[0m\u001b[0m\n\u001b[0;32m--> 740\u001b[0;31m                 \u001b[0mframe\u001b[0m \u001b[0;34m=\u001b[0m \u001b[0mfunc\u001b[0m\u001b[0;34m(\u001b[0m\u001b[0;34m*\u001b[0m\u001b[0margs\u001b[0m\u001b[0;34m,\u001b[0m \u001b[0mstart\u001b[0m\u001b[0;34m=\u001b[0m\u001b[0m_start\u001b[0m\u001b[0;34m,\u001b[0m \u001b[0mend\u001b[0m\u001b[0;34m=\u001b[0m\u001b[0m_end\u001b[0m\u001b[0;34m,\u001b[0m \u001b[0;34m**\u001b[0m\u001b[0mkwargs\u001b[0m\u001b[0;34m)\u001b[0m\u001b[0;34m\u001b[0m\u001b[0;34m\u001b[0m\u001b[0m\n\u001b[0m\u001b[1;32m    741\u001b[0m             \u001b[0;32mexcept\u001b[0m \u001b[0mNoMatchingDataError\u001b[0m\u001b[0;34m:\u001b[0m\u001b[0;34m\u001b[0m\u001b[0;34m\u001b[0m\u001b[0m\n\u001b[1;32m    742\u001b[0m                 \u001b[0mprint\u001b[0m\u001b[0;34m(\u001b[0m\u001b[0;34mf\"NoMatchingDataError: between {_start} and {_end}\"\u001b[0m\u001b[0;34m)\u001b[0m\u001b[0;34m\u001b[0m\u001b[0;34m\u001b[0m\u001b[0m\n",
      "\u001b[0;32m~/Library/Python/3.7/lib/python/site-packages/entsoe/entsoe.py\u001b[0m in \u001b[0;36mquery_imbalance_prices\u001b[0;34m(self, country_code, start, end, psr_type)\u001b[0m\n\u001b[1;32m   1027\u001b[0m         text = super(EntsoePandasClient, self).query_imbalance_prices(\n\u001b[1;32m   1028\u001b[0m             country_code=country_code, start=start, end=end, psr_type=psr_type)\n\u001b[0;32m-> 1029\u001b[0;31m         \u001b[0mdf\u001b[0m \u001b[0;34m=\u001b[0m \u001b[0mparse_imbalance_prices\u001b[0m\u001b[0;34m(\u001b[0m\u001b[0mtext\u001b[0m\u001b[0;34m)\u001b[0m\u001b[0;34m\u001b[0m\u001b[0;34m\u001b[0m\u001b[0m\n\u001b[0m\u001b[1;32m   1030\u001b[0m         \u001b[0mdf\u001b[0m \u001b[0;34m=\u001b[0m \u001b[0mdf\u001b[0m\u001b[0;34m.\u001b[0m\u001b[0mtz_convert\u001b[0m\u001b[0;34m(\u001b[0m\u001b[0mTIMEZONE_MAPPINGS\u001b[0m\u001b[0;34m[\u001b[0m\u001b[0mcountry_code\u001b[0m\u001b[0;34m]\u001b[0m\u001b[0;34m)\u001b[0m\u001b[0;34m\u001b[0m\u001b[0;34m\u001b[0m\u001b[0m\n\u001b[1;32m   1031\u001b[0m         \u001b[0mdf\u001b[0m \u001b[0;34m=\u001b[0m \u001b[0mdf\u001b[0m\u001b[0;34m.\u001b[0m\u001b[0mtruncate\u001b[0m\u001b[0;34m(\u001b[0m\u001b[0mbefore\u001b[0m\u001b[0;34m=\u001b[0m\u001b[0mstart\u001b[0m\u001b[0;34m,\u001b[0m \u001b[0mafter\u001b[0m\u001b[0;34m=\u001b[0m\u001b[0mend\u001b[0m\u001b[0;34m)\u001b[0m\u001b[0;34m\u001b[0m\u001b[0;34m\u001b[0m\u001b[0m\n",
      "\u001b[0;32m~/Library/Python/3.7/lib/python/site-packages/entsoe/parsers.py\u001b[0m in \u001b[0;36mparse_imbalance_prices\u001b[0;34m(xml_text)\u001b[0m\n\u001b[1;32m    187\u001b[0m     frames = (_parse_imbalance_prices_timeseries(soup)\n\u001b[1;32m    188\u001b[0m               for soup in timeseries_blocks)\n\u001b[0;32m--> 189\u001b[0;31m     \u001b[0mdf\u001b[0m \u001b[0;34m=\u001b[0m \u001b[0mpd\u001b[0m\u001b[0;34m.\u001b[0m\u001b[0mconcat\u001b[0m\u001b[0;34m(\u001b[0m\u001b[0mframes\u001b[0m\u001b[0;34m,\u001b[0m \u001b[0maxis\u001b[0m\u001b[0;34m=\u001b[0m\u001b[0;36m1\u001b[0m\u001b[0;34m)\u001b[0m\u001b[0;34m\u001b[0m\u001b[0;34m\u001b[0m\u001b[0m\n\u001b[0m\u001b[1;32m    190\u001b[0m     \u001b[0mdf\u001b[0m \u001b[0;34m=\u001b[0m \u001b[0mdf\u001b[0m\u001b[0;34m.\u001b[0m\u001b[0mstack\u001b[0m\u001b[0;34m(\u001b[0m\u001b[0;34m)\u001b[0m\u001b[0;34m.\u001b[0m\u001b[0munstack\u001b[0m\u001b[0;34m(\u001b[0m\u001b[0;34m)\u001b[0m \u001b[0;31m# ad-hoc fix to prevent column splitting by NaNs\u001b[0m\u001b[0;34m\u001b[0m\u001b[0;34m\u001b[0m\u001b[0m\n\u001b[1;32m    191\u001b[0m     \u001b[0mdf\u001b[0m\u001b[0;34m.\u001b[0m\u001b[0msort_index\u001b[0m\u001b[0;34m(\u001b[0m\u001b[0minplace\u001b[0m\u001b[0;34m=\u001b[0m\u001b[0;32mTrue\u001b[0m\u001b[0;34m)\u001b[0m\u001b[0;34m\u001b[0m\u001b[0;34m\u001b[0m\u001b[0m\n",
      "\u001b[0;32m/Library/Python/3.7/site-packages/pandas/core/reshape/concat.py\u001b[0m in \u001b[0;36mconcat\u001b[0;34m(objs, axis, join, ignore_index, keys, levels, names, verify_integrity, sort, copy)\u001b[0m\n\u001b[1;32m    279\u001b[0m         \u001b[0mverify_integrity\u001b[0m\u001b[0;34m=\u001b[0m\u001b[0mverify_integrity\u001b[0m\u001b[0;34m,\u001b[0m\u001b[0;34m\u001b[0m\u001b[0;34m\u001b[0m\u001b[0m\n\u001b[1;32m    280\u001b[0m         \u001b[0mcopy\u001b[0m\u001b[0;34m=\u001b[0m\u001b[0mcopy\u001b[0m\u001b[0;34m,\u001b[0m\u001b[0;34m\u001b[0m\u001b[0;34m\u001b[0m\u001b[0m\n\u001b[0;32m--> 281\u001b[0;31m         \u001b[0msort\u001b[0m\u001b[0;34m=\u001b[0m\u001b[0msort\u001b[0m\u001b[0;34m,\u001b[0m\u001b[0;34m\u001b[0m\u001b[0;34m\u001b[0m\u001b[0m\n\u001b[0m\u001b[1;32m    282\u001b[0m     )\n\u001b[1;32m    283\u001b[0m \u001b[0;34m\u001b[0m\u001b[0m\n",
      "\u001b[0;32m/Library/Python/3.7/site-packages/pandas/core/reshape/concat.py\u001b[0m in \u001b[0;36m__init__\u001b[0;34m(self, objs, axis, join, keys, levels, names, ignore_index, verify_integrity, copy, sort)\u001b[0m\n\u001b[1;32m    327\u001b[0m \u001b[0;34m\u001b[0m\u001b[0m\n\u001b[1;32m    328\u001b[0m         \u001b[0;32mif\u001b[0m \u001b[0mlen\u001b[0m\u001b[0;34m(\u001b[0m\u001b[0mobjs\u001b[0m\u001b[0;34m)\u001b[0m \u001b[0;34m==\u001b[0m \u001b[0;36m0\u001b[0m\u001b[0;34m:\u001b[0m\u001b[0;34m\u001b[0m\u001b[0;34m\u001b[0m\u001b[0m\n\u001b[0;32m--> 329\u001b[0;31m             \u001b[0;32mraise\u001b[0m \u001b[0mValueError\u001b[0m\u001b[0;34m(\u001b[0m\u001b[0;34m\"No objects to concatenate\"\u001b[0m\u001b[0;34m)\u001b[0m\u001b[0;34m\u001b[0m\u001b[0;34m\u001b[0m\u001b[0m\n\u001b[0m\u001b[1;32m    330\u001b[0m \u001b[0;34m\u001b[0m\u001b[0m\n\u001b[1;32m    331\u001b[0m         \u001b[0;32mif\u001b[0m \u001b[0mkeys\u001b[0m \u001b[0;32mis\u001b[0m \u001b[0;32mNone\u001b[0m\u001b[0;34m:\u001b[0m\u001b[0;34m\u001b[0m\u001b[0;34m\u001b[0m\u001b[0m\n",
      "\u001b[0;31mValueError\u001b[0m: No objects to concatenate"
     ]
    }
   ],
   "source": [
    "from entsoe import EntsoePandasClient\n",
    "import pandas as pd\n",
    "\n",
    "client = EntsoePandasClient(api_key='c4d117a2-f140-492b-bc2b-d615ec5774f4')\n",
    "\n",
    "start = pd.Timestamp('20171201', tz='Europe/Brussels')\n",
    "end = pd.Timestamp('20180101', tz='Europe/Brussels')\n",
    "country_code = 'BE'  # Belgium\n",
    "\n",
    "# methods that return Pandas Series\n",
    "client.query_day_ahead_prices(country_code, start=start,end=end)\n",
    "client.query_load(country_code, start=start,end=end)\n",
    "client.query_load_forecast(country_code, start=start,end=end)\n",
    "client.query_generation_forecast(country_code, start=start,end=end)\n",
    "\n",
    "# methods that return Pandas DataFrames\n",
    "client.query_wind_and_solar_forecast(country_code, start=start,end=end, psr_type=None)\n",
    "client.query_generation(country_code, start=start,end=end, psr_type=None)\n",
    "client.query_installed_generation_capacity(country_code, start=start,end=end, psr_type=None)\n",
    "client.query_crossborder_flows('DE', 'DK', start=start,end=end)\n",
    "client.query_imbalance_prices(country_code, start=start,end=end, psr_type=None)\n",
    "client.query_unavailability_of_generation_units(country_code, start=start,end=end, docstatus=None)\n",
    "client.query_withdrawn_unavailability_of_generation_units('DE', start=start,end=end)"
   ]
  },
  {
   "cell_type": "code",
   "execution_count": null,
   "metadata": {
    "pycharm": {
     "is_executing": false,
     "name": "#%%\n"
    }
   },
   "outputs": [],
   "source": [
    "ts = client.query_day_ahead_prices(country_code, start=start, end=end)\n",
    "ts.to_csv('outfile.csv')"
   ]
  },
  {
   "cell_type": "code",
   "execution_count": 8,
   "metadata": {
    "pycharm": {
     "name": "#%%\n"
    }
   },
   "outputs": [
    {
     "name": "stdout",
     "output_type": "stream",
     "text": [
      "            Row  Total_CO2_Emissions Pol_Inst Technologie  Shock  Unnamed: 5  \\\n",
      "0    1355555555          1503.600000  CO2_Cap     Lignite   -0.2   355555555   \n",
      "1    1455555555          1503.600000  CO2_Cap     Lignite   -0.1   455555555   \n",
      "2    1535555555          1503.600000  CO2_Cap         Gas   -0.2   535555555   \n",
      "3    1545555555          1503.600000  CO2_Cap         Gas   -0.1   545555555   \n",
      "4    1553555555          1503.600000  CO2_Cap    Hardcoal   -0.2   553555555   \n",
      "..          ...                  ...      ...         ...    ...         ...   \n",
      "143  4557555555          1503.675998      FIT    Hardcoal    0.2   557555555   \n",
      "144  4565555555          1521.041561      FIT         Gas    0.1   565555555   \n",
      "145  4575555555          1551.055722      FIT         Gas    0.2   575555555   \n",
      "146  4655555555          1483.893265      FIT     Lignite    0.1   655555555   \n",
      "147  4755555555          1468.099519      FIT     Lignite    0.2   755555555   \n",
      "\n",
      "     Unnamed: 6  Unnamed: 7  Unnamed: 8  Unnamed: 9 Unnamed: 10  Unnamed: 11  \n",
      "0             1         3.0         NaN         NaN     CO2_Cap  Lignite-20%  \n",
      "1             1         4.0         NaN         NaN         NaN          NaN  \n",
      "2             2         3.0         NaN         NaN         NaN          NaN  \n",
      "3             2         4.0         NaN         NaN         NaN          NaN  \n",
      "4             3         3.0         NaN         NaN         NaN          NaN  \n",
      "..          ...         ...         ...         ...         ...          ...  \n",
      "143           3         7.0         NaN         NaN         NaN          NaN  \n",
      "144           2         6.0         NaN         NaN         NaN          NaN  \n",
      "145           2         7.0         NaN         NaN         NaN          NaN  \n",
      "146           1         6.0         NaN         NaN         NaN          NaN  \n",
      "147           1         7.0         NaN         NaN         NaN          NaN  \n",
      "\n",
      "[148 rows x 12 columns]\n",
      "     Total_CO2_Emissions Pol_Inst Technologie  Shock\n",
      "0            1503.600000  CO2_Cap     Lignite   -0.2\n",
      "1            1503.600000  CO2_Cap     Lignite   -0.1\n",
      "2            1503.600000  CO2_Cap         Gas   -0.2\n",
      "3            1503.600000  CO2_Cap         Gas   -0.1\n",
      "4            1503.600000  CO2_Cap    Hardcoal   -0.2\n",
      "..                   ...      ...         ...    ...\n",
      "143          1503.675998      FIT    Hardcoal    0.2\n",
      "144          1521.041561      FIT         Gas    0.1\n",
      "145          1551.055722      FIT         Gas    0.2\n",
      "146          1483.893265      FIT     Lignite    0.1\n",
      "147          1468.099519      FIT     Lignite    0.2\n",
      "\n",
      "[148 rows x 4 columns]\n",
      "['CO2_Cap' 'Min_RES_Quota' 'CO2_Tax' 'FIT']\n",
      "Lignite\n",
      "            Row  Total_CO2_Emissions Pol_Inst Technologie  Shock  Unnamed: 5  \\\n",
      "0    1355555555          1503.600000  CO2_Cap     Lignite   -0.2   355555555   \n",
      "1    1455555555          1503.600000  CO2_Cap     Lignite   -0.1   455555555   \n",
      "2    1535555555          1503.600000  CO2_Cap         Gas   -0.2   535555555   \n",
      "3    1545555555          1503.600000  CO2_Cap         Gas   -0.1   545555555   \n",
      "4    1553555555          1503.600000  CO2_Cap    Hardcoal   -0.2   553555555   \n",
      "..          ...                  ...      ...         ...    ...         ...   \n",
      "143  4557555555          1503.675998      FIT    Hardcoal    0.2   557555555   \n",
      "144  4565555555          1521.041561      FIT         Gas    0.1   565555555   \n",
      "145  4575555555          1551.055722      FIT         Gas    0.2   575555555   \n",
      "146  4655555555          1483.893265      FIT     Lignite    0.1   655555555   \n",
      "147  4755555555          1468.099519      FIT     Lignite    0.2   755555555   \n",
      "\n",
      "     Unnamed: 6  Unnamed: 7  Unnamed: 8  Unnamed: 9 Unnamed: 10  Unnamed: 11  \n",
      "0             1         3.0         NaN         NaN     CO2_Cap  Lignite-20%  \n",
      "1             1         4.0         NaN         NaN         NaN          NaN  \n",
      "2             2         3.0         NaN         NaN         NaN          NaN  \n",
      "3             2         4.0         NaN         NaN         NaN          NaN  \n",
      "4             3         3.0         NaN         NaN         NaN          NaN  \n",
      "..          ...         ...         ...         ...         ...          ...  \n",
      "143           3         7.0         NaN         NaN         NaN          NaN  \n",
      "144           2         6.0         NaN         NaN         NaN          NaN  \n",
      "145           2         7.0         NaN         NaN         NaN          NaN  \n",
      "146           1         6.0         NaN         NaN         NaN          NaN  \n",
      "147           1         7.0         NaN         NaN         NaN          NaN  \n",
      "\n",
      "[148 rows x 12 columns]\n"
     ]
    }
   ],
   "source": [
    "from bokeh.core.properties import value\n",
    "from bokeh.plotting import figure, show, output_file\n",
    "from bokeh.layouts import row\n",
    "from bokeh.models import Legend\n",
    "import pandas as pd\n",
    "\n",
    "# output_file('stacked.html')\n",
    "\n",
    "# capacity = ['CO2_Cap', 'Min_RES_Quota', 'CO2_Tax', 'FIT']\n",
    "# types = ['Costs_K_G', 'Costs_K_S_ch', 'Costs_V_S', 'Costs_op_fu_G_C', 'Costs_op_em_G_C', 'Costs_VolL']\n",
    "# colors = [\"#c9d9d3\", \"#718dbf\", \"#e84d60\", \"#FFA500\", \"#32CD32\", '#00FFFF']\n",
    "\n",
    "# maxload = [90.03467675, 90.03467675, 90.03467675, 90.03467675]\n",
    "# Total_demand = [540.7686148, 540.7686148, 540.7686148, 540.7686148]\n",
    "\n",
    "\n",
    "data = pd.read_excel(r'/Users/shakhawat_hossain_turag/Desktop/Uni/Energiewirtschaft /Copy of Figures_Data_Preparation.xlsx', sheet_name = 'Figure 6')\n",
    "print(data)\n",
    "data1 = data.iloc[:,1:5]\n",
    "print(data1)\n",
    "\n",
    "capacity = data['Pol_Inst'].unique()\n",
    "types = data['Technologie'].unique()\n",
    "colors = [\"#c9d9d3\", \"#718dbf\", \"#e84d60\", \"#FFA500\", \"#32CD32\",'#00FFFF', '#FAEBD7']\n",
    "\n",
    "\n",
    "print(capacity)\n",
    "print(types[0])\n",
    "print(data)"
   ]
  },
  {
   "cell_type": "code",
   "execution_count": 9,
   "metadata": {
    "pycharm": {
     "name": "#%%\n"
    }
   },
   "outputs": [
    {
     "name": "stdout",
     "output_type": "stream",
     "text": [
      "<class 'pandas.core.frame.DataFrame'>\n",
      "<class 'numpy.ndarray'>\n"
     ]
    }
   ],
   "source": [
    "print(type(data))\n",
    "print(type(capacity))"
   ]
  },
  {
   "cell_type": "code",
   "execution_count": 10,
   "metadata": {
    "pycharm": {
     "name": "#%%\n"
    }
   },
   "outputs": [
    {
     "name": "stdout",
     "output_type": "stream",
     "text": [
      "['Lignite' 'Gas' 'Hardcoal' 'Demand' 'Solar' 'Wind_Onshore'\n",
      " 'Wind_Offshore' 'Lit_Ion' 'PSH' 'no']\n"
     ]
    }
   ],
   "source": [
    "print(data1.Technologie.unique())"
   ]
  },
  {
   "cell_type": "code",
   "execution_count": 11,
   "metadata": {
    "pycharm": {
     "name": "#%%\n"
    }
   },
   "outputs": [
    {
     "name": "stdout",
     "output_type": "stream",
     "text": [
      "    Total_CO2_Emissions Pol_Inst Technologie  Shock\n",
      "6                1503.6  CO2_Cap      Demand   -0.2\n",
      "7                1503.6  CO2_Cap      Demand   -0.1\n",
      "29               1503.6  CO2_Cap      Demand    0.1\n",
      "30               1503.6  CO2_Cap      Demand    0.2\n"
     ]
    },
    {
     "data": {
      "text/plain": [
       "pandas.core.series.Series"
      ]
     },
     "execution_count": 11,
     "metadata": {},
     "output_type": "execute_result"
    }
   ],
   "source": [
    "Lignite = data1.loc[(data1['Pol_Inst'] == capacity[0]) & (data1['Technologie'] == types[0])]\n",
    "Gas = data1.loc[(data1['Pol_Inst'] == capacity[0]) & (data1['Technologie'] == types[1])]\n",
    "Hardcoal = data1.loc[(data1['Pol_Inst'] == capacity[0]) & (data1['Technologie'] == types[2])]\n",
    "Demand = data1.loc[(data1['Pol_Inst'] == capacity[0]) & (data1['Technologie'] == types[3])]\n",
    "Solar = data1.loc[(data1['Pol_Inst'] == capacity[0]) & (data1['Technologie'] == types[4])]\n",
    "Wind_Offshore = data1.loc[(data1['Pol_Inst'] == capacity[0]) & (data1['Technologie'] == types[5])]\n",
    "Lit_Ion = data1.loc[(data1['Pol_Inst'] == capacity[0]) & (data1['Technologie'] == types[6])]\n",
    "\n",
    "\n",
    "# Lignite = Lig\n",
    "print(Demand)\n",
    "type(Lignite.Shock)\n",
    "#Gas.plot(x='Shock' , y='Total_CO2_Emissions', marker='x')"
   ]
  },
  {
   "cell_type": "code",
   "execution_count": 12,
   "metadata": {
    "pycharm": {
     "name": "#%%\n"
    }
   },
   "outputs": [
    {
     "name": "stderr",
     "output_type": "stream",
     "text": [
      "BokehDeprecationWarning: 'legend' keyword is deprecated, use explicit 'legend_label', 'legend_field', or 'legend_group' keywords instead\n",
      "BokehDeprecationWarning: 'legend' keyword is deprecated, use explicit 'legend_label', 'legend_field', or 'legend_group' keywords instead\n",
      "BokehDeprecationWarning: 'legend' keyword is deprecated, use explicit 'legend_label', 'legend_field', or 'legend_group' keywords instead\n",
      "BokehDeprecationWarning: 'legend' keyword is deprecated, use explicit 'legend_label', 'legend_field', or 'legend_group' keywords instead\n",
      "BokehDeprecationWarning: 'legend' keyword is deprecated, use explicit 'legend_label', 'legend_field', or 'legend_group' keywords instead\n",
      "BokehDeprecationWarning: 'legend' keyword is deprecated, use explicit 'legend_label', 'legend_field', or 'legend_group' keywords instead\n",
      "BokehDeprecationWarning: 'legend' keyword is deprecated, use explicit 'legend_label', 'legend_field', or 'legend_group' keywords instead\n"
     ]
    }
   ],
   "source": [
    "from bokeh.plotting import figure, output_file, show\n",
    "from bokeh.models import Title\n",
    "\n",
    "shock = Lignite.Shock\n",
    "lignite = Lignite.Total_CO2_Emissions\n",
    "\n",
    "shock1 = Gas.Shock\n",
    "gas = Gas.Total_CO2_Emissions\n",
    "\n",
    "shock2 = Hardcoal.Shock\n",
    "hardcoal = Hardcoal.Total_CO2_Emissions\n",
    "\n",
    "shock3 = Demand.Shock\n",
    "demand = Demand.Total_CO2_Emissions\n",
    "\n",
    "shock4 = Solar.Shock\n",
    "solar = Solar.Total_CO2_Emissions\n",
    "\n",
    "shock5 = Wind_Offshore.Shock\n",
    "wind_Offshore = Wind_Offshore.Total_CO2_Emissions\n",
    "\n",
    "shock6 = Lit_Ion.Shock\n",
    "lit_Ion = Lit_Ion.Total_CO2_Emissions\n",
    "\n",
    "output_file(\"multiple.html\")\n",
    "\n",
    "p = figure(plot_width=800, plot_height=600)\n",
    "\n",
    "# add both a line and circles on the same plot\n",
    "p.line(shock, lignite, line_width=2, legend = 'Lignite', color = 'blue')\n",
    "p.circle_x(shock, lignite, fill_color=\"white\", size=10)\n",
    "\n",
    "p.line(shock1, gas, line_width=2, legend = 'Gas', color = 'red')\n",
    "p.circle_x(shock1, gas, fill_color=\"white\", size=10)\n",
    "\n",
    "p.line(shock2, hardcoal, line_width=2, legend = 'Hardcoal', color = 'black')\n",
    "p.circle_x(shock2, hardcoal, fill_color=\"white\", size=10)\n",
    "\n",
    "p.line(shock3, demand, line_width=2, legend = 'Demand', color = 'darkmagenta')\n",
    "p.circle_x(shock3, demand, fill_color=\"white\", size=10)\n",
    "\n",
    "p.line(shock4, solar, line_width=2, legend = 'Solar', color = 'chocolate')\n",
    "p.circle_x(shock4, solar, fill_color=\"white\", size=10)\n",
    "\n",
    "p.line(shock5, wind_Offshore, line_width=2, legend = 'Wind_Offshore', color = 'deeppink')\n",
    "p.circle_x(shock5, wind_Offshore, fill_color=\"white\", size=10)\n",
    "\n",
    "p.line(shock6, lit_Ion, line_width=2, legend = 'Lit_Ion', color = 'cyan')\n",
    "p.circle_x(shock6, lit_Ion, fill_color=\"white\", size=10)\n",
    "\n",
    "\n",
    "\n",
    "\n",
    "\n",
    "p.legend.location = \"top_left\"\n",
    "p.legend.click_policy=\"hide\"\n",
    "p.add_layout(Title(text=\"Total CO2 Emissions (in 10^6t) \", align=\"center\"), \"left\")\n",
    "p.add_layout(Title(text=\"Shock Strength\", align=\"center\"), \"below\")\n",
    "show(p)"
   ]
  },
  {
   "cell_type": "code",
   "execution_count": 13,
   "metadata": {
    "pycharm": {
     "name": "#%%\n"
    }
   },
   "outputs": [
    {
     "name": "stdout",
     "output_type": "stream",
     "text": [
      "            Row  Total_CO2_Emissions Pol_Inst Technologie  Shock  Unnamed: 5  \\\n",
      "0    1355555555          1503.600000  CO2_Cap     Lignite   -0.2   355555555   \n",
      "1    1455555555          1503.600000  CO2_Cap     Lignite   -0.1   455555555   \n",
      "2    1535555555          1503.600000  CO2_Cap         Gas   -0.2   535555555   \n",
      "3    1545555555          1503.600000  CO2_Cap         Gas   -0.1   545555555   \n",
      "4    1553555555          1503.600000  CO2_Cap    Hardcoal   -0.2   553555555   \n",
      "..          ...                  ...      ...         ...    ...         ...   \n",
      "143  4557555555          1503.675998      FIT    Hardcoal    0.2   557555555   \n",
      "144  4565555555          1521.041561      FIT         Gas    0.1   565555555   \n",
      "145  4575555555          1551.055722      FIT         Gas    0.2   575555555   \n",
      "146  4655555555          1483.893265      FIT     Lignite    0.1   655555555   \n",
      "147  4755555555          1468.099519      FIT     Lignite    0.2   755555555   \n",
      "\n",
      "     Unnamed: 6  Unnamed: 7  Unnamed: 8  Unnamed: 9 Unnamed: 10  Unnamed: 11  \n",
      "0             1         3.0         NaN         NaN     CO2_Cap  Lignite-20%  \n",
      "1             1         4.0         NaN         NaN         NaN          NaN  \n",
      "2             2         3.0         NaN         NaN         NaN          NaN  \n",
      "3             2         4.0         NaN         NaN         NaN          NaN  \n",
      "4             3         3.0         NaN         NaN         NaN          NaN  \n",
      "..          ...         ...         ...         ...         ...          ...  \n",
      "143           3         7.0         NaN         NaN         NaN          NaN  \n",
      "144           2         6.0         NaN         NaN         NaN          NaN  \n",
      "145           2         7.0         NaN         NaN         NaN          NaN  \n",
      "146           1         6.0         NaN         NaN         NaN          NaN  \n",
      "147           1         7.0         NaN         NaN         NaN          NaN  \n",
      "\n",
      "[148 rows x 12 columns]\n",
      "     Total_CO2_Emissions Pol_Inst Technologie  Shock\n",
      "0            1503.600000  CO2_Cap     Lignite   -0.2\n",
      "1            1503.600000  CO2_Cap     Lignite   -0.1\n",
      "2            1503.600000  CO2_Cap         Gas   -0.2\n",
      "3            1503.600000  CO2_Cap         Gas   -0.1\n",
      "4            1503.600000  CO2_Cap    Hardcoal   -0.2\n",
      "..                   ...      ...         ...    ...\n",
      "143          1503.675998      FIT    Hardcoal    0.2\n",
      "144          1521.041561      FIT         Gas    0.1\n",
      "145          1551.055722      FIT         Gas    0.2\n",
      "146          1483.893265      FIT     Lignite    0.1\n",
      "147          1468.099519      FIT     Lignite    0.2\n",
      "\n",
      "[148 rows x 4 columns]\n",
      "['CO2_Cap' 'Min_RES_Quota' 'CO2_Tax' 'FIT']\n",
      "Lignite\n",
      "            Row  Total_CO2_Emissions Pol_Inst Technologie  Shock  Unnamed: 5  \\\n",
      "0    1355555555          1503.600000  CO2_Cap     Lignite   -0.2   355555555   \n",
      "1    1455555555          1503.600000  CO2_Cap     Lignite   -0.1   455555555   \n",
      "2    1535555555          1503.600000  CO2_Cap         Gas   -0.2   535555555   \n",
      "3    1545555555          1503.600000  CO2_Cap         Gas   -0.1   545555555   \n",
      "4    1553555555          1503.600000  CO2_Cap    Hardcoal   -0.2   553555555   \n",
      "..          ...                  ...      ...         ...    ...         ...   \n",
      "143  4557555555          1503.675998      FIT    Hardcoal    0.2   557555555   \n",
      "144  4565555555          1521.041561      FIT         Gas    0.1   565555555   \n",
      "145  4575555555          1551.055722      FIT         Gas    0.2   575555555   \n",
      "146  4655555555          1483.893265      FIT     Lignite    0.1   655555555   \n",
      "147  4755555555          1468.099519      FIT     Lignite    0.2   755555555   \n",
      "\n",
      "     Unnamed: 6  Unnamed: 7  Unnamed: 8  Unnamed: 9 Unnamed: 10  Unnamed: 11  \n",
      "0             1         3.0         NaN         NaN     CO2_Cap  Lignite-20%  \n",
      "1             1         4.0         NaN         NaN         NaN          NaN  \n",
      "2             2         3.0         NaN         NaN         NaN          NaN  \n",
      "3             2         4.0         NaN         NaN         NaN          NaN  \n",
      "4             3         3.0         NaN         NaN         NaN          NaN  \n",
      "..          ...         ...         ...         ...         ...          ...  \n",
      "143           3         7.0         NaN         NaN         NaN          NaN  \n",
      "144           2         6.0         NaN         NaN         NaN          NaN  \n",
      "145           2         7.0         NaN         NaN         NaN          NaN  \n",
      "146           1         6.0         NaN         NaN         NaN          NaN  \n",
      "147           1         7.0         NaN         NaN         NaN          NaN  \n",
      "\n",
      "[148 rows x 12 columns]\n"
     ]
    }
   ],
   "source": [
    "# For MinResquota\n",
    "\n",
    "\n",
    "\n",
    "import pandas as pd\n",
    "\n",
    "# output_file('stacked.html')\n",
    "\n",
    "# capacity = ['CO2_Cap', 'Min_RES_Quota', 'CO2_Tax', 'FIT']\n",
    "# types = ['Costs_K_G', 'Costs_K_S_ch', 'Costs_V_S', 'Costs_op_fu_G_C', 'Costs_op_em_G_C', 'Costs_VolL']\n",
    "# colors = [\"#c9d9d3\", \"#718dbf\", \"#e84d60\", \"#FFA500\", \"#32CD32\", '#00FFFF']\n",
    "\n",
    "# maxload = [90.03467675, 90.03467675, 90.03467675, 90.03467675]\n",
    "# Total_demand = [540.7686148, 540.7686148, 540.7686148, 540.7686148]\n",
    "\n",
    "\n",
    "data = pd.read_excel(r'/Users/shakhawat_hossain_turag/Desktop/Uni/Energiewirtschaft /Copy of Figures_Data_Preparation.xlsx', sheet_name = 'Figure 6')\n",
    "print(data)\n",
    "data1 = data.iloc[:,1:5]\n",
    "print(data1)\n",
    "\n",
    "capacity = data['Pol_Inst'].unique()\n",
    "types = data['Technologie'].unique()\n",
    "colors = [\"#c9d9d3\", \"#718dbf\", \"#e84d60\", \"#FFA500\", \"#32CD32\",'#00FFFF', '#FAEBD7']\n",
    "\n",
    "\n",
    "print(capacity)\n",
    "print(types[0])\n",
    "print(data)"
   ]
  },
  {
   "cell_type": "code",
   "execution_count": 14,
   "metadata": {
    "pycharm": {
     "name": "#%%\n"
    }
   },
   "outputs": [
    {
     "name": "stdout",
     "output_type": "stream",
     "text": [
      "<class 'pandas.core.frame.DataFrame'>\n",
      "<class 'numpy.ndarray'>\n"
     ]
    }
   ],
   "source": [
    "print(type(data))\n",
    "print(type(capacity))"
   ]
  },
  {
   "cell_type": "code",
   "execution_count": 15,
   "metadata": {
    "pycharm": {
     "name": "#%%\n"
    }
   },
   "outputs": [
    {
     "name": "stdout",
     "output_type": "stream",
     "text": [
      "['Lignite' 'Gas' 'Hardcoal' 'Demand' 'Solar' 'Wind_Onshore'\n",
      " 'Wind_Offshore' 'Lit_Ion' 'PSH' 'no']\n"
     ]
    }
   ],
   "source": [
    "print(data1.Technologie.unique())"
   ]
  },
  {
   "cell_type": "code",
   "execution_count": 16,
   "metadata": {
    "pycharm": {
     "name": "#%%\n"
    }
   },
   "outputs": [
    {
     "name": "stdout",
     "output_type": "stream",
     "text": [
      "    Total_CO2_Emissions       Pol_Inst Technologie  Shock\n",
      "43          1153.692829  Min_RES_Quota      Demand   -0.2\n",
      "44          1347.647506  Min_RES_Quota      Demand   -0.1\n",
      "66          1646.441204  Min_RES_Quota      Demand    0.1\n",
      "67          1789.612125  Min_RES_Quota      Demand    0.2\n"
     ]
    },
    {
     "data": {
      "text/plain": [
       "pandas.core.series.Series"
      ]
     },
     "execution_count": 16,
     "metadata": {},
     "output_type": "execute_result"
    }
   ],
   "source": [
    "Lignite = data1.loc[(data1['Pol_Inst'] == capacity[1]) & (data1['Technologie'] == types[0])]\n",
    "Gas = data1.loc[(data1['Pol_Inst'] == capacity[1]) & (data1['Technologie'] == types[1])]\n",
    "Hardcoal = data1.loc[(data1['Pol_Inst'] == capacity[1]) & (data1['Technologie'] == types[2])]\n",
    "Demand = data1.loc[(data1['Pol_Inst'] == capacity[1]) & (data1['Technologie'] == types[3])]\n",
    "Solar = data1.loc[(data1['Pol_Inst'] == capacity[1]) & (data1['Technologie'] == types[4])]\n",
    "Wind_Offshore = data1.loc[(data1['Pol_Inst'] == capacity[1]) & (data1['Technologie'] == types[5])]\n",
    "Lit_Ion = data1.loc[(data1['Pol_Inst'] == capacity[1]) & (data1['Technologie'] == types[6])]\n",
    "\n",
    "\n",
    "# Lignite = Lig\n",
    "print(Demand)\n",
    "type(Lignite.Shock)\n",
    "#Gas.plot(x='Shock' , y='Total_CO2_Emissions', marker='x')"
   ]
  },
  {
   "cell_type": "code",
   "execution_count": 21,
   "metadata": {
    "pycharm": {
     "name": "#%%\n"
    }
   },
   "outputs": [
    {
     "name": "stderr",
     "output_type": "stream",
     "text": [
      "BokehDeprecationWarning: 'legend' keyword is deprecated, use explicit 'legend_label', 'legend_field', or 'legend_group' keywords instead\n",
      "BokehDeprecationWarning: 'legend' keyword is deprecated, use explicit 'legend_label', 'legend_field', or 'legend_group' keywords instead\n",
      "BokehDeprecationWarning: 'legend' keyword is deprecated, use explicit 'legend_label', 'legend_field', or 'legend_group' keywords instead\n",
      "BokehDeprecationWarning: 'legend' keyword is deprecated, use explicit 'legend_label', 'legend_field', or 'legend_group' keywords instead\n",
      "BokehDeprecationWarning: 'legend' keyword is deprecated, use explicit 'legend_label', 'legend_field', or 'legend_group' keywords instead\n",
      "BokehDeprecationWarning: 'legend' keyword is deprecated, use explicit 'legend_label', 'legend_field', or 'legend_group' keywords instead\n",
      "BokehDeprecationWarning: 'legend' keyword is deprecated, use explicit 'legend_label', 'legend_field', or 'legend_group' keywords instead\n"
     ]
    }
   ],
   "source": [
    "from bokeh.plotting import figure, output_file, show\n",
    "from bokeh.models import Title\n",
    "\n",
    "shock = Lignite.Shock\n",
    "lignite = Lignite.Total_CO2_Emissions\n",
    "\n",
    "shock1 = Gas.Shock\n",
    "gas = Gas.Total_CO2_Emissions\n",
    "\n",
    "shock2 = Hardcoal.Shock\n",
    "hardcoal = Hardcoal.Total_CO2_Emissions\n",
    "\n",
    "shock3 = Demand.Shock\n",
    "demand = Demand.Total_CO2_Emissions\n",
    "\n",
    "shock4 = Solar.Shock\n",
    "solar = Solar.Total_CO2_Emissions\n",
    "\n",
    "shock5 = Wind_Offshore.Shock\n",
    "wind_Offshore = Wind_Offshore.Total_CO2_Emissions\n",
    "\n",
    "shock6 = Lit_Ion.Shock\n",
    "lit_Ion = Lit_Ion.Total_CO2_Emissions\n",
    "\n",
    "output_file(\"multiple.html\")\n",
    "\n",
    "p = figure(plot_width=1200, plot_height=600)\n",
    "\n",
    "# add both a line and circles on the same plot\n",
    "p.line(shock, lignite, line_width=2, legend = 'Lignite', color = 'blue')\n",
    "p.cross(shock, lignite, fill_color=\"white\", size=10)\n",
    "\n",
    "p.line(shock1, gas, line_width=2, legend = 'Gas', color = 'red')\n",
    "p.cross(shock1, gas, fill_color=\"white\", size=10)\n",
    "\n",
    "p.line(shock2, hardcoal, line_width=2, legend = 'Hardcoal', color = 'black')\n",
    "p.cross(shock2, hardcoal, fill_color=\"white\", size=10)\n",
    "\n",
    "p.line(shock3, demand, line_width=2, legend = 'Demand', color = 'darkmagenta')\n",
    "p.circle_x(shock3, demand, fill_color=\"white\", size=10)\n",
    "\n",
    "p.line(shock4, solar, line_width=2, legend = 'Solar', color = 'chocolate')\n",
    "p.circle_x(shock4, solar, fill_color=\"white\", size=10)\n",
    "\n",
    "p.line(shock5, wind_Offshore, line_width=2, legend = 'Wind_Offshore', color = 'deeppink')\n",
    "p.circle_x(shock5, wind_Offshore, fill_color=\"white\", size=10)\n",
    "\n",
    "p.line(shock6, lit_Ion, line_width=2, legend = 'Lit_Ion', color = 'cyan')\n",
    "p.circle_x(shock6, lit_Ion, fill_color=\"white\", size=10)\n",
    "\n",
    "\n",
    "\n",
    "\n",
    "\n",
    "p.legend.location = \"top_left\"\n",
    "p.legend.click_policy=\"hide\"\n",
    "p.add_layout(Title(text=\"Total CO2 Emissions (in 10^6t) \", align=\"center\"), \"left\")\n",
    "p.add_layout(Title(text=\"Shock Strength\", align=\"center\"), \"below\")\n",
    "show(p)"
   ]
  },
  {
   "cell_type": "code",
   "execution_count": 22,
   "metadata": {
    "pycharm": {
     "name": "#%%\n"
    }
   },
   "outputs": [
    {
     "data": {
      "text/plain": [
       "['plot.svg']"
      ]
     },
     "execution_count": 22,
     "metadata": {},
     "output_type": "execute_result"
    }
   ],
   "source": [
    "from bokeh.io import export_svgs\n",
    "p.output_backend = \"svg\"\n",
    "export_svgs(p, filename=\"plot.svg\")"
   ]
  },
  {
   "cell_type": "code",
   "execution_count": 19,
   "metadata": {
    "pycharm": {
     "name": "#%%\n"
    }
   },
   "outputs": [
    {
     "ename": "SyntaxError",
     "evalue": "invalid syntax (<ipython-input-19-3df1b68332c8>, line 3)",
     "output_type": "error",
     "traceback": [
      "\u001b[0;36m  File \u001b[0;32m\"<ipython-input-19-3df1b68332c8>\"\u001b[0;36m, line \u001b[0;32m3\u001b[0m\n\u001b[0;31m    data <- data.table(c(1:20))\u001b[0m\n\u001b[0m                          ^\u001b[0m\n\u001b[0;31mSyntaxError\u001b[0m\u001b[0;31m:\u001b[0m invalid syntax\n"
     ]
    }
   ],
   "source": [
    "library(ggplot2)\n",
    "library(data.table)\n",
    "data <- data.table(c(1:20))\n",
    "data[, key:=.I]\n",
    "point <- c(5, 5)\n",
    "data[, lineType1 := ifelse(key >= 5, \"2\", \"0\")]\n",
    "g1 <- ggplot(data, aes(x = V1, y = key)) + geom_line(data=data[key <= 5, ], linetype = \"solid\") +\n",
    "  geom_line(data=data[key >= 5, ], linetype = \"dotted\") + geom_point(aes(x = 5, y = 5))\n",
    "g1\n"
   ]
  },
  {
   "cell_type": "code",
   "execution_count": 3,
   "metadata": {
    "pycharm": {
     "name": "#%%\n"
    }
   },
   "outputs": [
    {
     "name": "stderr",
     "output_type": "stream",
     "text": [
      "BokehDeprecationWarning: 'legend' keyword is deprecated, use explicit 'legend_label', 'legend_field', or 'legend_group' keywords instead\n",
      "BokehDeprecationWarning: 'legend' keyword is deprecated, use explicit 'legend_label', 'legend_field', or 'legend_group' keywords instead\n",
      "BokehDeprecationWarning: 'legend' keyword is deprecated, use explicit 'legend_label', 'legend_field', or 'legend_group' keywords instead\n",
      "BokehDeprecationWarning: 'legend' keyword is deprecated, use explicit 'legend_label', 'legend_field', or 'legend_group' keywords instead\n",
      "BokehDeprecationWarning: 'legend' keyword is deprecated, use explicit 'legend_label', 'legend_field', or 'legend_group' keywords instead\n",
      "BokehDeprecationWarning: 'legend' keyword is deprecated, use explicit 'legend_label', 'legend_field', or 'legend_group' keywords instead\n",
      "BokehDeprecationWarning: 'legend' keyword is deprecated, use explicit 'legend_label', 'legend_field', or 'legend_group' keywords instead\n",
      "BokehDeprecationWarning: 'legend' keyword is deprecated, use explicit 'legend_label', 'legend_field', or 'legend_group' keywords instead\n",
      "BokehDeprecationWarning: 'legend' keyword is deprecated, use explicit 'legend_label', 'legend_field', or 'legend_group' keywords instead\n",
      "BokehDeprecationWarning: 'legend' keyword is deprecated, use explicit 'legend_label', 'legend_field', or 'legend_group' keywords instead\n",
      "BokehDeprecationWarning: 'legend' keyword is deprecated, use explicit 'legend_label', 'legend_field', or 'legend_group' keywords instead\n",
      "BokehDeprecationWarning: 'legend' keyword is deprecated, use explicit 'legend_label', 'legend_field', or 'legend_group' keywords instead\n",
      "BokehDeprecationWarning: 'legend' keyword is deprecated, use explicit 'legend_label', 'legend_field', or 'legend_group' keywords instead\n",
      "BokehDeprecationWarning: 'legend' keyword is deprecated, use explicit 'legend_label', 'legend_field', or 'legend_group' keywords instead\n"
     ]
    },
    {
     "ename": "InvalidSessionIdException",
     "evalue": "Message: Tried to run command without establishing a connection\n",
     "output_type": "error",
     "traceback": [
      "\u001b[0;31m---------------------------------------------------------------------------\u001b[0m",
      "\u001b[0;31mInvalidSessionIdException\u001b[0m                 Traceback (most recent call last)",
      "\u001b[0;32m<ipython-input-3-b29838ed1a2d>\u001b[0m in \u001b[0;36m<module>\u001b[0;34m\u001b[0m\n\u001b[1;32m     69\u001b[0m \u001b[0;32mfrom\u001b[0m \u001b[0mbokeh\u001b[0m\u001b[0;34m.\u001b[0m\u001b[0mio\u001b[0m \u001b[0;32mimport\u001b[0m \u001b[0mexport_svgs\u001b[0m\u001b[0;34m\u001b[0m\u001b[0;34m\u001b[0m\u001b[0m\n\u001b[1;32m     70\u001b[0m \u001b[0ms1\u001b[0m\u001b[0;34m.\u001b[0m\u001b[0moutput_backend\u001b[0m \u001b[0;34m=\u001b[0m \u001b[0;34m\"svg\"\u001b[0m\u001b[0;34m\u001b[0m\u001b[0;34m\u001b[0m\u001b[0m\n\u001b[0;32m---> 71\u001b[0;31m \u001b[0mexport_svgs\u001b[0m\u001b[0;34m(\u001b[0m\u001b[0ms1\u001b[0m\u001b[0;34m,\u001b[0m \u001b[0mfilename\u001b[0m\u001b[0;34m=\u001b[0m\u001b[0;34m\"plot1.svg\"\u001b[0m\u001b[0;34m)\u001b[0m\u001b[0;34m\u001b[0m\u001b[0;34m\u001b[0m\u001b[0m\n\u001b[0m",
      "\u001b[0;32m~/Library/Python/3.7/lib/python/site-packages/bokeh/io/export.py\u001b[0m in \u001b[0;36mexport_svgs\u001b[0;34m(obj, filename, width, height, webdriver, timeout)\u001b[0m\n\u001b[1;32m    142\u001b[0m \u001b[0;34m\u001b[0m\u001b[0m\n\u001b[1;32m    143\u001b[0m     '''\n\u001b[0;32m--> 144\u001b[0;31m     \u001b[0msvgs\u001b[0m \u001b[0;34m=\u001b[0m \u001b[0mget_svgs\u001b[0m\u001b[0;34m(\u001b[0m\u001b[0mobj\u001b[0m\u001b[0;34m,\u001b[0m \u001b[0mwidth\u001b[0m\u001b[0;34m=\u001b[0m\u001b[0mwidth\u001b[0m\u001b[0;34m,\u001b[0m \u001b[0mheight\u001b[0m\u001b[0;34m=\u001b[0m\u001b[0mheight\u001b[0m\u001b[0;34m,\u001b[0m \u001b[0mdriver\u001b[0m\u001b[0;34m=\u001b[0m\u001b[0mwebdriver\u001b[0m\u001b[0;34m,\u001b[0m \u001b[0mtimeout\u001b[0m\u001b[0;34m=\u001b[0m\u001b[0mtimeout\u001b[0m\u001b[0;34m)\u001b[0m\u001b[0;34m\u001b[0m\u001b[0;34m\u001b[0m\u001b[0m\n\u001b[0m\u001b[1;32m    145\u001b[0m \u001b[0;34m\u001b[0m\u001b[0m\n\u001b[1;32m    146\u001b[0m     \u001b[0;32mif\u001b[0m \u001b[0mlen\u001b[0m\u001b[0;34m(\u001b[0m\u001b[0msvgs\u001b[0m\u001b[0;34m)\u001b[0m \u001b[0;34m==\u001b[0m \u001b[0;36m0\u001b[0m\u001b[0;34m:\u001b[0m\u001b[0;34m\u001b[0m\u001b[0;34m\u001b[0m\u001b[0m\n",
      "\u001b[0;32m~/Library/Python/3.7/lib/python/site-packages/bokeh/io/export.py\u001b[0m in \u001b[0;36mget_svgs\u001b[0;34m(obj, driver, timeout, resources, width, height)\u001b[0m\n\u001b[1;32m    224\u001b[0m \u001b[0;34m\u001b[0m\u001b[0m\n\u001b[1;32m    225\u001b[0m         \u001b[0mweb_driver\u001b[0m \u001b[0;34m=\u001b[0m \u001b[0mdriver\u001b[0m \u001b[0;32mif\u001b[0m \u001b[0mdriver\u001b[0m \u001b[0;32mis\u001b[0m \u001b[0;32mnot\u001b[0m \u001b[0;32mNone\u001b[0m \u001b[0;32melse\u001b[0m \u001b[0mwebdriver_control\u001b[0m\u001b[0;34m.\u001b[0m\u001b[0mget\u001b[0m\u001b[0;34m(\u001b[0m\u001b[0;34m)\u001b[0m\u001b[0;34m\u001b[0m\u001b[0;34m\u001b[0m\u001b[0m\n\u001b[0;32m--> 226\u001b[0;31m         \u001b[0mweb_driver\u001b[0m\u001b[0;34m.\u001b[0m\u001b[0mget\u001b[0m\u001b[0;34m(\u001b[0m\u001b[0;34m\"file:///\"\u001b[0m \u001b[0;34m+\u001b[0m \u001b[0mtmp\u001b[0m\u001b[0;34m.\u001b[0m\u001b[0mpath\u001b[0m\u001b[0;34m)\u001b[0m\u001b[0;34m\u001b[0m\u001b[0;34m\u001b[0m\u001b[0m\n\u001b[0m\u001b[1;32m    227\u001b[0m         \u001b[0mwait_until_render_complete\u001b[0m\u001b[0;34m(\u001b[0m\u001b[0mweb_driver\u001b[0m\u001b[0;34m,\u001b[0m \u001b[0mtimeout\u001b[0m\u001b[0;34m)\u001b[0m\u001b[0;34m\u001b[0m\u001b[0;34m\u001b[0m\u001b[0m\n\u001b[1;32m    228\u001b[0m         \u001b[0msvgs\u001b[0m \u001b[0;34m=\u001b[0m \u001b[0mweb_driver\u001b[0m\u001b[0;34m.\u001b[0m\u001b[0mexecute_script\u001b[0m\u001b[0;34m(\u001b[0m\u001b[0m_SVG_SCRIPT\u001b[0m\u001b[0;34m)\u001b[0m\u001b[0;34m\u001b[0m\u001b[0;34m\u001b[0m\u001b[0m\n",
      "\u001b[0;32m~/Library/Python/3.7/lib/python/site-packages/selenium/webdriver/remote/webdriver.py\u001b[0m in \u001b[0;36mget\u001b[0;34m(self, url)\u001b[0m\n\u001b[1;32m    331\u001b[0m         \u001b[0mLoads\u001b[0m \u001b[0ma\u001b[0m \u001b[0mweb\u001b[0m \u001b[0mpage\u001b[0m \u001b[0;32min\u001b[0m \u001b[0mthe\u001b[0m \u001b[0mcurrent\u001b[0m \u001b[0mbrowser\u001b[0m \u001b[0msession\u001b[0m\u001b[0;34m.\u001b[0m\u001b[0;34m\u001b[0m\u001b[0;34m\u001b[0m\u001b[0m\n\u001b[1;32m    332\u001b[0m         \"\"\"\n\u001b[0;32m--> 333\u001b[0;31m         \u001b[0mself\u001b[0m\u001b[0;34m.\u001b[0m\u001b[0mexecute\u001b[0m\u001b[0;34m(\u001b[0m\u001b[0mCommand\u001b[0m\u001b[0;34m.\u001b[0m\u001b[0mGET\u001b[0m\u001b[0;34m,\u001b[0m \u001b[0;34m{\u001b[0m\u001b[0;34m'url'\u001b[0m\u001b[0;34m:\u001b[0m \u001b[0murl\u001b[0m\u001b[0;34m}\u001b[0m\u001b[0;34m)\u001b[0m\u001b[0;34m\u001b[0m\u001b[0;34m\u001b[0m\u001b[0m\n\u001b[0m\u001b[1;32m    334\u001b[0m \u001b[0;34m\u001b[0m\u001b[0m\n\u001b[1;32m    335\u001b[0m     \u001b[0;34m@\u001b[0m\u001b[0mproperty\u001b[0m\u001b[0;34m\u001b[0m\u001b[0;34m\u001b[0m\u001b[0m\n",
      "\u001b[0;32m~/Library/Python/3.7/lib/python/site-packages/selenium/webdriver/remote/webdriver.py\u001b[0m in \u001b[0;36mexecute\u001b[0;34m(self, driver_command, params)\u001b[0m\n\u001b[1;32m    319\u001b[0m         \u001b[0mresponse\u001b[0m \u001b[0;34m=\u001b[0m \u001b[0mself\u001b[0m\u001b[0;34m.\u001b[0m\u001b[0mcommand_executor\u001b[0m\u001b[0;34m.\u001b[0m\u001b[0mexecute\u001b[0m\u001b[0;34m(\u001b[0m\u001b[0mdriver_command\u001b[0m\u001b[0;34m,\u001b[0m \u001b[0mparams\u001b[0m\u001b[0;34m)\u001b[0m\u001b[0;34m\u001b[0m\u001b[0;34m\u001b[0m\u001b[0m\n\u001b[1;32m    320\u001b[0m         \u001b[0;32mif\u001b[0m \u001b[0mresponse\u001b[0m\u001b[0;34m:\u001b[0m\u001b[0;34m\u001b[0m\u001b[0;34m\u001b[0m\u001b[0m\n\u001b[0;32m--> 321\u001b[0;31m             \u001b[0mself\u001b[0m\u001b[0;34m.\u001b[0m\u001b[0merror_handler\u001b[0m\u001b[0;34m.\u001b[0m\u001b[0mcheck_response\u001b[0m\u001b[0;34m(\u001b[0m\u001b[0mresponse\u001b[0m\u001b[0;34m)\u001b[0m\u001b[0;34m\u001b[0m\u001b[0;34m\u001b[0m\u001b[0m\n\u001b[0m\u001b[1;32m    322\u001b[0m             response['value'] = self._unwrap_value(\n\u001b[1;32m    323\u001b[0m                 response.get('value', None))\n",
      "\u001b[0;32m~/Library/Python/3.7/lib/python/site-packages/selenium/webdriver/remote/errorhandler.py\u001b[0m in \u001b[0;36mcheck_response\u001b[0;34m(self, response)\u001b[0m\n\u001b[1;32m    240\u001b[0m                 \u001b[0malert_text\u001b[0m \u001b[0;34m=\u001b[0m \u001b[0mvalue\u001b[0m\u001b[0;34m[\u001b[0m\u001b[0;34m'alert'\u001b[0m\u001b[0;34m]\u001b[0m\u001b[0;34m.\u001b[0m\u001b[0mget\u001b[0m\u001b[0;34m(\u001b[0m\u001b[0;34m'text'\u001b[0m\u001b[0;34m)\u001b[0m\u001b[0;34m\u001b[0m\u001b[0;34m\u001b[0m\u001b[0m\n\u001b[1;32m    241\u001b[0m             \u001b[0;32mraise\u001b[0m \u001b[0mexception_class\u001b[0m\u001b[0;34m(\u001b[0m\u001b[0mmessage\u001b[0m\u001b[0;34m,\u001b[0m \u001b[0mscreen\u001b[0m\u001b[0;34m,\u001b[0m \u001b[0mstacktrace\u001b[0m\u001b[0;34m,\u001b[0m \u001b[0malert_text\u001b[0m\u001b[0;34m)\u001b[0m\u001b[0;34m\u001b[0m\u001b[0;34m\u001b[0m\u001b[0m\n\u001b[0;32m--> 242\u001b[0;31m         \u001b[0;32mraise\u001b[0m \u001b[0mexception_class\u001b[0m\u001b[0;34m(\u001b[0m\u001b[0mmessage\u001b[0m\u001b[0;34m,\u001b[0m \u001b[0mscreen\u001b[0m\u001b[0;34m,\u001b[0m \u001b[0mstacktrace\u001b[0m\u001b[0;34m)\u001b[0m\u001b[0;34m\u001b[0m\u001b[0;34m\u001b[0m\u001b[0m\n\u001b[0m\u001b[1;32m    243\u001b[0m \u001b[0;34m\u001b[0m\u001b[0m\n\u001b[1;32m    244\u001b[0m     \u001b[0;32mdef\u001b[0m \u001b[0m_value_or_default\u001b[0m\u001b[0;34m(\u001b[0m\u001b[0mself\u001b[0m\u001b[0;34m,\u001b[0m \u001b[0mobj\u001b[0m\u001b[0;34m,\u001b[0m \u001b[0mkey\u001b[0m\u001b[0;34m,\u001b[0m \u001b[0mdefault\u001b[0m\u001b[0;34m)\u001b[0m\u001b[0;34m:\u001b[0m\u001b[0;34m\u001b[0m\u001b[0;34m\u001b[0m\u001b[0m\n",
      "\u001b[0;31mInvalidSessionIdException\u001b[0m: Message: Tried to run command without establishing a connection\n"
     ]
    }
   ],
   "source": [
    "from bokeh.core.properties import value\n",
    "from bokeh.plotting import figure, show, output_file\n",
    "from bokeh.layouts import row\n",
    "from bokeh.models import Legend\n",
    "from bokeh.io import export_svgs\n",
    "\n",
    "output_file('stacked.html')\n",
    "\n",
    "capacity = ['CO2_Cap', 'Min_RES_Quota', 'CO2_Tax', 'FIT']\n",
    "types = ['Lignite', 'Coal', 'CCGT', 'OCGT','Wind Onshore', 'Wind Offshore', 'Solar']\n",
    "colors = [\"#9a7b5c\", \"#414141\", \"#c7dada\", \"#c7dada\", \"#5a67ff\",'#00b8f2', '#fff340']\n",
    "\n",
    "maxload = [90.03467675, 90.03467675, 90.03467675, 90.03467675]\n",
    "Total_demand = [540.7686148, 540.7686148, 540.7686148, 540.7686148]\n",
    "\n",
    "\n",
    "data = {'capacity' : capacity,\n",
    "        'Lignite'   : [0,22.28330605,0,25.76575924],\n",
    "        'Coal'   : [0, 0, 0,0],\n",
    "        'CCGT'   : [52.12309276, 0.209356135, 52.12598273, 6.416971663],\n",
    "        'OCGT'   : [10.1753325,20.35167058,10.1729694,22.18142626],\n",
    "        'Wind Onshore': [90.66714923, 77.28982927, 90.6875821, 86.3713515],\n",
    "        'Wind Offshore': [24.26075426, 53.92876756, 24.25201174, 60.265434],\n",
    "        'Solar' : [90.1174063, 159.3567357, 90.0774928, 178.0811123]\n",
    "        }\n",
    "\n",
    "\n",
    "data1 = {'capacity' : capacity,\n",
    "        'Lignite'   : [0,88.2252938,0,85.90146504],\n",
    "        'Coal'   : [0, 0, 0,0],\n",
    "        'CCGT'   : [218.8212912, 0.250079171, 218.8516421, 9.432063474],\n",
    "        'OCGT'   : [2.066936184, 12.32389683, 2.066549459, 9.832265967],\n",
    "        'Wind Onshore': [163.1994313, 139.1204674, 163.2362101, 155.4670635],\n",
    "        'Wind Offshore': [84.91148221, 188.748113, 84.8808838, 210.9261432],\n",
    "        'Solar' : [81.10978468, 143.4283459, 81.0738607, 160.2811406]\n",
    "        }\n",
    "\n",
    "\n",
    "s1 = figure(x_range=capacity, plot_height=450,plot_width=655, title=\"Capacity (in [GW])\",\n",
    "           toolbar_location='above')\n",
    "s2 = figure(x_range=capacity, plot_height=450,plot_width=655, title=\"Generation (in [GW])\",\n",
    "           toolbar_location='above')\n",
    "\n",
    "s1.vbar_stack(types, x='capacity', width=0.3, color=colors, source=data,\n",
    "             legend=[value(x) for x in types], hatch_pattern=['dot', 'spiral', 'vertical_wave', 'right_diagonal_line', 'vertical_dash', 'left_diagonal_line', 'ring'])\n",
    "s1.line(x = capacity, y = maxload, color=\"red\", line_width=3, legend_label = \"max_load\")\n",
    "\n",
    "s2.vbar_stack(types, x='capacity', width=0.3, color=colors, source=data1,\n",
    "             legend=[value(x) for x in types], hatch_pattern=['dot', 'spiral', 'vertical_wave', 'right_diagonal_line', 'vertical_dash', 'left_diagonal_line', 'ring'])\n",
    "s2.line(x = capacity, y = Total_demand, color=\"blue\", line_width=3, legend_label = \"Total Demand\")\n",
    "\n",
    "\n",
    "s1.y_range.start = 0\n",
    "s1.x_range.range_padding = 0.1\n",
    "s1.xgrid.grid_line_color = None\n",
    "s1.axis.minor_tick_line_color = None\n",
    "s1.outline_line_color = None\n",
    "\n",
    "s2.y_range.start = 0\n",
    "s2.x_range.range_padding = 0.1\n",
    "s2.xgrid.grid_line_color = None\n",
    "s2.axis.minor_tick_line_color = None\n",
    "s2.outline_line_color = None\n",
    "# p.legend.location = \"top_left\"\n",
    "# p.legend.orientation = \"vertical\"\n",
    "\n",
    "#show(p)\n",
    "\n",
    "from bokeh.io import export_svgs\n",
    "s1.output_backend = \"svg\"\n",
    "export_svgs(s1, filename=\"plot1.svg\")"
   ]
  },
  {
   "cell_type": "code",
   "execution_count": null,
   "metadata": {
    "pycharm": {
     "name": "#%%\n"
    }
   },
   "outputs": [],
   "source": [
    "\n"
   ]
  }
 ],
 "metadata": {
  "kernelspec": {
   "display_name": "Python 3",
   "language": "python",
   "name": "python3"
  },
  "language_info": {
   "codemirror_mode": {
    "name": "ipython",
    "version": 3
   },
   "file_extension": ".py",
   "mimetype": "text/x-python",
   "name": "python",
   "nbconvert_exporter": "python",
   "pygments_lexer": "ipython3",
   "version": "3.7.3"
  }
 },
 "nbformat": 4,
 "nbformat_minor": 1
}
