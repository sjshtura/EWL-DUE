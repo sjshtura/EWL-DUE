{
 "cells": [
  {
   "cell_type": "code",
   "execution_count": 1,
   "metadata": {},
   "outputs": [
    {
     "name": "stderr",
     "output_type": "stream",
     "text": [
      "BokehDeprecationWarning: 'legend' keyword is deprecated, use explicit 'legend_label', 'legend_field', or 'legend_group' keywords instead\n",
      "BokehDeprecationWarning: 'legend' keyword is deprecated, use explicit 'legend_label', 'legend_field', or 'legend_group' keywords instead\n",
      "BokehDeprecationWarning: 'legend' keyword is deprecated, use explicit 'legend_label', 'legend_field', or 'legend_group' keywords instead\n",
      "BokehDeprecationWarning: 'legend' keyword is deprecated, use explicit 'legend_label', 'legend_field', or 'legend_group' keywords instead\n",
      "BokehDeprecationWarning: 'legend' keyword is deprecated, use explicit 'legend_label', 'legend_field', or 'legend_group' keywords instead\n",
      "BokehDeprecationWarning: 'legend' keyword is deprecated, use explicit 'legend_label', 'legend_field', or 'legend_group' keywords instead\n",
      "BokehDeprecationWarning: 'legend' keyword is deprecated, use explicit 'legend_label', 'legend_field', or 'legend_group' keywords instead\n"
     ]
    }
   ],
   "source": [
    "from bokeh.plotting import figure, output_file, show\n",
    "from bokeh.models import Title\n",
    "from bokeh.core.properties import value\n",
    "from bokeh.layouts import row\n",
    "from bokeh.models import Legend\n",
    "from bokeh.io import export_svgs\n",
    "\n",
    "output_file('stacked.html')\n",
    "\n",
    "capacity = ['CO2_Cap', 'Min_RES_Quota', 'CO2_Tax', 'FIT']\n",
    "types = ['Lignite', 'Coal', 'CCGT', 'OCGT','Wind Onshore', 'Wind Offshore', 'Solar']\n",
    "colors = [\"#9a7b5c\", \"#414141\", \"#c7dada\", \"#c7dada\", \"#5a67ff\",'#00b8f2', '#fff340']\n",
    "\n",
    "maxload = [90.03467675, 90.03467675, 90.03467675, 90.03467675]\n",
    "Total_demand = [540.7686148, 540.7686148, 540.7686148, 540.7686148]\n",
    "\n",
    "\n",
    "data = {'capacity' : capacity,\n",
    "        'Lignite'   : [0,22.28330605,0,25.76575924],\n",
    "        'Coal'   : [0, 0, 0,0],\n",
    "        'CCGT'   : [52.12309276, 0.209356135, 52.12598273, 6.416971663],\n",
    "        'OCGT'   : [10.1753325,20.35167058,10.1729694,22.18142626],\n",
    "        'Wind Onshore': [90.66714923, 77.28982927, 90.6875821, 86.3713515],\n",
    "        'Wind Offshore': [24.26075426, 53.92876756, 24.25201174, 60.265434],\n",
    "        'Solar' : [90.1174063, 159.3567357, 90.0774928, 178.0811123]\n",
    "        }\n",
    "\n",
    "\n",
    "\n",
    "s1 = figure(x_range=capacity, plot_height=450,plot_width=655, title=\"Capacity (in [GW])\",\n",
    "           toolbar_location='above')\n",
    "\n",
    "\n",
    "s1.vbar_stack(types, x='capacity', width=0.3, color=colors, source=data,\n",
    "             legend=[value(x) for x in types], hatch_pattern=['dot', 'spiral', 'vertical_wave', 'right_diagonal_line', 'vertical_dash', 'left_diagonal_line', 'ring'])\n",
    "s1.line(x = capacity, y = maxload, color=\"red\", line_width=3, legend_label = \"max_load\")\n",
    "\n",
    "s1.y_range.start = 0\n",
    "s1.x_range.range_padding = 0.1\n",
    "s1.xgrid.grid_line_color = None\n",
    "s1.axis.minor_tick_line_color = None\n",
    "s1.outline_line_color = None\n",
    "\n",
    "s1.legend.location = \"top_left\"\n",
    "s1.legend.orientation = \"vertical\"\n",
    "show(s1)"
   ]
  },
  {
   "cell_type": "code",
   "execution_count": null,
   "metadata": {
    "pycharm": {
     "is_executing": true,
     "name": "#%%\n"
    }
   },
   "outputs": [],
   "source": [
    "s1.output_backend = \"svg\"\n",
    "export_svgs(s1, filename=\"plot.svg\")"
   ]
  },
  {
   "cell_type": "code",
   "execution_count": null,
   "metadata": {
    "pycharm": {
     "name": "#%%\n"
    }
   },
   "outputs": [],
   "source": [
    "data1 = {'capacity' : capacity,\n",
    "        'Lignite'   : [0,88.2252938,0,85.90146504],\n",
    "        'Coal'   : [0, 0, 0,0],\n",
    "        'CCGT'   : [218.8212912, 0.250079171, 218.8516421, 9.432063474],\n",
    "        'OCGT'   : [2.066936184, 12.32389683, 2.066549459, 9.832265967],\n",
    "        'Wind Onshore': [163.1994313, 139.1204674, 163.2362101, 155.4670635],\n",
    "        'Wind Offshore': [84.91148221, 188.748113, 84.8808838, 210.9261432],\n",
    "        'Solar' : [81.10978468, 143.4283459, 81.0738607, 160.2811406]\n",
    "        }\n",
    "\n",
    "s2 = figure(x_range=capacity, plot_height=450,plot_width=655, title=\"Generation (in [GW])\",\n",
    "           toolbar_location='above')\n",
    "s2.vbar_stack(types, x='capacity', width=0.3, color=colors, source=data1,\n",
    "             legend=[value(x) for x in types], hatch_pattern=['dot', 'spiral', 'vertical_wave', 'right_diagonal_line', 'vertical_dash', 'left_diagonal_line', 'ring'])\n",
    "s2.line(x = capacity, y = Total_demand, color=\"blue\", line_width=3, legend_label = \"Total Demand\")\n",
    "\n",
    "\n",
    "s2.y_range.start = 0\n",
    "s2.x_range.range_padding = 0.1\n",
    "s2.xgrid.grid_line_color = None\n",
    "s2.axis.minor_tick_line_color = None\n",
    "s2.outline_line_color = None\n"
   ]
  },
  {
   "cell_type": "code",
   "execution_count": null,
   "metadata": {
    "pycharm": {
     "name": "#%%\n"
    }
   },
   "outputs": [],
   "source": [
    "s2.output_backend = \"svg\"\n",
    "export_svgs(s2, filename=\"plot2.svg\")\n",
    "\n"
   ]
  }
 ],
 "metadata": {
  "kernelspec": {
   "display_name": "Python 3",
   "language": "python",
   "name": "python3"
  },
  "language_info": {
   "codemirror_mode": {
    "name": "ipython",
    "version": 3
   },
   "file_extension": ".py",
   "mimetype": "text/x-python",
   "name": "python",
   "nbconvert_exporter": "python",
   "pygments_lexer": "ipython3",
   "version": "3.7.3"
  }
 },
 "nbformat": 4,
 "nbformat_minor": 1
}
