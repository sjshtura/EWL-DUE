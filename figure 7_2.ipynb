{
 "cells": [
  {
   "cell_type": "code",
   "execution_count": null,
   "metadata": {
    "collapsed": true
   },
   "outputs": [],
   "source": []
  },
  {
   "cell_type": "code",
   "execution_count": 9,
   "outputs": [
    {
     "name": "stdout",
     "output_type": "stream",
     "text": [
      "     Total_CO2_Emissions Pol_Inst Technologie  Total_System_Cost\n",
      "0            1503.600000  CO2_Cap     Lignite         553.126627\n",
      "1            1503.600000  CO2_Cap     Lignite         553.126627\n",
      "2            1503.600000  CO2_Cap         Gas         526.529330\n",
      "3            1503.600000  CO2_Cap         Gas         539.827978\n",
      "4            1503.600000  CO2_Cap    Hardcoal         553.126627\n",
      "..                   ...      ...         ...                ...\n",
      "143          1503.675998      FIT    Hardcoal         668.623194\n",
      "144          1521.041561      FIT         Gas         669.988022\n",
      "145          1551.055722      FIT         Gas         671.140181\n",
      "146          1483.893265      FIT     Lignite         669.457821\n",
      "147          1468.099519      FIT     Lignite         670.272434\n",
      "\n",
      "[148 rows x 4 columns]\n",
      "['Lignite' 'Gas' 'Hardcoal' 'Demand' 'Solar']\n",
      "['Wind_Onshore' 'Wind_Offshore' 'Lit_Ion' 'PSH' 'no']\n"
     ]
    }
   ],
   "source": [
    "from bokeh.models import NumeralTickFormatter\n",
    "from bokeh.plotting import figure, output_file, show\n",
    "from bokeh.models import Title\n",
    "import pandas as pd\n",
    "import plotly.express as px\n",
    "\n",
    "data = pd.read_excel(r'Copy of Figures_Data_Preparation.xlsx', sheet_name = 'Figure 7')\n",
    "data1 = data[[\"Total_CO2_Emissions\",\"Pol_Inst\",\"Technologie\",\"Total_System_Cost\"]]\n",
    "data2 = data1.dropna()\n",
    "# data2 = data2.loc[data2[\"Technologie\"] != \"no\"]\n",
    "\n",
    "capacity = data2['Pol_Inst'].unique()\n",
    "types = data2['Technologie'].unique()\n",
    "type1 = types[:5]\n",
    "type2 = types[5:]\n",
    "print(data2)\n",
    "print(type1)\n",
    "print(type2)\n",
    "#print(data3)"
   ],
   "metadata": {
    "collapsed": false,
    "pycharm": {
     "name": "#%%\n"
    }
   }
  },
  {
   "cell_type": "code",
   "execution_count": 10,
   "outputs": [
    {
     "name": "stdout",
     "output_type": "stream",
     "text": [
      "     Total_CO2_Emissions       Pol_Inst Technologie  Total_System_Cost\n",
      "0            1503.600000        CO2_Cap     Lignite         553.126627\n",
      "1            1503.600000        CO2_Cap     Lignite         553.126627\n",
      "35           1503.600000        CO2_Cap     Lignite         553.126627\n",
      "36           1503.600000        CO2_Cap     Lignite         553.126627\n",
      "37           1504.557988  Min_RES_Quota     Lignite         632.778793\n",
      "38           1503.716112  Min_RES_Quota     Lignite         633.643492\n",
      "72           1500.851112  Min_RES_Quota     Lignite         635.370246\n",
      "73           1494.907694  Min_RES_Quota     Lignite         636.227293\n",
      "74           1503.801654        CO2_Tax     Lignite         553.108165\n",
      "75           1503.801654        CO2_Tax     Lignite         553.108165\n",
      "109          1503.801654        CO2_Tax     Lignite         553.108165\n",
      "110          1503.801654        CO2_Tax     Lignite         553.108165\n",
      "111          1526.011591            FIT     Lignite         666.921487\n",
      "112          1517.932149            FIT     Lignite         667.776595\n",
      "146          1483.893265            FIT     Lignite         669.457821\n",
      "147          1468.099519            FIT     Lignite         670.272434\n"
     ]
    }
   ],
   "source": [
    "\n",
    "Lignite1 = pd.DataFrame()\n",
    "Gas1 = pd.DataFrame()\n",
    "Hardcoal1 = pd.DataFrame()\n",
    "Demand1 = pd.DataFrame()\n",
    "Solar1 = pd.DataFrame()\n",
    "Wind_Onshore1 = pd.DataFrame()\n",
    "Wind_Offshore1 = pd.DataFrame()\n",
    "Lit_Ion1 = pd.DataFrame()\n",
    "PSH1 = pd.DataFrame()\n",
    "No1 = pd.DataFrame()\n",
    "for x in capacity:\n",
    "    Lignite = data1.loc[(data1['Pol_Inst'] == x) & (data1['Technologie'] == types[0])]\n",
    "    Gas = data1.loc[(data1['Pol_Inst'] == x) & (data1['Technologie'] == types[1])]\n",
    "    Hardcoal = data1.loc[(data1['Pol_Inst'] == x) & (data1['Technologie'] == types[2])]\n",
    "    Demand = data1.loc[(data1['Pol_Inst'] == x) & (data1['Technologie'] == types[3])]\n",
    "    Solar = data1.loc[(data1['Pol_Inst'] == x) & (data1['Technologie'] == types[4])]\n",
    "    Wind_Onshore = data1.loc[(data1['Pol_Inst'] == x) & (data1['Technologie'] == types[5])]\n",
    "    Wind_Offshore = data1.loc[(data1['Pol_Inst'] == x) & (data1['Technologie'] == types[6])]\n",
    "    Lit_Ion = data1.loc[(data1['Pol_Inst'] == x) & (data1['Technologie'] == types[7])]\n",
    "    PSH = data1.loc[(data1['Pol_Inst'] == x) & (data1['Technologie'] == types[8])]\n",
    "    No = data1.loc[(data1['Pol_Inst'] == x) & (data1['Technologie'] == types[9])]\n",
    "    Lignite1 = Lignite1.append(Lignite)\n",
    "    Gas1 = Gas1.append(Gas)\n",
    "    Hardcoal1 = Hardcoal1.append(Hardcoal)\n",
    "    Demand1 = Demand1.append(Demand)\n",
    "    Solar1 = Solar1.append(Solar)\n",
    "    Wind_Offshore1 = Wind_Offshore1.append(Wind_Offshore)\n",
    "    Wind_Onshore1 = Wind_Onshore1.append(Wind_Onshore)\n",
    "    Lit_Ion1 = Lit_Ion1.append(Lit_Ion)\n",
    "    PSH1 = PSH1.append(PSH)\n",
    "    No1 = No1.append(No)\n",
    "print(Lignite1)"
   ],
   "metadata": {
    "collapsed": false,
    "pycharm": {
     "name": "#%%\n"
    }
   }
  },
  {
   "cell_type": "code",
   "execution_count": 11,
   "outputs": [
    {
     "data": {
      "text/plain": "[     Total_CO2_Emissions       Pol_Inst Technologie  Total_System_Cost\n 0            1503.600000        CO2_Cap     Lignite         553.126627\n 1            1503.600000        CO2_Cap     Lignite         553.126627\n 35           1503.600000        CO2_Cap     Lignite         553.126627\n 36           1503.600000        CO2_Cap     Lignite         553.126627\n 37           1504.557988  Min_RES_Quota     Lignite         632.778793\n 38           1503.716112  Min_RES_Quota     Lignite         633.643492\n 72           1500.851112  Min_RES_Quota     Lignite         635.370246\n 73           1494.907694  Min_RES_Quota     Lignite         636.227293\n 74           1503.801654        CO2_Tax     Lignite         553.108165\n 75           1503.801654        CO2_Tax     Lignite         553.108165\n 109          1503.801654        CO2_Tax     Lignite         553.108165\n 110          1503.801654        CO2_Tax     Lignite         553.108165\n 111          1526.011591            FIT     Lignite         666.921487\n 112          1517.932149            FIT     Lignite         667.776595\n 146          1483.893265            FIT     Lignite         669.457821\n 147          1468.099519            FIT     Lignite         670.272434,\n      Total_CO2_Emissions       Pol_Inst Technologie  Total_System_Cost\n 2            1503.600000        CO2_Cap         Gas         526.529330\n 3            1503.600000        CO2_Cap         Gas         539.827978\n 33           1503.600000        CO2_Cap         Gas         566.425276\n 34           1503.600000        CO2_Cap         Gas         579.723924\n 39           1480.440240  Min_RES_Quota         Gas         631.788478\n 40           1486.501327  Min_RES_Quota         Gas         633.245616\n 70           1506.699364  Min_RES_Quota         Gas         635.613548\n 71           1509.399223  Min_RES_Quota         Gas         636.673065\n 76           1806.363344        CO2_Tax         Gas         499.566415\n 77           1651.308017        CO2_Tax         Gas         526.788820\n 107          1344.983767        CO2_Tax         Gas         579.649327\n 108          1255.505560        CO2_Tax         Gas         598.892621\n 113          1440.038214            FIT         Gas         664.938773\n 114          1482.920261            FIT         Gas         666.975294\n 144          1521.041561            FIT         Gas         669.988022\n 145          1551.055722            FIT         Gas         671.140181,\n      Total_CO2_Emissions       Pol_Inst Technologie  Total_System_Cost\n 4            1503.600000        CO2_Cap    Hardcoal         553.126627\n 5            1503.600000        CO2_Cap    Hardcoal         553.126627\n 31           1503.600000        CO2_Cap    Hardcoal         553.126627\n 32           1503.600000        CO2_Cap    Hardcoal         553.126627\n 41           1495.816813  Min_RES_Quota    Hardcoal         634.423545\n 42           1503.266678  Min_RES_Quota    Hardcoal         634.507363\n 68           1503.275425  Min_RES_Quota    Hardcoal         634.507363\n 69           1503.271784  Min_RES_Quota    Hardcoal         634.507363\n 78           1503.801654        CO2_Tax    Hardcoal         553.108165\n 79           1503.801654        CO2_Tax    Hardcoal         553.108165\n 105          1503.801654        CO2_Tax    Hardcoal         553.108165\n 106          1503.801654        CO2_Tax    Hardcoal         553.108165\n 115          1514.032566            FIT    Hardcoal         668.327738\n 116          1508.773968            FIT    Hardcoal         668.584432\n 142          1503.676013            FIT    Hardcoal         668.623194\n 143          1503.675998            FIT    Hardcoal         668.623194,\n      Total_CO2_Emissions       Pol_Inst Technologie  Total_System_Cost\n 6            1503.600000        CO2_Cap      Demand         447.005920\n 7            1503.600000        CO2_Cap      Demand         495.479253\n 29           1503.600000        CO2_Cap      Demand         617.592035\n 30           1503.600000        CO2_Cap      Demand         683.084647\n 43           1153.692829  Min_RES_Quota      Demand         530.431392\n 44           1347.647506  Min_RES_Quota      Demand         578.305063\n 66           1646.441204  Min_RES_Quota      Demand         693.244851\n 67           1789.612125  Min_RES_Quota      Demand         751.982339\n 80           1171.080816        CO2_Tax      Demand         458.157202\n 81           1353.029434        CO2_Tax      Demand         503.172792\n 103          1647.020859        CO2_Tax      Demand         604.310383\n 104          1790.240064        CO2_Tax      Demand         655.512601\n 117           772.480815            FIT      Demand         639.539622\n 118          1093.782561            FIT      Demand         653.080054\n 140          1964.631752            FIT      Demand         684.895782\n 141          2507.737368            FIT      Demand         701.622533,\n      Total_CO2_Emissions       Pol_Inst Technologie  Total_System_Cost\n 8            1503.600000        CO2_Cap       Solar         543.352638\n 9            1503.600000        CO2_Cap       Solar         549.193062\n 27           1503.600000        CO2_Cap       Solar         554.748172\n 28           1503.600000        CO2_Cap       Solar         554.955107\n 45           1485.440643  Min_RES_Quota       Solar         621.230072\n 46           1489.025945  Min_RES_Quota       Solar         628.463150\n 64           1503.583974  Min_RES_Quota       Solar         638.661177\n 65           1506.633229  Min_RES_Quota       Solar         641.119370\n 82           1310.786806        CO2_Tax       Solar         558.839856\n 83           1388.193316        CO2_Tax       Solar         558.962880\n 101          1611.242934        CO2_Tax       Solar         545.956469\n 102          1625.266750        CO2_Tax       Solar         545.165306\n 119          1503.676049            FIT       Solar         656.947113\n 120          1503.676049            FIT       Solar         662.785154\n 138          1503.676049            FIT       Solar         674.461235\n 139          1503.676049            FIT       Solar         680.299275,\n      Total_CO2_Emissions       Pol_Inst   Technologie  Total_System_Cost\n 10           1503.600000        CO2_Cap  Wind_Onshore         532.160503\n 11           1503.600000        CO2_Cap  Wind_Onshore         543.674045\n 25           1503.600000        CO2_Cap  Wind_Onshore         556.871964\n 26           1503.600000        CO2_Cap  Wind_Onshore         557.677119\n 47           1483.886933  Min_RES_Quota  Wind_Onshore         610.048272\n 48           1485.022445  Min_RES_Quota  Wind_Onshore         624.706535\n 62           1505.229215  Min_RES_Quota  Wind_Onshore         637.760035\n 63           1506.060890  Min_RES_Quota  Wind_Onshore         638.876591\n 84           1384.022864        CO2_Tax  Wind_Onshore         542.603745\n 85           1435.453462        CO2_Tax  Wind_Onshore         550.305792\n 99           1482.808552        CO2_Tax  Wind_Onshore         558.943163\n 100          1480.762313        CO2_Tax  Wind_Onshore         559.889957\n 121          1503.676049            FIT  Wind_Onshore         656.659002\n 122          1503.676049            FIT  Wind_Onshore         662.641098\n 136          1503.676049            FIT  Wind_Onshore         674.605290\n 137          1503.676049            FIT  Wind_Onshore         680.587387,\n      Total_CO2_Emissions       Pol_Inst    Technologie  Total_System_Cost\n 12           1503.600000        CO2_Cap  Wind_Offshore         531.707686\n 13           1503.600000        CO2_Cap  Wind_Offshore         544.733622\n 23           1503.600000        CO2_Cap  Wind_Offshore         553.739176\n 24           1503.600000        CO2_Cap  Wind_Offshore         553.739176\n 49           1503.007354  Min_RES_Quota  Wind_Offshore         605.264137\n 50           1505.518594  Min_RES_Quota  Wind_Offshore         622.038717\n 60           1480.911377  Min_RES_Quota  Wind_Offshore         638.591504\n 61           1478.811026  Min_RES_Quota  Wind_Offshore         638.720305\n 86           1206.200995        CO2_Tax  Wind_Offshore         554.465482\n 87           1362.404953        CO2_Tax  Wind_Offshore         556.828123\n 97           1569.170158        CO2_Tax  Wind_Offshore         548.487672\n 98           1569.170158        CO2_Tax  Wind_Offshore         548.487672\n 123          1503.676049            FIT  Wind_Offshore         650.324265\n 124          1503.676049            FIT  Wind_Offshore         659.473730\n 134          1503.676049            FIT  Wind_Offshore         677.772659\n 135          1503.676049            FIT  Wind_Offshore         686.922123,\n      Total_CO2_Emissions       Pol_Inst Technologie  Total_System_Cost\n 14           1503.600000        CO2_Cap     Lit_Ion         552.691358\n 15           1503.600000        CO2_Cap     Lit_Ion         552.917590\n 21           1503.600000        CO2_Cap     Lit_Ion         553.240164\n 22           1503.600000        CO2_Cap     Lit_Ion         553.325264\n 51           1501.095966  Min_RES_Quota     Lit_Ion         633.914263\n 52           1502.592437  Min_RES_Quota     Lit_Ion         634.322584\n 58           1504.727169  Min_RES_Quota     Lit_Ion         634.573595\n 59           1504.859276  Min_RES_Quota     Lit_Ion         634.585141\n 88           1474.373062        CO2_Tax     Lit_Ion         555.353811\n 89           1497.566842        CO2_Tax     Lit_Ion         553.465001\n 95           1507.410071        CO2_Tax     Lit_Ion         552.906585\n 96           1508.592392        CO2_Tax     Lit_Ion         552.918380\n 125          1477.618152            FIT     Lit_Ion         667.764015\n 126          1488.882376            FIT     Lit_Ion         668.312745\n 132          1503.678458            FIT     Lit_Ion         668.696610\n 133          1507.592556            FIT     Lit_Ion         668.743263,\n      Total_CO2_Emissions       Pol_Inst Technologie  Total_System_Cost\n 16           1503.600000        CO2_Cap         PSH         551.778008\n 17           1503.600000        CO2_Cap         PSH         552.646738\n 19           1503.600000        CO2_Cap         PSH         553.226220\n 20           1503.600000        CO2_Cap         PSH         553.232368\n 53           1499.474899  Min_RES_Quota         PSH         631.770105\n 54           1503.717211  Min_RES_Quota         PSH         633.289707\n 56           1499.139100  Min_RES_Quota         PSH         635.121755\n 57           1496.282356  Min_RES_Quota         PSH         635.466881\n 90           1416.071078        CO2_Tax         PSH         559.368362\n 91           1463.844987        CO2_Tax         PSH         556.093035\n 93           1536.803411        CO2_Tax         PSH         550.650076\n 94           1536.803411        CO2_Tax         PSH         550.650076\n 127          1346.792085            FIT         PSH         666.629817\n 128          1406.564815            FIT         PSH         667.938421\n 130          1548.334923            FIT         PSH         668.759467\n 131          1548.156173            FIT         PSH         668.760169,\n      Total_CO2_Emissions       Pol_Inst Technologie  Total_System_Cost\n 18           1503.600000        CO2_Cap          no         553.126627\n 55           1503.269313  Min_RES_Quota          no         634.507363\n 92           1503.801654        CO2_Tax          no         553.108165\n 129          1503.676049            FIT          no         668.623194]"
     },
     "execution_count": 11,
     "metadata": {},
     "output_type": "execute_result"
    }
   ],
   "source": [
    "df = [Lignite1, Gas1, Hardcoal1, Demand1, Solar1, Wind_Onshore1, Wind_Offshore1, Lit_Ion1, PSH1, No1]\n",
    "df"
   ],
   "metadata": {
    "collapsed": false,
    "pycharm": {
     "name": "#%%\n"
    }
   }
  },
  {
   "cell_type": "code",
   "execution_count": 12,
   "outputs": [],
   "source": [
    "x1 = []\n",
    "for i in df:\n",
    "    a = i.loc[i[\"Pol_Inst\"]==\"CO2_Cap\"]\n",
    "    b = i.loc[i[\"Pol_Inst\"]==\"Min_RES_Quota\"]\n",
    "    c = i.loc[i[\"Pol_Inst\"]==\"CO2_Tax\"]\n",
    "    d = i.loc[i[\"Pol_Inst\"]==\"FIT\"]\n",
    "    x1.append([a,b,c,d])\n",
    "x1[0]\n",
    "\n",
    "\n",
    "from plotly.subplots import make_subplots\n",
    "fig = make_subplots(rows=2)\n",
    "Tech = data2.Technologie.unique()\n",
    "\n",
    "import plotly.graph_objects as go\n",
    "from plotly.validators.scatter.marker import SymbolValidator\n",
    "\n",
    "raw_symbols = SymbolValidator().values\n",
    "namestems = []\n",
    "namevariants = []\n",
    "symbols = []\n",
    "for i in range(0,len(raw_symbols),2):\n",
    "    name = raw_symbols[i+1]\n",
    "    symbols.append(raw_symbols[i])\n",
    "    namestems.append(name.replace(\"-open\", \"\").replace(\"-dot\", \"\"))\n",
    "    namevariants.append(name[len(namestems[-1]):])\n",
    "\n",
    "#fig = make_subplots(subplot_titles=(\"Demand\"))\n",
    "\n",
    "#range_y =[1200, 1800]\n",
    "#Lignite1, Gas1, Hardcoal1, Demand1, Solar1, Wind_Onshore1, Wind_Offshore1, Lit_Ion1, PSH1"
   ],
   "metadata": {
    "collapsed": false,
    "pycharm": {
     "name": "#%%\n"
    }
   }
  },
  {
   "cell_type": "code",
   "execution_count": 13,
   "outputs": [],
   "source": [
    "symbols\n",
    "#name1\n",
    "\n",
    "#symbol1\n",
    "\n",
    "fig.data = []"
   ],
   "metadata": {
    "collapsed": false,
    "pycharm": {
     "name": "#%%\n"
    }
   }
  },
  {
   "cell_type": "code",
   "execution_count": 14,
   "outputs": [
    {
     "data": {
      "application/vnd.plotly.v1+json": {
       "config": {
        "plotlyServerURL": "https://plot.ly"
       },
       "data": [
        {
         "hovertemplate": "name: %{y}%{x}<br>number: %{marker.symbol}<extra></extra>",
         "marker": {
          "color": "red",
          "line": {
           "color": "midnightblue",
           "width": 1
          },
          "size": 15,
          "symbol": [
           8,
           108,
           208,
           308
          ]
         },
         "mode": "markers",
         "name": "CO2_Cap",
         "showlegend": true,
         "type": "scatter",
         "x": [
          447.00591981726757,
          495.4792525830953,
          617.5920346658789,
          683.08464662201
         ],
         "y": [
          1503.600000000059,
          1503.5999999998887,
          1503.6000000000347,
          1503.6000000000017
         ]
        },
        {
         "hovertemplate": "name: %{y}%{x}<br>number: %{marker.symbol}<extra></extra>",
         "marker": {
          "color": "green",
          "line": {
           "color": "midnightblue",
           "width": 1
          },
          "size": 15,
          "symbol": [
           0,
           100,
           200,
           300
          ]
         },
         "mode": "markers",
         "name": "Min_RES_Quota",
         "showlegend": true,
         "type": "scatter",
         "x": [
          530.4313924070508,
          578.3050634863713,
          693.2448511791318,
          751.9823394466408
         ],
         "y": [
          1153.6928291520376,
          1347.647505585643,
          1646.4412036597655,
          1789.61212453587
         ]
        },
        {
         "hovertemplate": "name: %{y}%{x}<br>number: %{marker.symbol}<extra></extra>",
         "marker": {
          "color": "yellow",
          "line": {
           "color": "midnightblue",
           "width": 1
          },
          "size": 15,
          "symbol": [
           7,
           107,
           207,
           307
          ]
         },
         "mode": "markers",
         "name": "CO2_Tax",
         "showlegend": true,
         "type": "scatter",
         "x": [
          458.15720150695705,
          503.1727921951388,
          604.3103833785826,
          655.5126014596156
         ],
         "y": [
          1171.08081605525,
          1353.0294340094185,
          1647.0208591128555,
          1790.2400642531147
         ]
        },
        {
         "hovertemplate": "name: %{y}%{x}<br>number: %{marker.symbol}<extra></extra>",
         "marker": {
          "color": "blue",
          "line": {
           "color": "midnightblue",
           "width": 1
          },
          "size": 15,
          "symbol": [
           4,
           104,
           204,
           304
          ]
         },
         "mode": "markers",
         "name": "FIT",
         "showlegend": true,
         "type": "scatter",
         "x": [
          639.5396215763752,
          653.0800543152228,
          684.8957816081227,
          701.6225332803009
         ],
         "y": [
          772.4808150377785,
          1093.7825605573958,
          1964.6317521515073,
          2507.7373677316536
         ]
        },
        {
         "marker": {
          "color": "red",
          "line": {
           "color": "black",
           "width": 2
          },
          "size": 8,
          "symbol": [
           8,
           108,
           208,
           308
          ]
         },
         "mode": "markers",
         "name": "CO2_Cap",
         "showlegend": false,
         "type": "scatter",
         "x": [
          553.1266271112935
         ],
         "y": [
          1503.6000000000258
         ]
        },
        {
         "marker": {
          "color": "green",
          "line": {
           "color": "black",
           "width": 2
          },
          "size": 8,
          "symbol": [
           0,
           100,
           200,
           300
          ]
         },
         "mode": "markers",
         "name": "Min_RES_Quota",
         "showlegend": false,
         "type": "scatter",
         "x": [
          634.5073629116724
         ],
         "y": [
          1503.2693131994488
         ]
        },
        {
         "marker": {
          "color": "yellow",
          "line": {
           "color": "black",
           "width": 2
          },
          "size": 8,
          "symbol": [
           7,
           107,
           207,
           307
          ]
         },
         "mode": "markers",
         "name": "CO2_Tax",
         "showlegend": false,
         "type": "scatter",
         "x": [
          553.1081652975545
         ],
         "y": [
          1503.801653972579
         ]
        },
        {
         "marker": {
          "color": "blue",
          "line": {
           "color": "black",
           "width": 2
          },
          "size": 8,
          "symbol": [
           4,
           104,
           204,
           304
          ]
         },
         "mode": "markers",
         "name": "FIT",
         "showlegend": false,
         "type": "scatter",
         "x": [
          668.6231941490724
         ],
         "y": [
          1503.6760485649447
         ]
        }
       ],
       "layout": {
        "template": {
         "data": {
          "bar": [
           {
            "error_x": {
             "color": "#2a3f5f"
            },
            "error_y": {
             "color": "#2a3f5f"
            },
            "marker": {
             "line": {
              "color": "#E5ECF6",
              "width": 0.5
             }
            },
            "type": "bar"
           }
          ],
          "barpolar": [
           {
            "marker": {
             "line": {
              "color": "#E5ECF6",
              "width": 0.5
             }
            },
            "type": "barpolar"
           }
          ],
          "carpet": [
           {
            "aaxis": {
             "endlinecolor": "#2a3f5f",
             "gridcolor": "white",
             "linecolor": "white",
             "minorgridcolor": "white",
             "startlinecolor": "#2a3f5f"
            },
            "baxis": {
             "endlinecolor": "#2a3f5f",
             "gridcolor": "white",
             "linecolor": "white",
             "minorgridcolor": "white",
             "startlinecolor": "#2a3f5f"
            },
            "type": "carpet"
           }
          ],
          "choropleth": [
           {
            "colorbar": {
             "outlinewidth": 0,
             "ticks": ""
            },
            "type": "choropleth"
           }
          ],
          "contour": [
           {
            "colorbar": {
             "outlinewidth": 0,
             "ticks": ""
            },
            "colorscale": [
             [
              0.0,
              "#0d0887"
             ],
             [
              0.1111111111111111,
              "#46039f"
             ],
             [
              0.2222222222222222,
              "#7201a8"
             ],
             [
              0.3333333333333333,
              "#9c179e"
             ],
             [
              0.4444444444444444,
              "#bd3786"
             ],
             [
              0.5555555555555556,
              "#d8576b"
             ],
             [
              0.6666666666666666,
              "#ed7953"
             ],
             [
              0.7777777777777778,
              "#fb9f3a"
             ],
             [
              0.8888888888888888,
              "#fdca26"
             ],
             [
              1.0,
              "#f0f921"
             ]
            ],
            "type": "contour"
           }
          ],
          "contourcarpet": [
           {
            "colorbar": {
             "outlinewidth": 0,
             "ticks": ""
            },
            "type": "contourcarpet"
           }
          ],
          "heatmap": [
           {
            "colorbar": {
             "outlinewidth": 0,
             "ticks": ""
            },
            "colorscale": [
             [
              0.0,
              "#0d0887"
             ],
             [
              0.1111111111111111,
              "#46039f"
             ],
             [
              0.2222222222222222,
              "#7201a8"
             ],
             [
              0.3333333333333333,
              "#9c179e"
             ],
             [
              0.4444444444444444,
              "#bd3786"
             ],
             [
              0.5555555555555556,
              "#d8576b"
             ],
             [
              0.6666666666666666,
              "#ed7953"
             ],
             [
              0.7777777777777778,
              "#fb9f3a"
             ],
             [
              0.8888888888888888,
              "#fdca26"
             ],
             [
              1.0,
              "#f0f921"
             ]
            ],
            "type": "heatmap"
           }
          ],
          "heatmapgl": [
           {
            "colorbar": {
             "outlinewidth": 0,
             "ticks": ""
            },
            "colorscale": [
             [
              0.0,
              "#0d0887"
             ],
             [
              0.1111111111111111,
              "#46039f"
             ],
             [
              0.2222222222222222,
              "#7201a8"
             ],
             [
              0.3333333333333333,
              "#9c179e"
             ],
             [
              0.4444444444444444,
              "#bd3786"
             ],
             [
              0.5555555555555556,
              "#d8576b"
             ],
             [
              0.6666666666666666,
              "#ed7953"
             ],
             [
              0.7777777777777778,
              "#fb9f3a"
             ],
             [
              0.8888888888888888,
              "#fdca26"
             ],
             [
              1.0,
              "#f0f921"
             ]
            ],
            "type": "heatmapgl"
           }
          ],
          "histogram": [
           {
            "marker": {
             "colorbar": {
              "outlinewidth": 0,
              "ticks": ""
             }
            },
            "type": "histogram"
           }
          ],
          "histogram2d": [
           {
            "colorbar": {
             "outlinewidth": 0,
             "ticks": ""
            },
            "colorscale": [
             [
              0.0,
              "#0d0887"
             ],
             [
              0.1111111111111111,
              "#46039f"
             ],
             [
              0.2222222222222222,
              "#7201a8"
             ],
             [
              0.3333333333333333,
              "#9c179e"
             ],
             [
              0.4444444444444444,
              "#bd3786"
             ],
             [
              0.5555555555555556,
              "#d8576b"
             ],
             [
              0.6666666666666666,
              "#ed7953"
             ],
             [
              0.7777777777777778,
              "#fb9f3a"
             ],
             [
              0.8888888888888888,
              "#fdca26"
             ],
             [
              1.0,
              "#f0f921"
             ]
            ],
            "type": "histogram2d"
           }
          ],
          "histogram2dcontour": [
           {
            "colorbar": {
             "outlinewidth": 0,
             "ticks": ""
            },
            "colorscale": [
             [
              0.0,
              "#0d0887"
             ],
             [
              0.1111111111111111,
              "#46039f"
             ],
             [
              0.2222222222222222,
              "#7201a8"
             ],
             [
              0.3333333333333333,
              "#9c179e"
             ],
             [
              0.4444444444444444,
              "#bd3786"
             ],
             [
              0.5555555555555556,
              "#d8576b"
             ],
             [
              0.6666666666666666,
              "#ed7953"
             ],
             [
              0.7777777777777778,
              "#fb9f3a"
             ],
             [
              0.8888888888888888,
              "#fdca26"
             ],
             [
              1.0,
              "#f0f921"
             ]
            ],
            "type": "histogram2dcontour"
           }
          ],
          "mesh3d": [
           {
            "colorbar": {
             "outlinewidth": 0,
             "ticks": ""
            },
            "type": "mesh3d"
           }
          ],
          "parcoords": [
           {
            "line": {
             "colorbar": {
              "outlinewidth": 0,
              "ticks": ""
             }
            },
            "type": "parcoords"
           }
          ],
          "pie": [
           {
            "automargin": true,
            "type": "pie"
           }
          ],
          "scatter": [
           {
            "marker": {
             "colorbar": {
              "outlinewidth": 0,
              "ticks": ""
             }
            },
            "type": "scatter"
           }
          ],
          "scatter3d": [
           {
            "line": {
             "colorbar": {
              "outlinewidth": 0,
              "ticks": ""
             }
            },
            "marker": {
             "colorbar": {
              "outlinewidth": 0,
              "ticks": ""
             }
            },
            "type": "scatter3d"
           }
          ],
          "scattercarpet": [
           {
            "marker": {
             "colorbar": {
              "outlinewidth": 0,
              "ticks": ""
             }
            },
            "type": "scattercarpet"
           }
          ],
          "scattergeo": [
           {
            "marker": {
             "colorbar": {
              "outlinewidth": 0,
              "ticks": ""
             }
            },
            "type": "scattergeo"
           }
          ],
          "scattergl": [
           {
            "marker": {
             "colorbar": {
              "outlinewidth": 0,
              "ticks": ""
             }
            },
            "type": "scattergl"
           }
          ],
          "scattermapbox": [
           {
            "marker": {
             "colorbar": {
              "outlinewidth": 0,
              "ticks": ""
             }
            },
            "type": "scattermapbox"
           }
          ],
          "scatterpolar": [
           {
            "marker": {
             "colorbar": {
              "outlinewidth": 0,
              "ticks": ""
             }
            },
            "type": "scatterpolar"
           }
          ],
          "scatterpolargl": [
           {
            "marker": {
             "colorbar": {
              "outlinewidth": 0,
              "ticks": ""
             }
            },
            "type": "scatterpolargl"
           }
          ],
          "scatterternary": [
           {
            "marker": {
             "colorbar": {
              "outlinewidth": 0,
              "ticks": ""
             }
            },
            "type": "scatterternary"
           }
          ],
          "surface": [
           {
            "colorbar": {
             "outlinewidth": 0,
             "ticks": ""
            },
            "colorscale": [
             [
              0.0,
              "#0d0887"
             ],
             [
              0.1111111111111111,
              "#46039f"
             ],
             [
              0.2222222222222222,
              "#7201a8"
             ],
             [
              0.3333333333333333,
              "#9c179e"
             ],
             [
              0.4444444444444444,
              "#bd3786"
             ],
             [
              0.5555555555555556,
              "#d8576b"
             ],
             [
              0.6666666666666666,
              "#ed7953"
             ],
             [
              0.7777777777777778,
              "#fb9f3a"
             ],
             [
              0.8888888888888888,
              "#fdca26"
             ],
             [
              1.0,
              "#f0f921"
             ]
            ],
            "type": "surface"
           }
          ],
          "table": [
           {
            "cells": {
             "fill": {
              "color": "#EBF0F8"
             },
             "line": {
              "color": "white"
             }
            },
            "header": {
             "fill": {
              "color": "#C8D4E3"
             },
             "line": {
              "color": "white"
             }
            },
            "type": "table"
           }
          ]
         },
         "layout": {
          "annotationdefaults": {
           "arrowcolor": "#2a3f5f",
           "arrowhead": 0,
           "arrowwidth": 1
          },
          "coloraxis": {
           "colorbar": {
            "outlinewidth": 0,
            "ticks": ""
           }
          },
          "colorscale": {
           "diverging": [
            [
             0,
             "#8e0152"
            ],
            [
             0.1,
             "#c51b7d"
            ],
            [
             0.2,
             "#de77ae"
            ],
            [
             0.3,
             "#f1b6da"
            ],
            [
             0.4,
             "#fde0ef"
            ],
            [
             0.5,
             "#f7f7f7"
            ],
            [
             0.6,
             "#e6f5d0"
            ],
            [
             0.7,
             "#b8e186"
            ],
            [
             0.8,
             "#7fbc41"
            ],
            [
             0.9,
             "#4d9221"
            ],
            [
             1,
             "#276419"
            ]
           ],
           "sequential": [
            [
             0.0,
             "#0d0887"
            ],
            [
             0.1111111111111111,
             "#46039f"
            ],
            [
             0.2222222222222222,
             "#7201a8"
            ],
            [
             0.3333333333333333,
             "#9c179e"
            ],
            [
             0.4444444444444444,
             "#bd3786"
            ],
            [
             0.5555555555555556,
             "#d8576b"
            ],
            [
             0.6666666666666666,
             "#ed7953"
            ],
            [
             0.7777777777777778,
             "#fb9f3a"
            ],
            [
             0.8888888888888888,
             "#fdca26"
            ],
            [
             1.0,
             "#f0f921"
            ]
           ],
           "sequentialminus": [
            [
             0.0,
             "#0d0887"
            ],
            [
             0.1111111111111111,
             "#46039f"
            ],
            [
             0.2222222222222222,
             "#7201a8"
            ],
            [
             0.3333333333333333,
             "#9c179e"
            ],
            [
             0.4444444444444444,
             "#bd3786"
            ],
            [
             0.5555555555555556,
             "#d8576b"
            ],
            [
             0.6666666666666666,
             "#ed7953"
            ],
            [
             0.7777777777777778,
             "#fb9f3a"
            ],
            [
             0.8888888888888888,
             "#fdca26"
            ],
            [
             1.0,
             "#f0f921"
            ]
           ]
          },
          "colorway": [
           "#636efa",
           "#EF553B",
           "#00cc96",
           "#ab63fa",
           "#FFA15A",
           "#19d3f3",
           "#FF6692",
           "#B6E880",
           "#FF97FF",
           "#FECB52"
          ],
          "font": {
           "color": "#2a3f5f"
          },
          "geo": {
           "bgcolor": "white",
           "lakecolor": "white",
           "landcolor": "#E5ECF6",
           "showlakes": true,
           "showland": true,
           "subunitcolor": "white"
          },
          "hoverlabel": {
           "align": "left"
          },
          "hovermode": "closest",
          "mapbox": {
           "style": "light"
          },
          "paper_bgcolor": "white",
          "plot_bgcolor": "#E5ECF6",
          "polar": {
           "angularaxis": {
            "gridcolor": "white",
            "linecolor": "white",
            "ticks": ""
           },
           "bgcolor": "#E5ECF6",
           "radialaxis": {
            "gridcolor": "white",
            "linecolor": "white",
            "ticks": ""
           }
          },
          "scene": {
           "xaxis": {
            "backgroundcolor": "#E5ECF6",
            "gridcolor": "white",
            "gridwidth": 2,
            "linecolor": "white",
            "showbackground": true,
            "ticks": "",
            "zerolinecolor": "white"
           },
           "yaxis": {
            "backgroundcolor": "#E5ECF6",
            "gridcolor": "white",
            "gridwidth": 2,
            "linecolor": "white",
            "showbackground": true,
            "ticks": "",
            "zerolinecolor": "white"
           },
           "zaxis": {
            "backgroundcolor": "#E5ECF6",
            "gridcolor": "white",
            "gridwidth": 2,
            "linecolor": "white",
            "showbackground": true,
            "ticks": "",
            "zerolinecolor": "white"
           }
          },
          "shapedefaults": {
           "line": {
            "color": "#2a3f5f"
           }
          },
          "ternary": {
           "aaxis": {
            "gridcolor": "white",
            "linecolor": "white",
            "ticks": ""
           },
           "baxis": {
            "gridcolor": "white",
            "linecolor": "white",
            "ticks": ""
           },
           "bgcolor": "#E5ECF6",
           "caxis": {
            "gridcolor": "white",
            "linecolor": "white",
            "ticks": ""
           }
          },
          "title": {
           "x": 0.05
          },
          "xaxis": {
           "automargin": true,
           "gridcolor": "white",
           "linecolor": "white",
           "ticks": "",
           "title": {
            "standoff": 15
           },
           "zerolinecolor": "white",
           "zerolinewidth": 2
          },
          "yaxis": {
           "automargin": true,
           "gridcolor": "white",
           "linecolor": "white",
           "ticks": "",
           "title": {
            "standoff": 15
           },
           "zerolinecolor": "white",
           "zerolinewidth": 2
          }
         }
        },
        "xaxis": {
         "anchor": "y",
         "domain": [
          0.0,
          1.0
         ],
         "title": {
          "text": "Demand"
         }
        },
        "xaxis2": {
         "anchor": "y2",
         "domain": [
          0.0,
          1.0
         ],
         "title": {
          "text": "Demand"
         }
        },
        "yaxis": {
         "anchor": "x",
         "domain": [
          0.575,
          1.0
         ]
        },
        "yaxis2": {
         "anchor": "x2",
         "domain": [
          0.0,
          0.425
         ]
        }
       }
      },
      "text/html": "<div>\n        \n        \n            <div id=\"4c38dcb0-bc2b-44a6-9639-96654d3e12f3\" class=\"plotly-graph-div\" style=\"height:525px; width:100%;\"></div>\n            <script type=\"text/javascript\">\n                require([\"plotly\"], function(Plotly) {\n                    window.PLOTLYENV=window.PLOTLYENV || {};\n                    \n                if (document.getElementById(\"4c38dcb0-bc2b-44a6-9639-96654d3e12f3\")) {\n                    Plotly.newPlot(\n                        '4c38dcb0-bc2b-44a6-9639-96654d3e12f3',\n                        [{\"hovertemplate\": \"name: %{y}%{x}<br>number: %{marker.symbol}<extra></extra>\", \"marker\": {\"color\": \"red\", \"line\": {\"color\": \"midnightblue\", \"width\": 1}, \"size\": 15, \"symbol\": [8, 108, 208, 308]}, \"mode\": \"markers\", \"name\": \"CO2_Cap\", \"showlegend\": true, \"type\": \"scatter\", \"x\": [447.00591981726757, 495.4792525830953, 617.5920346658789, 683.08464662201], \"y\": [1503.600000000059, 1503.5999999998887, 1503.6000000000347, 1503.6000000000017]}, {\"hovertemplate\": \"name: %{y}%{x}<br>number: %{marker.symbol}<extra></extra>\", \"marker\": {\"color\": \"green\", \"line\": {\"color\": \"midnightblue\", \"width\": 1}, \"size\": 15, \"symbol\": [0, 100, 200, 300]}, \"mode\": \"markers\", \"name\": \"Min_RES_Quota\", \"showlegend\": true, \"type\": \"scatter\", \"x\": [530.4313924070508, 578.3050634863713, 693.2448511791318, 751.9823394466408], \"y\": [1153.6928291520376, 1347.647505585643, 1646.4412036597655, 1789.61212453587]}, {\"hovertemplate\": \"name: %{y}%{x}<br>number: %{marker.symbol}<extra></extra>\", \"marker\": {\"color\": \"yellow\", \"line\": {\"color\": \"midnightblue\", \"width\": 1}, \"size\": 15, \"symbol\": [7, 107, 207, 307]}, \"mode\": \"markers\", \"name\": \"CO2_Tax\", \"showlegend\": true, \"type\": \"scatter\", \"x\": [458.15720150695705, 503.1727921951388, 604.3103833785826, 655.5126014596156], \"y\": [1171.08081605525, 1353.0294340094185, 1647.0208591128555, 1790.2400642531147]}, {\"hovertemplate\": \"name: %{y}%{x}<br>number: %{marker.symbol}<extra></extra>\", \"marker\": {\"color\": \"blue\", \"line\": {\"color\": \"midnightblue\", \"width\": 1}, \"size\": 15, \"symbol\": [4, 104, 204, 304]}, \"mode\": \"markers\", \"name\": \"FIT\", \"showlegend\": true, \"type\": \"scatter\", \"x\": [639.5396215763752, 653.0800543152228, 684.8957816081227, 701.6225332803009], \"y\": [772.4808150377785, 1093.7825605573958, 1964.6317521515073, 2507.7373677316536]}, {\"marker\": {\"color\": \"red\", \"line\": {\"color\": \"black\", \"width\": 2}, \"size\": 8, \"symbol\": [8, 108, 208, 308]}, \"mode\": \"markers\", \"name\": \"CO2_Cap\", \"showlegend\": false, \"type\": \"scatter\", \"x\": [553.1266271112935], \"y\": [1503.6000000000258]}, {\"marker\": {\"color\": \"green\", \"line\": {\"color\": \"black\", \"width\": 2}, \"size\": 8, \"symbol\": [0, 100, 200, 300]}, \"mode\": \"markers\", \"name\": \"Min_RES_Quota\", \"showlegend\": false, \"type\": \"scatter\", \"x\": [634.5073629116724], \"y\": [1503.2693131994488]}, {\"marker\": {\"color\": \"yellow\", \"line\": {\"color\": \"black\", \"width\": 2}, \"size\": 8, \"symbol\": [7, 107, 207, 307]}, \"mode\": \"markers\", \"name\": \"CO2_Tax\", \"showlegend\": false, \"type\": \"scatter\", \"x\": [553.1081652975545], \"y\": [1503.801653972579]}, {\"marker\": {\"color\": \"blue\", \"line\": {\"color\": \"black\", \"width\": 2}, \"size\": 8, \"symbol\": [4, 104, 204, 304]}, \"mode\": \"markers\", \"name\": \"FIT\", \"showlegend\": false, \"type\": \"scatter\", \"x\": [668.6231941490724], \"y\": [1503.6760485649447]}],\n                        {\"template\": {\"data\": {\"bar\": [{\"error_x\": {\"color\": \"#2a3f5f\"}, \"error_y\": {\"color\": \"#2a3f5f\"}, \"marker\": {\"line\": {\"color\": \"#E5ECF6\", \"width\": 0.5}}, \"type\": \"bar\"}], \"barpolar\": [{\"marker\": {\"line\": {\"color\": \"#E5ECF6\", \"width\": 0.5}}, \"type\": \"barpolar\"}], \"carpet\": [{\"aaxis\": {\"endlinecolor\": \"#2a3f5f\", \"gridcolor\": \"white\", \"linecolor\": \"white\", \"minorgridcolor\": \"white\", \"startlinecolor\": \"#2a3f5f\"}, \"baxis\": {\"endlinecolor\": \"#2a3f5f\", \"gridcolor\": \"white\", \"linecolor\": \"white\", \"minorgridcolor\": \"white\", \"startlinecolor\": \"#2a3f5f\"}, \"type\": \"carpet\"}], \"choropleth\": [{\"colorbar\": {\"outlinewidth\": 0, \"ticks\": \"\"}, \"type\": \"choropleth\"}], \"contour\": [{\"colorbar\": {\"outlinewidth\": 0, \"ticks\": \"\"}, \"colorscale\": [[0.0, \"#0d0887\"], [0.1111111111111111, \"#46039f\"], [0.2222222222222222, \"#7201a8\"], [0.3333333333333333, \"#9c179e\"], [0.4444444444444444, \"#bd3786\"], [0.5555555555555556, \"#d8576b\"], [0.6666666666666666, \"#ed7953\"], [0.7777777777777778, \"#fb9f3a\"], [0.8888888888888888, \"#fdca26\"], [1.0, \"#f0f921\"]], \"type\": \"contour\"}], \"contourcarpet\": [{\"colorbar\": {\"outlinewidth\": 0, \"ticks\": \"\"}, \"type\": \"contourcarpet\"}], \"heatmap\": [{\"colorbar\": {\"outlinewidth\": 0, \"ticks\": \"\"}, \"colorscale\": [[0.0, \"#0d0887\"], [0.1111111111111111, \"#46039f\"], [0.2222222222222222, \"#7201a8\"], [0.3333333333333333, \"#9c179e\"], [0.4444444444444444, \"#bd3786\"], [0.5555555555555556, \"#d8576b\"], [0.6666666666666666, \"#ed7953\"], [0.7777777777777778, \"#fb9f3a\"], [0.8888888888888888, \"#fdca26\"], [1.0, \"#f0f921\"]], \"type\": \"heatmap\"}], \"heatmapgl\": [{\"colorbar\": {\"outlinewidth\": 0, \"ticks\": \"\"}, \"colorscale\": [[0.0, \"#0d0887\"], [0.1111111111111111, \"#46039f\"], [0.2222222222222222, \"#7201a8\"], [0.3333333333333333, \"#9c179e\"], [0.4444444444444444, \"#bd3786\"], [0.5555555555555556, \"#d8576b\"], [0.6666666666666666, \"#ed7953\"], [0.7777777777777778, \"#fb9f3a\"], [0.8888888888888888, \"#fdca26\"], [1.0, \"#f0f921\"]], \"type\": \"heatmapgl\"}], \"histogram\": [{\"marker\": {\"colorbar\": {\"outlinewidth\": 0, \"ticks\": \"\"}}, \"type\": \"histogram\"}], \"histogram2d\": [{\"colorbar\": {\"outlinewidth\": 0, \"ticks\": \"\"}, \"colorscale\": [[0.0, \"#0d0887\"], [0.1111111111111111, \"#46039f\"], [0.2222222222222222, \"#7201a8\"], [0.3333333333333333, \"#9c179e\"], [0.4444444444444444, \"#bd3786\"], [0.5555555555555556, \"#d8576b\"], [0.6666666666666666, \"#ed7953\"], [0.7777777777777778, \"#fb9f3a\"], [0.8888888888888888, \"#fdca26\"], [1.0, \"#f0f921\"]], \"type\": \"histogram2d\"}], \"histogram2dcontour\": [{\"colorbar\": {\"outlinewidth\": 0, \"ticks\": \"\"}, \"colorscale\": [[0.0, \"#0d0887\"], [0.1111111111111111, \"#46039f\"], [0.2222222222222222, \"#7201a8\"], [0.3333333333333333, \"#9c179e\"], [0.4444444444444444, \"#bd3786\"], [0.5555555555555556, \"#d8576b\"], [0.6666666666666666, \"#ed7953\"], [0.7777777777777778, \"#fb9f3a\"], [0.8888888888888888, \"#fdca26\"], [1.0, \"#f0f921\"]], \"type\": \"histogram2dcontour\"}], \"mesh3d\": [{\"colorbar\": {\"outlinewidth\": 0, \"ticks\": \"\"}, \"type\": \"mesh3d\"}], \"parcoords\": [{\"line\": {\"colorbar\": {\"outlinewidth\": 0, \"ticks\": \"\"}}, \"type\": \"parcoords\"}], \"pie\": [{\"automargin\": true, \"type\": \"pie\"}], \"scatter\": [{\"marker\": {\"colorbar\": {\"outlinewidth\": 0, \"ticks\": \"\"}}, \"type\": \"scatter\"}], \"scatter3d\": [{\"line\": {\"colorbar\": {\"outlinewidth\": 0, \"ticks\": \"\"}}, \"marker\": {\"colorbar\": {\"outlinewidth\": 0, \"ticks\": \"\"}}, \"type\": \"scatter3d\"}], \"scattercarpet\": [{\"marker\": {\"colorbar\": {\"outlinewidth\": 0, \"ticks\": \"\"}}, \"type\": \"scattercarpet\"}], \"scattergeo\": [{\"marker\": {\"colorbar\": {\"outlinewidth\": 0, \"ticks\": \"\"}}, \"type\": \"scattergeo\"}], \"scattergl\": [{\"marker\": {\"colorbar\": {\"outlinewidth\": 0, \"ticks\": \"\"}}, \"type\": \"scattergl\"}], \"scattermapbox\": [{\"marker\": {\"colorbar\": {\"outlinewidth\": 0, \"ticks\": \"\"}}, \"type\": \"scattermapbox\"}], \"scatterpolar\": [{\"marker\": {\"colorbar\": {\"outlinewidth\": 0, \"ticks\": \"\"}}, \"type\": \"scatterpolar\"}], \"scatterpolargl\": [{\"marker\": {\"colorbar\": {\"outlinewidth\": 0, \"ticks\": \"\"}}, \"type\": \"scatterpolargl\"}], \"scatterternary\": [{\"marker\": {\"colorbar\": {\"outlinewidth\": 0, \"ticks\": \"\"}}, \"type\": \"scatterternary\"}], \"surface\": [{\"colorbar\": {\"outlinewidth\": 0, \"ticks\": \"\"}, \"colorscale\": [[0.0, \"#0d0887\"], [0.1111111111111111, \"#46039f\"], [0.2222222222222222, \"#7201a8\"], [0.3333333333333333, \"#9c179e\"], [0.4444444444444444, \"#bd3786\"], [0.5555555555555556, \"#d8576b\"], [0.6666666666666666, \"#ed7953\"], [0.7777777777777778, \"#fb9f3a\"], [0.8888888888888888, \"#fdca26\"], [1.0, \"#f0f921\"]], \"type\": \"surface\"}], \"table\": [{\"cells\": {\"fill\": {\"color\": \"#EBF0F8\"}, \"line\": {\"color\": \"white\"}}, \"header\": {\"fill\": {\"color\": \"#C8D4E3\"}, \"line\": {\"color\": \"white\"}}, \"type\": \"table\"}]}, \"layout\": {\"annotationdefaults\": {\"arrowcolor\": \"#2a3f5f\", \"arrowhead\": 0, \"arrowwidth\": 1}, \"coloraxis\": {\"colorbar\": {\"outlinewidth\": 0, \"ticks\": \"\"}}, \"colorscale\": {\"diverging\": [[0, \"#8e0152\"], [0.1, \"#c51b7d\"], [0.2, \"#de77ae\"], [0.3, \"#f1b6da\"], [0.4, \"#fde0ef\"], [0.5, \"#f7f7f7\"], [0.6, \"#e6f5d0\"], [0.7, \"#b8e186\"], [0.8, \"#7fbc41\"], [0.9, \"#4d9221\"], [1, \"#276419\"]], \"sequential\": [[0.0, \"#0d0887\"], [0.1111111111111111, \"#46039f\"], [0.2222222222222222, \"#7201a8\"], [0.3333333333333333, \"#9c179e\"], [0.4444444444444444, \"#bd3786\"], [0.5555555555555556, \"#d8576b\"], [0.6666666666666666, \"#ed7953\"], [0.7777777777777778, \"#fb9f3a\"], [0.8888888888888888, \"#fdca26\"], [1.0, \"#f0f921\"]], \"sequentialminus\": [[0.0, \"#0d0887\"], [0.1111111111111111, \"#46039f\"], [0.2222222222222222, \"#7201a8\"], [0.3333333333333333, \"#9c179e\"], [0.4444444444444444, \"#bd3786\"], [0.5555555555555556, \"#d8576b\"], [0.6666666666666666, \"#ed7953\"], [0.7777777777777778, \"#fb9f3a\"], [0.8888888888888888, \"#fdca26\"], [1.0, \"#f0f921\"]]}, \"colorway\": [\"#636efa\", \"#EF553B\", \"#00cc96\", \"#ab63fa\", \"#FFA15A\", \"#19d3f3\", \"#FF6692\", \"#B6E880\", \"#FF97FF\", \"#FECB52\"], \"font\": {\"color\": \"#2a3f5f\"}, \"geo\": {\"bgcolor\": \"white\", \"lakecolor\": \"white\", \"landcolor\": \"#E5ECF6\", \"showlakes\": true, \"showland\": true, \"subunitcolor\": \"white\"}, \"hoverlabel\": {\"align\": \"left\"}, \"hovermode\": \"closest\", \"mapbox\": {\"style\": \"light\"}, \"paper_bgcolor\": \"white\", \"plot_bgcolor\": \"#E5ECF6\", \"polar\": {\"angularaxis\": {\"gridcolor\": \"white\", \"linecolor\": \"white\", \"ticks\": \"\"}, \"bgcolor\": \"#E5ECF6\", \"radialaxis\": {\"gridcolor\": \"white\", \"linecolor\": \"white\", \"ticks\": \"\"}}, \"scene\": {\"xaxis\": {\"backgroundcolor\": \"#E5ECF6\", \"gridcolor\": \"white\", \"gridwidth\": 2, \"linecolor\": \"white\", \"showbackground\": true, \"ticks\": \"\", \"zerolinecolor\": \"white\"}, \"yaxis\": {\"backgroundcolor\": \"#E5ECF6\", \"gridcolor\": \"white\", \"gridwidth\": 2, \"linecolor\": \"white\", \"showbackground\": true, \"ticks\": \"\", \"zerolinecolor\": \"white\"}, \"zaxis\": {\"backgroundcolor\": \"#E5ECF6\", \"gridcolor\": \"white\", \"gridwidth\": 2, \"linecolor\": \"white\", \"showbackground\": true, \"ticks\": \"\", \"zerolinecolor\": \"white\"}}, \"shapedefaults\": {\"line\": {\"color\": \"#2a3f5f\"}}, \"ternary\": {\"aaxis\": {\"gridcolor\": \"white\", \"linecolor\": \"white\", \"ticks\": \"\"}, \"baxis\": {\"gridcolor\": \"white\", \"linecolor\": \"white\", \"ticks\": \"\"}, \"bgcolor\": \"#E5ECF6\", \"caxis\": {\"gridcolor\": \"white\", \"linecolor\": \"white\", \"ticks\": \"\"}}, \"title\": {\"x\": 0.05}, \"xaxis\": {\"automargin\": true, \"gridcolor\": \"white\", \"linecolor\": \"white\", \"ticks\": \"\", \"title\": {\"standoff\": 15}, \"zerolinecolor\": \"white\", \"zerolinewidth\": 2}, \"yaxis\": {\"automargin\": true, \"gridcolor\": \"white\", \"linecolor\": \"white\", \"ticks\": \"\", \"title\": {\"standoff\": 15}, \"zerolinecolor\": \"white\", \"zerolinewidth\": 2}}}, \"xaxis\": {\"anchor\": \"y\", \"domain\": [0.0, 1.0], \"title\": {\"text\": \"Demand\"}}, \"xaxis2\": {\"anchor\": \"y2\", \"domain\": [0.0, 1.0], \"title\": {\"text\": \"Demand\"}}, \"yaxis\": {\"anchor\": \"x\", \"domain\": [0.575, 1.0]}, \"yaxis2\": {\"anchor\": \"x2\", \"domain\": [0.0, 0.425]}},\n                        {\"responsive\": true}\n                    ).then(function(){\n                            \nvar gd = document.getElementById('4c38dcb0-bc2b-44a6-9639-96654d3e12f3');\nvar x = new MutationObserver(function (mutations, observer) {{\n        var display = window.getComputedStyle(gd).display;\n        if (!display || display === 'none') {{\n            console.log([gd, 'removed!']);\n            Plotly.purge(gd);\n            observer.disconnect();\n        }}\n}});\n\n// Listen for the removal of the full notebook cells\nvar notebookContainer = gd.closest('#notebook-container');\nif (notebookContainer) {{\n    x.observe(notebookContainer, {childList: true});\n}}\n\n// Listen for the clearing of the current output cell\nvar outputEl = gd.closest('.output');\nif (outputEl) {{\n    x.observe(outputEl, {childList: true});\n}}\n\n                        })\n                };\n                });\n            </script>\n        </div>"
     },
     "metadata": {},
     "output_type": "display_data"
    }
   ],
   "source": [
    "symbol1 =[symbols[32:36],symbols[0:4],symbols[28:32],symbols[16:20]]\n",
    "\n",
    "name1 = data2.Pol_Inst.unique()\n",
    "marker_color1 = [\"red\",\"green\",\"yellow\",\"blue\"]\n",
    "\n",
    "for i,j,k,l in zip(x1[3],symbol1,name1,marker_color1):\n",
    "    fig.add_trace(\n",
    "        go.Scatter(x=i.Total_System_Cost,y=i.Total_CO2_Emissions,\n",
    "               mode=\"markers\",\n",
    "               marker_symbol=j,\n",
    "               marker_line_color=\"midnightblue\", marker_color=l,\n",
    "               marker_line_width=1, marker_size=15,\n",
    "               name = k,\n",
    "               showlegend= True,\n",
    "               hovertemplate=\"name: %{y}%{x}<br>number: %{marker.symbol}<extra></extra>\"),\n",
    "               #row=1,col=1\n",
    "    )\n",
    "for i,j,k,l in zip(x1[9],symbol1,name1,marker_color1):\n",
    "    fig.add_trace(\n",
    "        go.Scatter(x=i.Total_System_Cost,y=i.Total_CO2_Emissions,\n",
    "               mode=\"markers\",\n",
    "               marker_symbol=j,\n",
    "               marker_line_color=\"black\", marker_color = l,\n",
    "               marker_line_width=2,\n",
    "               marker_size=8,\n",
    "               name = k,\n",
    "               showlegend= False,\n",
    "               #hovertemplate=\"name: %{y}%{x}<br>number: %{marker.symbol}<extra></extra>\"\n",
    "               ),\n",
    "               #row=1,col=1\n",
    "    )\n",
    "fig.update_xaxes(title='Demand')"
   ],
   "metadata": {
    "collapsed": false,
    "pycharm": {
     "name": "#%%\n"
    }
   }
  },
  {
   "cell_type": "code",
   "execution_count": 15,
   "outputs": [
    {
     "data": {
      "application/vnd.plotly.v1+json": {
       "config": {
        "plotlyServerURL": "https://plot.ly"
       },
       "data": [
        {
         "hovertemplate": "name: %{y}%{x}<br>number: %{marker.symbol}<extra></extra>",
         "marker": {
          "color": "red",
          "line": {
           "color": "midnightblue",
           "width": 1
          },
          "size": 15,
          "symbol": [
           8,
           108,
           208,
           308
          ]
         },
         "mode": "markers",
         "name": "CO2_Cap",
         "showlegend": true,
         "type": "scatter",
         "x": [
          447.00591981726757,
          495.4792525830953,
          617.5920346658789,
          683.08464662201
         ],
         "y": [
          1503.600000000059,
          1503.5999999998887,
          1503.6000000000347,
          1503.6000000000017
         ]
        },
        {
         "hovertemplate": "name: %{y}%{x}<br>number: %{marker.symbol}<extra></extra>",
         "marker": {
          "color": "green",
          "line": {
           "color": "midnightblue",
           "width": 1
          },
          "size": 15,
          "symbol": [
           0,
           100,
           200,
           300
          ]
         },
         "mode": "markers",
         "name": "Min_RES_Quota",
         "showlegend": true,
         "type": "scatter",
         "x": [
          530.4313924070508,
          578.3050634863713,
          693.2448511791318,
          751.9823394466408
         ],
         "y": [
          1153.6928291520376,
          1347.647505585643,
          1646.4412036597655,
          1789.61212453587
         ]
        },
        {
         "hovertemplate": "name: %{y}%{x}<br>number: %{marker.symbol}<extra></extra>",
         "marker": {
          "color": "yellow",
          "line": {
           "color": "midnightblue",
           "width": 1
          },
          "size": 15,
          "symbol": [
           7,
           107,
           207,
           307
          ]
         },
         "mode": "markers",
         "name": "CO2_Tax",
         "showlegend": true,
         "type": "scatter",
         "x": [
          458.15720150695705,
          503.1727921951388,
          604.3103833785826,
          655.5126014596156
         ],
         "y": [
          1171.08081605525,
          1353.0294340094185,
          1647.0208591128555,
          1790.2400642531147
         ]
        },
        {
         "hovertemplate": "name: %{y}%{x}<br>number: %{marker.symbol}<extra></extra>",
         "marker": {
          "color": "blue",
          "line": {
           "color": "midnightblue",
           "width": 1
          },
          "size": 15,
          "symbol": [
           4,
           104,
           204,
           304
          ]
         },
         "mode": "markers",
         "name": "FIT",
         "showlegend": true,
         "type": "scatter",
         "x": [
          639.5396215763752,
          653.0800543152228,
          684.8957816081227,
          701.6225332803009
         ],
         "y": [
          772.4808150377785,
          1093.7825605573958,
          1964.6317521515073,
          2507.7373677316536
         ]
        },
        {
         "marker": {
          "color": "red",
          "line": {
           "color": "black",
           "width": 2
          },
          "size": 8,
          "symbol": [
           8,
           108,
           208,
           308
          ]
         },
         "mode": "markers",
         "name": "CO2_Cap",
         "showlegend": false,
         "type": "scatter",
         "x": [
          553.1266271112935
         ],
         "y": [
          1503.6000000000258
         ]
        },
        {
         "marker": {
          "color": "green",
          "line": {
           "color": "black",
           "width": 2
          },
          "size": 8,
          "symbol": [
           0,
           100,
           200,
           300
          ]
         },
         "mode": "markers",
         "name": "Min_RES_Quota",
         "showlegend": false,
         "type": "scatter",
         "x": [
          634.5073629116724
         ],
         "y": [
          1503.2693131994488
         ]
        },
        {
         "marker": {
          "color": "yellow",
          "line": {
           "color": "black",
           "width": 2
          },
          "size": 8,
          "symbol": [
           7,
           107,
           207,
           307
          ]
         },
         "mode": "markers",
         "name": "CO2_Tax",
         "showlegend": false,
         "type": "scatter",
         "x": [
          553.1081652975545
         ],
         "y": [
          1503.801653972579
         ]
        },
        {
         "marker": {
          "color": "blue",
          "line": {
           "color": "black",
           "width": 2
          },
          "size": 8,
          "symbol": [
           4,
           104,
           204,
           304
          ]
         },
         "mode": "markers",
         "name": "FIT",
         "showlegend": false,
         "type": "scatter",
         "x": [
          668.6231941490724
         ],
         "y": [
          1503.6760485649447
         ]
        }
       ],
       "layout": {
        "height": 700,
        "template": {
         "data": {
          "bar": [
           {
            "error_x": {
             "color": "#2a3f5f"
            },
            "error_y": {
             "color": "#2a3f5f"
            },
            "marker": {
             "line": {
              "color": "#E5ECF6",
              "width": 0.5
             }
            },
            "type": "bar"
           }
          ],
          "barpolar": [
           {
            "marker": {
             "line": {
              "color": "#E5ECF6",
              "width": 0.5
             }
            },
            "type": "barpolar"
           }
          ],
          "carpet": [
           {
            "aaxis": {
             "endlinecolor": "#2a3f5f",
             "gridcolor": "white",
             "linecolor": "white",
             "minorgridcolor": "white",
             "startlinecolor": "#2a3f5f"
            },
            "baxis": {
             "endlinecolor": "#2a3f5f",
             "gridcolor": "white",
             "linecolor": "white",
             "minorgridcolor": "white",
             "startlinecolor": "#2a3f5f"
            },
            "type": "carpet"
           }
          ],
          "choropleth": [
           {
            "colorbar": {
             "outlinewidth": 0,
             "ticks": ""
            },
            "type": "choropleth"
           }
          ],
          "contour": [
           {
            "colorbar": {
             "outlinewidth": 0,
             "ticks": ""
            },
            "colorscale": [
             [
              0.0,
              "#0d0887"
             ],
             [
              0.1111111111111111,
              "#46039f"
             ],
             [
              0.2222222222222222,
              "#7201a8"
             ],
             [
              0.3333333333333333,
              "#9c179e"
             ],
             [
              0.4444444444444444,
              "#bd3786"
             ],
             [
              0.5555555555555556,
              "#d8576b"
             ],
             [
              0.6666666666666666,
              "#ed7953"
             ],
             [
              0.7777777777777778,
              "#fb9f3a"
             ],
             [
              0.8888888888888888,
              "#fdca26"
             ],
             [
              1.0,
              "#f0f921"
             ]
            ],
            "type": "contour"
           }
          ],
          "contourcarpet": [
           {
            "colorbar": {
             "outlinewidth": 0,
             "ticks": ""
            },
            "type": "contourcarpet"
           }
          ],
          "heatmap": [
           {
            "colorbar": {
             "outlinewidth": 0,
             "ticks": ""
            },
            "colorscale": [
             [
              0.0,
              "#0d0887"
             ],
             [
              0.1111111111111111,
              "#46039f"
             ],
             [
              0.2222222222222222,
              "#7201a8"
             ],
             [
              0.3333333333333333,
              "#9c179e"
             ],
             [
              0.4444444444444444,
              "#bd3786"
             ],
             [
              0.5555555555555556,
              "#d8576b"
             ],
             [
              0.6666666666666666,
              "#ed7953"
             ],
             [
              0.7777777777777778,
              "#fb9f3a"
             ],
             [
              0.8888888888888888,
              "#fdca26"
             ],
             [
              1.0,
              "#f0f921"
             ]
            ],
            "type": "heatmap"
           }
          ],
          "heatmapgl": [
           {
            "colorbar": {
             "outlinewidth": 0,
             "ticks": ""
            },
            "colorscale": [
             [
              0.0,
              "#0d0887"
             ],
             [
              0.1111111111111111,
              "#46039f"
             ],
             [
              0.2222222222222222,
              "#7201a8"
             ],
             [
              0.3333333333333333,
              "#9c179e"
             ],
             [
              0.4444444444444444,
              "#bd3786"
             ],
             [
              0.5555555555555556,
              "#d8576b"
             ],
             [
              0.6666666666666666,
              "#ed7953"
             ],
             [
              0.7777777777777778,
              "#fb9f3a"
             ],
             [
              0.8888888888888888,
              "#fdca26"
             ],
             [
              1.0,
              "#f0f921"
             ]
            ],
            "type": "heatmapgl"
           }
          ],
          "histogram": [
           {
            "marker": {
             "colorbar": {
              "outlinewidth": 0,
              "ticks": ""
             }
            },
            "type": "histogram"
           }
          ],
          "histogram2d": [
           {
            "colorbar": {
             "outlinewidth": 0,
             "ticks": ""
            },
            "colorscale": [
             [
              0.0,
              "#0d0887"
             ],
             [
              0.1111111111111111,
              "#46039f"
             ],
             [
              0.2222222222222222,
              "#7201a8"
             ],
             [
              0.3333333333333333,
              "#9c179e"
             ],
             [
              0.4444444444444444,
              "#bd3786"
             ],
             [
              0.5555555555555556,
              "#d8576b"
             ],
             [
              0.6666666666666666,
              "#ed7953"
             ],
             [
              0.7777777777777778,
              "#fb9f3a"
             ],
             [
              0.8888888888888888,
              "#fdca26"
             ],
             [
              1.0,
              "#f0f921"
             ]
            ],
            "type": "histogram2d"
           }
          ],
          "histogram2dcontour": [
           {
            "colorbar": {
             "outlinewidth": 0,
             "ticks": ""
            },
            "colorscale": [
             [
              0.0,
              "#0d0887"
             ],
             [
              0.1111111111111111,
              "#46039f"
             ],
             [
              0.2222222222222222,
              "#7201a8"
             ],
             [
              0.3333333333333333,
              "#9c179e"
             ],
             [
              0.4444444444444444,
              "#bd3786"
             ],
             [
              0.5555555555555556,
              "#d8576b"
             ],
             [
              0.6666666666666666,
              "#ed7953"
             ],
             [
              0.7777777777777778,
              "#fb9f3a"
             ],
             [
              0.8888888888888888,
              "#fdca26"
             ],
             [
              1.0,
              "#f0f921"
             ]
            ],
            "type": "histogram2dcontour"
           }
          ],
          "mesh3d": [
           {
            "colorbar": {
             "outlinewidth": 0,
             "ticks": ""
            },
            "type": "mesh3d"
           }
          ],
          "parcoords": [
           {
            "line": {
             "colorbar": {
              "outlinewidth": 0,
              "ticks": ""
             }
            },
            "type": "parcoords"
           }
          ],
          "pie": [
           {
            "automargin": true,
            "type": "pie"
           }
          ],
          "scatter": [
           {
            "marker": {
             "colorbar": {
              "outlinewidth": 0,
              "ticks": ""
             }
            },
            "type": "scatter"
           }
          ],
          "scatter3d": [
           {
            "line": {
             "colorbar": {
              "outlinewidth": 0,
              "ticks": ""
             }
            },
            "marker": {
             "colorbar": {
              "outlinewidth": 0,
              "ticks": ""
             }
            },
            "type": "scatter3d"
           }
          ],
          "scattercarpet": [
           {
            "marker": {
             "colorbar": {
              "outlinewidth": 0,
              "ticks": ""
             }
            },
            "type": "scattercarpet"
           }
          ],
          "scattergeo": [
           {
            "marker": {
             "colorbar": {
              "outlinewidth": 0,
              "ticks": ""
             }
            },
            "type": "scattergeo"
           }
          ],
          "scattergl": [
           {
            "marker": {
             "colorbar": {
              "outlinewidth": 0,
              "ticks": ""
             }
            },
            "type": "scattergl"
           }
          ],
          "scattermapbox": [
           {
            "marker": {
             "colorbar": {
              "outlinewidth": 0,
              "ticks": ""
             }
            },
            "type": "scattermapbox"
           }
          ],
          "scatterpolar": [
           {
            "marker": {
             "colorbar": {
              "outlinewidth": 0,
              "ticks": ""
             }
            },
            "type": "scatterpolar"
           }
          ],
          "scatterpolargl": [
           {
            "marker": {
             "colorbar": {
              "outlinewidth": 0,
              "ticks": ""
             }
            },
            "type": "scatterpolargl"
           }
          ],
          "scatterternary": [
           {
            "marker": {
             "colorbar": {
              "outlinewidth": 0,
              "ticks": ""
             }
            },
            "type": "scatterternary"
           }
          ],
          "surface": [
           {
            "colorbar": {
             "outlinewidth": 0,
             "ticks": ""
            },
            "colorscale": [
             [
              0.0,
              "#0d0887"
             ],
             [
              0.1111111111111111,
              "#46039f"
             ],
             [
              0.2222222222222222,
              "#7201a8"
             ],
             [
              0.3333333333333333,
              "#9c179e"
             ],
             [
              0.4444444444444444,
              "#bd3786"
             ],
             [
              0.5555555555555556,
              "#d8576b"
             ],
             [
              0.6666666666666666,
              "#ed7953"
             ],
             [
              0.7777777777777778,
              "#fb9f3a"
             ],
             [
              0.8888888888888888,
              "#fdca26"
             ],
             [
              1.0,
              "#f0f921"
             ]
            ],
            "type": "surface"
           }
          ],
          "table": [
           {
            "cells": {
             "fill": {
              "color": "#EBF0F8"
             },
             "line": {
              "color": "white"
             }
            },
            "header": {
             "fill": {
              "color": "#C8D4E3"
             },
             "line": {
              "color": "white"
             }
            },
            "type": "table"
           }
          ]
         },
         "layout": {
          "annotationdefaults": {
           "arrowcolor": "#2a3f5f",
           "arrowhead": 0,
           "arrowwidth": 1
          },
          "coloraxis": {
           "colorbar": {
            "outlinewidth": 0,
            "ticks": ""
           }
          },
          "colorscale": {
           "diverging": [
            [
             0,
             "#8e0152"
            ],
            [
             0.1,
             "#c51b7d"
            ],
            [
             0.2,
             "#de77ae"
            ],
            [
             0.3,
             "#f1b6da"
            ],
            [
             0.4,
             "#fde0ef"
            ],
            [
             0.5,
             "#f7f7f7"
            ],
            [
             0.6,
             "#e6f5d0"
            ],
            [
             0.7,
             "#b8e186"
            ],
            [
             0.8,
             "#7fbc41"
            ],
            [
             0.9,
             "#4d9221"
            ],
            [
             1,
             "#276419"
            ]
           ],
           "sequential": [
            [
             0.0,
             "#0d0887"
            ],
            [
             0.1111111111111111,
             "#46039f"
            ],
            [
             0.2222222222222222,
             "#7201a8"
            ],
            [
             0.3333333333333333,
             "#9c179e"
            ],
            [
             0.4444444444444444,
             "#bd3786"
            ],
            [
             0.5555555555555556,
             "#d8576b"
            ],
            [
             0.6666666666666666,
             "#ed7953"
            ],
            [
             0.7777777777777778,
             "#fb9f3a"
            ],
            [
             0.8888888888888888,
             "#fdca26"
            ],
            [
             1.0,
             "#f0f921"
            ]
           ],
           "sequentialminus": [
            [
             0.0,
             "#0d0887"
            ],
            [
             0.1111111111111111,
             "#46039f"
            ],
            [
             0.2222222222222222,
             "#7201a8"
            ],
            [
             0.3333333333333333,
             "#9c179e"
            ],
            [
             0.4444444444444444,
             "#bd3786"
            ],
            [
             0.5555555555555556,
             "#d8576b"
            ],
            [
             0.6666666666666666,
             "#ed7953"
            ],
            [
             0.7777777777777778,
             "#fb9f3a"
            ],
            [
             0.8888888888888888,
             "#fdca26"
            ],
            [
             1.0,
             "#f0f921"
            ]
           ]
          },
          "colorway": [
           "#636efa",
           "#EF553B",
           "#00cc96",
           "#ab63fa",
           "#FFA15A",
           "#19d3f3",
           "#FF6692",
           "#B6E880",
           "#FF97FF",
           "#FECB52"
          ],
          "font": {
           "color": "#2a3f5f"
          },
          "geo": {
           "bgcolor": "white",
           "lakecolor": "white",
           "landcolor": "#E5ECF6",
           "showlakes": true,
           "showland": true,
           "subunitcolor": "white"
          },
          "hoverlabel": {
           "align": "left"
          },
          "hovermode": "closest",
          "mapbox": {
           "style": "light"
          },
          "paper_bgcolor": "white",
          "plot_bgcolor": "#E5ECF6",
          "polar": {
           "angularaxis": {
            "gridcolor": "white",
            "linecolor": "white",
            "ticks": ""
           },
           "bgcolor": "#E5ECF6",
           "radialaxis": {
            "gridcolor": "white",
            "linecolor": "white",
            "ticks": ""
           }
          },
          "scene": {
           "xaxis": {
            "backgroundcolor": "#E5ECF6",
            "gridcolor": "white",
            "gridwidth": 2,
            "linecolor": "white",
            "showbackground": true,
            "ticks": "",
            "zerolinecolor": "white"
           },
           "yaxis": {
            "backgroundcolor": "#E5ECF6",
            "gridcolor": "white",
            "gridwidth": 2,
            "linecolor": "white",
            "showbackground": true,
            "ticks": "",
            "zerolinecolor": "white"
           },
           "zaxis": {
            "backgroundcolor": "#E5ECF6",
            "gridcolor": "white",
            "gridwidth": 2,
            "linecolor": "white",
            "showbackground": true,
            "ticks": "",
            "zerolinecolor": "white"
           }
          },
          "shapedefaults": {
           "line": {
            "color": "#2a3f5f"
           }
          },
          "ternary": {
           "aaxis": {
            "gridcolor": "white",
            "linecolor": "white",
            "ticks": ""
           },
           "baxis": {
            "gridcolor": "white",
            "linecolor": "white",
            "ticks": ""
           },
           "bgcolor": "#E5ECF6",
           "caxis": {
            "gridcolor": "white",
            "linecolor": "white",
            "ticks": ""
           }
          },
          "title": {
           "x": 0.05
          },
          "xaxis": {
           "automargin": true,
           "gridcolor": "white",
           "linecolor": "white",
           "ticks": "",
           "title": {
            "standoff": 15
           },
           "zerolinecolor": "white",
           "zerolinewidth": 2
          },
          "yaxis": {
           "automargin": true,
           "gridcolor": "white",
           "linecolor": "white",
           "ticks": "",
           "title": {
            "standoff": 15
           },
           "zerolinecolor": "white",
           "zerolinewidth": 2
          }
         }
        },
        "width": 600,
        "xaxis": {
         "anchor": "y",
         "domain": [
          0.0,
          1.0
         ],
         "title": {
          "text": "Demand"
         }
        },
        "xaxis2": {
         "anchor": "y2",
         "domain": [
          0.0,
          1.0
         ],
         "title": {
          "text": "Demand"
         }
        },
        "yaxis": {
         "anchor": "x",
         "domain": [
          0.575,
          1.0
         ],
         "range": [
          1000,
          2200
         ]
        },
        "yaxis2": {
         "anchor": "x2",
         "domain": [
          0.0,
          0.425
         ],
         "range": [
          1000,
          2200
         ]
        }
       }
      },
      "text/html": "<div>\n        \n        \n            <div id=\"c4b1097c-556a-4ddc-927e-82209b9d30b9\" class=\"plotly-graph-div\" style=\"height:700px; width:600px;\"></div>\n            <script type=\"text/javascript\">\n                require([\"plotly\"], function(Plotly) {\n                    window.PLOTLYENV=window.PLOTLYENV || {};\n                    \n                if (document.getElementById(\"c4b1097c-556a-4ddc-927e-82209b9d30b9\")) {\n                    Plotly.newPlot(\n                        'c4b1097c-556a-4ddc-927e-82209b9d30b9',\n                        [{\"hovertemplate\": \"name: %{y}%{x}<br>number: %{marker.symbol}<extra></extra>\", \"marker\": {\"color\": \"red\", \"line\": {\"color\": \"midnightblue\", \"width\": 1}, \"size\": 15, \"symbol\": [8, 108, 208, 308]}, \"mode\": \"markers\", \"name\": \"CO2_Cap\", \"showlegend\": true, \"type\": \"scatter\", \"x\": [447.00591981726757, 495.4792525830953, 617.5920346658789, 683.08464662201], \"y\": [1503.600000000059, 1503.5999999998887, 1503.6000000000347, 1503.6000000000017]}, {\"hovertemplate\": \"name: %{y}%{x}<br>number: %{marker.symbol}<extra></extra>\", \"marker\": {\"color\": \"green\", \"line\": {\"color\": \"midnightblue\", \"width\": 1}, \"size\": 15, \"symbol\": [0, 100, 200, 300]}, \"mode\": \"markers\", \"name\": \"Min_RES_Quota\", \"showlegend\": true, \"type\": \"scatter\", \"x\": [530.4313924070508, 578.3050634863713, 693.2448511791318, 751.9823394466408], \"y\": [1153.6928291520376, 1347.647505585643, 1646.4412036597655, 1789.61212453587]}, {\"hovertemplate\": \"name: %{y}%{x}<br>number: %{marker.symbol}<extra></extra>\", \"marker\": {\"color\": \"yellow\", \"line\": {\"color\": \"midnightblue\", \"width\": 1}, \"size\": 15, \"symbol\": [7, 107, 207, 307]}, \"mode\": \"markers\", \"name\": \"CO2_Tax\", \"showlegend\": true, \"type\": \"scatter\", \"x\": [458.15720150695705, 503.1727921951388, 604.3103833785826, 655.5126014596156], \"y\": [1171.08081605525, 1353.0294340094185, 1647.0208591128555, 1790.2400642531147]}, {\"hovertemplate\": \"name: %{y}%{x}<br>number: %{marker.symbol}<extra></extra>\", \"marker\": {\"color\": \"blue\", \"line\": {\"color\": \"midnightblue\", \"width\": 1}, \"size\": 15, \"symbol\": [4, 104, 204, 304]}, \"mode\": \"markers\", \"name\": \"FIT\", \"showlegend\": true, \"type\": \"scatter\", \"x\": [639.5396215763752, 653.0800543152228, 684.8957816081227, 701.6225332803009], \"y\": [772.4808150377785, 1093.7825605573958, 1964.6317521515073, 2507.7373677316536]}, {\"marker\": {\"color\": \"red\", \"line\": {\"color\": \"black\", \"width\": 2}, \"size\": 8, \"symbol\": [8, 108, 208, 308]}, \"mode\": \"markers\", \"name\": \"CO2_Cap\", \"showlegend\": false, \"type\": \"scatter\", \"x\": [553.1266271112935], \"y\": [1503.6000000000258]}, {\"marker\": {\"color\": \"green\", \"line\": {\"color\": \"black\", \"width\": 2}, \"size\": 8, \"symbol\": [0, 100, 200, 300]}, \"mode\": \"markers\", \"name\": \"Min_RES_Quota\", \"showlegend\": false, \"type\": \"scatter\", \"x\": [634.5073629116724], \"y\": [1503.2693131994488]}, {\"marker\": {\"color\": \"yellow\", \"line\": {\"color\": \"black\", \"width\": 2}, \"size\": 8, \"symbol\": [7, 107, 207, 307]}, \"mode\": \"markers\", \"name\": \"CO2_Tax\", \"showlegend\": false, \"type\": \"scatter\", \"x\": [553.1081652975545], \"y\": [1503.801653972579]}, {\"marker\": {\"color\": \"blue\", \"line\": {\"color\": \"black\", \"width\": 2}, \"size\": 8, \"symbol\": [4, 104, 204, 304]}, \"mode\": \"markers\", \"name\": \"FIT\", \"showlegend\": false, \"type\": \"scatter\", \"x\": [668.6231941490724], \"y\": [1503.6760485649447]}],\n                        {\"height\": 700, \"template\": {\"data\": {\"bar\": [{\"error_x\": {\"color\": \"#2a3f5f\"}, \"error_y\": {\"color\": \"#2a3f5f\"}, \"marker\": {\"line\": {\"color\": \"#E5ECF6\", \"width\": 0.5}}, \"type\": \"bar\"}], \"barpolar\": [{\"marker\": {\"line\": {\"color\": \"#E5ECF6\", \"width\": 0.5}}, \"type\": \"barpolar\"}], \"carpet\": [{\"aaxis\": {\"endlinecolor\": \"#2a3f5f\", \"gridcolor\": \"white\", \"linecolor\": \"white\", \"minorgridcolor\": \"white\", \"startlinecolor\": \"#2a3f5f\"}, \"baxis\": {\"endlinecolor\": \"#2a3f5f\", \"gridcolor\": \"white\", \"linecolor\": \"white\", \"minorgridcolor\": \"white\", \"startlinecolor\": \"#2a3f5f\"}, \"type\": \"carpet\"}], \"choropleth\": [{\"colorbar\": {\"outlinewidth\": 0, \"ticks\": \"\"}, \"type\": \"choropleth\"}], \"contour\": [{\"colorbar\": {\"outlinewidth\": 0, \"ticks\": \"\"}, \"colorscale\": [[0.0, \"#0d0887\"], [0.1111111111111111, \"#46039f\"], [0.2222222222222222, \"#7201a8\"], [0.3333333333333333, \"#9c179e\"], [0.4444444444444444, \"#bd3786\"], [0.5555555555555556, \"#d8576b\"], [0.6666666666666666, \"#ed7953\"], [0.7777777777777778, \"#fb9f3a\"], [0.8888888888888888, \"#fdca26\"], [1.0, \"#f0f921\"]], \"type\": \"contour\"}], \"contourcarpet\": [{\"colorbar\": {\"outlinewidth\": 0, \"ticks\": \"\"}, \"type\": \"contourcarpet\"}], \"heatmap\": [{\"colorbar\": {\"outlinewidth\": 0, \"ticks\": \"\"}, \"colorscale\": [[0.0, \"#0d0887\"], [0.1111111111111111, \"#46039f\"], [0.2222222222222222, \"#7201a8\"], [0.3333333333333333, \"#9c179e\"], [0.4444444444444444, \"#bd3786\"], [0.5555555555555556, \"#d8576b\"], [0.6666666666666666, \"#ed7953\"], [0.7777777777777778, \"#fb9f3a\"], [0.8888888888888888, \"#fdca26\"], [1.0, \"#f0f921\"]], \"type\": \"heatmap\"}], \"heatmapgl\": [{\"colorbar\": {\"outlinewidth\": 0, \"ticks\": \"\"}, \"colorscale\": [[0.0, \"#0d0887\"], [0.1111111111111111, \"#46039f\"], [0.2222222222222222, \"#7201a8\"], [0.3333333333333333, \"#9c179e\"], [0.4444444444444444, \"#bd3786\"], [0.5555555555555556, \"#d8576b\"], [0.6666666666666666, \"#ed7953\"], [0.7777777777777778, \"#fb9f3a\"], [0.8888888888888888, \"#fdca26\"], [1.0, \"#f0f921\"]], \"type\": \"heatmapgl\"}], \"histogram\": [{\"marker\": {\"colorbar\": {\"outlinewidth\": 0, \"ticks\": \"\"}}, \"type\": \"histogram\"}], \"histogram2d\": [{\"colorbar\": {\"outlinewidth\": 0, \"ticks\": \"\"}, \"colorscale\": [[0.0, \"#0d0887\"], [0.1111111111111111, \"#46039f\"], [0.2222222222222222, \"#7201a8\"], [0.3333333333333333, \"#9c179e\"], [0.4444444444444444, \"#bd3786\"], [0.5555555555555556, \"#d8576b\"], [0.6666666666666666, \"#ed7953\"], [0.7777777777777778, \"#fb9f3a\"], [0.8888888888888888, \"#fdca26\"], [1.0, \"#f0f921\"]], \"type\": \"histogram2d\"}], \"histogram2dcontour\": [{\"colorbar\": {\"outlinewidth\": 0, \"ticks\": \"\"}, \"colorscale\": [[0.0, \"#0d0887\"], [0.1111111111111111, \"#46039f\"], [0.2222222222222222, \"#7201a8\"], [0.3333333333333333, \"#9c179e\"], [0.4444444444444444, \"#bd3786\"], [0.5555555555555556, \"#d8576b\"], [0.6666666666666666, \"#ed7953\"], [0.7777777777777778, \"#fb9f3a\"], [0.8888888888888888, \"#fdca26\"], [1.0, \"#f0f921\"]], \"type\": \"histogram2dcontour\"}], \"mesh3d\": [{\"colorbar\": {\"outlinewidth\": 0, \"ticks\": \"\"}, \"type\": \"mesh3d\"}], \"parcoords\": [{\"line\": {\"colorbar\": {\"outlinewidth\": 0, \"ticks\": \"\"}}, \"type\": \"parcoords\"}], \"pie\": [{\"automargin\": true, \"type\": \"pie\"}], \"scatter\": [{\"marker\": {\"colorbar\": {\"outlinewidth\": 0, \"ticks\": \"\"}}, \"type\": \"scatter\"}], \"scatter3d\": [{\"line\": {\"colorbar\": {\"outlinewidth\": 0, \"ticks\": \"\"}}, \"marker\": {\"colorbar\": {\"outlinewidth\": 0, \"ticks\": \"\"}}, \"type\": \"scatter3d\"}], \"scattercarpet\": [{\"marker\": {\"colorbar\": {\"outlinewidth\": 0, \"ticks\": \"\"}}, \"type\": \"scattercarpet\"}], \"scattergeo\": [{\"marker\": {\"colorbar\": {\"outlinewidth\": 0, \"ticks\": \"\"}}, \"type\": \"scattergeo\"}], \"scattergl\": [{\"marker\": {\"colorbar\": {\"outlinewidth\": 0, \"ticks\": \"\"}}, \"type\": \"scattergl\"}], \"scattermapbox\": [{\"marker\": {\"colorbar\": {\"outlinewidth\": 0, \"ticks\": \"\"}}, \"type\": \"scattermapbox\"}], \"scatterpolar\": [{\"marker\": {\"colorbar\": {\"outlinewidth\": 0, \"ticks\": \"\"}}, \"type\": \"scatterpolar\"}], \"scatterpolargl\": [{\"marker\": {\"colorbar\": {\"outlinewidth\": 0, \"ticks\": \"\"}}, \"type\": \"scatterpolargl\"}], \"scatterternary\": [{\"marker\": {\"colorbar\": {\"outlinewidth\": 0, \"ticks\": \"\"}}, \"type\": \"scatterternary\"}], \"surface\": [{\"colorbar\": {\"outlinewidth\": 0, \"ticks\": \"\"}, \"colorscale\": [[0.0, \"#0d0887\"], [0.1111111111111111, \"#46039f\"], [0.2222222222222222, \"#7201a8\"], [0.3333333333333333, \"#9c179e\"], [0.4444444444444444, \"#bd3786\"], [0.5555555555555556, \"#d8576b\"], [0.6666666666666666, \"#ed7953\"], [0.7777777777777778, \"#fb9f3a\"], [0.8888888888888888, \"#fdca26\"], [1.0, \"#f0f921\"]], \"type\": \"surface\"}], \"table\": [{\"cells\": {\"fill\": {\"color\": \"#EBF0F8\"}, \"line\": {\"color\": \"white\"}}, \"header\": {\"fill\": {\"color\": \"#C8D4E3\"}, \"line\": {\"color\": \"white\"}}, \"type\": \"table\"}]}, \"layout\": {\"annotationdefaults\": {\"arrowcolor\": \"#2a3f5f\", \"arrowhead\": 0, \"arrowwidth\": 1}, \"coloraxis\": {\"colorbar\": {\"outlinewidth\": 0, \"ticks\": \"\"}}, \"colorscale\": {\"diverging\": [[0, \"#8e0152\"], [0.1, \"#c51b7d\"], [0.2, \"#de77ae\"], [0.3, \"#f1b6da\"], [0.4, \"#fde0ef\"], [0.5, \"#f7f7f7\"], [0.6, \"#e6f5d0\"], [0.7, \"#b8e186\"], [0.8, \"#7fbc41\"], [0.9, \"#4d9221\"], [1, \"#276419\"]], \"sequential\": [[0.0, \"#0d0887\"], [0.1111111111111111, \"#46039f\"], [0.2222222222222222, \"#7201a8\"], [0.3333333333333333, \"#9c179e\"], [0.4444444444444444, \"#bd3786\"], [0.5555555555555556, \"#d8576b\"], [0.6666666666666666, \"#ed7953\"], [0.7777777777777778, \"#fb9f3a\"], [0.8888888888888888, \"#fdca26\"], [1.0, \"#f0f921\"]], \"sequentialminus\": [[0.0, \"#0d0887\"], [0.1111111111111111, \"#46039f\"], [0.2222222222222222, \"#7201a8\"], [0.3333333333333333, \"#9c179e\"], [0.4444444444444444, \"#bd3786\"], [0.5555555555555556, \"#d8576b\"], [0.6666666666666666, \"#ed7953\"], [0.7777777777777778, \"#fb9f3a\"], [0.8888888888888888, \"#fdca26\"], [1.0, \"#f0f921\"]]}, \"colorway\": [\"#636efa\", \"#EF553B\", \"#00cc96\", \"#ab63fa\", \"#FFA15A\", \"#19d3f3\", \"#FF6692\", \"#B6E880\", \"#FF97FF\", \"#FECB52\"], \"font\": {\"color\": \"#2a3f5f\"}, \"geo\": {\"bgcolor\": \"white\", \"lakecolor\": \"white\", \"landcolor\": \"#E5ECF6\", \"showlakes\": true, \"showland\": true, \"subunitcolor\": \"white\"}, \"hoverlabel\": {\"align\": \"left\"}, \"hovermode\": \"closest\", \"mapbox\": {\"style\": \"light\"}, \"paper_bgcolor\": \"white\", \"plot_bgcolor\": \"#E5ECF6\", \"polar\": {\"angularaxis\": {\"gridcolor\": \"white\", \"linecolor\": \"white\", \"ticks\": \"\"}, \"bgcolor\": \"#E5ECF6\", \"radialaxis\": {\"gridcolor\": \"white\", \"linecolor\": \"white\", \"ticks\": \"\"}}, \"scene\": {\"xaxis\": {\"backgroundcolor\": \"#E5ECF6\", \"gridcolor\": \"white\", \"gridwidth\": 2, \"linecolor\": \"white\", \"showbackground\": true, \"ticks\": \"\", \"zerolinecolor\": \"white\"}, \"yaxis\": {\"backgroundcolor\": \"#E5ECF6\", \"gridcolor\": \"white\", \"gridwidth\": 2, \"linecolor\": \"white\", \"showbackground\": true, \"ticks\": \"\", \"zerolinecolor\": \"white\"}, \"zaxis\": {\"backgroundcolor\": \"#E5ECF6\", \"gridcolor\": \"white\", \"gridwidth\": 2, \"linecolor\": \"white\", \"showbackground\": true, \"ticks\": \"\", \"zerolinecolor\": \"white\"}}, \"shapedefaults\": {\"line\": {\"color\": \"#2a3f5f\"}}, \"ternary\": {\"aaxis\": {\"gridcolor\": \"white\", \"linecolor\": \"white\", \"ticks\": \"\"}, \"baxis\": {\"gridcolor\": \"white\", \"linecolor\": \"white\", \"ticks\": \"\"}, \"bgcolor\": \"#E5ECF6\", \"caxis\": {\"gridcolor\": \"white\", \"linecolor\": \"white\", \"ticks\": \"\"}}, \"title\": {\"x\": 0.05}, \"xaxis\": {\"automargin\": true, \"gridcolor\": \"white\", \"linecolor\": \"white\", \"ticks\": \"\", \"title\": {\"standoff\": 15}, \"zerolinecolor\": \"white\", \"zerolinewidth\": 2}, \"yaxis\": {\"automargin\": true, \"gridcolor\": \"white\", \"linecolor\": \"white\", \"ticks\": \"\", \"title\": {\"standoff\": 15}, \"zerolinecolor\": \"white\", \"zerolinewidth\": 2}}}, \"width\": 600, \"xaxis\": {\"anchor\": \"y\", \"domain\": [0.0, 1.0], \"title\": {\"text\": \"Demand\"}}, \"xaxis2\": {\"anchor\": \"y2\", \"domain\": [0.0, 1.0], \"title\": {\"text\": \"Demand\"}}, \"yaxis\": {\"anchor\": \"x\", \"domain\": [0.575, 1.0], \"range\": [1000, 2200]}, \"yaxis2\": {\"anchor\": \"x2\", \"domain\": [0.0, 0.425], \"range\": [1000, 2200]}},\n                        {\"responsive\": true}\n                    ).then(function(){\n                            \nvar gd = document.getElementById('c4b1097c-556a-4ddc-927e-82209b9d30b9');\nvar x = new MutationObserver(function (mutations, observer) {{\n        var display = window.getComputedStyle(gd).display;\n        if (!display || display === 'none') {{\n            console.log([gd, 'removed!']);\n            Plotly.purge(gd);\n            observer.disconnect();\n        }}\n}});\n\n// Listen for the removal of the full notebook cells\nvar notebookContainer = gd.closest('#notebook-container');\nif (notebookContainer) {{\n    x.observe(notebookContainer, {childList: true});\n}}\n\n// Listen for the clearing of the current output cell\nvar outputEl = gd.closest('.output');\nif (outputEl) {{\n    x.observe(outputEl, {childList: true});\n}}\n\n                        })\n                };\n                });\n            </script>\n        </div>"
     },
     "metadata": {},
     "output_type": "display_data"
    }
   ],
   "source": [
    "fig.update_layout(height=700, width=600)\n",
    "\n",
    "fig.update_yaxes(range=[1000,2200])\n",
    "fig.show()"
   ],
   "metadata": {
    "collapsed": false,
    "pycharm": {
     "name": "#%%\n"
    }
   }
  },
  {
   "cell_type": "code",
   "execution_count": 16,
   "outputs": [],
   "source": [
    "import psutil\n",
    "import requests\n",
    "fig.write_image(\"images/figure7_2.png\")"
   ],
   "metadata": {
    "collapsed": false,
    "pycharm": {
     "name": "#%%\n"
    }
   }
  },
  {
   "cell_type": "code",
   "execution_count": null,
   "outputs": [],
   "source": [],
   "metadata": {
    "collapsed": false,
    "pycharm": {
     "name": "#%%\n"
    }
   }
  }
 ],
 "metadata": {
  "kernelspec": {
   "display_name": "Python 3",
   "language": "python",
   "name": "python3"
  },
  "language_info": {
   "codemirror_mode": {
    "name": "ipython",
    "version": 2
   },
   "file_extension": ".py",
   "mimetype": "text/x-python",
   "name": "python",
   "nbconvert_exporter": "python",
   "pygments_lexer": "ipython2",
   "version": "2.7.6"
  }
 },
 "nbformat": 4,
 "nbformat_minor": 0
}