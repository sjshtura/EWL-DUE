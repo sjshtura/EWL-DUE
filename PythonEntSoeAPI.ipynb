{
 "cells": [
  {
   "cell_type": "code",
   "execution_count": 30,
   "metadata": {
    "collapsed": true,
    "pycharm": {
     "is_executing": false
    }
   },
   "outputs": [
    {
     "traceback": [
      "\u001B[0;31m---------------------------------------------------------------------------\u001B[0m",
      "\u001B[0;31mValueError\u001B[0m                                Traceback (most recent call last)",
      "\u001B[0;32m<ipython-input-30-a8fffd2f5d40>\u001B[0m in \u001B[0;36m<module>\u001B[0;34m\u001B[0m\n\u001B[1;32m     19\u001B[0m \u001B[0mclient\u001B[0m\u001B[0;34m.\u001B[0m\u001B[0mquery_installed_generation_capacity\u001B[0m\u001B[0;34m(\u001B[0m\u001B[0mcountry_code\u001B[0m\u001B[0;34m,\u001B[0m \u001B[0mstart\u001B[0m\u001B[0;34m=\u001B[0m\u001B[0mstart\u001B[0m\u001B[0;34m,\u001B[0m\u001B[0mend\u001B[0m\u001B[0;34m=\u001B[0m\u001B[0mend\u001B[0m\u001B[0;34m,\u001B[0m \u001B[0mpsr_type\u001B[0m\u001B[0;34m=\u001B[0m\u001B[0;32mNone\u001B[0m\u001B[0;34m)\u001B[0m\u001B[0;34m\u001B[0m\u001B[0;34m\u001B[0m\u001B[0m\n\u001B[1;32m     20\u001B[0m \u001B[0mclient\u001B[0m\u001B[0;34m.\u001B[0m\u001B[0mquery_crossborder_flows\u001B[0m\u001B[0;34m(\u001B[0m\u001B[0;34m'DE'\u001B[0m\u001B[0;34m,\u001B[0m \u001B[0;34m'DK'\u001B[0m\u001B[0;34m,\u001B[0m \u001B[0mstart\u001B[0m\u001B[0;34m=\u001B[0m\u001B[0mstart\u001B[0m\u001B[0;34m,\u001B[0m\u001B[0mend\u001B[0m\u001B[0;34m=\u001B[0m\u001B[0mend\u001B[0m\u001B[0;34m)\u001B[0m\u001B[0;34m\u001B[0m\u001B[0;34m\u001B[0m\u001B[0m\n\u001B[0;32m---> 21\u001B[0;31m \u001B[0mclient\u001B[0m\u001B[0;34m.\u001B[0m\u001B[0mquery_imbalance_prices\u001B[0m\u001B[0;34m(\u001B[0m\u001B[0mcountry_code\u001B[0m\u001B[0;34m,\u001B[0m \u001B[0mstart\u001B[0m\u001B[0;34m=\u001B[0m\u001B[0mstart\u001B[0m\u001B[0;34m,\u001B[0m\u001B[0mend\u001B[0m\u001B[0;34m=\u001B[0m\u001B[0mend\u001B[0m\u001B[0;34m,\u001B[0m \u001B[0mpsr_type\u001B[0m\u001B[0;34m=\u001B[0m\u001B[0;32mNone\u001B[0m\u001B[0;34m)\u001B[0m\u001B[0;34m\u001B[0m\u001B[0;34m\u001B[0m\u001B[0m\n\u001B[0m\u001B[1;32m     22\u001B[0m \u001B[0mclient\u001B[0m\u001B[0;34m.\u001B[0m\u001B[0mquery_unavailability_of_generation_units\u001B[0m\u001B[0;34m(\u001B[0m\u001B[0mcountry_code\u001B[0m\u001B[0;34m,\u001B[0m \u001B[0mstart\u001B[0m\u001B[0;34m=\u001B[0m\u001B[0mstart\u001B[0m\u001B[0;34m,\u001B[0m\u001B[0mend\u001B[0m\u001B[0;34m=\u001B[0m\u001B[0mend\u001B[0m\u001B[0;34m,\u001B[0m \u001B[0mdocstatus\u001B[0m\u001B[0;34m=\u001B[0m\u001B[0;32mNone\u001B[0m\u001B[0;34m)\u001B[0m\u001B[0;34m\u001B[0m\u001B[0;34m\u001B[0m\u001B[0m\n\u001B[1;32m     23\u001B[0m \u001B[0mclient\u001B[0m\u001B[0;34m.\u001B[0m\u001B[0mquery_withdrawn_unavailability_of_generation_units\u001B[0m\u001B[0;34m(\u001B[0m\u001B[0;34m'DE'\u001B[0m\u001B[0;34m,\u001B[0m \u001B[0mstart\u001B[0m\u001B[0;34m=\u001B[0m\u001B[0mstart\u001B[0m\u001B[0;34m,\u001B[0m\u001B[0mend\u001B[0m\u001B[0;34m=\u001B[0m\u001B[0mend\u001B[0m\u001B[0;34m)\u001B[0m\u001B[0;34m\u001B[0m\u001B[0;34m\u001B[0m\u001B[0m\n",
      "\u001B[0;32m~/Library/Python/3.7/lib/python/site-packages/entsoe/entsoe.py\u001B[0m in \u001B[0;36myear_wrapper\u001B[0;34m(start, end, *args, **kwargs)\u001B[0m\n\u001B[1;32m    738\u001B[0m         \u001B[0;32mfor\u001B[0m \u001B[0m_start\u001B[0m\u001B[0;34m,\u001B[0m \u001B[0m_end\u001B[0m \u001B[0;32min\u001B[0m \u001B[0mblocks\u001B[0m\u001B[0;34m:\u001B[0m\u001B[0;34m\u001B[0m\u001B[0;34m\u001B[0m\u001B[0m\n\u001B[1;32m    739\u001B[0m             \u001B[0;32mtry\u001B[0m\u001B[0;34m:\u001B[0m\u001B[0;34m\u001B[0m\u001B[0;34m\u001B[0m\u001B[0m\n\u001B[0;32m--> 740\u001B[0;31m                 \u001B[0mframe\u001B[0m \u001B[0;34m=\u001B[0m \u001B[0mfunc\u001B[0m\u001B[0;34m(\u001B[0m\u001B[0;34m*\u001B[0m\u001B[0margs\u001B[0m\u001B[0;34m,\u001B[0m \u001B[0mstart\u001B[0m\u001B[0;34m=\u001B[0m\u001B[0m_start\u001B[0m\u001B[0;34m,\u001B[0m \u001B[0mend\u001B[0m\u001B[0;34m=\u001B[0m\u001B[0m_end\u001B[0m\u001B[0;34m,\u001B[0m \u001B[0;34m**\u001B[0m\u001B[0mkwargs\u001B[0m\u001B[0;34m)\u001B[0m\u001B[0;34m\u001B[0m\u001B[0;34m\u001B[0m\u001B[0m\n\u001B[0m\u001B[1;32m    741\u001B[0m             \u001B[0;32mexcept\u001B[0m \u001B[0mNoMatchingDataError\u001B[0m\u001B[0;34m:\u001B[0m\u001B[0;34m\u001B[0m\u001B[0;34m\u001B[0m\u001B[0m\n\u001B[1;32m    742\u001B[0m                 \u001B[0mprint\u001B[0m\u001B[0;34m(\u001B[0m\u001B[0;34mf\"NoMatchingDataError: between {_start} and {_end}\"\u001B[0m\u001B[0;34m)\u001B[0m\u001B[0;34m\u001B[0m\u001B[0;34m\u001B[0m\u001B[0m\n",
      "\u001B[0;32m~/Library/Python/3.7/lib/python/site-packages/entsoe/entsoe.py\u001B[0m in \u001B[0;36mquery_imbalance_prices\u001B[0;34m(self, country_code, start, end, psr_type)\u001B[0m\n\u001B[1;32m   1027\u001B[0m         text = super(EntsoePandasClient, self).query_imbalance_prices(\n\u001B[1;32m   1028\u001B[0m             country_code=country_code, start=start, end=end, psr_type=psr_type)\n\u001B[0;32m-> 1029\u001B[0;31m         \u001B[0mdf\u001B[0m \u001B[0;34m=\u001B[0m \u001B[0mparse_imbalance_prices\u001B[0m\u001B[0;34m(\u001B[0m\u001B[0mtext\u001B[0m\u001B[0;34m)\u001B[0m\u001B[0;34m\u001B[0m\u001B[0;34m\u001B[0m\u001B[0m\n\u001B[0m\u001B[1;32m   1030\u001B[0m         \u001B[0mdf\u001B[0m \u001B[0;34m=\u001B[0m \u001B[0mdf\u001B[0m\u001B[0;34m.\u001B[0m\u001B[0mtz_convert\u001B[0m\u001B[0;34m(\u001B[0m\u001B[0mTIMEZONE_MAPPINGS\u001B[0m\u001B[0;34m[\u001B[0m\u001B[0mcountry_code\u001B[0m\u001B[0;34m]\u001B[0m\u001B[0;34m)\u001B[0m\u001B[0;34m\u001B[0m\u001B[0;34m\u001B[0m\u001B[0m\n\u001B[1;32m   1031\u001B[0m         \u001B[0mdf\u001B[0m \u001B[0;34m=\u001B[0m \u001B[0mdf\u001B[0m\u001B[0;34m.\u001B[0m\u001B[0mtruncate\u001B[0m\u001B[0;34m(\u001B[0m\u001B[0mbefore\u001B[0m\u001B[0;34m=\u001B[0m\u001B[0mstart\u001B[0m\u001B[0;34m,\u001B[0m \u001B[0mafter\u001B[0m\u001B[0;34m=\u001B[0m\u001B[0mend\u001B[0m\u001B[0;34m)\u001B[0m\u001B[0;34m\u001B[0m\u001B[0;34m\u001B[0m\u001B[0m\n",
      "\u001B[0;32m~/Library/Python/3.7/lib/python/site-packages/entsoe/parsers.py\u001B[0m in \u001B[0;36mparse_imbalance_prices\u001B[0;34m(xml_text)\u001B[0m\n\u001B[1;32m    187\u001B[0m     frames = (_parse_imbalance_prices_timeseries(soup)\n\u001B[1;32m    188\u001B[0m               for soup in timeseries_blocks)\n\u001B[0;32m--> 189\u001B[0;31m     \u001B[0mdf\u001B[0m \u001B[0;34m=\u001B[0m \u001B[0mpd\u001B[0m\u001B[0;34m.\u001B[0m\u001B[0mconcat\u001B[0m\u001B[0;34m(\u001B[0m\u001B[0mframes\u001B[0m\u001B[0;34m,\u001B[0m \u001B[0maxis\u001B[0m\u001B[0;34m=\u001B[0m\u001B[0;36m1\u001B[0m\u001B[0;34m)\u001B[0m\u001B[0;34m\u001B[0m\u001B[0;34m\u001B[0m\u001B[0m\n\u001B[0m\u001B[1;32m    190\u001B[0m     \u001B[0mdf\u001B[0m \u001B[0;34m=\u001B[0m \u001B[0mdf\u001B[0m\u001B[0;34m.\u001B[0m\u001B[0mstack\u001B[0m\u001B[0;34m(\u001B[0m\u001B[0;34m)\u001B[0m\u001B[0;34m.\u001B[0m\u001B[0munstack\u001B[0m\u001B[0;34m(\u001B[0m\u001B[0;34m)\u001B[0m \u001B[0;31m# ad-hoc fix to prevent column splitting by NaNs\u001B[0m\u001B[0;34m\u001B[0m\u001B[0;34m\u001B[0m\u001B[0m\n\u001B[1;32m    191\u001B[0m     \u001B[0mdf\u001B[0m\u001B[0;34m.\u001B[0m\u001B[0msort_index\u001B[0m\u001B[0;34m(\u001B[0m\u001B[0minplace\u001B[0m\u001B[0;34m=\u001B[0m\u001B[0;32mTrue\u001B[0m\u001B[0;34m)\u001B[0m\u001B[0;34m\u001B[0m\u001B[0;34m\u001B[0m\u001B[0m\n",
      "\u001B[0;32m/Library/Python/3.7/site-packages/pandas/core/reshape/concat.py\u001B[0m in \u001B[0;36mconcat\u001B[0;34m(objs, axis, join, ignore_index, keys, levels, names, verify_integrity, sort, copy)\u001B[0m\n\u001B[1;32m    279\u001B[0m         \u001B[0mverify_integrity\u001B[0m\u001B[0;34m=\u001B[0m\u001B[0mverify_integrity\u001B[0m\u001B[0;34m,\u001B[0m\u001B[0;34m\u001B[0m\u001B[0;34m\u001B[0m\u001B[0m\n\u001B[1;32m    280\u001B[0m         \u001B[0mcopy\u001B[0m\u001B[0;34m=\u001B[0m\u001B[0mcopy\u001B[0m\u001B[0;34m,\u001B[0m\u001B[0;34m\u001B[0m\u001B[0;34m\u001B[0m\u001B[0m\n\u001B[0;32m--> 281\u001B[0;31m         \u001B[0msort\u001B[0m\u001B[0;34m=\u001B[0m\u001B[0msort\u001B[0m\u001B[0;34m,\u001B[0m\u001B[0;34m\u001B[0m\u001B[0;34m\u001B[0m\u001B[0m\n\u001B[0m\u001B[1;32m    282\u001B[0m     )\n\u001B[1;32m    283\u001B[0m \u001B[0;34m\u001B[0m\u001B[0m\n",
      "\u001B[0;32m/Library/Python/3.7/site-packages/pandas/core/reshape/concat.py\u001B[0m in \u001B[0;36m__init__\u001B[0;34m(self, objs, axis, join, keys, levels, names, ignore_index, verify_integrity, copy, sort)\u001B[0m\n\u001B[1;32m    327\u001B[0m \u001B[0;34m\u001B[0m\u001B[0m\n\u001B[1;32m    328\u001B[0m         \u001B[0;32mif\u001B[0m \u001B[0mlen\u001B[0m\u001B[0;34m(\u001B[0m\u001B[0mobjs\u001B[0m\u001B[0;34m)\u001B[0m \u001B[0;34m==\u001B[0m \u001B[0;36m0\u001B[0m\u001B[0;34m:\u001B[0m\u001B[0;34m\u001B[0m\u001B[0;34m\u001B[0m\u001B[0m\n\u001B[0;32m--> 329\u001B[0;31m             \u001B[0;32mraise\u001B[0m \u001B[0mValueError\u001B[0m\u001B[0;34m(\u001B[0m\u001B[0;34m\"No objects to concatenate\"\u001B[0m\u001B[0;34m)\u001B[0m\u001B[0;34m\u001B[0m\u001B[0;34m\u001B[0m\u001B[0m\n\u001B[0m\u001B[1;32m    330\u001B[0m \u001B[0;34m\u001B[0m\u001B[0m\n\u001B[1;32m    331\u001B[0m         \u001B[0;32mif\u001B[0m \u001B[0mkeys\u001B[0m \u001B[0;32mis\u001B[0m \u001B[0;32mNone\u001B[0m\u001B[0;34m:\u001B[0m\u001B[0;34m\u001B[0m\u001B[0;34m\u001B[0m\u001B[0m\n",
      "\u001B[0;31mValueError\u001B[0m: No objects to concatenate"
     ],
     "ename": "ValueError",
     "evalue": "No objects to concatenate",
     "output_type": "error"
    }
   ],
   "source": [
    "from entsoe import EntsoePandasClient\n",
    "import pandas as pd\n",
    "\n",
    "client = EntsoePandasClient(api_key='c4d117a2-f140-492b-bc2b-d615ec5774f4')\n",
    "\n",
    "start = pd.Timestamp('20171201', tz='Europe/Brussels')\n",
    "end = pd.Timestamp('20180101', tz='Europe/Brussels')\n",
    "country_code = 'BE'  # Belgium\n",
    "\n",
    "# methods that return Pandas Series\n",
    "client.query_day_ahead_prices(country_code, start=start,end=end)\n",
    "client.query_load(country_code, start=start,end=end)\n",
    "client.query_load_forecast(country_code, start=start,end=end)\n",
    "client.query_generation_forecast(country_code, start=start,end=end)\n",
    "\n",
    "# methods that return Pandas DataFrames\n",
    "client.query_wind_and_solar_forecast(country_code, start=start,end=end, psr_type=None)\n",
    "client.query_generation(country_code, start=start,end=end, psr_type=None)\n",
    "client.query_installed_generation_capacity(country_code, start=start,end=end, psr_type=None)\n",
    "client.query_crossborder_flows('DE', 'DK', start=start,end=end)\n",
    "client.query_imbalance_prices(country_code, start=start,end=end, psr_type=None)\n",
    "client.query_unavailability_of_generation_units(country_code, start=start,end=end, docstatus=None)\n",
    "client.query_withdrawn_unavailability_of_generation_units('DE', start=start,end=end)"
   ]
  },
  {
   "cell_type": "code",
   "execution_count": null,
   "outputs": [],
   "source": [
    "ts = client.query_day_ahead_prices(country_code, start=start, end=end)\n",
    "ts.to_csv('outfile.csv')"
   ],
   "metadata": {
    "collapsed": false,
    "pycharm": {
     "name": "#%%\n",
     "is_executing": false
    }
   }
  },
  {
   "cell_type": "code",
   "execution_count": 46,
   "outputs": [
    {
     "name": "stdout",
     "output_type": "stream",
     "text": [
      "            Row  Total_CO2_Emissions Pol_Inst Technologie  Shock  Unnamed: 5  \\\n",
      "0    1355555555          1503.600000  CO2_Cap     Lignite   -0.2   355555555   \n",
      "1    1455555555          1503.600000  CO2_Cap     Lignite   -0.1   455555555   \n",
      "2    1535555555          1503.600000  CO2_Cap         Gas   -0.2   535555555   \n",
      "3    1545555555          1503.600000  CO2_Cap         Gas   -0.1   545555555   \n",
      "4    1553555555          1503.600000  CO2_Cap    Hardcoal   -0.2   553555555   \n",
      "..          ...                  ...      ...         ...    ...         ...   \n",
      "143  4557555555          1503.675998      FIT    Hardcoal    0.2   557555555   \n",
      "144  4565555555          1521.041561      FIT         Gas    0.1   565555555   \n",
      "145  4575555555          1551.055722      FIT         Gas    0.2   575555555   \n",
      "146  4655555555          1483.893265      FIT     Lignite    0.1   655555555   \n",
      "147  4755555555          1468.099519      FIT     Lignite    0.2   755555555   \n",
      "\n",
      "     Unnamed: 6  Unnamed: 7  Unnamed: 8  Unnamed: 9 Unnamed: 10  Unnamed: 11  \n",
      "0             1         3.0         NaN         NaN     CO2_Cap  Lignite-20%  \n",
      "1             1         4.0         NaN         NaN         NaN          NaN  \n",
      "2             2         3.0         NaN         NaN         NaN          NaN  \n",
      "3             2         4.0         NaN         NaN         NaN          NaN  \n",
      "4             3         3.0         NaN         NaN         NaN          NaN  \n",
      "..          ...         ...         ...         ...         ...          ...  \n",
      "143           3         7.0         NaN         NaN         NaN          NaN  \n",
      "144           2         6.0         NaN         NaN         NaN          NaN  \n",
      "145           2         7.0         NaN         NaN         NaN          NaN  \n",
      "146           1         6.0         NaN         NaN         NaN          NaN  \n",
      "147           1         7.0         NaN         NaN         NaN          NaN  \n",
      "\n",
      "[148 rows x 12 columns]\n",
      "     Total_CO2_Emissions Pol_Inst Technologie  Shock\n",
      "0            1503.600000  CO2_Cap     Lignite   -0.2\n",
      "1            1503.600000  CO2_Cap     Lignite   -0.1\n",
      "2            1503.600000  CO2_Cap         Gas   -0.2\n",
      "3            1503.600000  CO2_Cap         Gas   -0.1\n",
      "4            1503.600000  CO2_Cap    Hardcoal   -0.2\n",
      "..                   ...      ...         ...    ...\n",
      "143          1503.675998      FIT    Hardcoal    0.2\n",
      "144          1521.041561      FIT         Gas    0.1\n",
      "145          1551.055722      FIT         Gas    0.2\n",
      "146          1483.893265      FIT     Lignite    0.1\n",
      "147          1468.099519      FIT     Lignite    0.2\n",
      "\n",
      "[148 rows x 4 columns]\n",
      "['CO2_Cap' 'Min_RES_Quota' 'CO2_Tax' 'FIT']\n",
      "Lignite\n",
      "            Row  Total_CO2_Emissions Pol_Inst Technologie  Shock  Unnamed: 5  \\\n",
      "0    1355555555          1503.600000  CO2_Cap     Lignite   -0.2   355555555   \n",
      "1    1455555555          1503.600000  CO2_Cap     Lignite   -0.1   455555555   \n",
      "2    1535555555          1503.600000  CO2_Cap         Gas   -0.2   535555555   \n",
      "3    1545555555          1503.600000  CO2_Cap         Gas   -0.1   545555555   \n",
      "4    1553555555          1503.600000  CO2_Cap    Hardcoal   -0.2   553555555   \n",
      "..          ...                  ...      ...         ...    ...         ...   \n",
      "143  4557555555          1503.675998      FIT    Hardcoal    0.2   557555555   \n",
      "144  4565555555          1521.041561      FIT         Gas    0.1   565555555   \n",
      "145  4575555555          1551.055722      FIT         Gas    0.2   575555555   \n",
      "146  4655555555          1483.893265      FIT     Lignite    0.1   655555555   \n",
      "147  4755555555          1468.099519      FIT     Lignite    0.2   755555555   \n",
      "\n",
      "     Unnamed: 6  Unnamed: 7  Unnamed: 8  Unnamed: 9 Unnamed: 10  Unnamed: 11  \n",
      "0             1         3.0         NaN         NaN     CO2_Cap  Lignite-20%  \n",
      "1             1         4.0         NaN         NaN         NaN          NaN  \n",
      "2             2         3.0         NaN         NaN         NaN          NaN  \n",
      "3             2         4.0         NaN         NaN         NaN          NaN  \n",
      "4             3         3.0         NaN         NaN         NaN          NaN  \n",
      "..          ...         ...         ...         ...         ...          ...  \n",
      "143           3         7.0         NaN         NaN         NaN          NaN  \n",
      "144           2         6.0         NaN         NaN         NaN          NaN  \n",
      "145           2         7.0         NaN         NaN         NaN          NaN  \n",
      "146           1         6.0         NaN         NaN         NaN          NaN  \n",
      "147           1         7.0         NaN         NaN         NaN          NaN  \n",
      "\n",
      "[148 rows x 12 columns]\n"
     ]
    }
   ],
   "source": [
    "from bokeh.core.properties import value\n",
    "from bokeh.plotting import figure, show, output_file\n",
    "from bokeh.layouts import row\n",
    "from bokeh.models import Legend\n",
    "import pandas as pd\n",
    "\n",
    "# output_file('stacked.html')\n",
    "\n",
    "# capacity = ['CO2_Cap', 'Min_RES_Quota', 'CO2_Tax', 'FIT']\n",
    "# types = ['Costs_K_G', 'Costs_K_S_ch', 'Costs_V_S', 'Costs_op_fu_G_C', 'Costs_op_em_G_C', 'Costs_VolL']\n",
    "# colors = [\"#c9d9d3\", \"#718dbf\", \"#e84d60\", \"#FFA500\", \"#32CD32\", '#00FFFF']\n",
    "\n",
    "# maxload = [90.03467675, 90.03467675, 90.03467675, 90.03467675]\n",
    "# Total_demand = [540.7686148, 540.7686148, 540.7686148, 540.7686148]\n",
    "\n",
    "\n",
    "data = pd.read_excel(r'/Users/shakhawat_hossain_turag/Desktop/Uni/Energiewirtschaft /Copy of Figures_Data_Preparation.xlsx', sheet_name = 'Figure 6')\n",
    "print(data)\n",
    "data1 = data.iloc[:,1:5]\n",
    "print(data1)\n",
    "\n",
    "capacity = data['Pol_Inst'].unique()\n",
    "types = data['Technologie'].unique()\n",
    "colors = [\"#c9d9d3\", \"#718dbf\", \"#e84d60\", \"#FFA500\", \"#32CD32\",'#00FFFF', '#FAEBD7']\n",
    "\n",
    "\n",
    "print(capacity)\n",
    "print(types[0])\n",
    "print(data)"
   ],
   "metadata": {
    "collapsed": false,
    "pycharm": {
     "name": "#%%\n"
    }
   }
  },
  {
   "cell_type": "code",
   "execution_count": 17,
   "outputs": [
    {
     "name": "stdout",
     "output_type": "stream",
     "text": [
      "<class 'dict'>\n",
      "<class 'list'>\n"
     ]
    }
   ],
   "source": [
    "print(type(data))\n",
    "print(type(capacity))"
   ],
   "metadata": {
    "collapsed": false,
    "pycharm": {
     "name": "#%%\n"
    }
   }
  },
  {
   "cell_type": "code",
   "execution_count": 37,
   "outputs": [
    {
     "name": "stdout",
     "output_type": "stream",
     "text": [
      "['Lignite' 'Gas' 'Hardcoal' 'Demand' 'Solar' 'Wind_Onshore'\n",
      " 'Wind_Offshore' 'Lit_Ion' 'PSH' 'no']\n"
     ]
    }
   ],
   "source": [
    "print(data1.Technologie.unique())"
   ],
   "metadata": {
    "collapsed": false,
    "pycharm": {
     "name": "#%%\n"
    }
   }
  },
  {
   "cell_type": "code",
   "execution_count": 47,
   "outputs": [
    {
     "name": "stdout",
     "output_type": "stream",
     "text": [
      "    Total_CO2_Emissions Pol_Inst Technologie  Shock\n",
      "6                1503.6  CO2_Cap      Demand   -0.2\n",
      "7                1503.6  CO2_Cap      Demand   -0.1\n",
      "29               1503.6  CO2_Cap      Demand    0.1\n",
      "30               1503.6  CO2_Cap      Demand    0.2\n"
     ]
    },
    {
     "data": {
      "text/plain": "pandas.core.series.Series"
     },
     "execution_count": 47,
     "metadata": {},
     "output_type": "execute_result"
    }
   ],
   "source": [
    "Lignite = data1.loc[(data1['Pol_Inst'] == capacity[0]) & (data1['Technologie'] == types[0])]\n",
    "Gas = data1.loc[(data1['Pol_Inst'] == capacity[0]) & (data1['Technologie'] == types[1])]\n",
    "Hardcoal = data1.loc[(data1['Pol_Inst'] == capacity[0]) & (data1['Technologie'] == types[2])]\n",
    "Demand = data1.loc[(data1['Pol_Inst'] == capacity[0]) & (data1['Technologie'] == types[3])]\n",
    "Solar = data1.loc[(data1['Pol_Inst'] == capacity[0]) & (data1['Technologie'] == types[4])]\n",
    "Wind_Offshore = data1.loc[(data1['Pol_Inst'] == capacity[0]) & (data1['Technologie'] == types[5])]\n",
    "Lit_Ion = data1.loc[(data1['Pol_Inst'] == capacity[0]) & (data1['Technologie'] == types[6])]\n",
    "\n",
    "\n",
    "# Lignite = Lig\n",
    "print(Demand)\n",
    "type(Lignite.Shock)\n",
    "#Gas.plot(x='Shock' , y='Total_CO2_Emissions', marker='x')"
   ],
   "metadata": {
    "collapsed": false,
    "pycharm": {
     "name": "#%%\n"
    }
   }
  },
  {
   "cell_type": "code",
   "execution_count": 55,
   "outputs": [
    {
     "name": "stderr",
     "output_type": "stream",
     "text": [
      "BokehDeprecationWarning: 'legend' keyword is deprecated, use explicit 'legend_label', 'legend_field', or 'legend_group' keywords instead\n",
      "BokehDeprecationWarning: 'legend' keyword is deprecated, use explicit 'legend_label', 'legend_field', or 'legend_group' keywords instead\n",
      "BokehDeprecationWarning: 'legend' keyword is deprecated, use explicit 'legend_label', 'legend_field', or 'legend_group' keywords instead\n",
      "BokehDeprecationWarning: 'legend' keyword is deprecated, use explicit 'legend_label', 'legend_field', or 'legend_group' keywords instead\n",
      "BokehDeprecationWarning: 'legend' keyword is deprecated, use explicit 'legend_label', 'legend_field', or 'legend_group' keywords instead\n",
      "BokehDeprecationWarning: 'legend' keyword is deprecated, use explicit 'legend_label', 'legend_field', or 'legend_group' keywords instead\n",
      "BokehDeprecationWarning: 'legend' keyword is deprecated, use explicit 'legend_label', 'legend_field', or 'legend_group' keywords instead\n"
     ]
    }
   ],
   "source": [
    "from bokeh.plotting import figure, output_file, show\n",
    "from bokeh.models import Title\n",
    "\n",
    "shock = Lignite.Shock\n",
    "lignite = Lignite.Total_CO2_Emissions\n",
    "\n",
    "shock1 = Gas.Shock\n",
    "gas = Gas.Total_CO2_Emissions\n",
    "\n",
    "shock2 = Hardcoal.Shock\n",
    "hardcoal = Hardcoal.Total_CO2_Emissions\n",
    "\n",
    "shock3 = Demand.Shock\n",
    "demand = Demand.Total_CO2_Emissions\n",
    "\n",
    "shock4 = Solar.Shock\n",
    "solar = Solar.Total_CO2_Emissions\n",
    "\n",
    "shock5 = Wind_Offshore.Shock\n",
    "wind_Offshore = Wind_Offshore.Total_CO2_Emissions\n",
    "\n",
    "shock6 = Lit_Ion.Shock\n",
    "lit_Ion = Lit_Ion.Total_CO2_Emissions\n",
    "\n",
    "output_file(\"multiple.html\")\n",
    "\n",
    "p = figure(plot_width=800, plot_height=600)\n",
    "\n",
    "# add both a line and circles on the same plot\n",
    "p.line(shock, lignite, line_width=2, legend = 'Lignite', color = 'blue')\n",
    "p.circle_x(shock, lignite, fill_color=\"white\", size=10)\n",
    "\n",
    "p.line(shock1, gas, line_width=2, legend = 'Gas', color = 'red')\n",
    "p.circle_x(shock1, gas, fill_color=\"white\", size=10)\n",
    "\n",
    "p.line(shock2, hardcoal, line_width=2, legend = 'Hardcoal', color = 'black')\n",
    "p.circle_x(shock2, hardcoal, fill_color=\"white\", size=10)\n",
    "\n",
    "p.line(shock3, demand, line_width=2, legend = 'Demand', color = 'darkmagenta')\n",
    "p.circle_x(shock3, demand, fill_color=\"white\", size=10)\n",
    "\n",
    "p.line(shock4, solar, line_width=2, legend = 'Solar', color = 'chocolate')\n",
    "p.circle_x(shock4, solar, fill_color=\"white\", size=10)\n",
    "\n",
    "p.line(shock5, wind_Offshore, line_width=2, legend = 'Wind_Offshore', color = 'deeppink')\n",
    "p.circle_x(shock5, wind_Offshore, fill_color=\"white\", size=10)\n",
    "\n",
    "p.line(shock6, lit_Ion, line_width=2, legend = 'Lit_Ion', color = 'cyan')\n",
    "p.circle_x(shock6, lit_Ion, fill_color=\"white\", size=10)\n",
    "\n",
    "\n",
    "\n",
    "\n",
    "\n",
    "p.legend.location = \"top_left\"\n",
    "p.legend.click_policy=\"hide\"\n",
    "p.add_layout(Title(text=\"Total CO2 Emissions (in 10^6t) \", align=\"center\"), \"left\")\n",
    "p.add_layout(Title(text=\"Shock Strength\", align=\"center\"), \"below\")\n",
    "show(p)"
   ],
   "metadata": {
    "collapsed": false,
    "pycharm": {
     "name": "#%%\n"
    }
   }
  },
  {
   "cell_type": "code",
   "execution_count": 56,
   "outputs": [
    {
     "name": "stdout",
     "output_type": "stream",
     "text": [
      "            Row  Total_CO2_Emissions Pol_Inst Technologie  Shock  Unnamed: 5  \\\n",
      "0    1355555555          1503.600000  CO2_Cap     Lignite   -0.2   355555555   \n",
      "1    1455555555          1503.600000  CO2_Cap     Lignite   -0.1   455555555   \n",
      "2    1535555555          1503.600000  CO2_Cap         Gas   -0.2   535555555   \n",
      "3    1545555555          1503.600000  CO2_Cap         Gas   -0.1   545555555   \n",
      "4    1553555555          1503.600000  CO2_Cap    Hardcoal   -0.2   553555555   \n",
      "..          ...                  ...      ...         ...    ...         ...   \n",
      "143  4557555555          1503.675998      FIT    Hardcoal    0.2   557555555   \n",
      "144  4565555555          1521.041561      FIT         Gas    0.1   565555555   \n",
      "145  4575555555          1551.055722      FIT         Gas    0.2   575555555   \n",
      "146  4655555555          1483.893265      FIT     Lignite    0.1   655555555   \n",
      "147  4755555555          1468.099519      FIT     Lignite    0.2   755555555   \n",
      "\n",
      "     Unnamed: 6  Unnamed: 7  Unnamed: 8  Unnamed: 9 Unnamed: 10  Unnamed: 11  \n",
      "0             1         3.0         NaN         NaN     CO2_Cap  Lignite-20%  \n",
      "1             1         4.0         NaN         NaN         NaN          NaN  \n",
      "2             2         3.0         NaN         NaN         NaN          NaN  \n",
      "3             2         4.0         NaN         NaN         NaN          NaN  \n",
      "4             3         3.0         NaN         NaN         NaN          NaN  \n",
      "..          ...         ...         ...         ...         ...          ...  \n",
      "143           3         7.0         NaN         NaN         NaN          NaN  \n",
      "144           2         6.0         NaN         NaN         NaN          NaN  \n",
      "145           2         7.0         NaN         NaN         NaN          NaN  \n",
      "146           1         6.0         NaN         NaN         NaN          NaN  \n",
      "147           1         7.0         NaN         NaN         NaN          NaN  \n",
      "\n",
      "[148 rows x 12 columns]\n",
      "     Total_CO2_Emissions Pol_Inst Technologie  Shock\n",
      "0            1503.600000  CO2_Cap     Lignite   -0.2\n",
      "1            1503.600000  CO2_Cap     Lignite   -0.1\n",
      "2            1503.600000  CO2_Cap         Gas   -0.2\n",
      "3            1503.600000  CO2_Cap         Gas   -0.1\n",
      "4            1503.600000  CO2_Cap    Hardcoal   -0.2\n",
      "..                   ...      ...         ...    ...\n",
      "143          1503.675998      FIT    Hardcoal    0.2\n",
      "144          1521.041561      FIT         Gas    0.1\n",
      "145          1551.055722      FIT         Gas    0.2\n",
      "146          1483.893265      FIT     Lignite    0.1\n",
      "147          1468.099519      FIT     Lignite    0.2\n",
      "\n",
      "[148 rows x 4 columns]\n",
      "['CO2_Cap' 'Min_RES_Quota' 'CO2_Tax' 'FIT']\n",
      "Lignite\n",
      "            Row  Total_CO2_Emissions Pol_Inst Technologie  Shock  Unnamed: 5  \\\n",
      "0    1355555555          1503.600000  CO2_Cap     Lignite   -0.2   355555555   \n",
      "1    1455555555          1503.600000  CO2_Cap     Lignite   -0.1   455555555   \n",
      "2    1535555555          1503.600000  CO2_Cap         Gas   -0.2   535555555   \n",
      "3    1545555555          1503.600000  CO2_Cap         Gas   -0.1   545555555   \n",
      "4    1553555555          1503.600000  CO2_Cap    Hardcoal   -0.2   553555555   \n",
      "..          ...                  ...      ...         ...    ...         ...   \n",
      "143  4557555555          1503.675998      FIT    Hardcoal    0.2   557555555   \n",
      "144  4565555555          1521.041561      FIT         Gas    0.1   565555555   \n",
      "145  4575555555          1551.055722      FIT         Gas    0.2   575555555   \n",
      "146  4655555555          1483.893265      FIT     Lignite    0.1   655555555   \n",
      "147  4755555555          1468.099519      FIT     Lignite    0.2   755555555   \n",
      "\n",
      "     Unnamed: 6  Unnamed: 7  Unnamed: 8  Unnamed: 9 Unnamed: 10  Unnamed: 11  \n",
      "0             1         3.0         NaN         NaN     CO2_Cap  Lignite-20%  \n",
      "1             1         4.0         NaN         NaN         NaN          NaN  \n",
      "2             2         3.0         NaN         NaN         NaN          NaN  \n",
      "3             2         4.0         NaN         NaN         NaN          NaN  \n",
      "4             3         3.0         NaN         NaN         NaN          NaN  \n",
      "..          ...         ...         ...         ...         ...          ...  \n",
      "143           3         7.0         NaN         NaN         NaN          NaN  \n",
      "144           2         6.0         NaN         NaN         NaN          NaN  \n",
      "145           2         7.0         NaN         NaN         NaN          NaN  \n",
      "146           1         6.0         NaN         NaN         NaN          NaN  \n",
      "147           1         7.0         NaN         NaN         NaN          NaN  \n",
      "\n",
      "[148 rows x 12 columns]\n"
     ]
    }
   ],
   "source": [
    "# For MinResquota\n",
    "\n",
    "\n",
    "\n",
    "import pandas as pd\n",
    "\n",
    "# output_file('stacked.html')\n",
    "\n",
    "# capacity = ['CO2_Cap', 'Min_RES_Quota', 'CO2_Tax', 'FIT']\n",
    "# types = ['Costs_K_G', 'Costs_K_S_ch', 'Costs_V_S', 'Costs_op_fu_G_C', 'Costs_op_em_G_C', 'Costs_VolL']\n",
    "# colors = [\"#c9d9d3\", \"#718dbf\", \"#e84d60\", \"#FFA500\", \"#32CD32\", '#00FFFF']\n",
    "\n",
    "# maxload = [90.03467675, 90.03467675, 90.03467675, 90.03467675]\n",
    "# Total_demand = [540.7686148, 540.7686148, 540.7686148, 540.7686148]\n",
    "\n",
    "\n",
    "data = pd.read_excel(r'/Users/shakhawat_hossain_turag/Desktop/Uni/Energiewirtschaft /Copy of Figures_Data_Preparation.xlsx', sheet_name = 'Figure 6')\n",
    "print(data)\n",
    "data1 = data.iloc[:,1:5]\n",
    "print(data1)\n",
    "\n",
    "capacity = data['Pol_Inst'].unique()\n",
    "types = data['Technologie'].unique()\n",
    "colors = [\"#c9d9d3\", \"#718dbf\", \"#e84d60\", \"#FFA500\", \"#32CD32\",'#00FFFF', '#FAEBD7']\n",
    "\n",
    "\n",
    "print(capacity)\n",
    "print(types[0])\n",
    "print(data)"
   ],
   "metadata": {
    "collapsed": false,
    "pycharm": {
     "name": "#%%\n"
    }
   }
  },
  {
   "cell_type": "code",
   "execution_count": 57,
   "outputs": [
    {
     "name": "stdout",
     "output_type": "stream",
     "text": [
      "<class 'pandas.core.frame.DataFrame'>\n",
      "<class 'numpy.ndarray'>\n"
     ]
    }
   ],
   "source": [
    "print(type(data))\n",
    "print(type(capacity))"
   ],
   "metadata": {
    "collapsed": false,
    "pycharm": {
     "name": "#%%\n"
    }
   }
  },
  {
   "cell_type": "code",
   "execution_count": 58,
   "outputs": [
    {
     "name": "stdout",
     "output_type": "stream",
     "text": [
      "['Lignite' 'Gas' 'Hardcoal' 'Demand' 'Solar' 'Wind_Onshore'\n",
      " 'Wind_Offshore' 'Lit_Ion' 'PSH' 'no']\n"
     ]
    }
   ],
   "source": [
    "print(data1.Technologie.unique())"
   ],
   "metadata": {
    "collapsed": false,
    "pycharm": {
     "name": "#%%\n"
    }
   }
  },
  {
   "cell_type": "code",
   "execution_count": 59,
   "outputs": [
    {
     "name": "stdout",
     "output_type": "stream",
     "text": [
      "    Total_CO2_Emissions       Pol_Inst Technologie  Shock\n",
      "43          1153.692829  Min_RES_Quota      Demand   -0.2\n",
      "44          1347.647506  Min_RES_Quota      Demand   -0.1\n",
      "66          1646.441204  Min_RES_Quota      Demand    0.1\n",
      "67          1789.612125  Min_RES_Quota      Demand    0.2\n"
     ]
    },
    {
     "data": {
      "text/plain": "pandas.core.series.Series"
     },
     "execution_count": 59,
     "metadata": {},
     "output_type": "execute_result"
    }
   ],
   "source": [
    "Lignite = data1.loc[(data1['Pol_Inst'] == capacity[1]) & (data1['Technologie'] == types[0])]\n",
    "Gas = data1.loc[(data1['Pol_Inst'] == capacity[1]) & (data1['Technologie'] == types[1])]\n",
    "Hardcoal = data1.loc[(data1['Pol_Inst'] == capacity[1]) & (data1['Technologie'] == types[2])]\n",
    "Demand = data1.loc[(data1['Pol_Inst'] == capacity[1]) & (data1['Technologie'] == types[3])]\n",
    "Solar = data1.loc[(data1['Pol_Inst'] == capacity[1]) & (data1['Technologie'] == types[4])]\n",
    "Wind_Offshore = data1.loc[(data1['Pol_Inst'] == capacity[1]) & (data1['Technologie'] == types[5])]\n",
    "Lit_Ion = data1.loc[(data1['Pol_Inst'] == capacity[1]) & (data1['Technologie'] == types[6])]\n",
    "\n",
    "\n",
    "# Lignite = Lig\n",
    "print(Demand)\n",
    "type(Lignite.Shock)\n",
    "#Gas.plot(x='Shock' , y='Total_CO2_Emissions', marker='x')"
   ],
   "metadata": {
    "collapsed": false,
    "pycharm": {
     "name": "#%%\n"
    }
   }
  },
  {
   "cell_type": "code",
   "execution_count": 67,
   "outputs": [
    {
     "name": "stderr",
     "output_type": "stream",
     "text": [
      "BokehDeprecationWarning: 'legend' keyword is deprecated, use explicit 'legend_label', 'legend_field', or 'legend_group' keywords instead\n",
      "BokehDeprecationWarning: 'legend' keyword is deprecated, use explicit 'legend_label', 'legend_field', or 'legend_group' keywords instead\n",
      "BokehDeprecationWarning: 'legend' keyword is deprecated, use explicit 'legend_label', 'legend_field', or 'legend_group' keywords instead\n",
      "BokehDeprecationWarning: 'legend' keyword is deprecated, use explicit 'legend_label', 'legend_field', or 'legend_group' keywords instead\n",
      "BokehDeprecationWarning: 'legend' keyword is deprecated, use explicit 'legend_label', 'legend_field', or 'legend_group' keywords instead\n",
      "BokehDeprecationWarning: 'legend' keyword is deprecated, use explicit 'legend_label', 'legend_field', or 'legend_group' keywords instead\n",
      "BokehDeprecationWarning: 'legend' keyword is deprecated, use explicit 'legend_label', 'legend_field', or 'legend_group' keywords instead\n"
     ]
    }
   ],
   "source": [
    "from bokeh.plotting import figure, output_file, show\n",
    "from bokeh.models import Title\n",
    "\n",
    "shock = Lignite.Shock\n",
    "lignite = Lignite.Total_CO2_Emissions\n",
    "\n",
    "shock1 = Gas.Shock\n",
    "gas = Gas.Total_CO2_Emissions\n",
    "\n",
    "shock2 = Hardcoal.Shock\n",
    "hardcoal = Hardcoal.Total_CO2_Emissions\n",
    "\n",
    "shock3 = Demand.Shock\n",
    "demand = Demand.Total_CO2_Emissions\n",
    "\n",
    "shock4 = Solar.Shock\n",
    "solar = Solar.Total_CO2_Emissions\n",
    "\n",
    "shock5 = Wind_Offshore.Shock\n",
    "wind_Offshore = Wind_Offshore.Total_CO2_Emissions\n",
    "\n",
    "shock6 = Lit_Ion.Shock\n",
    "lit_Ion = Lit_Ion.Total_CO2_Emissions\n",
    "\n",
    "output_file(\"multiple.html\")\n",
    "\n",
    "p = figure(plot_width=800, plot_height=600)\n",
    "\n",
    "# add both a line and circles on the same plot\n",
    "p.line(shock, lignite, line_width=2, legend = 'Lignite', color = 'blue')\n",
    "p.circle_x(shock, lignite, fill_color=\"white\", size=10)\n",
    "\n",
    "p.line(shock1, gas, line_width=2, legend = 'Gas', color = 'red')\n",
    "p.circle_x(shock1, gas, fill_color=\"white\", size=10)\n",
    "\n",
    "p.line(shock2, hardcoal, line_width=2, legend = 'Hardcoal', color = 'black')\n",
    "p.circle_x(shock2, hardcoal, fill_color=\"white\", size=10)\n",
    "\n",
    "p.line(shock3, demand, line_width=2, legend = 'Demand', color = 'darkmagenta')\n",
    "p.circle_x(shock3, demand, fill_color=\"white\", size=10)\n",
    "\n",
    "p.line(shock4, solar, line_width=2, legend = 'Solar', color = 'chocolate')\n",
    "p.circle_x(shock4, solar, fill_color=\"white\", size=10)\n",
    "\n",
    "p.line(shock5, wind_Offshore, line_width=2, legend = 'Wind_Offshore', color = 'deeppink')\n",
    "p.circle_x(shock5, wind_Offshore, fill_color=\"white\", size=10)\n",
    "\n",
    "p.line(shock6, lit_Ion, line_width=2, legend = 'Lit_Ion', color = 'cyan')\n",
    "p.circle_x(shock6, lit_Ion, fill_color=\"white\", size=10)\n",
    "\n",
    "\n",
    "\n",
    "\n",
    "\n",
    "p.legend.location = \"top_left\"\n",
    "p.legend.click_policy=\"hide\"\n",
    "p.add_layout(Title(text=\"Total CO2 Emissions (in 10^6t) \", align=\"center\"), \"left\")\n",
    "p.add_layout(Title(text=\"Shock Strength\", align=\"center\"), \"below\")\n",
    "show(p)"
   ],
   "metadata": {
    "collapsed": false,
    "pycharm": {
     "name": "#%%\n"
    }
   }
  },
  {
   "cell_type": "code",
   "execution_count": 68,
   "outputs": [
    {
     "data": {
      "text/plain": "['plot.svg']"
     },
     "execution_count": 68,
     "metadata": {},
     "output_type": "execute_result"
    }
   ],
   "source": [
    "from bokeh.io import export_svgs\n",
    "p.output_backend = \"svg\"\n",
    "export_svgs(p, filename=\"plot.svg\")"
   ],
   "metadata": {
    "collapsed": false,
    "pycharm": {
     "name": "#%%\n"
    }
   }
  },
  {
   "cell_type": "code",
   "execution_count": null,
   "outputs": [],
   "source": [
    "\n"
   ],
   "metadata": {
    "collapsed": false,
    "pycharm": {
     "name": "#%%\n"
    }
   }
  }
 ],
 "metadata": {
  "kernelspec": {
   "display_name": "Python 3",
   "language": "python",
   "name": "python3"
  },
  "language_info": {
   "codemirror_mode": {
    "name": "ipython",
    "version": 2
   },
   "file_extension": ".py",
   "mimetype": "text/x-python",
   "name": "python",
   "nbconvert_exporter": "python",
   "pygments_lexer": "ipython2",
   "version": "2.7.6"
  }
 },
 "nbformat": 4,
 "nbformat_minor": 0
}