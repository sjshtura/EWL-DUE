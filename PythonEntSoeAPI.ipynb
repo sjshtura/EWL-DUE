{
 "cells": [
  {
   "cell_type": "code",
   "execution_count": null,
   "metadata": {
    "collapsed": true
   },
   "outputs": [],
   "source": [
    "from entsoe import EntsoeRawClient\n",
    "import pandas as pd\n",
    "\n",
    "client = EntsoeRawClient(api_key=<YOUR API KEY>)\n",
    "\n",
    "start = pd.Timestamp('20171201', tz='Europe/Brussels')\n",
    "end = pd.Timestamp('20180101', tz='Europe/Brussels')\n",
    "country_code = 'BE'  # Belgium\n",
    "\n",
    "# methods that return XML\n",
    "client.query_day_ahead_prices(country_code, start, end)\n",
    "client.query_load(country_code, start, end)\n",
    "client.query_load_forecast(country_code, start, end)\n",
    "client.query_wind_and_solar_forecast(country_code, start, end, psr_type=None)\n",
    "client.query_generation_forecast(country_code, start, end)\n",
    "client.query_generation(country_code, start, end, psr_type=None)\n",
    "client.query_installed_generation_capacity(country_code, start, end, psr_type=None)\n",
    "client.query_crossborder_flows(country_code_from, country_code_to, start, end)\n",
    "client.query_imbalance_prices(country_code, start, end, psr_type=None)\n",
    "\n",
    "# methods that return ZIP\n",
    "client.query_unavailability_of_generation_units(country_code, start, end, docstatus=None)\n",
    "client.query_withdrawn_unavailability_of_generation_units(country_code, start, end)\n",
    "\n"
   ]
  }
 ],
 "metadata": {
  "kernelspec": {
   "display_name": "Python 3",
   "language": "python",
   "name": "python3"
  },
  "language_info": {
   "codemirror_mode": {
    "name": "ipython",
    "version": 2
   },
   "file_extension": ".py",
   "mimetype": "text/x-python",
   "name": "python",
   "nbconvert_exporter": "python",
   "pygments_lexer": "ipython2",
   "version": "2.7.6"
  },
  "pycharm": {
   "stem_cell": {
    "cell_type": "raw",
    "source": [],
    "metadata": {
     "collapsed": false
    }
   }
  }
 },
 "nbformat": 4,
 "nbformat_minor": 0
}