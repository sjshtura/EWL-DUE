{
 "cells": [
  {
   "cell_type": "code",
   "execution_count": 17,
   "outputs": [
    {
     "data": {
      "text/plain": "                          avail_qty biddingzone_domain         businesstype  \\\ncreated_doc_time                                                              \n2017-12-12 18:24:17+01:00         0                 BE  Planned maintenance   \n2017-12-13 16:21:00+01:00       300                 BE  Planned maintenance   \n2017-12-18 06:19:08+01:00         0                 BE     Unplanned outage   \n2017-12-18 12:22:20+01:00         0                 BE     Unplanned outage   \n2017-12-23 02:39:00+01:00         0                 BE     Unplanned outage   \n\n                          curvetype docstatus                       end  \\\ncreated_doc_time                                                          \n2017-12-12 18:24:17+01:00       A03      None 2017-12-12 19:00:00+01:00   \n2017-12-13 16:21:00+01:00       A03      None 2017-12-13 15:30:00+01:00   \n2017-12-18 06:19:08+01:00       A03      None 2017-12-18 07:00:00+01:00   \n2017-12-18 12:22:20+01:00       A03      None 2017-12-18 12:36:00+01:00   \n2017-12-23 02:39:00+01:00       A03      None 2017-12-23 04:37:00+01:00   \n\n                           nominal_power            plant_type  \\\ncreated_doc_time                                                 \n2017-12-12 18:24:17+01:00          419.8            Fossil Gas   \n2017-12-13 16:21:00+01:00          419.8            Fossil Gas   \n2017-12-18 06:19:08+01:00          289.0            Fossil Gas   \n2017-12-18 12:22:20+01:00          289.0            Fossil Gas   \n2017-12-23 02:39:00+01:00          230.0  Hydro Pumped Storage   \n\n                          production_resource_id production_resource_location  \\\ncreated_doc_time                                                                \n2017-12-12 18:24:17+01:00       22WT-POWE000244W                      Belgium   \n2017-12-13 16:21:00+01:00       22WT-POWE000244W                      Belgium   \n2017-12-18 06:19:08+01:00       22WAMERCO000010Y                      Belgium   \n2017-12-18 12:22:20+01:00       22WAMERCO000010Y                      Belgium   \n2017-12-23 02:39:00+01:00       22WCOOXII000070C                      Belgium   \n\n                          production_resource_name pstn qty_uom resolution  \\\ncreated_doc_time                                                             \n2017-12-12 18:24:17+01:00         T-power Beringen    1     MAW       PT1M   \n2017-12-13 16:21:00+01:00         T-power Beringen    1     MAW      PT15M   \n2017-12-18 06:19:08+01:00        Amercoeur 1 R TGV    1     MAW      PT60M   \n2017-12-18 12:22:20+01:00        Amercoeur 1 R TGV    1     MAW      PT60M   \n2017-12-23 02:39:00+01:00                 COO II T    1     MAW      PT60M   \n\n                                              start  \ncreated_doc_time                                     \n2017-12-12 18:24:17+01:00 2017-12-12 06:00:00+01:00  \n2017-12-13 16:21:00+01:00 2017-12-13 11:00:00+01:00  \n2017-12-18 06:19:08+01:00 2017-12-18 05:00:00+01:00  \n2017-12-18 12:22:20+01:00 2017-12-18 07:36:00+01:00  \n2017-12-23 02:39:00+01:00 2017-12-23 02:37:00+01:00  ",
      "text/html": "<div>\n<style scoped>\n    .dataframe tbody tr th:only-of-type {\n        vertical-align: middle;\n    }\n\n    .dataframe tbody tr th {\n        vertical-align: top;\n    }\n\n    .dataframe thead th {\n        text-align: right;\n    }\n</style>\n<table border=\"1\" class=\"dataframe\">\n  <thead>\n    <tr style=\"text-align: right;\">\n      <th></th>\n      <th>avail_qty</th>\n      <th>biddingzone_domain</th>\n      <th>businesstype</th>\n      <th>curvetype</th>\n      <th>docstatus</th>\n      <th>end</th>\n      <th>nominal_power</th>\n      <th>plant_type</th>\n      <th>production_resource_id</th>\n      <th>production_resource_location</th>\n      <th>production_resource_name</th>\n      <th>pstn</th>\n      <th>qty_uom</th>\n      <th>resolution</th>\n      <th>start</th>\n    </tr>\n    <tr>\n      <th>created_doc_time</th>\n      <th></th>\n      <th></th>\n      <th></th>\n      <th></th>\n      <th></th>\n      <th></th>\n      <th></th>\n      <th></th>\n      <th></th>\n      <th></th>\n      <th></th>\n      <th></th>\n      <th></th>\n      <th></th>\n      <th></th>\n    </tr>\n  </thead>\n  <tbody>\n    <tr>\n      <th>2017-12-12 18:24:17+01:00</th>\n      <td>0</td>\n      <td>BE</td>\n      <td>Planned maintenance</td>\n      <td>A03</td>\n      <td>None</td>\n      <td>2017-12-12 19:00:00+01:00</td>\n      <td>419.8</td>\n      <td>Fossil Gas</td>\n      <td>22WT-POWE000244W</td>\n      <td>Belgium</td>\n      <td>T-power Beringen</td>\n      <td>1</td>\n      <td>MAW</td>\n      <td>PT1M</td>\n      <td>2017-12-12 06:00:00+01:00</td>\n    </tr>\n    <tr>\n      <th>2017-12-13 16:21:00+01:00</th>\n      <td>300</td>\n      <td>BE</td>\n      <td>Planned maintenance</td>\n      <td>A03</td>\n      <td>None</td>\n      <td>2017-12-13 15:30:00+01:00</td>\n      <td>419.8</td>\n      <td>Fossil Gas</td>\n      <td>22WT-POWE000244W</td>\n      <td>Belgium</td>\n      <td>T-power Beringen</td>\n      <td>1</td>\n      <td>MAW</td>\n      <td>PT15M</td>\n      <td>2017-12-13 11:00:00+01:00</td>\n    </tr>\n    <tr>\n      <th>2017-12-18 06:19:08+01:00</th>\n      <td>0</td>\n      <td>BE</td>\n      <td>Unplanned outage</td>\n      <td>A03</td>\n      <td>None</td>\n      <td>2017-12-18 07:00:00+01:00</td>\n      <td>289.0</td>\n      <td>Fossil Gas</td>\n      <td>22WAMERCO000010Y</td>\n      <td>Belgium</td>\n      <td>Amercoeur 1 R TGV</td>\n      <td>1</td>\n      <td>MAW</td>\n      <td>PT60M</td>\n      <td>2017-12-18 05:00:00+01:00</td>\n    </tr>\n    <tr>\n      <th>2017-12-18 12:22:20+01:00</th>\n      <td>0</td>\n      <td>BE</td>\n      <td>Unplanned outage</td>\n      <td>A03</td>\n      <td>None</td>\n      <td>2017-12-18 12:36:00+01:00</td>\n      <td>289.0</td>\n      <td>Fossil Gas</td>\n      <td>22WAMERCO000010Y</td>\n      <td>Belgium</td>\n      <td>Amercoeur 1 R TGV</td>\n      <td>1</td>\n      <td>MAW</td>\n      <td>PT60M</td>\n      <td>2017-12-18 07:36:00+01:00</td>\n    </tr>\n    <tr>\n      <th>2017-12-23 02:39:00+01:00</th>\n      <td>0</td>\n      <td>BE</td>\n      <td>Unplanned outage</td>\n      <td>A03</td>\n      <td>None</td>\n      <td>2017-12-23 04:37:00+01:00</td>\n      <td>230.0</td>\n      <td>Hydro Pumped Storage</td>\n      <td>22WCOOXII000070C</td>\n      <td>Belgium</td>\n      <td>COO II T</td>\n      <td>1</td>\n      <td>MAW</td>\n      <td>PT60M</td>\n      <td>2017-12-23 02:37:00+01:00</td>\n    </tr>\n  </tbody>\n</table>\n</div>"
     },
     "execution_count": 17,
     "metadata": {},
     "output_type": "execute_result"
    }
   ],
   "source": [
    "from entsoe import EntsoePandasClient\n",
    "import pandas as pd\n",
    "\n",
    "client = EntsoePandasClient(api_key='c4d117a2-f140-492b-bc2b-d615ec5774f4')\n",
    "\n",
    "start = pd.Timestamp('20171201', tz='Europe/Brussels')\n",
    "end = pd.Timestamp('20180101', tz='Europe/Brussels')\n",
    "country_code = 'BE'  # Belgium\n",
    "\n",
    "# methods that return Pandas Series\n",
    "client.query_day_ahead_prices(country_code, start=start,end=end)\n",
    "client.query_load(country_code, start=start,end=end)\n",
    "client.query_load_forecast(country_code, start=start,end=end)\n",
    "client.query_generation_forecast(country_code, start=start,end=end)\n",
    "\n",
    "# methods that return Pandas DataFrames\n",
    "client.query_wind_and_solar_forecast(country_code, start=start,end=end, psr_type=None)\n",
    "client.query_generation(country_code, start=start,end=end, psr_type=None)\n",
    "client.query_installed_generation_capacity(country_code, start=start,end=end, psr_type=None)\n",
    "client.query_crossborder_flows('DE', 'DK', start=start,end=end)\n",
    "client.query_imbalance_prices(country_code, start=start,end=end, psr_type=None)\n",
    "client.query_unavailability_of_generation_units(country_code, start=start,end=end, docstatus=None)\n",
    "#client.query_withdrawn_unavailability_of_generation_units('DE', start=start,end=end)"
   ],
   "metadata": {
    "collapsed": false,
    "pycharm": {
     "name": "#%%\n"
    }
   }
  },
  {
   "cell_type": "code",
   "execution_count": 18,
   "outputs": [],
   "source": [
    "ts = client.query_day_ahead_prices(country_code, start=start, end=end)\n",
    "ts.to_csv('outfile.csv')\n"
   ],
   "metadata": {
    "collapsed": false,
    "pycharm": {
     "name": "#%%\n"
    }
   }
  },
  {
   "cell_type": "code",
   "execution_count": 88,
   "metadata": {
    "pycharm": {
     "name": "#%%\n"
    }
   },
   "outputs": [
    {
     "name": "stdout",
     "output_type": "stream",
     "text": [
      "            Row  Total_CO2_Emissions Pol_Inst    Technologie  Shock  \\\n",
      "0    1555355555          1503.600000  CO2_Cap   Wind_Onshore   -0.1   \n",
      "1    1555555355          1503.600000  CO2_Cap        Lit_Ion   -0.2   \n",
      "2    1555553555          1503.600000  CO2_Cap            PSH   -0.2   \n",
      "3    1555455555          1503.600000  CO2_Cap  Wind_Offshore   -0.1   \n",
      "4    1535555555          1503.600000  CO2_Cap   Wind_Onshore   -0.2   \n",
      "..          ...                  ...      ...            ...    ...   \n",
      "143  4557555555          1503.675998      FIT       Hardcoal    0.2   \n",
      "144  4565555555          1521.041561      FIT            Gas    0.1   \n",
      "145  4575555555          1551.055722      FIT            Gas    0.2   \n",
      "146  4655555555          1483.893265      FIT        Lignite    0.1   \n",
      "147  4755555555          1468.099519      FIT        Lignite    0.2   \n",
      "\n",
      "     Unnamed: 5  Unnamed: 6  Unnamed: 7       Row.1  \\\n",
      "0     555355555           4         3.0  1555355555   \n",
      "1     555555355           7         3.0  1555555355   \n",
      "2     555553555           6         3.0  1555553555   \n",
      "3     555455555           4         4.0  1555455555   \n",
      "4     535555555           2         3.0  1535555555   \n",
      "..          ...         ...         ...         ...   \n",
      "143   557555555           3         7.0  4557555555   \n",
      "144   565555555           2         6.0  4565555555   \n",
      "145   575555555           2         7.0  4575555555   \n",
      "146   655555555           1         6.0  4655555555   \n",
      "147   755555555           1         7.0  4755555555   \n",
      "\n",
      "     Mean_Quantity_El_Price_Enduser  Unnamed: 10  \n",
      "0                         68.859565         True  \n",
      "1                         72.422947         True  \n",
      "2                         72.837519         True  \n",
      "3                         74.850248         True  \n",
      "4                         75.831856         True  \n",
      "..                              ...          ...  \n",
      "143                       96.436821         True  \n",
      "144                       96.638168         True  \n",
      "145                       96.778080         True  \n",
      "146                       96.560668         True  \n",
      "147                       96.679576         True  \n",
      "\n",
      "[148 rows x 11 columns]\n"
     ]
    }
   ],
   "source": [
    "from bokeh.models import NumeralTickFormatter\n",
    "from bokeh.plotting import figure, output_file, show\n",
    "from bokeh.models import Title\n",
    "import pandas as pd\n",
    "\n",
    "data = pd.read_excel(r'/Users/shakhawat_hossain_turag/Desktop/Uni/Energiewirtschaft /Copy of Figures_Data_Preparation.xlsx', sheet_name = 'Figure 8')\n",
    "print(data)"
   ]
  },
  {
   "cell_type": "code",
   "execution_count": 86,
   "metadata": {
    "pycharm": {
     "name": "#%%\n"
    }
   },
   "outputs": [
    {
     "ename": "KeyError",
     "evalue": "\"['Total_System_Cost'] not in index\"",
     "output_type": "error",
     "traceback": [
      "\u001B[0;31m---------------------------------------------------------------------------\u001B[0m",
      "\u001B[0;31mKeyError\u001B[0m                                  Traceback (most recent call last)",
      "\u001B[0;32m<ipython-input-86-8fc928d63dc4>\u001B[0m in \u001B[0;36m<module>\u001B[0;34m\u001B[0m\n\u001B[1;32m      5\u001B[0m \u001B[0;34m\u001B[0m\u001B[0m\n\u001B[1;32m      6\u001B[0m \u001B[0mdata\u001B[0m \u001B[0;34m=\u001B[0m \u001B[0mpd\u001B[0m\u001B[0;34m.\u001B[0m\u001B[0mread_excel\u001B[0m\u001B[0;34m(\u001B[0m\u001B[0;34mr'/Users/shakhawat_hossain_turag/Desktop/Uni/Energiewirtschaft /Copy of Figures_Data_Preparation.xlsx'\u001B[0m\u001B[0;34m,\u001B[0m \u001B[0msheet_name\u001B[0m \u001B[0;34m=\u001B[0m \u001B[0;34m'Figure 8'\u001B[0m\u001B[0;34m)\u001B[0m\u001B[0;34m\u001B[0m\u001B[0;34m\u001B[0m\u001B[0m\n\u001B[0;32m----> 7\u001B[0;31m \u001B[0mdata1\u001B[0m \u001B[0;34m=\u001B[0m \u001B[0mdata\u001B[0m\u001B[0;34m[\u001B[0m\u001B[0;34m[\u001B[0m\u001B[0;34m\"Total_CO2_Emissions\"\u001B[0m\u001B[0;34m,\u001B[0m\u001B[0;34m\"Pol_Inst\"\u001B[0m\u001B[0;34m,\u001B[0m\u001B[0;34m\"Technologie\"\u001B[0m\u001B[0;34m,\u001B[0m\u001B[0;34m\"Total_System_Cost\"\u001B[0m\u001B[0;34m]\u001B[0m\u001B[0;34m]\u001B[0m\u001B[0;34m\u001B[0m\u001B[0;34m\u001B[0m\u001B[0m\n\u001B[0m\u001B[1;32m      8\u001B[0m \u001B[0mdata2\u001B[0m \u001B[0;34m=\u001B[0m \u001B[0mdata1\u001B[0m\u001B[0;34m.\u001B[0m\u001B[0mdropna\u001B[0m\u001B[0;34m(\u001B[0m\u001B[0;34m)\u001B[0m\u001B[0;34m\u001B[0m\u001B[0;34m\u001B[0m\u001B[0m\n\u001B[1;32m      9\u001B[0m \u001B[0;34m\u001B[0m\u001B[0m\n",
      "\u001B[0;32m/Library/Python/3.7/site-packages/pandas/core/frame.py\u001B[0m in \u001B[0;36m__getitem__\u001B[0;34m(self, key)\u001B[0m\n\u001B[1;32m   2804\u001B[0m             \u001B[0;32mif\u001B[0m \u001B[0mis_iterator\u001B[0m\u001B[0;34m(\u001B[0m\u001B[0mkey\u001B[0m\u001B[0;34m)\u001B[0m\u001B[0;34m:\u001B[0m\u001B[0;34m\u001B[0m\u001B[0;34m\u001B[0m\u001B[0m\n\u001B[1;32m   2805\u001B[0m                 \u001B[0mkey\u001B[0m \u001B[0;34m=\u001B[0m \u001B[0mlist\u001B[0m\u001B[0;34m(\u001B[0m\u001B[0mkey\u001B[0m\u001B[0;34m)\u001B[0m\u001B[0;34m\u001B[0m\u001B[0;34m\u001B[0m\u001B[0m\n\u001B[0;32m-> 2806\u001B[0;31m             \u001B[0mindexer\u001B[0m \u001B[0;34m=\u001B[0m \u001B[0mself\u001B[0m\u001B[0;34m.\u001B[0m\u001B[0mloc\u001B[0m\u001B[0;34m.\u001B[0m\u001B[0m_get_listlike_indexer\u001B[0m\u001B[0;34m(\u001B[0m\u001B[0mkey\u001B[0m\u001B[0;34m,\u001B[0m \u001B[0maxis\u001B[0m\u001B[0;34m=\u001B[0m\u001B[0;36m1\u001B[0m\u001B[0;34m,\u001B[0m \u001B[0mraise_missing\u001B[0m\u001B[0;34m=\u001B[0m\u001B[0;32mTrue\u001B[0m\u001B[0;34m)\u001B[0m\u001B[0;34m[\u001B[0m\u001B[0;36m1\u001B[0m\u001B[0;34m]\u001B[0m\u001B[0;34m\u001B[0m\u001B[0;34m\u001B[0m\u001B[0m\n\u001B[0m\u001B[1;32m   2807\u001B[0m \u001B[0;34m\u001B[0m\u001B[0m\n\u001B[1;32m   2808\u001B[0m         \u001B[0;31m# take() does not accept boolean indexers\u001B[0m\u001B[0;34m\u001B[0m\u001B[0;34m\u001B[0m\u001B[0;34m\u001B[0m\u001B[0m\n",
      "\u001B[0;32m/Library/Python/3.7/site-packages/pandas/core/indexing.py\u001B[0m in \u001B[0;36m_get_listlike_indexer\u001B[0;34m(self, key, axis, raise_missing)\u001B[0m\n\u001B[1;32m   1550\u001B[0m \u001B[0;34m\u001B[0m\u001B[0m\n\u001B[1;32m   1551\u001B[0m         self._validate_read_indexer(\n\u001B[0;32m-> 1552\u001B[0;31m             \u001B[0mkeyarr\u001B[0m\u001B[0;34m,\u001B[0m \u001B[0mindexer\u001B[0m\u001B[0;34m,\u001B[0m \u001B[0mo\u001B[0m\u001B[0;34m.\u001B[0m\u001B[0m_get_axis_number\u001B[0m\u001B[0;34m(\u001B[0m\u001B[0maxis\u001B[0m\u001B[0;34m)\u001B[0m\u001B[0;34m,\u001B[0m \u001B[0mraise_missing\u001B[0m\u001B[0;34m=\u001B[0m\u001B[0mraise_missing\u001B[0m\u001B[0;34m\u001B[0m\u001B[0;34m\u001B[0m\u001B[0m\n\u001B[0m\u001B[1;32m   1553\u001B[0m         )\n\u001B[1;32m   1554\u001B[0m         \u001B[0;32mreturn\u001B[0m \u001B[0mkeyarr\u001B[0m\u001B[0;34m,\u001B[0m \u001B[0mindexer\u001B[0m\u001B[0;34m\u001B[0m\u001B[0;34m\u001B[0m\u001B[0m\n",
      "\u001B[0;32m/Library/Python/3.7/site-packages/pandas/core/indexing.py\u001B[0m in \u001B[0;36m_validate_read_indexer\u001B[0;34m(self, key, indexer, axis, raise_missing)\u001B[0m\n\u001B[1;32m   1643\u001B[0m             \u001B[0;32mif\u001B[0m \u001B[0;32mnot\u001B[0m \u001B[0;34m(\u001B[0m\u001B[0mself\u001B[0m\u001B[0;34m.\u001B[0m\u001B[0mname\u001B[0m \u001B[0;34m==\u001B[0m \u001B[0;34m\"loc\"\u001B[0m \u001B[0;32mand\u001B[0m \u001B[0;32mnot\u001B[0m \u001B[0mraise_missing\u001B[0m\u001B[0;34m)\u001B[0m\u001B[0;34m:\u001B[0m\u001B[0;34m\u001B[0m\u001B[0;34m\u001B[0m\u001B[0m\n\u001B[1;32m   1644\u001B[0m                 \u001B[0mnot_found\u001B[0m \u001B[0;34m=\u001B[0m \u001B[0mlist\u001B[0m\u001B[0;34m(\u001B[0m\u001B[0mset\u001B[0m\u001B[0;34m(\u001B[0m\u001B[0mkey\u001B[0m\u001B[0;34m)\u001B[0m \u001B[0;34m-\u001B[0m \u001B[0mset\u001B[0m\u001B[0;34m(\u001B[0m\u001B[0max\u001B[0m\u001B[0;34m)\u001B[0m\u001B[0;34m)\u001B[0m\u001B[0;34m\u001B[0m\u001B[0;34m\u001B[0m\u001B[0m\n\u001B[0;32m-> 1645\u001B[0;31m                 \u001B[0;32mraise\u001B[0m \u001B[0mKeyError\u001B[0m\u001B[0;34m(\u001B[0m\u001B[0;34mf\"{not_found} not in index\"\u001B[0m\u001B[0;34m)\u001B[0m\u001B[0;34m\u001B[0m\u001B[0;34m\u001B[0m\u001B[0m\n\u001B[0m\u001B[1;32m   1646\u001B[0m \u001B[0;34m\u001B[0m\u001B[0m\n\u001B[1;32m   1647\u001B[0m             \u001B[0;31m# we skip the warning on Categorical/Interval\u001B[0m\u001B[0;34m\u001B[0m\u001B[0;34m\u001B[0m\u001B[0;34m\u001B[0m\u001B[0m\n",
      "\u001B[0;31mKeyError\u001B[0m: \"['Total_System_Cost'] not in index\""
     ]
    }
   ],
   "source": [
    "from bokeh.models import NumeralTickFormatter\n",
    "from bokeh.plotting import figure, output_file, show\n",
    "from bokeh.models import Title\n",
    "import pandas as pd\n",
    "\n",
    "data = pd.read_excel(r'/Users/shakhawat_hossain_turag/Desktop/Uni/Energiewirtschaft /Copy of Figures_Data_Preparation.xlsx', sheet_name = 'Figure 8')\n",
    "data1 = data[[\"Total_CO2_Emissions\",\"Pol_Inst\",\"Technologie\",\"Total_System_Cost\"]]\n",
    "data2 = data1.dropna()\n",
    "\n",
    "capacity = data['Pol_Inst'].unique()\n",
    "types = data['Technologie'].unique()\n",
    "print(data2)"
   ]
  },
  {
   "cell_type": "code",
   "execution_count": 85,
   "metadata": {
    "pycharm": {
     "name": "#%%\n"
    }
   },
   "outputs": [
    {
     "name": "stdout",
     "output_type": "stream",
     "text": [
      "['Lignite' 'Gas' 'Hardcoal' 'Demand' 'Solar' 'Wind_Onshore'\n",
      " 'Wind_Offshore' 'Lit_Ion' 'PSH' 'no']\n"
     ]
    }
   ],
   "source": [
    "Technologie = data2[\"Technologie\"].unique()\n",
    "print(Technologie)"
   ]
  },
  {
   "cell_type": "code",
   "execution_count": null,
   "metadata": {
    "pycharm": {
     "name": "#%%\n"
    }
   },
   "outputs": [],
   "source": [
    "p = figure(plot_width=800, plot_height=600)\n",
    "p.l\n"
   ]
  },
  {
   "cell_type": "code",
   "execution_count": null,
   "metadata": {
    "pycharm": {
     "name": "#%%\n"
    }
   },
   "outputs": [],
   "source": [
    "\n"
   ]
  }
 ],
 "metadata": {
  "kernelspec": {
   "display_name": "Python 3",
   "language": "python",
   "name": "python3"
  },
  "language_info": {
   "codemirror_mode": {
    "name": "ipython",
    "version": 3
   },
   "file_extension": ".py",
   "mimetype": "text/x-python",
   "name": "python",
   "nbconvert_exporter": "python",
   "pygments_lexer": "ipython3",
   "version": "3.7.3"
  }
 },
 "nbformat": 4,
 "nbformat_minor": 1
}