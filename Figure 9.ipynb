{
 "cells": [
  {
   "cell_type": "code",
   "execution_count": 3,
   "outputs": [
    {
     "data": {
      "text/plain": "          Row  Total_CO2_Emissions Pol_Inst Technologie  Shock  Unnamed: 5  \\\n0  1455555555               1503.6  CO2_Cap     Lignite   -0.1   455555555   \n1  1535555555               1503.6  CO2_Cap         Gas   -0.2   535555555   \n2  1545555555               1503.6  CO2_Cap         Gas   -0.1   545555555   \n3  1553555555               1503.6  CO2_Cap    Hardcoal   -0.2   553555555   \n4  1554555555               1503.6  CO2_Cap    Hardcoal   -0.1   554555555   \n\n   Unnamed: 6  Unnamed: 7  Unnamed: 8  Unnamed: 9  Lignite  Coal  CCGT  OCGT  \\\n0           1         4.0         NaN         NaN      0.0     0   0.0   0.0   \n1           2         3.0         NaN         NaN      0.0     0   0.0   0.0   \n2           2         4.0         NaN         NaN      0.0     0   0.0   0.0   \n3           3         3.0         NaN         NaN      0.0     0   0.0   0.0   \n4           3         4.0         NaN         NaN      0.0     0   0.0   0.0   \n\n   Wind_Onshore  Wind_Offshore  Solar  LitIon  PSH  Total  \n0           0.0            0.0    0.0     0.0  0.0    0.0  \n1           0.0            0.0    0.0     0.0  0.0    0.0  \n2           0.0            0.0    0.0     0.0  0.0    0.0  \n3           0.0            0.0    0.0     0.0  0.0    0.0  \n4           0.0            0.0    0.0     0.0  0.0    0.0  ",
      "text/html": "<div>\n<style scoped>\n    .dataframe tbody tr th:only-of-type {\n        vertical-align: middle;\n    }\n\n    .dataframe tbody tr th {\n        vertical-align: top;\n    }\n\n    .dataframe thead th {\n        text-align: right;\n    }\n</style>\n<table border=\"1\" class=\"dataframe\">\n  <thead>\n    <tr style=\"text-align: right;\">\n      <th></th>\n      <th>Row</th>\n      <th>Total_CO2_Emissions</th>\n      <th>Pol_Inst</th>\n      <th>Technologie</th>\n      <th>Shock</th>\n      <th>Unnamed: 5</th>\n      <th>Unnamed: 6</th>\n      <th>Unnamed: 7</th>\n      <th>Unnamed: 8</th>\n      <th>Unnamed: 9</th>\n      <th>Lignite</th>\n      <th>Coal</th>\n      <th>CCGT</th>\n      <th>OCGT</th>\n      <th>Wind_Onshore</th>\n      <th>Wind_Offshore</th>\n      <th>Solar</th>\n      <th>LitIon</th>\n      <th>PSH</th>\n      <th>Total</th>\n    </tr>\n  </thead>\n  <tbody>\n    <tr>\n      <th>0</th>\n      <td>1455555555</td>\n      <td>1503.6</td>\n      <td>CO2_Cap</td>\n      <td>Lignite</td>\n      <td>-0.1</td>\n      <td>455555555</td>\n      <td>1</td>\n      <td>4.0</td>\n      <td>NaN</td>\n      <td>NaN</td>\n      <td>0.0</td>\n      <td>0</td>\n      <td>0.0</td>\n      <td>0.0</td>\n      <td>0.0</td>\n      <td>0.0</td>\n      <td>0.0</td>\n      <td>0.0</td>\n      <td>0.0</td>\n      <td>0.0</td>\n    </tr>\n    <tr>\n      <th>1</th>\n      <td>1535555555</td>\n      <td>1503.6</td>\n      <td>CO2_Cap</td>\n      <td>Gas</td>\n      <td>-0.2</td>\n      <td>535555555</td>\n      <td>2</td>\n      <td>3.0</td>\n      <td>NaN</td>\n      <td>NaN</td>\n      <td>0.0</td>\n      <td>0</td>\n      <td>0.0</td>\n      <td>0.0</td>\n      <td>0.0</td>\n      <td>0.0</td>\n      <td>0.0</td>\n      <td>0.0</td>\n      <td>0.0</td>\n      <td>0.0</td>\n    </tr>\n    <tr>\n      <th>2</th>\n      <td>1545555555</td>\n      <td>1503.6</td>\n      <td>CO2_Cap</td>\n      <td>Gas</td>\n      <td>-0.1</td>\n      <td>545555555</td>\n      <td>2</td>\n      <td>4.0</td>\n      <td>NaN</td>\n      <td>NaN</td>\n      <td>0.0</td>\n      <td>0</td>\n      <td>0.0</td>\n      <td>0.0</td>\n      <td>0.0</td>\n      <td>0.0</td>\n      <td>0.0</td>\n      <td>0.0</td>\n      <td>0.0</td>\n      <td>0.0</td>\n    </tr>\n    <tr>\n      <th>3</th>\n      <td>1553555555</td>\n      <td>1503.6</td>\n      <td>CO2_Cap</td>\n      <td>Hardcoal</td>\n      <td>-0.2</td>\n      <td>553555555</td>\n      <td>3</td>\n      <td>3.0</td>\n      <td>NaN</td>\n      <td>NaN</td>\n      <td>0.0</td>\n      <td>0</td>\n      <td>0.0</td>\n      <td>0.0</td>\n      <td>0.0</td>\n      <td>0.0</td>\n      <td>0.0</td>\n      <td>0.0</td>\n      <td>0.0</td>\n      <td>0.0</td>\n    </tr>\n    <tr>\n      <th>4</th>\n      <td>1554555555</td>\n      <td>1503.6</td>\n      <td>CO2_Cap</td>\n      <td>Hardcoal</td>\n      <td>-0.1</td>\n      <td>554555555</td>\n      <td>3</td>\n      <td>4.0</td>\n      <td>NaN</td>\n      <td>NaN</td>\n      <td>0.0</td>\n      <td>0</td>\n      <td>0.0</td>\n      <td>0.0</td>\n      <td>0.0</td>\n      <td>0.0</td>\n      <td>0.0</td>\n      <td>0.0</td>\n      <td>0.0</td>\n      <td>0.0</td>\n    </tr>\n  </tbody>\n</table>\n</div>"
     },
     "execution_count": 3,
     "metadata": {},
     "output_type": "execute_result"
    }
   ],
   "source": [
    "import pandas as pd\n",
    "#names1 = [\"Total_Co2_Emissions\",\"Pol_Inst\",\"Technologie\",\"Shock\",\"Lignite\",\"Coal\",\"CCGT\",\"OCGT\",\"Wind_Onshore\",\"Wind_Offshore\",\"Solar\",\"LitIon\",\"PSH\",\"Total\"]\n",
    "data = pd.read_excel(r'Figures_Data_Preparation_9-12.xlsx', sheet_name = 'Figure 9-12', skiprows=[1])\n",
    "#df = df.set_index([df.iloc[0], df.columns[0]])\n",
    "data.head()"
   ],
   "metadata": {
    "collapsed": false,
    "pycharm": {
     "name": "#%%\n"
    }
   }
  },
  {
   "cell_type": "code",
   "execution_count": 4,
   "outputs": [
    {
     "data": {
      "text/plain": "Index(['Row', 'Total_CO2_Emissions', 'Pol_Inst', 'Technologie', 'Shock',\n       'Unnamed: 5', 'Unnamed: 6', 'Unnamed: 7', 'Unnamed: 8', 'Unnamed: 9',\n       'Lignite', 'Coal', 'CCGT', 'OCGT', 'Wind_Onshore', 'Wind_Offshore',\n       'Solar', 'LitIon', 'PSH', 'Total'],\n      dtype='object')"
     },
     "execution_count": 4,
     "metadata": {},
     "output_type": "execute_result"
    }
   ],
   "source": [
    "data.columns\n"
   ],
   "metadata": {
    "collapsed": false,
    "pycharm": {
     "name": "#%%\n"
    }
   }
  },
  {
   "cell_type": "code",
   "execution_count": 5,
   "outputs": [],
   "source": [
    "data = data[['Technologie', 'Lignite', 'Coal', 'CCGT', 'OCGT', 'Wind_Onshore', 'Wind_Offshore',\n",
    "       'Solar', 'LitIon', 'PSH', 'Total']]\n",
    "data1 = data[['Lignite', 'Coal', 'CCGT', 'OCGT', 'Wind_Onshore', 'Wind_Offshore',\n",
    "       'Solar', 'LitIon', 'PSH', 'Total']]"
   ],
   "metadata": {
    "collapsed": false,
    "pycharm": {
     "name": "#%%\n"
    }
   }
  },
  {
   "cell_type": "code",
   "execution_count": 6,
   "outputs": [
    {
     "data": {
      "text/plain": "    Technologie  Lignite  Coal  CCGT  OCGT  Wind_Onshore  Wind_Offshore  \\\n0       Lignite      0.0     0  0.00  0.00           0.0            0.0   \n1           Gas      0.0     0  0.00  0.00           0.0            0.0   \n2           Gas      0.0     0  0.00  0.00           0.0            0.0   \n3      Hardcoal      0.0     0  0.00  0.00           0.0            0.0   \n4      Hardcoal      0.0     0  0.00  0.00           0.0            0.0   \n..          ...      ...   ...   ...   ...           ...            ...   \n142    Hardcoal      0.0     0  0.00  0.00           0.0            0.0   \n143         Gas      0.0     0  0.00  0.00           0.0            0.0   \n144         Gas      0.0     0 -0.01 -0.02           0.0            0.0   \n145     Lignite      0.0     0  0.00  0.00           0.0            0.0   \n146     Lignite      0.0     0  0.00  0.00           0.0            0.0   \n\n     Solar  LitIon   PSH  Total  \n0      0.0     0.0  0.00    0.0  \n1      0.0     0.0  0.00    0.0  \n2      0.0     0.0  0.00    0.0  \n3      0.0     0.0  0.00    0.0  \n4      0.0     0.0  0.00    0.0  \n..     ...     ...   ...    ...  \n142    0.0     0.0  0.00    0.0  \n143    0.0     0.0  0.00    0.0  \n144    0.0     0.0  0.00    0.0  \n145    0.0     0.0 -0.01    0.0  \n146    0.0     0.0 -0.01    0.0  \n\n[147 rows x 11 columns]",
      "text/html": "<div>\n<style scoped>\n    .dataframe tbody tr th:only-of-type {\n        vertical-align: middle;\n    }\n\n    .dataframe tbody tr th {\n        vertical-align: top;\n    }\n\n    .dataframe thead th {\n        text-align: right;\n    }\n</style>\n<table border=\"1\" class=\"dataframe\">\n  <thead>\n    <tr style=\"text-align: right;\">\n      <th></th>\n      <th>Technologie</th>\n      <th>Lignite</th>\n      <th>Coal</th>\n      <th>CCGT</th>\n      <th>OCGT</th>\n      <th>Wind_Onshore</th>\n      <th>Wind_Offshore</th>\n      <th>Solar</th>\n      <th>LitIon</th>\n      <th>PSH</th>\n      <th>Total</th>\n    </tr>\n  </thead>\n  <tbody>\n    <tr>\n      <th>0</th>\n      <td>Lignite</td>\n      <td>0.0</td>\n      <td>0</td>\n      <td>0.00</td>\n      <td>0.00</td>\n      <td>0.0</td>\n      <td>0.0</td>\n      <td>0.0</td>\n      <td>0.0</td>\n      <td>0.00</td>\n      <td>0.0</td>\n    </tr>\n    <tr>\n      <th>1</th>\n      <td>Gas</td>\n      <td>0.0</td>\n      <td>0</td>\n      <td>0.00</td>\n      <td>0.00</td>\n      <td>0.0</td>\n      <td>0.0</td>\n      <td>0.0</td>\n      <td>0.0</td>\n      <td>0.00</td>\n      <td>0.0</td>\n    </tr>\n    <tr>\n      <th>2</th>\n      <td>Gas</td>\n      <td>0.0</td>\n      <td>0</td>\n      <td>0.00</td>\n      <td>0.00</td>\n      <td>0.0</td>\n      <td>0.0</td>\n      <td>0.0</td>\n      <td>0.0</td>\n      <td>0.00</td>\n      <td>0.0</td>\n    </tr>\n    <tr>\n      <th>3</th>\n      <td>Hardcoal</td>\n      <td>0.0</td>\n      <td>0</td>\n      <td>0.00</td>\n      <td>0.00</td>\n      <td>0.0</td>\n      <td>0.0</td>\n      <td>0.0</td>\n      <td>0.0</td>\n      <td>0.00</td>\n      <td>0.0</td>\n    </tr>\n    <tr>\n      <th>4</th>\n      <td>Hardcoal</td>\n      <td>0.0</td>\n      <td>0</td>\n      <td>0.00</td>\n      <td>0.00</td>\n      <td>0.0</td>\n      <td>0.0</td>\n      <td>0.0</td>\n      <td>0.0</td>\n      <td>0.00</td>\n      <td>0.0</td>\n    </tr>\n    <tr>\n      <th>...</th>\n      <td>...</td>\n      <td>...</td>\n      <td>...</td>\n      <td>...</td>\n      <td>...</td>\n      <td>...</td>\n      <td>...</td>\n      <td>...</td>\n      <td>...</td>\n      <td>...</td>\n      <td>...</td>\n    </tr>\n    <tr>\n      <th>142</th>\n      <td>Hardcoal</td>\n      <td>0.0</td>\n      <td>0</td>\n      <td>0.00</td>\n      <td>0.00</td>\n      <td>0.0</td>\n      <td>0.0</td>\n      <td>0.0</td>\n      <td>0.0</td>\n      <td>0.00</td>\n      <td>0.0</td>\n    </tr>\n    <tr>\n      <th>143</th>\n      <td>Gas</td>\n      <td>0.0</td>\n      <td>0</td>\n      <td>0.00</td>\n      <td>0.00</td>\n      <td>0.0</td>\n      <td>0.0</td>\n      <td>0.0</td>\n      <td>0.0</td>\n      <td>0.00</td>\n      <td>0.0</td>\n    </tr>\n    <tr>\n      <th>144</th>\n      <td>Gas</td>\n      <td>0.0</td>\n      <td>0</td>\n      <td>-0.01</td>\n      <td>-0.02</td>\n      <td>0.0</td>\n      <td>0.0</td>\n      <td>0.0</td>\n      <td>0.0</td>\n      <td>0.00</td>\n      <td>0.0</td>\n    </tr>\n    <tr>\n      <th>145</th>\n      <td>Lignite</td>\n      <td>0.0</td>\n      <td>0</td>\n      <td>0.00</td>\n      <td>0.00</td>\n      <td>0.0</td>\n      <td>0.0</td>\n      <td>0.0</td>\n      <td>0.0</td>\n      <td>-0.01</td>\n      <td>0.0</td>\n    </tr>\n    <tr>\n      <th>146</th>\n      <td>Lignite</td>\n      <td>0.0</td>\n      <td>0</td>\n      <td>0.00</td>\n      <td>0.00</td>\n      <td>0.0</td>\n      <td>0.0</td>\n      <td>0.0</td>\n      <td>0.0</td>\n      <td>-0.01</td>\n      <td>0.0</td>\n    </tr>\n  </tbody>\n</table>\n<p>147 rows × 11 columns</p>\n</div>"
     },
     "execution_count": 6,
     "metadata": {},
     "output_type": "execute_result"
    }
   ],
   "source": [
    "data\n"
   ],
   "metadata": {
    "collapsed": false,
    "pycharm": {
     "name": "#%%\n"
    }
   }
  },
  {
   "cell_type": "code",
   "execution_count": 8,
   "outputs": [
    {
     "ename": "TypeError",
     "evalue": "scatter() missing 1 required positional argument: 'x'",
     "output_type": "error",
     "traceback": [
      "\u001B[1;31m---------------------------------------------------------------------------\u001B[0m",
      "\u001B[1;31mTypeError\u001B[0m                                 Traceback (most recent call last)",
      "\u001B[1;32m<ipython-input-8-09e0787e384f>\u001B[0m in \u001B[0;36m<module>\u001B[1;34m\u001B[0m\n\u001B[0;32m      6\u001B[0m \u001B[1;33m\u001B[0m\u001B[0m\n\u001B[0;32m      7\u001B[0m \u001B[1;31m# PLOT\u001B[0m\u001B[1;33m\u001B[0m\u001B[1;33m\u001B[0m\u001B[1;33m\u001B[0m\u001B[0m\n\u001B[1;32m----> 8\u001B[1;33m \u001B[0mplt\u001B[0m\u001B[1;33m.\u001B[0m\u001B[0mscatter\u001B[0m\u001B[1;33m(\u001B[0m\u001B[0my\u001B[0m \u001B[1;33m=\u001B[0m \u001B[0mdf1\u001B[0m\u001B[1;33m[\u001B[0m\u001B[1;34m'Lignite'\u001B[0m\u001B[1;33m]\u001B[0m\u001B[1;33m,\u001B[0m\u001B[0mcolor\u001B[0m\u001B[1;33m=\u001B[0m\u001B[1;34m'blue'\u001B[0m\u001B[1;33m,\u001B[0m \u001B[0mmarker\u001B[0m\u001B[1;33m=\u001B[0m \u001B[1;34m'*'\u001B[0m\u001B[1;33m,\u001B[0m \u001B[0mlabel\u001B[0m\u001B[1;33m=\u001B[0m\u001B[1;34m'gear=3'\u001B[0m\u001B[1;33m)\u001B[0m\u001B[1;33m\u001B[0m\u001B[1;33m\u001B[0m\u001B[0m\n\u001B[0m\u001B[0;32m      9\u001B[0m \u001B[1;31m# plt.scatter(df2['mpg'],df2['disp'],color= 'red', marker='v', label='gear=4')\u001B[0m\u001B[1;33m\u001B[0m\u001B[1;33m\u001B[0m\u001B[1;33m\u001B[0m\u001B[0m\n\u001B[0;32m     10\u001B[0m \u001B[1;31m# plt.scatter(df3['mpg'],df3['disp'],color= 'green', marker='.', label='gear=5')\u001B[0m\u001B[1;33m\u001B[0m\u001B[1;33m\u001B[0m\u001B[1;33m\u001B[0m\u001B[0m\n",
      "\u001B[1;31mTypeError\u001B[0m: scatter() missing 1 required positional argument: 'x'"
     ]
    }
   ],
   "source": [
    "import matplotlib.pyplot as plt\n",
    "#df=pd.read_csv('mtcars.csv')\n",
    "df1=data[data['Technologie']==\"Lignite\"]\n",
    "df2=data[data['Technologie']==\"Gas\"]\n",
    "df3=data[data['Technologie']==\"Hardcoal\"]\n",
    "\n",
    "# PLOT\n",
    "plt.scatter(x = df1['Lignite'],color='blue', marker= '*', label='gear=3')\n",
    "# plt.scatter(df2['mpg'],df2['disp'],color= 'red', marker='v', label='gear=4')\n",
    "# plt.scatter(df3['mpg'],df3['disp'],color= 'green', marker='.', label='gear=5')\n",
    "plt.legend()\n",
    "\n"
   ],
   "metadata": {
    "collapsed": false,
    "pycharm": {
     "name": "#%%\n"
    }
   }
  },
  {
   "cell_type": "code",
   "execution_count": 30,
   "outputs": [
    {
     "data": {
      "application/vnd.plotly.v1+json": {
       "config": {
        "plotlyServerURL": "https://plot.ly"
       },
       "data": [
        {
         "marker": {
          "color": "LightSkyBlue",
          "line": {
           "color": "Purple",
           "width": 2
          },
          "size": 20
         },
         "mode": "markers",
         "showlegend": true,
         "type": "scatter",
         "x": [
          0.0,
          0.0,
          0.0,
          0.0,
          0.0,
          0.0,
          0.0,
          0.0,
          0.0,
          0.0,
          0.0,
          0.0,
          0.0,
          0.0,
          0.0,
          0.0,
          0.0,
          0.0,
          0.0,
          0.0,
          0.0,
          0.0,
          0.0,
          0.0,
          0.0,
          0.0,
          0.0,
          0.0,
          0.0,
          0.0,
          0.0,
          0.0,
          0.0,
          0.0,
          0.0,
          0.0,
          0.0,
          0.0,
          -0.01,
          0.0,
          0.0,
          0.0,
          -0.27,
          -0.12,
          0.0,
          0.0,
          0.0,
          0.0,
          0.0,
          0.0,
          0.0,
          0.0,
          0.0,
          0.0,
          0.0,
          0.0,
          0.0,
          0.0,
          0.0,
          0.0,
          0.0,
          0.0,
          0.0,
          0.0,
          0.0,
          0.0,
          0.0,
          0.0,
          0.0,
          0.0,
          0.0,
          0.0,
          0.0,
          0.0,
          0.0,
          0.0,
          0.0,
          0.0,
          0.0,
          0.0,
          0.0,
          0.0,
          0.0,
          0.0,
          0.0,
          0.0,
          0.0,
          0.0,
          0.0,
          0.0,
          0.0,
          0.0,
          0.0,
          0.0,
          0.0,
          0.0,
          0.0,
          0.0,
          0.0,
          0.0,
          0.0,
          0.0,
          0.0,
          0.0,
          0.0,
          0.0,
          0.0,
          0.0,
          0.0,
          0.0,
          0.0,
          0.0,
          -0.02,
          0.0,
          -0.01,
          0.0,
          -0.3,
          -0.1,
          0.0,
          0.0,
          0.0,
          0.0,
          0.0,
          0.0,
          0.0,
          0.0,
          -0.02,
          0.0,
          0.0,
          0.0,
          0.0,
          0.0,
          0.0,
          0.0,
          0.0,
          0.0,
          0.0,
          0.0,
          0.0,
          0.0,
          0.0,
          0.0,
          0.0,
          0.0,
          0.0,
          0.0,
          0.0
         ],
         "y": [
          [
           "Lignite",
           0.0,
           0,
           0.0,
           0.0,
           0.0,
           0.0,
           0.0,
           0.0,
           0.0,
           0.0
          ],
          [
           "Lignite",
           0.0,
           0,
           0.0,
           0.0,
           0.0,
           0.0,
           0.0,
           0.0,
           0.0,
           0.0
          ],
          [
           "Lignite",
           0.0,
           0,
           0.0,
           0.0,
           0.0,
           0.0,
           0.0,
           0.0,
           0.0,
           0.0
          ],
          [
           "Lignite",
           0.0,
           0,
           -0.01,
           0.0,
           0.0,
           0.0,
           0.0,
           0.0,
           0.0,
           0.0
          ],
          [
           "Lignite",
           0.0,
           0,
           0.0,
           0.0,
           0.0,
           0.0,
           0.0,
           0.0,
           0.0,
           0.0
          ],
          [
           "Lignite",
           0.0,
           0,
           0.0,
           0.0,
           0.0,
           0.0,
           0.0,
           0.0,
           0.0,
           0.0
          ],
          [
           "Lignite",
           0.0,
           0,
           0.0,
           0.0,
           0.0,
           0.0,
           0.0,
           0.0,
           0.0,
           0.0
          ],
          [
           "Lignite",
           0.0,
           0,
           0.0,
           0.0,
           0.0,
           0.0,
           0.0,
           0.0,
           0.0,
           0.0
          ],
          [
           "Lignite",
           0.0,
           0,
           0.0,
           0.0,
           0.0,
           0.0,
           0.0,
           0.0,
           0.0,
           0.0
          ],
          [
           "Lignite",
           0.0,
           0,
           0.0,
           0.0,
           0.0,
           0.0,
           0.0,
           0.0,
           0.0,
           0.0
          ],
          [
           "Lignite",
           0.0,
           0,
           0.0,
           0.0,
           0.0,
           0.0,
           0.0,
           0.0,
           0.0,
           0.0
          ],
          [
           "Lignite",
           0.0,
           0,
           0.0,
           0.0,
           0.0,
           0.0,
           0.0,
           0.0,
           0.01,
           0.0
          ],
          [
           "Lignite",
           0.0,
           0,
           0.0,
           0.0,
           0.0,
           0.0,
           0.0,
           0.0,
           0.01,
           0.0
          ],
          [
           "Lignite",
           0.0,
           0,
           0.0,
           0.0,
           0.0,
           0.0,
           0.0,
           0.0,
           -0.01,
           0.0
          ],
          [
           "Lignite",
           0.0,
           0,
           0.0,
           0.0,
           0.0,
           0.0,
           0.0,
           0.0,
           -0.01,
           0.0
          ]
         ]
        },
        {
         "marker": {
          "color": "LightSkyBlue",
          "line": {
           "color": "Purple",
           "width": 2
          },
          "size": 20
         },
         "mode": "markers",
         "showlegend": true,
         "type": "scatter",
         "x": [
          0,
          0,
          0,
          0,
          0,
          0,
          0,
          0,
          0,
          0,
          0,
          0,
          0,
          0,
          0,
          0,
          0,
          0,
          0,
          0,
          0,
          0,
          0,
          0,
          0,
          0,
          0,
          0,
          0,
          0,
          0,
          0,
          0,
          0,
          0,
          0,
          0,
          0,
          0,
          0,
          0,
          0,
          0,
          0,
          0,
          0,
          0,
          0,
          0,
          0,
          0,
          0,
          0,
          0,
          0,
          0,
          0,
          0,
          0,
          0,
          0,
          0,
          0,
          0,
          0,
          0,
          0,
          0,
          0,
          0,
          0,
          0,
          0,
          0,
          0,
          0,
          0,
          0,
          0,
          0,
          0,
          0,
          0,
          0,
          0,
          0,
          0,
          0,
          0,
          0,
          0,
          0,
          0,
          0,
          0,
          0,
          0,
          0,
          0,
          0,
          0,
          0,
          0,
          0,
          0,
          0,
          0,
          0,
          0,
          0,
          0,
          0,
          0,
          0,
          0,
          0,
          0,
          0,
          0,
          0,
          0,
          0,
          0,
          0,
          0,
          0,
          0,
          0,
          0,
          0,
          0,
          0,
          0,
          0,
          0,
          0,
          0,
          0,
          0,
          0,
          0,
          0,
          0,
          0,
          0,
          0,
          0
         ],
         "y": [
          [
           "Lignite",
           0.0,
           0,
           0.0,
           0.0,
           0.0,
           0.0,
           0.0,
           0.0,
           0.0,
           0.0
          ],
          [
           "Lignite",
           0.0,
           0,
           0.0,
           0.0,
           0.0,
           0.0,
           0.0,
           0.0,
           0.0,
           0.0
          ],
          [
           "Lignite",
           0.0,
           0,
           0.0,
           0.0,
           0.0,
           0.0,
           0.0,
           0.0,
           0.0,
           0.0
          ],
          [
           "Lignite",
           0.0,
           0,
           -0.01,
           0.0,
           0.0,
           0.0,
           0.0,
           0.0,
           0.0,
           0.0
          ],
          [
           "Lignite",
           0.0,
           0,
           0.0,
           0.0,
           0.0,
           0.0,
           0.0,
           0.0,
           0.0,
           0.0
          ],
          [
           "Lignite",
           0.0,
           0,
           0.0,
           0.0,
           0.0,
           0.0,
           0.0,
           0.0,
           0.0,
           0.0
          ],
          [
           "Lignite",
           0.0,
           0,
           0.0,
           0.0,
           0.0,
           0.0,
           0.0,
           0.0,
           0.0,
           0.0
          ],
          [
           "Lignite",
           0.0,
           0,
           0.0,
           0.0,
           0.0,
           0.0,
           0.0,
           0.0,
           0.0,
           0.0
          ],
          [
           "Lignite",
           0.0,
           0,
           0.0,
           0.0,
           0.0,
           0.0,
           0.0,
           0.0,
           0.0,
           0.0
          ],
          [
           "Lignite",
           0.0,
           0,
           0.0,
           0.0,
           0.0,
           0.0,
           0.0,
           0.0,
           0.0,
           0.0
          ],
          [
           "Lignite",
           0.0,
           0,
           0.0,
           0.0,
           0.0,
           0.0,
           0.0,
           0.0,
           0.0,
           0.0
          ],
          [
           "Lignite",
           0.0,
           0,
           0.0,
           0.0,
           0.0,
           0.0,
           0.0,
           0.0,
           0.01,
           0.0
          ],
          [
           "Lignite",
           0.0,
           0,
           0.0,
           0.0,
           0.0,
           0.0,
           0.0,
           0.0,
           0.01,
           0.0
          ],
          [
           "Lignite",
           0.0,
           0,
           0.0,
           0.0,
           0.0,
           0.0,
           0.0,
           0.0,
           -0.01,
           0.0
          ],
          [
           "Lignite",
           0.0,
           0,
           0.0,
           0.0,
           0.0,
           0.0,
           0.0,
           0.0,
           -0.01,
           0.0
          ]
         ]
        },
        {
         "marker": {
          "color": "LightSkyBlue",
          "line": {
           "color": "Purple",
           "width": 2
          },
          "size": 20
         },
         "mode": "markers",
         "showlegend": true,
         "type": "scatter",
         "x": [
          0.0,
          0.0,
          0.0,
          0.0,
          0.0,
          -0.55,
          -0.26,
          0.0,
          0.0,
          0.0,
          0.0,
          0.0,
          0.0,
          0.0,
          0.0,
          0.0,
          0.0,
          0.0,
          0.0,
          0.0,
          0.0,
          0.0,
          0.0,
          0.0,
          0.0,
          0.0,
          0.0,
          0.0,
          0.0,
          0.0,
          0.0,
          0.0,
          0.0,
          0.0,
          0.0,
          0.0,
          -0.01,
          0.0,
          -0.01,
          -0.02,
          -0.03,
          0.0,
          -0.31,
          -0.15,
          -0.01,
          0.0,
          -0.01,
          0.0,
          -0.02,
          -0.04,
          -0.01,
          -0.01,
          0.0,
          0.0,
          0.0,
          0.0,
          0.0,
          0.0,
          0.0,
          0.0,
          0.0,
          -0.03,
          -0.03,
          -0.02,
          -0.03,
          0.0,
          0.0,
          0.0,
          0.0,
          -0.02,
          -0.03,
          0.0,
          0.0,
          0.0,
          0.0,
          0.0,
          0.0,
          0.0,
          0.0,
          -0.34,
          -0.16,
          -0.02,
          0.0,
          -0.01,
          0.0,
          -0.03,
          0.0,
          0.0,
          0.0,
          -0.01,
          0.0,
          0.0,
          0.0,
          0.0,
          0.0,
          0.0,
          0.0,
          0.0,
          0.0,
          0.0,
          0.0,
          0.0,
          0.0,
          0.0,
          0.0,
          0.0,
          0.0,
          -0.02,
          0.0,
          0.0,
          0.0,
          0.0,
          -0.01,
          0.0,
          -0.01,
          0.0,
          -0.36,
          -0.12,
          0.0,
          0.0,
          0.0,
          0.0,
          0.0,
          0.0,
          0.0,
          0.0,
          -0.02,
          0.0,
          0.0,
          0.0,
          0.0,
          0.0,
          0.0,
          0.0,
          0.0,
          0.0,
          0.0,
          0.0,
          0.0,
          0.0,
          0.0,
          0.0,
          0.0,
          0.0,
          -0.01,
          0.0,
          0.0
         ],
         "y": [
          [
           "Lignite",
           0.0,
           0,
           0.0,
           0.0,
           0.0,
           0.0,
           0.0,
           0.0,
           0.0,
           0.0
          ],
          [
           "Lignite",
           0.0,
           0,
           0.0,
           0.0,
           0.0,
           0.0,
           0.0,
           0.0,
           0.0,
           0.0
          ],
          [
           "Lignite",
           0.0,
           0,
           0.0,
           0.0,
           0.0,
           0.0,
           0.0,
           0.0,
           0.0,
           0.0
          ],
          [
           "Lignite",
           0.0,
           0,
           -0.01,
           0.0,
           0.0,
           0.0,
           0.0,
           0.0,
           0.0,
           0.0
          ],
          [
           "Lignite",
           0.0,
           0,
           0.0,
           0.0,
           0.0,
           0.0,
           0.0,
           0.0,
           0.0,
           0.0
          ],
          [
           "Lignite",
           0.0,
           0,
           0.0,
           0.0,
           0.0,
           0.0,
           0.0,
           0.0,
           0.0,
           0.0
          ],
          [
           "Lignite",
           0.0,
           0,
           0.0,
           0.0,
           0.0,
           0.0,
           0.0,
           0.0,
           0.0,
           0.0
          ],
          [
           "Lignite",
           0.0,
           0,
           0.0,
           0.0,
           0.0,
           0.0,
           0.0,
           0.0,
           0.0,
           0.0
          ],
          [
           "Lignite",
           0.0,
           0,
           0.0,
           0.0,
           0.0,
           0.0,
           0.0,
           0.0,
           0.0,
           0.0
          ],
          [
           "Lignite",
           0.0,
           0,
           0.0,
           0.0,
           0.0,
           0.0,
           0.0,
           0.0,
           0.0,
           0.0
          ],
          [
           "Lignite",
           0.0,
           0,
           0.0,
           0.0,
           0.0,
           0.0,
           0.0,
           0.0,
           0.0,
           0.0
          ],
          [
           "Lignite",
           0.0,
           0,
           0.0,
           0.0,
           0.0,
           0.0,
           0.0,
           0.0,
           0.01,
           0.0
          ],
          [
           "Lignite",
           0.0,
           0,
           0.0,
           0.0,
           0.0,
           0.0,
           0.0,
           0.0,
           0.01,
           0.0
          ],
          [
           "Lignite",
           0.0,
           0,
           0.0,
           0.0,
           0.0,
           0.0,
           0.0,
           0.0,
           -0.01,
           0.0
          ],
          [
           "Lignite",
           0.0,
           0,
           0.0,
           0.0,
           0.0,
           0.0,
           0.0,
           0.0,
           -0.01,
           0.0
          ]
         ]
        },
        {
         "marker": {
          "color": "LightSkyBlue",
          "line": {
           "color": "Purple",
           "width": 2
          },
          "size": 20
         },
         "mode": "markers",
         "showlegend": true,
         "type": "scatter",
         "x": [
          0.0,
          0.0,
          0.0,
          0.0,
          0.0,
          -0.58,
          -0.31,
          -0.01,
          0.0,
          0.0,
          0.0,
          0.0,
          0.0,
          0.0,
          0.0,
          -0.07,
          -0.02,
          0.0,
          0.0,
          0.0,
          0.0,
          0.0,
          0.0,
          0.0,
          0.0,
          0.0,
          0.0,
          0.0,
          -0.01,
          -0.05,
          0.0,
          0.0,
          0.0,
          0.0,
          0.0,
          0.0,
          0.0,
          0.0,
          0.0,
          0.0,
          0.0,
          0.0,
          -0.39,
          -0.2,
          0.0,
          0.0,
          0.0,
          0.0,
          0.0,
          0.0,
          0.0,
          0.0,
          0.0,
          0.0,
          0.0,
          0.0,
          0.0,
          0.0,
          0.0,
          0.0,
          0.0,
          0.0,
          0.0,
          0.0,
          0.0,
          0.0,
          0.0,
          0.0,
          0.0,
          0.0,
          0.0,
          0.0,
          0.0,
          0.0,
          0.0,
          0.0,
          0.0,
          0.0,
          0.0,
          -0.4,
          -0.22,
          -0.12,
          -0.05,
          -0.03,
          -0.01,
          -0.04,
          -0.01,
          0.0,
          0.0,
          -0.1,
          -0.03,
          0.0,
          0.0,
          0.0,
          0.0,
          0.0,
          0.0,
          0.0,
          0.0,
          0.0,
          0.0,
          0.0,
          0.0,
          0.0,
          0.0,
          0.0,
          -0.03,
          -0.09,
          0.0,
          0.0,
          0.0,
          0.0,
          0.0,
          0.0,
          0.0,
          0.0,
          -0.41,
          -0.15,
          0.0,
          0.0,
          0.0,
          0.0,
          0.0,
          0.0,
          0.0,
          0.0,
          -0.04,
          -0.01,
          0.0,
          0.0,
          0.0,
          0.0,
          0.0,
          0.0,
          0.0,
          0.0,
          0.0,
          0.0,
          0.0,
          0.0,
          0.0,
          0.0,
          0.0,
          0.0,
          -0.02,
          0.0,
          0.0
         ],
         "y": [
          [
           "Lignite",
           0.0,
           0,
           0.0,
           0.0,
           0.0,
           0.0,
           0.0,
           0.0,
           0.0,
           0.0
          ],
          [
           "Lignite",
           0.0,
           0,
           0.0,
           0.0,
           0.0,
           0.0,
           0.0,
           0.0,
           0.0,
           0.0
          ],
          [
           "Lignite",
           0.0,
           0,
           0.0,
           0.0,
           0.0,
           0.0,
           0.0,
           0.0,
           0.0,
           0.0
          ],
          [
           "Lignite",
           0.0,
           0,
           -0.01,
           0.0,
           0.0,
           0.0,
           0.0,
           0.0,
           0.0,
           0.0
          ],
          [
           "Lignite",
           0.0,
           0,
           0.0,
           0.0,
           0.0,
           0.0,
           0.0,
           0.0,
           0.0,
           0.0
          ],
          [
           "Lignite",
           0.0,
           0,
           0.0,
           0.0,
           0.0,
           0.0,
           0.0,
           0.0,
           0.0,
           0.0
          ],
          [
           "Lignite",
           0.0,
           0,
           0.0,
           0.0,
           0.0,
           0.0,
           0.0,
           0.0,
           0.0,
           0.0
          ],
          [
           "Lignite",
           0.0,
           0,
           0.0,
           0.0,
           0.0,
           0.0,
           0.0,
           0.0,
           0.0,
           0.0
          ],
          [
           "Lignite",
           0.0,
           0,
           0.0,
           0.0,
           0.0,
           0.0,
           0.0,
           0.0,
           0.0,
           0.0
          ],
          [
           "Lignite",
           0.0,
           0,
           0.0,
           0.0,
           0.0,
           0.0,
           0.0,
           0.0,
           0.0,
           0.0
          ],
          [
           "Lignite",
           0.0,
           0,
           0.0,
           0.0,
           0.0,
           0.0,
           0.0,
           0.0,
           0.0,
           0.0
          ],
          [
           "Lignite",
           0.0,
           0,
           0.0,
           0.0,
           0.0,
           0.0,
           0.0,
           0.0,
           0.01,
           0.0
          ],
          [
           "Lignite",
           0.0,
           0,
           0.0,
           0.0,
           0.0,
           0.0,
           0.0,
           0.0,
           0.01,
           0.0
          ],
          [
           "Lignite",
           0.0,
           0,
           0.0,
           0.0,
           0.0,
           0.0,
           0.0,
           0.0,
           -0.01,
           0.0
          ],
          [
           "Lignite",
           0.0,
           0,
           0.0,
           0.0,
           0.0,
           0.0,
           0.0,
           0.0,
           -0.01,
           0.0
          ]
         ]
        },
        {
         "marker": {
          "color": "LightSkyBlue",
          "line": {
           "color": "Purple",
           "width": 2
          },
          "size": 20
         },
         "mode": "markers",
         "showlegend": true,
         "type": "scatter",
         "x": [
          0.0,
          0.0,
          0.0,
          0.0,
          0.0,
          -0.15,
          -0.07,
          -0.02,
          0.0,
          -0.17,
          -0.09,
          -0.12,
          -0.04,
          0.0,
          0.0,
          0.0,
          0.0,
          0.0,
          0.0,
          0.0,
          0.0,
          0.0,
          0.0,
          0.0,
          0.05,
          0.06,
          0.0,
          0.0,
          0.0,
          0.0,
          0.0,
          0.0,
          0.0,
          0.0,
          0.0,
          0.0,
          0.0,
          0.0,
          0.0,
          0.0,
          0.0,
          0.0,
          -0.36,
          -0.2,
          0.0,
          0.0,
          -0.17,
          -0.09,
          -0.14,
          -0.05,
          0.0,
          0.0,
          0.0,
          0.0,
          0.0,
          0.0,
          0.0,
          0.0,
          0.0,
          0.0,
          0.0,
          0.06,
          0.07,
          0.0,
          0.0,
          0.0,
          0.0,
          0.0,
          0.0,
          0.0,
          0.0,
          0.0,
          0.0,
          0.0,
          0.0,
          0.0,
          0.0,
          0.0,
          0.0,
          -0.05,
          -0.01,
          0.0,
          0.0,
          -0.17,
          -0.09,
          -0.14,
          -0.05,
          0.0,
          0.0,
          0.0,
          0.0,
          0.0,
          0.0,
          0.0,
          0.0,
          0.0,
          0.0,
          0.0,
          0.05,
          0.06,
          0.0,
          0.0,
          0.0,
          0.0,
          0.0,
          0.0,
          0.0,
          0.0,
          0.0,
          0.0,
          0.0,
          0.0,
          0.0,
          0.0,
          0.0,
          0.0,
          0.0,
          0.0,
          0.0,
          0.0,
          0.0,
          0.0,
          0.0,
          0.0,
          0.0,
          0.0,
          0.0,
          0.0,
          0.0,
          0.0,
          0.0,
          0.0,
          0.0,
          0.0,
          0.0,
          0.0,
          0.0,
          0.0,
          0.0,
          0.0,
          0.0,
          0.0,
          0.0,
          0.0,
          0.0,
          0.0,
          0.0
         ],
         "y": [
          [
           "Lignite",
           0.0,
           0,
           0.0,
           0.0,
           0.0,
           0.0,
           0.0,
           0.0,
           0.0,
           0.0
          ],
          [
           "Lignite",
           0.0,
           0,
           0.0,
           0.0,
           0.0,
           0.0,
           0.0,
           0.0,
           0.0,
           0.0
          ],
          [
           "Lignite",
           0.0,
           0,
           0.0,
           0.0,
           0.0,
           0.0,
           0.0,
           0.0,
           0.0,
           0.0
          ],
          [
           "Lignite",
           0.0,
           0,
           -0.01,
           0.0,
           0.0,
           0.0,
           0.0,
           0.0,
           0.0,
           0.0
          ],
          [
           "Lignite",
           0.0,
           0,
           0.0,
           0.0,
           0.0,
           0.0,
           0.0,
           0.0,
           0.0,
           0.0
          ],
          [
           "Lignite",
           0.0,
           0,
           0.0,
           0.0,
           0.0,
           0.0,
           0.0,
           0.0,
           0.0,
           0.0
          ],
          [
           "Lignite",
           0.0,
           0,
           0.0,
           0.0,
           0.0,
           0.0,
           0.0,
           0.0,
           0.0,
           0.0
          ],
          [
           "Lignite",
           0.0,
           0,
           0.0,
           0.0,
           0.0,
           0.0,
           0.0,
           0.0,
           0.0,
           0.0
          ],
          [
           "Lignite",
           0.0,
           0,
           0.0,
           0.0,
           0.0,
           0.0,
           0.0,
           0.0,
           0.0,
           0.0
          ],
          [
           "Lignite",
           0.0,
           0,
           0.0,
           0.0,
           0.0,
           0.0,
           0.0,
           0.0,
           0.0,
           0.0
          ],
          [
           "Lignite",
           0.0,
           0,
           0.0,
           0.0,
           0.0,
           0.0,
           0.0,
           0.0,
           0.0,
           0.0
          ],
          [
           "Lignite",
           0.0,
           0,
           0.0,
           0.0,
           0.0,
           0.0,
           0.0,
           0.0,
           0.01,
           0.0
          ],
          [
           "Lignite",
           0.0,
           0,
           0.0,
           0.0,
           0.0,
           0.0,
           0.0,
           0.0,
           0.01,
           0.0
          ],
          [
           "Lignite",
           0.0,
           0,
           0.0,
           0.0,
           0.0,
           0.0,
           0.0,
           0.0,
           -0.01,
           0.0
          ],
          [
           "Lignite",
           0.0,
           0,
           0.0,
           0.0,
           0.0,
           0.0,
           0.0,
           0.0,
           -0.01,
           0.0
          ]
         ]
        },
        {
         "marker": {
          "color": "LightSkyBlue",
          "line": {
           "color": "Purple",
           "width": 2
          },
          "size": 20
         },
         "mode": "markers",
         "showlegend": true,
         "type": "scatter",
         "x": [
          0.0,
          0.0,
          0.0,
          0.0,
          0.0,
          -0.15,
          -0.08,
          -0.04,
          -0.01,
          -0.13,
          -0.05,
          -0.17,
          -0.09,
          0.0,
          0.0,
          0.0,
          0.0,
          0.0,
          0.0,
          0.0,
          0.0,
          0.0,
          0.01,
          0.01,
          0.0,
          0.0,
          0.0,
          0.0,
          0.0,
          0.0,
          0.0,
          0.0,
          0.0,
          0.0,
          0.0,
          0.0,
          0.0,
          0.0,
          0.0,
          0.0,
          0.0,
          0.0,
          -0.36,
          -0.19,
          -0.02,
          0.0,
          -0.11,
          -0.04,
          -0.17,
          -0.09,
          0.0,
          0.0,
          0.0,
          0.0,
          0.0,
          0.0,
          0.0,
          0.0,
          0.0,
          0.04,
          0.04,
          0.0,
          0.0,
          0.0,
          0.0,
          0.0,
          0.0,
          0.0,
          0.0,
          0.0,
          0.0,
          0.0,
          0.0,
          0.0,
          0.0,
          -0.01,
          0.0,
          0.0,
          0.0,
          -0.04,
          -0.01,
          -0.01,
          0.0,
          -0.1,
          -0.05,
          -0.17,
          -0.09,
          0.0,
          0.0,
          0.0,
          0.0,
          0.0,
          0.0,
          0.0,
          0.0,
          0.0,
          0.01,
          0.01,
          0.0,
          0.0,
          0.0,
          0.0,
          0.0,
          0.0,
          0.0,
          0.0,
          0.0,
          0.0,
          0.0,
          0.0,
          0.0,
          0.0,
          0.0,
          0.0,
          0.0,
          0.0,
          0.0,
          0.0,
          0.0,
          0.0,
          0.0,
          0.0,
          0.0,
          0.0,
          0.0,
          0.0,
          0.0,
          0.0,
          0.0,
          0.0,
          0.0,
          0.0,
          0.0,
          0.0,
          0.0,
          0.0,
          0.0,
          0.0,
          0.0,
          0.0,
          0.0,
          0.0,
          0.0,
          0.0,
          0.0,
          0.0,
          0.0
         ],
         "y": [
          [
           "Lignite",
           0.0,
           0,
           0.0,
           0.0,
           0.0,
           0.0,
           0.0,
           0.0,
           0.0,
           0.0
          ],
          [
           "Lignite",
           0.0,
           0,
           0.0,
           0.0,
           0.0,
           0.0,
           0.0,
           0.0,
           0.0,
           0.0
          ],
          [
           "Lignite",
           0.0,
           0,
           0.0,
           0.0,
           0.0,
           0.0,
           0.0,
           0.0,
           0.0,
           0.0
          ],
          [
           "Lignite",
           0.0,
           0,
           -0.01,
           0.0,
           0.0,
           0.0,
           0.0,
           0.0,
           0.0,
           0.0
          ],
          [
           "Lignite",
           0.0,
           0,
           0.0,
           0.0,
           0.0,
           0.0,
           0.0,
           0.0,
           0.0,
           0.0
          ],
          [
           "Lignite",
           0.0,
           0,
           0.0,
           0.0,
           0.0,
           0.0,
           0.0,
           0.0,
           0.0,
           0.0
          ],
          [
           "Lignite",
           0.0,
           0,
           0.0,
           0.0,
           0.0,
           0.0,
           0.0,
           0.0,
           0.0,
           0.0
          ],
          [
           "Lignite",
           0.0,
           0,
           0.0,
           0.0,
           0.0,
           0.0,
           0.0,
           0.0,
           0.0,
           0.0
          ],
          [
           "Lignite",
           0.0,
           0,
           0.0,
           0.0,
           0.0,
           0.0,
           0.0,
           0.0,
           0.0,
           0.0
          ],
          [
           "Lignite",
           0.0,
           0,
           0.0,
           0.0,
           0.0,
           0.0,
           0.0,
           0.0,
           0.0,
           0.0
          ],
          [
           "Lignite",
           0.0,
           0,
           0.0,
           0.0,
           0.0,
           0.0,
           0.0,
           0.0,
           0.0,
           0.0
          ],
          [
           "Lignite",
           0.0,
           0,
           0.0,
           0.0,
           0.0,
           0.0,
           0.0,
           0.0,
           0.01,
           0.0
          ],
          [
           "Lignite",
           0.0,
           0,
           0.0,
           0.0,
           0.0,
           0.0,
           0.0,
           0.0,
           0.01,
           0.0
          ],
          [
           "Lignite",
           0.0,
           0,
           0.0,
           0.0,
           0.0,
           0.0,
           0.0,
           0.0,
           -0.01,
           0.0
          ],
          [
           "Lignite",
           0.0,
           0,
           0.0,
           0.0,
           0.0,
           0.0,
           0.0,
           0.0,
           -0.01,
           0.0
          ]
         ]
        },
        {
         "marker": {
          "color": "LightSkyBlue",
          "line": {
           "color": "Purple",
           "width": 2
          },
          "size": 20
         },
         "mode": "markers",
         "showlegend": true,
         "type": "scatter",
         "x": [
          0.0,
          0.0,
          0.0,
          0.0,
          0.0,
          -0.14,
          -0.07,
          -0.18,
          -0.09,
          -0.07,
          -0.02,
          -0.14,
          -0.05,
          0.0,
          0.0,
          0.0,
          0.0,
          0.0,
          0.0,
          0.0,
          0.0,
          0.0,
          0.0,
          0.0,
          0.0,
          0.0,
          0.05,
          0.06,
          0.0,
          0.0,
          0.0,
          0.0,
          0.0,
          0.0,
          0.0,
          0.0,
          0.0,
          0.0,
          0.0,
          0.0,
          0.0,
          0.0,
          -0.34,
          -0.17,
          -0.18,
          -0.09,
          -0.04,
          -0.01,
          -0.06,
          -0.01,
          0.0,
          0.0,
          0.0,
          0.0,
          0.0,
          0.0,
          0.0,
          0.0,
          0.0,
          0.0,
          0.0,
          0.0,
          0.0,
          0.07,
          0.12,
          0.0,
          0.0,
          0.0,
          0.0,
          0.0,
          0.0,
          0.0,
          0.0,
          0.0,
          0.0,
          -0.01,
          0.0,
          0.0,
          0.0,
          -0.03,
          -0.01,
          -0.18,
          -0.09,
          -0.01,
          0.0,
          -0.05,
          -0.01,
          0.0,
          0.0,
          0.0,
          0.0,
          0.0,
          0.0,
          0.0,
          0.0,
          0.0,
          0.0,
          0.0,
          0.0,
          0.0,
          0.04,
          0.04,
          0.0,
          0.0,
          0.0,
          0.0,
          0.0,
          0.0,
          0.0,
          0.0,
          0.0,
          0.0,
          0.0,
          0.0,
          0.0,
          0.0,
          0.0,
          0.0,
          0.0,
          0.0,
          0.0,
          0.0,
          0.0,
          0.0,
          0.0,
          0.0,
          0.0,
          0.0,
          0.0,
          0.0,
          0.0,
          0.0,
          0.0,
          0.0,
          0.0,
          0.0,
          0.0,
          0.0,
          0.0,
          0.0,
          0.0,
          0.0,
          0.0,
          0.0,
          0.0,
          0.0,
          0.0
         ],
         "y": [
          [
           "Lignite",
           0.0,
           0,
           0.0,
           0.0,
           0.0,
           0.0,
           0.0,
           0.0,
           0.0,
           0.0
          ],
          [
           "Lignite",
           0.0,
           0,
           0.0,
           0.0,
           0.0,
           0.0,
           0.0,
           0.0,
           0.0,
           0.0
          ],
          [
           "Lignite",
           0.0,
           0,
           0.0,
           0.0,
           0.0,
           0.0,
           0.0,
           0.0,
           0.0,
           0.0
          ],
          [
           "Lignite",
           0.0,
           0,
           -0.01,
           0.0,
           0.0,
           0.0,
           0.0,
           0.0,
           0.0,
           0.0
          ],
          [
           "Lignite",
           0.0,
           0,
           0.0,
           0.0,
           0.0,
           0.0,
           0.0,
           0.0,
           0.0,
           0.0
          ],
          [
           "Lignite",
           0.0,
           0,
           0.0,
           0.0,
           0.0,
           0.0,
           0.0,
           0.0,
           0.0,
           0.0
          ],
          [
           "Lignite",
           0.0,
           0,
           0.0,
           0.0,
           0.0,
           0.0,
           0.0,
           0.0,
           0.0,
           0.0
          ],
          [
           "Lignite",
           0.0,
           0,
           0.0,
           0.0,
           0.0,
           0.0,
           0.0,
           0.0,
           0.0,
           0.0
          ],
          [
           "Lignite",
           0.0,
           0,
           0.0,
           0.0,
           0.0,
           0.0,
           0.0,
           0.0,
           0.0,
           0.0
          ],
          [
           "Lignite",
           0.0,
           0,
           0.0,
           0.0,
           0.0,
           0.0,
           0.0,
           0.0,
           0.0,
           0.0
          ],
          [
           "Lignite",
           0.0,
           0,
           0.0,
           0.0,
           0.0,
           0.0,
           0.0,
           0.0,
           0.0,
           0.0
          ],
          [
           "Lignite",
           0.0,
           0,
           0.0,
           0.0,
           0.0,
           0.0,
           0.0,
           0.0,
           0.01,
           0.0
          ],
          [
           "Lignite",
           0.0,
           0,
           0.0,
           0.0,
           0.0,
           0.0,
           0.0,
           0.0,
           0.01,
           0.0
          ],
          [
           "Lignite",
           0.0,
           0,
           0.0,
           0.0,
           0.0,
           0.0,
           0.0,
           0.0,
           -0.01,
           0.0
          ],
          [
           "Lignite",
           0.0,
           0,
           0.0,
           0.0,
           0.0,
           0.0,
           0.0,
           0.0,
           -0.01,
           0.0
          ]
         ]
        },
        {
         "marker": {
          "color": "LightSkyBlue",
          "line": {
           "color": "Purple",
           "width": 2
          },
          "size": 20
         },
         "mode": "markers",
         "showlegend": true,
         "type": "scatter",
         "x": [
          0.0,
          0.0,
          0.0,
          0.0,
          0.0,
          -0.53,
          -0.35,
          0.01,
          0.0,
          -0.25,
          -0.16,
          -0.07,
          -0.04,
          -0.16,
          -0.08,
          -0.09,
          -0.05,
          0.0,
          0.02,
          0.02,
          0.04,
          0.08,
          -0.02,
          -0.02,
          -0.01,
          -0.01,
          0.0,
          0.0,
          0.05,
          0.05,
          0.0,
          0.0,
          0.0,
          0.0,
          0.0,
          0.0,
          0.0,
          0.0,
          0.02,
          0.01,
          0.01,
          0.0,
          -0.43,
          -0.22,
          0.04,
          0.06,
          -0.03,
          -0.02,
          0.0,
          -0.01,
          -0.09,
          -0.04,
          -0.11,
          -0.04,
          0.0,
          0.03,
          0.04,
          0.04,
          0.05,
          0.04,
          0.04,
          -0.01,
          -0.01,
          -0.01,
          -0.03,
          0.0,
          0.0,
          0.0,
          0.0,
          0.01,
          0.0,
          0.0,
          0.0,
          0.0,
          0.0,
          -0.28,
          -0.13,
          0.0,
          0.0,
          -0.25,
          -0.14,
          0.0,
          0.01,
          -0.19,
          -0.07,
          -0.02,
          0.01,
          -0.15,
          -0.07,
          -0.09,
          -0.05,
          0.0,
          0.01,
          0.01,
          0.04,
          0.08,
          -0.03,
          -0.03,
          0.01,
          0.01,
          -0.02,
          -0.02,
          0.0,
          0.0,
          0.0,
          0.0,
          0.05,
          0.05,
          0.0,
          0.0,
          0.0,
          0.0,
          0.0,
          0.0,
          0.0,
          0.0,
          -0.3,
          -0.08,
          0.0,
          0.0,
          0.0,
          0.0,
          0.0,
          0.0,
          -0.11,
          -0.04,
          -0.04,
          0.0,
          0.0,
          0.05,
          0.05,
          0.09,
          0.1,
          0.0,
          0.0,
          0.0,
          0.0,
          0.0,
          0.0,
          -0.01,
          -0.01,
          0.0,
          0.0,
          0.0,
          0.0,
          0.0,
          0.0
         ],
         "y": [
          [
           "Lignite",
           0.0,
           0,
           0.0,
           0.0,
           0.0,
           0.0,
           0.0,
           0.0,
           0.0,
           0.0
          ],
          [
           "Lignite",
           0.0,
           0,
           0.0,
           0.0,
           0.0,
           0.0,
           0.0,
           0.0,
           0.0,
           0.0
          ],
          [
           "Lignite",
           0.0,
           0,
           0.0,
           0.0,
           0.0,
           0.0,
           0.0,
           0.0,
           0.0,
           0.0
          ],
          [
           "Lignite",
           0.0,
           0,
           -0.01,
           0.0,
           0.0,
           0.0,
           0.0,
           0.0,
           0.0,
           0.0
          ],
          [
           "Lignite",
           0.0,
           0,
           0.0,
           0.0,
           0.0,
           0.0,
           0.0,
           0.0,
           0.0,
           0.0
          ],
          [
           "Lignite",
           0.0,
           0,
           0.0,
           0.0,
           0.0,
           0.0,
           0.0,
           0.0,
           0.0,
           0.0
          ],
          [
           "Lignite",
           0.0,
           0,
           0.0,
           0.0,
           0.0,
           0.0,
           0.0,
           0.0,
           0.0,
           0.0
          ],
          [
           "Lignite",
           0.0,
           0,
           0.0,
           0.0,
           0.0,
           0.0,
           0.0,
           0.0,
           0.0,
           0.0
          ],
          [
           "Lignite",
           0.0,
           0,
           0.0,
           0.0,
           0.0,
           0.0,
           0.0,
           0.0,
           0.0,
           0.0
          ],
          [
           "Lignite",
           0.0,
           0,
           0.0,
           0.0,
           0.0,
           0.0,
           0.0,
           0.0,
           0.0,
           0.0
          ],
          [
           "Lignite",
           0.0,
           0,
           0.0,
           0.0,
           0.0,
           0.0,
           0.0,
           0.0,
           0.0,
           0.0
          ],
          [
           "Lignite",
           0.0,
           0,
           0.0,
           0.0,
           0.0,
           0.0,
           0.0,
           0.0,
           0.01,
           0.0
          ],
          [
           "Lignite",
           0.0,
           0,
           0.0,
           0.0,
           0.0,
           0.0,
           0.0,
           0.0,
           0.01,
           0.0
          ],
          [
           "Lignite",
           0.0,
           0,
           0.0,
           0.0,
           0.0,
           0.0,
           0.0,
           0.0,
           -0.01,
           0.0
          ],
          [
           "Lignite",
           0.0,
           0,
           0.0,
           0.0,
           0.0,
           0.0,
           0.0,
           0.0,
           -0.01,
           0.0
          ]
         ]
        },
        {
         "marker": {
          "color": "LightSkyBlue",
          "line": {
           "color": "Purple",
           "width": 2
          },
          "size": 20
         },
         "mode": "markers",
         "showlegend": true,
         "type": "scatter",
         "x": [
          0.0,
          0.0,
          0.0,
          0.0,
          0.0,
          -0.33,
          -0.18,
          -0.01,
          0.0,
          -0.03,
          -0.03,
          -0.08,
          -0.06,
          -0.01,
          -0.01,
          -0.18,
          -0.1,
          0.0,
          0.04,
          0.04,
          0.0,
          0.01,
          -0.01,
          -0.01,
          -0.06,
          -0.07,
          -0.02,
          -0.02,
          -0.03,
          -0.03,
          0.0,
          0.0,
          0.0,
          0.0,
          0.0,
          0.0,
          0.0,
          0.0,
          -0.01,
          0.0,
          0.0,
          0.0,
          -0.28,
          -0.13,
          -0.05,
          -0.01,
          -0.02,
          -0.01,
          -0.02,
          -0.01,
          -0.01,
          0.0,
          -0.15,
          -0.08,
          0.0,
          0.05,
          0.08,
          0.0,
          0.0,
          0.0,
          0.0,
          -0.01,
          -0.01,
          0.0,
          0.0,
          0.0,
          0.0,
          0.0,
          0.0,
          0.0,
          -0.01,
          0.0,
          0.0,
          0.0,
          0.0,
          -0.11,
          -0.04,
          0.0,
          0.0,
          -0.17,
          -0.08,
          -0.02,
          -0.01,
          -0.04,
          -0.04,
          -0.04,
          -0.04,
          -0.02,
          -0.01,
          -0.18,
          -0.1,
          0.0,
          0.02,
          0.02,
          0.01,
          0.01,
          0.0,
          0.0,
          -0.03,
          -0.04,
          -0.02,
          -0.02,
          0.0,
          0.0,
          0.0,
          0.0,
          -0.03,
          -0.03,
          0.0,
          0.0,
          0.01,
          0.01,
          -0.01,
          0.0,
          0.0,
          0.0,
          -0.19,
          -0.07,
          0.0,
          0.0,
          0.0,
          0.0,
          0.0,
          0.0,
          -0.05,
          -0.03,
          -0.17,
          -0.1,
          0.0,
          0.03,
          0.03,
          0.0,
          0.0,
          0.0,
          0.0,
          0.0,
          0.0,
          0.0,
          0.0,
          0.0,
          0.0,
          0.0,
          0.0,
          0.0,
          0.0,
          -0.01,
          -0.01
         ],
         "y": [
          [
           "Lignite",
           0.0,
           0,
           0.0,
           0.0,
           0.0,
           0.0,
           0.0,
           0.0,
           0.0,
           0.0
          ],
          [
           "Lignite",
           0.0,
           0,
           0.0,
           0.0,
           0.0,
           0.0,
           0.0,
           0.0,
           0.0,
           0.0
          ],
          [
           "Lignite",
           0.0,
           0,
           0.0,
           0.0,
           0.0,
           0.0,
           0.0,
           0.0,
           0.0,
           0.0
          ],
          [
           "Lignite",
           0.0,
           0,
           -0.01,
           0.0,
           0.0,
           0.0,
           0.0,
           0.0,
           0.0,
           0.0
          ],
          [
           "Lignite",
           0.0,
           0,
           0.0,
           0.0,
           0.0,
           0.0,
           0.0,
           0.0,
           0.0,
           0.0
          ],
          [
           "Lignite",
           0.0,
           0,
           0.0,
           0.0,
           0.0,
           0.0,
           0.0,
           0.0,
           0.0,
           0.0
          ],
          [
           "Lignite",
           0.0,
           0,
           0.0,
           0.0,
           0.0,
           0.0,
           0.0,
           0.0,
           0.0,
           0.0
          ],
          [
           "Lignite",
           0.0,
           0,
           0.0,
           0.0,
           0.0,
           0.0,
           0.0,
           0.0,
           0.0,
           0.0
          ],
          [
           "Lignite",
           0.0,
           0,
           0.0,
           0.0,
           0.0,
           0.0,
           0.0,
           0.0,
           0.0,
           0.0
          ],
          [
           "Lignite",
           0.0,
           0,
           0.0,
           0.0,
           0.0,
           0.0,
           0.0,
           0.0,
           0.0,
           0.0
          ],
          [
           "Lignite",
           0.0,
           0,
           0.0,
           0.0,
           0.0,
           0.0,
           0.0,
           0.0,
           0.0,
           0.0
          ],
          [
           "Lignite",
           0.0,
           0,
           0.0,
           0.0,
           0.0,
           0.0,
           0.0,
           0.0,
           0.01,
           0.0
          ],
          [
           "Lignite",
           0.0,
           0,
           0.0,
           0.0,
           0.0,
           0.0,
           0.0,
           0.0,
           0.01,
           0.0
          ],
          [
           "Lignite",
           0.0,
           0,
           0.0,
           0.0,
           0.0,
           0.0,
           0.0,
           0.0,
           -0.01,
           0.0
          ],
          [
           "Lignite",
           0.0,
           0,
           0.0,
           0.0,
           0.0,
           0.0,
           0.0,
           0.0,
           -0.01,
           0.0
          ]
         ]
        },
        {
         "marker": {
          "color": "LightSkyBlue",
          "line": {
           "color": "Purple",
           "width": 2
          },
          "size": 20
         },
         "mode": "markers",
         "showlegend": true,
         "type": "scatter",
         "x": [
          0.0,
          0.0,
          0.0,
          0.0,
          0.0,
          -0.22,
          -0.11,
          -0.06,
          -0.02,
          -0.11,
          -0.05,
          -0.12,
          -0.05,
          0.0,
          0.0,
          -0.01,
          -0.01,
          0.0,
          0.0,
          0.0,
          0.0,
          0.0,
          0.0,
          0.0,
          0.02,
          0.02,
          0.01,
          0.01,
          0.0,
          0.0,
          0.0,
          0.0,
          0.0,
          0.0,
          0.0,
          0.0,
          0.0,
          0.0,
          0.0,
          0.0,
          0.0,
          0.0,
          -0.35,
          -0.18,
          -0.06,
          -0.03,
          -0.08,
          -0.03,
          -0.1,
          -0.04,
          0.0,
          0.0,
          -0.03,
          -0.01,
          0.0,
          0.01,
          0.01,
          0.0,
          0.0,
          0.01,
          0.01,
          0.01,
          0.01,
          0.02,
          0.03,
          0.0,
          0.0,
          0.0,
          0.0,
          0.0,
          0.0,
          0.0,
          0.0,
          0.0,
          0.0,
          -0.02,
          -0.01,
          0.0,
          0.0,
          -0.09,
          -0.03,
          -0.05,
          -0.02,
          -0.09,
          -0.04,
          -0.1,
          -0.04,
          0.0,
          0.0,
          -0.01,
          -0.01,
          0.0,
          0.0,
          0.0,
          0.0,
          0.0,
          0.0,
          0.0,
          0.02,
          0.02,
          0.01,
          0.01,
          0.0,
          0.0,
          0.0,
          0.0,
          0.0,
          0.0,
          0.0,
          0.0,
          0.0,
          0.0,
          0.0,
          0.0,
          0.0,
          0.0,
          -0.05,
          -0.02,
          0.0,
          0.0,
          0.0,
          0.0,
          0.0,
          0.0,
          0.0,
          0.0,
          -0.01,
          -0.01,
          0.0,
          0.0,
          0.0,
          0.0,
          0.0,
          0.0,
          0.0,
          0.0,
          0.0,
          0.0,
          0.0,
          0.0,
          0.0,
          0.0,
          0.0,
          0.0,
          0.0,
          0.0,
          0.0
         ],
         "y": [
          [
           "Lignite",
           0.0,
           0,
           0.0,
           0.0,
           0.0,
           0.0,
           0.0,
           0.0,
           0.0,
           0.0
          ],
          [
           "Lignite",
           0.0,
           0,
           0.0,
           0.0,
           0.0,
           0.0,
           0.0,
           0.0,
           0.0,
           0.0
          ],
          [
           "Lignite",
           0.0,
           0,
           0.0,
           0.0,
           0.0,
           0.0,
           0.0,
           0.0,
           0.0,
           0.0
          ],
          [
           "Lignite",
           0.0,
           0,
           -0.01,
           0.0,
           0.0,
           0.0,
           0.0,
           0.0,
           0.0,
           0.0
          ],
          [
           "Lignite",
           0.0,
           0,
           0.0,
           0.0,
           0.0,
           0.0,
           0.0,
           0.0,
           0.0,
           0.0
          ],
          [
           "Lignite",
           0.0,
           0,
           0.0,
           0.0,
           0.0,
           0.0,
           0.0,
           0.0,
           0.0,
           0.0
          ],
          [
           "Lignite",
           0.0,
           0,
           0.0,
           0.0,
           0.0,
           0.0,
           0.0,
           0.0,
           0.0,
           0.0
          ],
          [
           "Lignite",
           0.0,
           0,
           0.0,
           0.0,
           0.0,
           0.0,
           0.0,
           0.0,
           0.0,
           0.0
          ],
          [
           "Lignite",
           0.0,
           0,
           0.0,
           0.0,
           0.0,
           0.0,
           0.0,
           0.0,
           0.0,
           0.0
          ],
          [
           "Lignite",
           0.0,
           0,
           0.0,
           0.0,
           0.0,
           0.0,
           0.0,
           0.0,
           0.0,
           0.0
          ],
          [
           "Lignite",
           0.0,
           0,
           0.0,
           0.0,
           0.0,
           0.0,
           0.0,
           0.0,
           0.0,
           0.0
          ],
          [
           "Lignite",
           0.0,
           0,
           0.0,
           0.0,
           0.0,
           0.0,
           0.0,
           0.0,
           0.01,
           0.0
          ],
          [
           "Lignite",
           0.0,
           0,
           0.0,
           0.0,
           0.0,
           0.0,
           0.0,
           0.0,
           0.01,
           0.0
          ],
          [
           "Lignite",
           0.0,
           0,
           0.0,
           0.0,
           0.0,
           0.0,
           0.0,
           0.0,
           -0.01,
           0.0
          ],
          [
           "Lignite",
           0.0,
           0,
           0.0,
           0.0,
           0.0,
           0.0,
           0.0,
           0.0,
           -0.01,
           0.0
          ]
         ]
        }
       ],
       "layout": {
        "template": {
         "data": {
          "bar": [
           {
            "error_x": {
             "color": "#2a3f5f"
            },
            "error_y": {
             "color": "#2a3f5f"
            },
            "marker": {
             "line": {
              "color": "#E5ECF6",
              "width": 0.5
             }
            },
            "type": "bar"
           }
          ],
          "barpolar": [
           {
            "marker": {
             "line": {
              "color": "#E5ECF6",
              "width": 0.5
             }
            },
            "type": "barpolar"
           }
          ],
          "carpet": [
           {
            "aaxis": {
             "endlinecolor": "#2a3f5f",
             "gridcolor": "white",
             "linecolor": "white",
             "minorgridcolor": "white",
             "startlinecolor": "#2a3f5f"
            },
            "baxis": {
             "endlinecolor": "#2a3f5f",
             "gridcolor": "white",
             "linecolor": "white",
             "minorgridcolor": "white",
             "startlinecolor": "#2a3f5f"
            },
            "type": "carpet"
           }
          ],
          "choropleth": [
           {
            "colorbar": {
             "outlinewidth": 0,
             "ticks": ""
            },
            "type": "choropleth"
           }
          ],
          "contour": [
           {
            "colorbar": {
             "outlinewidth": 0,
             "ticks": ""
            },
            "colorscale": [
             [
              0.0,
              "#0d0887"
             ],
             [
              0.1111111111111111,
              "#46039f"
             ],
             [
              0.2222222222222222,
              "#7201a8"
             ],
             [
              0.3333333333333333,
              "#9c179e"
             ],
             [
              0.4444444444444444,
              "#bd3786"
             ],
             [
              0.5555555555555556,
              "#d8576b"
             ],
             [
              0.6666666666666666,
              "#ed7953"
             ],
             [
              0.7777777777777778,
              "#fb9f3a"
             ],
             [
              0.8888888888888888,
              "#fdca26"
             ],
             [
              1.0,
              "#f0f921"
             ]
            ],
            "type": "contour"
           }
          ],
          "contourcarpet": [
           {
            "colorbar": {
             "outlinewidth": 0,
             "ticks": ""
            },
            "type": "contourcarpet"
           }
          ],
          "heatmap": [
           {
            "colorbar": {
             "outlinewidth": 0,
             "ticks": ""
            },
            "colorscale": [
             [
              0.0,
              "#0d0887"
             ],
             [
              0.1111111111111111,
              "#46039f"
             ],
             [
              0.2222222222222222,
              "#7201a8"
             ],
             [
              0.3333333333333333,
              "#9c179e"
             ],
             [
              0.4444444444444444,
              "#bd3786"
             ],
             [
              0.5555555555555556,
              "#d8576b"
             ],
             [
              0.6666666666666666,
              "#ed7953"
             ],
             [
              0.7777777777777778,
              "#fb9f3a"
             ],
             [
              0.8888888888888888,
              "#fdca26"
             ],
             [
              1.0,
              "#f0f921"
             ]
            ],
            "type": "heatmap"
           }
          ],
          "heatmapgl": [
           {
            "colorbar": {
             "outlinewidth": 0,
             "ticks": ""
            },
            "colorscale": [
             [
              0.0,
              "#0d0887"
             ],
             [
              0.1111111111111111,
              "#46039f"
             ],
             [
              0.2222222222222222,
              "#7201a8"
             ],
             [
              0.3333333333333333,
              "#9c179e"
             ],
             [
              0.4444444444444444,
              "#bd3786"
             ],
             [
              0.5555555555555556,
              "#d8576b"
             ],
             [
              0.6666666666666666,
              "#ed7953"
             ],
             [
              0.7777777777777778,
              "#fb9f3a"
             ],
             [
              0.8888888888888888,
              "#fdca26"
             ],
             [
              1.0,
              "#f0f921"
             ]
            ],
            "type": "heatmapgl"
           }
          ],
          "histogram": [
           {
            "marker": {
             "colorbar": {
              "outlinewidth": 0,
              "ticks": ""
             }
            },
            "type": "histogram"
           }
          ],
          "histogram2d": [
           {
            "colorbar": {
             "outlinewidth": 0,
             "ticks": ""
            },
            "colorscale": [
             [
              0.0,
              "#0d0887"
             ],
             [
              0.1111111111111111,
              "#46039f"
             ],
             [
              0.2222222222222222,
              "#7201a8"
             ],
             [
              0.3333333333333333,
              "#9c179e"
             ],
             [
              0.4444444444444444,
              "#bd3786"
             ],
             [
              0.5555555555555556,
              "#d8576b"
             ],
             [
              0.6666666666666666,
              "#ed7953"
             ],
             [
              0.7777777777777778,
              "#fb9f3a"
             ],
             [
              0.8888888888888888,
              "#fdca26"
             ],
             [
              1.0,
              "#f0f921"
             ]
            ],
            "type": "histogram2d"
           }
          ],
          "histogram2dcontour": [
           {
            "colorbar": {
             "outlinewidth": 0,
             "ticks": ""
            },
            "colorscale": [
             [
              0.0,
              "#0d0887"
             ],
             [
              0.1111111111111111,
              "#46039f"
             ],
             [
              0.2222222222222222,
              "#7201a8"
             ],
             [
              0.3333333333333333,
              "#9c179e"
             ],
             [
              0.4444444444444444,
              "#bd3786"
             ],
             [
              0.5555555555555556,
              "#d8576b"
             ],
             [
              0.6666666666666666,
              "#ed7953"
             ],
             [
              0.7777777777777778,
              "#fb9f3a"
             ],
             [
              0.8888888888888888,
              "#fdca26"
             ],
             [
              1.0,
              "#f0f921"
             ]
            ],
            "type": "histogram2dcontour"
           }
          ],
          "mesh3d": [
           {
            "colorbar": {
             "outlinewidth": 0,
             "ticks": ""
            },
            "type": "mesh3d"
           }
          ],
          "parcoords": [
           {
            "line": {
             "colorbar": {
              "outlinewidth": 0,
              "ticks": ""
             }
            },
            "type": "parcoords"
           }
          ],
          "pie": [
           {
            "automargin": true,
            "type": "pie"
           }
          ],
          "scatter": [
           {
            "marker": {
             "colorbar": {
              "outlinewidth": 0,
              "ticks": ""
             }
            },
            "type": "scatter"
           }
          ],
          "scatter3d": [
           {
            "line": {
             "colorbar": {
              "outlinewidth": 0,
              "ticks": ""
             }
            },
            "marker": {
             "colorbar": {
              "outlinewidth": 0,
              "ticks": ""
             }
            },
            "type": "scatter3d"
           }
          ],
          "scattercarpet": [
           {
            "marker": {
             "colorbar": {
              "outlinewidth": 0,
              "ticks": ""
             }
            },
            "type": "scattercarpet"
           }
          ],
          "scattergeo": [
           {
            "marker": {
             "colorbar": {
              "outlinewidth": 0,
              "ticks": ""
             }
            },
            "type": "scattergeo"
           }
          ],
          "scattergl": [
           {
            "marker": {
             "colorbar": {
              "outlinewidth": 0,
              "ticks": ""
             }
            },
            "type": "scattergl"
           }
          ],
          "scattermapbox": [
           {
            "marker": {
             "colorbar": {
              "outlinewidth": 0,
              "ticks": ""
             }
            },
            "type": "scattermapbox"
           }
          ],
          "scatterpolar": [
           {
            "marker": {
             "colorbar": {
              "outlinewidth": 0,
              "ticks": ""
             }
            },
            "type": "scatterpolar"
           }
          ],
          "scatterpolargl": [
           {
            "marker": {
             "colorbar": {
              "outlinewidth": 0,
              "ticks": ""
             }
            },
            "type": "scatterpolargl"
           }
          ],
          "scatterternary": [
           {
            "marker": {
             "colorbar": {
              "outlinewidth": 0,
              "ticks": ""
             }
            },
            "type": "scatterternary"
           }
          ],
          "surface": [
           {
            "colorbar": {
             "outlinewidth": 0,
             "ticks": ""
            },
            "colorscale": [
             [
              0.0,
              "#0d0887"
             ],
             [
              0.1111111111111111,
              "#46039f"
             ],
             [
              0.2222222222222222,
              "#7201a8"
             ],
             [
              0.3333333333333333,
              "#9c179e"
             ],
             [
              0.4444444444444444,
              "#bd3786"
             ],
             [
              0.5555555555555556,
              "#d8576b"
             ],
             [
              0.6666666666666666,
              "#ed7953"
             ],
             [
              0.7777777777777778,
              "#fb9f3a"
             ],
             [
              0.8888888888888888,
              "#fdca26"
             ],
             [
              1.0,
              "#f0f921"
             ]
            ],
            "type": "surface"
           }
          ],
          "table": [
           {
            "cells": {
             "fill": {
              "color": "#EBF0F8"
             },
             "line": {
              "color": "white"
             }
            },
            "header": {
             "fill": {
              "color": "#C8D4E3"
             },
             "line": {
              "color": "white"
             }
            },
            "type": "table"
           }
          ]
         },
         "layout": {
          "annotationdefaults": {
           "arrowcolor": "#2a3f5f",
           "arrowhead": 0,
           "arrowwidth": 1
          },
          "coloraxis": {
           "colorbar": {
            "outlinewidth": 0,
            "ticks": ""
           }
          },
          "colorscale": {
           "diverging": [
            [
             0,
             "#8e0152"
            ],
            [
             0.1,
             "#c51b7d"
            ],
            [
             0.2,
             "#de77ae"
            ],
            [
             0.3,
             "#f1b6da"
            ],
            [
             0.4,
             "#fde0ef"
            ],
            [
             0.5,
             "#f7f7f7"
            ],
            [
             0.6,
             "#e6f5d0"
            ],
            [
             0.7,
             "#b8e186"
            ],
            [
             0.8,
             "#7fbc41"
            ],
            [
             0.9,
             "#4d9221"
            ],
            [
             1,
             "#276419"
            ]
           ],
           "sequential": [
            [
             0.0,
             "#0d0887"
            ],
            [
             0.1111111111111111,
             "#46039f"
            ],
            [
             0.2222222222222222,
             "#7201a8"
            ],
            [
             0.3333333333333333,
             "#9c179e"
            ],
            [
             0.4444444444444444,
             "#bd3786"
            ],
            [
             0.5555555555555556,
             "#d8576b"
            ],
            [
             0.6666666666666666,
             "#ed7953"
            ],
            [
             0.7777777777777778,
             "#fb9f3a"
            ],
            [
             0.8888888888888888,
             "#fdca26"
            ],
            [
             1.0,
             "#f0f921"
            ]
           ],
           "sequentialminus": [
            [
             0.0,
             "#0d0887"
            ],
            [
             0.1111111111111111,
             "#46039f"
            ],
            [
             0.2222222222222222,
             "#7201a8"
            ],
            [
             0.3333333333333333,
             "#9c179e"
            ],
            [
             0.4444444444444444,
             "#bd3786"
            ],
            [
             0.5555555555555556,
             "#d8576b"
            ],
            [
             0.6666666666666666,
             "#ed7953"
            ],
            [
             0.7777777777777778,
             "#fb9f3a"
            ],
            [
             0.8888888888888888,
             "#fdca26"
            ],
            [
             1.0,
             "#f0f921"
            ]
           ]
          },
          "colorway": [
           "#636efa",
           "#EF553B",
           "#00cc96",
           "#ab63fa",
           "#FFA15A",
           "#19d3f3",
           "#FF6692",
           "#B6E880",
           "#FF97FF",
           "#FECB52"
          ],
          "font": {
           "color": "#2a3f5f"
          },
          "geo": {
           "bgcolor": "white",
           "lakecolor": "white",
           "landcolor": "#E5ECF6",
           "showlakes": true,
           "showland": true,
           "subunitcolor": "white"
          },
          "hoverlabel": {
           "align": "left"
          },
          "hovermode": "closest",
          "mapbox": {
           "style": "light"
          },
          "paper_bgcolor": "white",
          "plot_bgcolor": "#E5ECF6",
          "polar": {
           "angularaxis": {
            "gridcolor": "white",
            "linecolor": "white",
            "ticks": ""
           },
           "bgcolor": "#E5ECF6",
           "radialaxis": {
            "gridcolor": "white",
            "linecolor": "white",
            "ticks": ""
           }
          },
          "scene": {
           "xaxis": {
            "backgroundcolor": "#E5ECF6",
            "gridcolor": "white",
            "gridwidth": 2,
            "linecolor": "white",
            "showbackground": true,
            "ticks": "",
            "zerolinecolor": "white"
           },
           "yaxis": {
            "backgroundcolor": "#E5ECF6",
            "gridcolor": "white",
            "gridwidth": 2,
            "linecolor": "white",
            "showbackground": true,
            "ticks": "",
            "zerolinecolor": "white"
           },
           "zaxis": {
            "backgroundcolor": "#E5ECF6",
            "gridcolor": "white",
            "gridwidth": 2,
            "linecolor": "white",
            "showbackground": true,
            "ticks": "",
            "zerolinecolor": "white"
           }
          },
          "shapedefaults": {
           "line": {
            "color": "#2a3f5f"
           }
          },
          "ternary": {
           "aaxis": {
            "gridcolor": "white",
            "linecolor": "white",
            "ticks": ""
           },
           "baxis": {
            "gridcolor": "white",
            "linecolor": "white",
            "ticks": ""
           },
           "bgcolor": "#E5ECF6",
           "caxis": {
            "gridcolor": "white",
            "linecolor": "white",
            "ticks": ""
           }
          },
          "title": {
           "x": 0.05
          },
          "xaxis": {
           "automargin": true,
           "gridcolor": "white",
           "linecolor": "white",
           "ticks": "",
           "title": {
            "standoff": 15
           },
           "zerolinecolor": "white",
           "zerolinewidth": 2
          },
          "yaxis": {
           "automargin": true,
           "gridcolor": "white",
           "linecolor": "white",
           "ticks": "",
           "title": {
            "standoff": 15
           },
           "zerolinecolor": "white",
           "zerolinewidth": 2
          }
         }
        }
       }
      },
      "text/html": "<div>\n        \n        \n            <div id=\"b4fcb715-3ed9-48f1-b277-e91f4f5fb38a\" class=\"plotly-graph-div\" style=\"height:525px; width:100%;\"></div>\n            <script type=\"text/javascript\">\n                require([\"plotly\"], function(Plotly) {\n                    window.PLOTLYENV=window.PLOTLYENV || {};\n                    \n                if (document.getElementById(\"b4fcb715-3ed9-48f1-b277-e91f4f5fb38a\")) {\n                    Plotly.newPlot(\n                        'b4fcb715-3ed9-48f1-b277-e91f4f5fb38a',\n                        [{\"marker\": {\"color\": \"LightSkyBlue\", \"line\": {\"color\": \"Purple\", \"width\": 2}, \"size\": 20}, \"mode\": \"markers\", \"showlegend\": true, \"type\": \"scatter\", \"x\": [0.0, 0.0, 0.0, 0.0, 0.0, 0.0, 0.0, 0.0, 0.0, 0.0, 0.0, 0.0, 0.0, 0.0, 0.0, 0.0, 0.0, 0.0, 0.0, 0.0, 0.0, 0.0, 0.0, 0.0, 0.0, 0.0, 0.0, 0.0, 0.0, 0.0, 0.0, 0.0, 0.0, 0.0, 0.0, 0.0, 0.0, 0.0, -0.01, 0.0, 0.0, 0.0, -0.27, -0.12, 0.0, 0.0, 0.0, 0.0, 0.0, 0.0, 0.0, 0.0, 0.0, 0.0, 0.0, 0.0, 0.0, 0.0, 0.0, 0.0, 0.0, 0.0, 0.0, 0.0, 0.0, 0.0, 0.0, 0.0, 0.0, 0.0, 0.0, 0.0, 0.0, 0.0, 0.0, 0.0, 0.0, 0.0, 0.0, 0.0, 0.0, 0.0, 0.0, 0.0, 0.0, 0.0, 0.0, 0.0, 0.0, 0.0, 0.0, 0.0, 0.0, 0.0, 0.0, 0.0, 0.0, 0.0, 0.0, 0.0, 0.0, 0.0, 0.0, 0.0, 0.0, 0.0, 0.0, 0.0, 0.0, 0.0, 0.0, 0.0, -0.02, 0.0, -0.01, 0.0, -0.3, -0.1, 0.0, 0.0, 0.0, 0.0, 0.0, 0.0, 0.0, 0.0, -0.02, 0.0, 0.0, 0.0, 0.0, 0.0, 0.0, 0.0, 0.0, 0.0, 0.0, 0.0, 0.0, 0.0, 0.0, 0.0, 0.0, 0.0, 0.0, 0.0, 0.0], \"y\": [[\"Lignite\", 0.0, 0, 0.0, 0.0, 0.0, 0.0, 0.0, 0.0, 0.0, 0.0], [\"Lignite\", 0.0, 0, 0.0, 0.0, 0.0, 0.0, 0.0, 0.0, 0.0, 0.0], [\"Lignite\", 0.0, 0, 0.0, 0.0, 0.0, 0.0, 0.0, 0.0, 0.0, 0.0], [\"Lignite\", 0.0, 0, -0.01, 0.0, 0.0, 0.0, 0.0, 0.0, 0.0, 0.0], [\"Lignite\", 0.0, 0, 0.0, 0.0, 0.0, 0.0, 0.0, 0.0, 0.0, 0.0], [\"Lignite\", 0.0, 0, 0.0, 0.0, 0.0, 0.0, 0.0, 0.0, 0.0, 0.0], [\"Lignite\", 0.0, 0, 0.0, 0.0, 0.0, 0.0, 0.0, 0.0, 0.0, 0.0], [\"Lignite\", 0.0, 0, 0.0, 0.0, 0.0, 0.0, 0.0, 0.0, 0.0, 0.0], [\"Lignite\", 0.0, 0, 0.0, 0.0, 0.0, 0.0, 0.0, 0.0, 0.0, 0.0], [\"Lignite\", 0.0, 0, 0.0, 0.0, 0.0, 0.0, 0.0, 0.0, 0.0, 0.0], [\"Lignite\", 0.0, 0, 0.0, 0.0, 0.0, 0.0, 0.0, 0.0, 0.0, 0.0], [\"Lignite\", 0.0, 0, 0.0, 0.0, 0.0, 0.0, 0.0, 0.0, 0.01, 0.0], [\"Lignite\", 0.0, 0, 0.0, 0.0, 0.0, 0.0, 0.0, 0.0, 0.01, 0.0], [\"Lignite\", 0.0, 0, 0.0, 0.0, 0.0, 0.0, 0.0, 0.0, -0.01, 0.0], [\"Lignite\", 0.0, 0, 0.0, 0.0, 0.0, 0.0, 0.0, 0.0, -0.01, 0.0]]}, {\"marker\": {\"color\": \"LightSkyBlue\", \"line\": {\"color\": \"Purple\", \"width\": 2}, \"size\": 20}, \"mode\": \"markers\", \"showlegend\": true, \"type\": \"scatter\", \"x\": [0, 0, 0, 0, 0, 0, 0, 0, 0, 0, 0, 0, 0, 0, 0, 0, 0, 0, 0, 0, 0, 0, 0, 0, 0, 0, 0, 0, 0, 0, 0, 0, 0, 0, 0, 0, 0, 0, 0, 0, 0, 0, 0, 0, 0, 0, 0, 0, 0, 0, 0, 0, 0, 0, 0, 0, 0, 0, 0, 0, 0, 0, 0, 0, 0, 0, 0, 0, 0, 0, 0, 0, 0, 0, 0, 0, 0, 0, 0, 0, 0, 0, 0, 0, 0, 0, 0, 0, 0, 0, 0, 0, 0, 0, 0, 0, 0, 0, 0, 0, 0, 0, 0, 0, 0, 0, 0, 0, 0, 0, 0, 0, 0, 0, 0, 0, 0, 0, 0, 0, 0, 0, 0, 0, 0, 0, 0, 0, 0, 0, 0, 0, 0, 0, 0, 0, 0, 0, 0, 0, 0, 0, 0, 0, 0, 0, 0], \"y\": [[\"Lignite\", 0.0, 0, 0.0, 0.0, 0.0, 0.0, 0.0, 0.0, 0.0, 0.0], [\"Lignite\", 0.0, 0, 0.0, 0.0, 0.0, 0.0, 0.0, 0.0, 0.0, 0.0], [\"Lignite\", 0.0, 0, 0.0, 0.0, 0.0, 0.0, 0.0, 0.0, 0.0, 0.0], [\"Lignite\", 0.0, 0, -0.01, 0.0, 0.0, 0.0, 0.0, 0.0, 0.0, 0.0], [\"Lignite\", 0.0, 0, 0.0, 0.0, 0.0, 0.0, 0.0, 0.0, 0.0, 0.0], [\"Lignite\", 0.0, 0, 0.0, 0.0, 0.0, 0.0, 0.0, 0.0, 0.0, 0.0], [\"Lignite\", 0.0, 0, 0.0, 0.0, 0.0, 0.0, 0.0, 0.0, 0.0, 0.0], [\"Lignite\", 0.0, 0, 0.0, 0.0, 0.0, 0.0, 0.0, 0.0, 0.0, 0.0], [\"Lignite\", 0.0, 0, 0.0, 0.0, 0.0, 0.0, 0.0, 0.0, 0.0, 0.0], [\"Lignite\", 0.0, 0, 0.0, 0.0, 0.0, 0.0, 0.0, 0.0, 0.0, 0.0], [\"Lignite\", 0.0, 0, 0.0, 0.0, 0.0, 0.0, 0.0, 0.0, 0.0, 0.0], [\"Lignite\", 0.0, 0, 0.0, 0.0, 0.0, 0.0, 0.0, 0.0, 0.01, 0.0], [\"Lignite\", 0.0, 0, 0.0, 0.0, 0.0, 0.0, 0.0, 0.0, 0.01, 0.0], [\"Lignite\", 0.0, 0, 0.0, 0.0, 0.0, 0.0, 0.0, 0.0, -0.01, 0.0], [\"Lignite\", 0.0, 0, 0.0, 0.0, 0.0, 0.0, 0.0, 0.0, -0.01, 0.0]]}, {\"marker\": {\"color\": \"LightSkyBlue\", \"line\": {\"color\": \"Purple\", \"width\": 2}, \"size\": 20}, \"mode\": \"markers\", \"showlegend\": true, \"type\": \"scatter\", \"x\": [0.0, 0.0, 0.0, 0.0, 0.0, -0.55, -0.26, 0.0, 0.0, 0.0, 0.0, 0.0, 0.0, 0.0, 0.0, 0.0, 0.0, 0.0, 0.0, 0.0, 0.0, 0.0, 0.0, 0.0, 0.0, 0.0, 0.0, 0.0, 0.0, 0.0, 0.0, 0.0, 0.0, 0.0, 0.0, 0.0, -0.01, 0.0, -0.01, -0.02, -0.03, 0.0, -0.31, -0.15, -0.01, 0.0, -0.01, 0.0, -0.02, -0.04, -0.01, -0.01, 0.0, 0.0, 0.0, 0.0, 0.0, 0.0, 0.0, 0.0, 0.0, -0.03, -0.03, -0.02, -0.03, 0.0, 0.0, 0.0, 0.0, -0.02, -0.03, 0.0, 0.0, 0.0, 0.0, 0.0, 0.0, 0.0, 0.0, -0.34, -0.16, -0.02, 0.0, -0.01, 0.0, -0.03, 0.0, 0.0, 0.0, -0.01, 0.0, 0.0, 0.0, 0.0, 0.0, 0.0, 0.0, 0.0, 0.0, 0.0, 0.0, 0.0, 0.0, 0.0, 0.0, 0.0, 0.0, -0.02, 0.0, 0.0, 0.0, 0.0, -0.01, 0.0, -0.01, 0.0, -0.36, -0.12, 0.0, 0.0, 0.0, 0.0, 0.0, 0.0, 0.0, 0.0, -0.02, 0.0, 0.0, 0.0, 0.0, 0.0, 0.0, 0.0, 0.0, 0.0, 0.0, 0.0, 0.0, 0.0, 0.0, 0.0, 0.0, 0.0, -0.01, 0.0, 0.0], \"y\": [[\"Lignite\", 0.0, 0, 0.0, 0.0, 0.0, 0.0, 0.0, 0.0, 0.0, 0.0], [\"Lignite\", 0.0, 0, 0.0, 0.0, 0.0, 0.0, 0.0, 0.0, 0.0, 0.0], [\"Lignite\", 0.0, 0, 0.0, 0.0, 0.0, 0.0, 0.0, 0.0, 0.0, 0.0], [\"Lignite\", 0.0, 0, -0.01, 0.0, 0.0, 0.0, 0.0, 0.0, 0.0, 0.0], [\"Lignite\", 0.0, 0, 0.0, 0.0, 0.0, 0.0, 0.0, 0.0, 0.0, 0.0], [\"Lignite\", 0.0, 0, 0.0, 0.0, 0.0, 0.0, 0.0, 0.0, 0.0, 0.0], [\"Lignite\", 0.0, 0, 0.0, 0.0, 0.0, 0.0, 0.0, 0.0, 0.0, 0.0], [\"Lignite\", 0.0, 0, 0.0, 0.0, 0.0, 0.0, 0.0, 0.0, 0.0, 0.0], [\"Lignite\", 0.0, 0, 0.0, 0.0, 0.0, 0.0, 0.0, 0.0, 0.0, 0.0], [\"Lignite\", 0.0, 0, 0.0, 0.0, 0.0, 0.0, 0.0, 0.0, 0.0, 0.0], [\"Lignite\", 0.0, 0, 0.0, 0.0, 0.0, 0.0, 0.0, 0.0, 0.0, 0.0], [\"Lignite\", 0.0, 0, 0.0, 0.0, 0.0, 0.0, 0.0, 0.0, 0.01, 0.0], [\"Lignite\", 0.0, 0, 0.0, 0.0, 0.0, 0.0, 0.0, 0.0, 0.01, 0.0], [\"Lignite\", 0.0, 0, 0.0, 0.0, 0.0, 0.0, 0.0, 0.0, -0.01, 0.0], [\"Lignite\", 0.0, 0, 0.0, 0.0, 0.0, 0.0, 0.0, 0.0, -0.01, 0.0]]}, {\"marker\": {\"color\": \"LightSkyBlue\", \"line\": {\"color\": \"Purple\", \"width\": 2}, \"size\": 20}, \"mode\": \"markers\", \"showlegend\": true, \"type\": \"scatter\", \"x\": [0.0, 0.0, 0.0, 0.0, 0.0, -0.58, -0.31, -0.01, 0.0, 0.0, 0.0, 0.0, 0.0, 0.0, 0.0, -0.07, -0.02, 0.0, 0.0, 0.0, 0.0, 0.0, 0.0, 0.0, 0.0, 0.0, 0.0, 0.0, -0.01, -0.05, 0.0, 0.0, 0.0, 0.0, 0.0, 0.0, 0.0, 0.0, 0.0, 0.0, 0.0, 0.0, -0.39, -0.2, 0.0, 0.0, 0.0, 0.0, 0.0, 0.0, 0.0, 0.0, 0.0, 0.0, 0.0, 0.0, 0.0, 0.0, 0.0, 0.0, 0.0, 0.0, 0.0, 0.0, 0.0, 0.0, 0.0, 0.0, 0.0, 0.0, 0.0, 0.0, 0.0, 0.0, 0.0, 0.0, 0.0, 0.0, 0.0, -0.4, -0.22, -0.12, -0.05, -0.03, -0.01, -0.04, -0.01, 0.0, 0.0, -0.1, -0.03, 0.0, 0.0, 0.0, 0.0, 0.0, 0.0, 0.0, 0.0, 0.0, 0.0, 0.0, 0.0, 0.0, 0.0, 0.0, -0.03, -0.09, 0.0, 0.0, 0.0, 0.0, 0.0, 0.0, 0.0, 0.0, -0.41, -0.15, 0.0, 0.0, 0.0, 0.0, 0.0, 0.0, 0.0, 0.0, -0.04, -0.01, 0.0, 0.0, 0.0, 0.0, 0.0, 0.0, 0.0, 0.0, 0.0, 0.0, 0.0, 0.0, 0.0, 0.0, 0.0, 0.0, -0.02, 0.0, 0.0], \"y\": [[\"Lignite\", 0.0, 0, 0.0, 0.0, 0.0, 0.0, 0.0, 0.0, 0.0, 0.0], [\"Lignite\", 0.0, 0, 0.0, 0.0, 0.0, 0.0, 0.0, 0.0, 0.0, 0.0], [\"Lignite\", 0.0, 0, 0.0, 0.0, 0.0, 0.0, 0.0, 0.0, 0.0, 0.0], [\"Lignite\", 0.0, 0, -0.01, 0.0, 0.0, 0.0, 0.0, 0.0, 0.0, 0.0], [\"Lignite\", 0.0, 0, 0.0, 0.0, 0.0, 0.0, 0.0, 0.0, 0.0, 0.0], [\"Lignite\", 0.0, 0, 0.0, 0.0, 0.0, 0.0, 0.0, 0.0, 0.0, 0.0], [\"Lignite\", 0.0, 0, 0.0, 0.0, 0.0, 0.0, 0.0, 0.0, 0.0, 0.0], [\"Lignite\", 0.0, 0, 0.0, 0.0, 0.0, 0.0, 0.0, 0.0, 0.0, 0.0], [\"Lignite\", 0.0, 0, 0.0, 0.0, 0.0, 0.0, 0.0, 0.0, 0.0, 0.0], [\"Lignite\", 0.0, 0, 0.0, 0.0, 0.0, 0.0, 0.0, 0.0, 0.0, 0.0], [\"Lignite\", 0.0, 0, 0.0, 0.0, 0.0, 0.0, 0.0, 0.0, 0.0, 0.0], [\"Lignite\", 0.0, 0, 0.0, 0.0, 0.0, 0.0, 0.0, 0.0, 0.01, 0.0], [\"Lignite\", 0.0, 0, 0.0, 0.0, 0.0, 0.0, 0.0, 0.0, 0.01, 0.0], [\"Lignite\", 0.0, 0, 0.0, 0.0, 0.0, 0.0, 0.0, 0.0, -0.01, 0.0], [\"Lignite\", 0.0, 0, 0.0, 0.0, 0.0, 0.0, 0.0, 0.0, -0.01, 0.0]]}, {\"marker\": {\"color\": \"LightSkyBlue\", \"line\": {\"color\": \"Purple\", \"width\": 2}, \"size\": 20}, \"mode\": \"markers\", \"showlegend\": true, \"type\": \"scatter\", \"x\": [0.0, 0.0, 0.0, 0.0, 0.0, -0.15, -0.07, -0.02, 0.0, -0.17, -0.09, -0.12, -0.04, 0.0, 0.0, 0.0, 0.0, 0.0, 0.0, 0.0, 0.0, 0.0, 0.0, 0.0, 0.05, 0.06, 0.0, 0.0, 0.0, 0.0, 0.0, 0.0, 0.0, 0.0, 0.0, 0.0, 0.0, 0.0, 0.0, 0.0, 0.0, 0.0, -0.36, -0.2, 0.0, 0.0, -0.17, -0.09, -0.14, -0.05, 0.0, 0.0, 0.0, 0.0, 0.0, 0.0, 0.0, 0.0, 0.0, 0.0, 0.0, 0.06, 0.07, 0.0, 0.0, 0.0, 0.0, 0.0, 0.0, 0.0, 0.0, 0.0, 0.0, 0.0, 0.0, 0.0, 0.0, 0.0, 0.0, -0.05, -0.01, 0.0, 0.0, -0.17, -0.09, -0.14, -0.05, 0.0, 0.0, 0.0, 0.0, 0.0, 0.0, 0.0, 0.0, 0.0, 0.0, 0.0, 0.05, 0.06, 0.0, 0.0, 0.0, 0.0, 0.0, 0.0, 0.0, 0.0, 0.0, 0.0, 0.0, 0.0, 0.0, 0.0, 0.0, 0.0, 0.0, 0.0, 0.0, 0.0, 0.0, 0.0, 0.0, 0.0, 0.0, 0.0, 0.0, 0.0, 0.0, 0.0, 0.0, 0.0, 0.0, 0.0, 0.0, 0.0, 0.0, 0.0, 0.0, 0.0, 0.0, 0.0, 0.0, 0.0, 0.0, 0.0, 0.0], \"y\": [[\"Lignite\", 0.0, 0, 0.0, 0.0, 0.0, 0.0, 0.0, 0.0, 0.0, 0.0], [\"Lignite\", 0.0, 0, 0.0, 0.0, 0.0, 0.0, 0.0, 0.0, 0.0, 0.0], [\"Lignite\", 0.0, 0, 0.0, 0.0, 0.0, 0.0, 0.0, 0.0, 0.0, 0.0], [\"Lignite\", 0.0, 0, -0.01, 0.0, 0.0, 0.0, 0.0, 0.0, 0.0, 0.0], [\"Lignite\", 0.0, 0, 0.0, 0.0, 0.0, 0.0, 0.0, 0.0, 0.0, 0.0], [\"Lignite\", 0.0, 0, 0.0, 0.0, 0.0, 0.0, 0.0, 0.0, 0.0, 0.0], [\"Lignite\", 0.0, 0, 0.0, 0.0, 0.0, 0.0, 0.0, 0.0, 0.0, 0.0], [\"Lignite\", 0.0, 0, 0.0, 0.0, 0.0, 0.0, 0.0, 0.0, 0.0, 0.0], [\"Lignite\", 0.0, 0, 0.0, 0.0, 0.0, 0.0, 0.0, 0.0, 0.0, 0.0], [\"Lignite\", 0.0, 0, 0.0, 0.0, 0.0, 0.0, 0.0, 0.0, 0.0, 0.0], [\"Lignite\", 0.0, 0, 0.0, 0.0, 0.0, 0.0, 0.0, 0.0, 0.0, 0.0], [\"Lignite\", 0.0, 0, 0.0, 0.0, 0.0, 0.0, 0.0, 0.0, 0.01, 0.0], [\"Lignite\", 0.0, 0, 0.0, 0.0, 0.0, 0.0, 0.0, 0.0, 0.01, 0.0], [\"Lignite\", 0.0, 0, 0.0, 0.0, 0.0, 0.0, 0.0, 0.0, -0.01, 0.0], [\"Lignite\", 0.0, 0, 0.0, 0.0, 0.0, 0.0, 0.0, 0.0, -0.01, 0.0]]}, {\"marker\": {\"color\": \"LightSkyBlue\", \"line\": {\"color\": \"Purple\", \"width\": 2}, \"size\": 20}, \"mode\": \"markers\", \"showlegend\": true, \"type\": \"scatter\", \"x\": [0.0, 0.0, 0.0, 0.0, 0.0, -0.15, -0.08, -0.04, -0.01, -0.13, -0.05, -0.17, -0.09, 0.0, 0.0, 0.0, 0.0, 0.0, 0.0, 0.0, 0.0, 0.0, 0.01, 0.01, 0.0, 0.0, 0.0, 0.0, 0.0, 0.0, 0.0, 0.0, 0.0, 0.0, 0.0, 0.0, 0.0, 0.0, 0.0, 0.0, 0.0, 0.0, -0.36, -0.19, -0.02, 0.0, -0.11, -0.04, -0.17, -0.09, 0.0, 0.0, 0.0, 0.0, 0.0, 0.0, 0.0, 0.0, 0.0, 0.04, 0.04, 0.0, 0.0, 0.0, 0.0, 0.0, 0.0, 0.0, 0.0, 0.0, 0.0, 0.0, 0.0, 0.0, 0.0, -0.01, 0.0, 0.0, 0.0, -0.04, -0.01, -0.01, 0.0, -0.1, -0.05, -0.17, -0.09, 0.0, 0.0, 0.0, 0.0, 0.0, 0.0, 0.0, 0.0, 0.0, 0.01, 0.01, 0.0, 0.0, 0.0, 0.0, 0.0, 0.0, 0.0, 0.0, 0.0, 0.0, 0.0, 0.0, 0.0, 0.0, 0.0, 0.0, 0.0, 0.0, 0.0, 0.0, 0.0, 0.0, 0.0, 0.0, 0.0, 0.0, 0.0, 0.0, 0.0, 0.0, 0.0, 0.0, 0.0, 0.0, 0.0, 0.0, 0.0, 0.0, 0.0, 0.0, 0.0, 0.0, 0.0, 0.0, 0.0, 0.0, 0.0, 0.0, 0.0], \"y\": [[\"Lignite\", 0.0, 0, 0.0, 0.0, 0.0, 0.0, 0.0, 0.0, 0.0, 0.0], [\"Lignite\", 0.0, 0, 0.0, 0.0, 0.0, 0.0, 0.0, 0.0, 0.0, 0.0], [\"Lignite\", 0.0, 0, 0.0, 0.0, 0.0, 0.0, 0.0, 0.0, 0.0, 0.0], [\"Lignite\", 0.0, 0, -0.01, 0.0, 0.0, 0.0, 0.0, 0.0, 0.0, 0.0], [\"Lignite\", 0.0, 0, 0.0, 0.0, 0.0, 0.0, 0.0, 0.0, 0.0, 0.0], [\"Lignite\", 0.0, 0, 0.0, 0.0, 0.0, 0.0, 0.0, 0.0, 0.0, 0.0], [\"Lignite\", 0.0, 0, 0.0, 0.0, 0.0, 0.0, 0.0, 0.0, 0.0, 0.0], [\"Lignite\", 0.0, 0, 0.0, 0.0, 0.0, 0.0, 0.0, 0.0, 0.0, 0.0], [\"Lignite\", 0.0, 0, 0.0, 0.0, 0.0, 0.0, 0.0, 0.0, 0.0, 0.0], [\"Lignite\", 0.0, 0, 0.0, 0.0, 0.0, 0.0, 0.0, 0.0, 0.0, 0.0], [\"Lignite\", 0.0, 0, 0.0, 0.0, 0.0, 0.0, 0.0, 0.0, 0.0, 0.0], [\"Lignite\", 0.0, 0, 0.0, 0.0, 0.0, 0.0, 0.0, 0.0, 0.01, 0.0], [\"Lignite\", 0.0, 0, 0.0, 0.0, 0.0, 0.0, 0.0, 0.0, 0.01, 0.0], [\"Lignite\", 0.0, 0, 0.0, 0.0, 0.0, 0.0, 0.0, 0.0, -0.01, 0.0], [\"Lignite\", 0.0, 0, 0.0, 0.0, 0.0, 0.0, 0.0, 0.0, -0.01, 0.0]]}, {\"marker\": {\"color\": \"LightSkyBlue\", \"line\": {\"color\": \"Purple\", \"width\": 2}, \"size\": 20}, \"mode\": \"markers\", \"showlegend\": true, \"type\": \"scatter\", \"x\": [0.0, 0.0, 0.0, 0.0, 0.0, -0.14, -0.07, -0.18, -0.09, -0.07, -0.02, -0.14, -0.05, 0.0, 0.0, 0.0, 0.0, 0.0, 0.0, 0.0, 0.0, 0.0, 0.0, 0.0, 0.0, 0.0, 0.05, 0.06, 0.0, 0.0, 0.0, 0.0, 0.0, 0.0, 0.0, 0.0, 0.0, 0.0, 0.0, 0.0, 0.0, 0.0, -0.34, -0.17, -0.18, -0.09, -0.04, -0.01, -0.06, -0.01, 0.0, 0.0, 0.0, 0.0, 0.0, 0.0, 0.0, 0.0, 0.0, 0.0, 0.0, 0.0, 0.0, 0.07, 0.12, 0.0, 0.0, 0.0, 0.0, 0.0, 0.0, 0.0, 0.0, 0.0, 0.0, -0.01, 0.0, 0.0, 0.0, -0.03, -0.01, -0.18, -0.09, -0.01, 0.0, -0.05, -0.01, 0.0, 0.0, 0.0, 0.0, 0.0, 0.0, 0.0, 0.0, 0.0, 0.0, 0.0, 0.0, 0.0, 0.04, 0.04, 0.0, 0.0, 0.0, 0.0, 0.0, 0.0, 0.0, 0.0, 0.0, 0.0, 0.0, 0.0, 0.0, 0.0, 0.0, 0.0, 0.0, 0.0, 0.0, 0.0, 0.0, 0.0, 0.0, 0.0, 0.0, 0.0, 0.0, 0.0, 0.0, 0.0, 0.0, 0.0, 0.0, 0.0, 0.0, 0.0, 0.0, 0.0, 0.0, 0.0, 0.0, 0.0, 0.0, 0.0, 0.0], \"y\": [[\"Lignite\", 0.0, 0, 0.0, 0.0, 0.0, 0.0, 0.0, 0.0, 0.0, 0.0], [\"Lignite\", 0.0, 0, 0.0, 0.0, 0.0, 0.0, 0.0, 0.0, 0.0, 0.0], [\"Lignite\", 0.0, 0, 0.0, 0.0, 0.0, 0.0, 0.0, 0.0, 0.0, 0.0], [\"Lignite\", 0.0, 0, -0.01, 0.0, 0.0, 0.0, 0.0, 0.0, 0.0, 0.0], [\"Lignite\", 0.0, 0, 0.0, 0.0, 0.0, 0.0, 0.0, 0.0, 0.0, 0.0], [\"Lignite\", 0.0, 0, 0.0, 0.0, 0.0, 0.0, 0.0, 0.0, 0.0, 0.0], [\"Lignite\", 0.0, 0, 0.0, 0.0, 0.0, 0.0, 0.0, 0.0, 0.0, 0.0], [\"Lignite\", 0.0, 0, 0.0, 0.0, 0.0, 0.0, 0.0, 0.0, 0.0, 0.0], [\"Lignite\", 0.0, 0, 0.0, 0.0, 0.0, 0.0, 0.0, 0.0, 0.0, 0.0], [\"Lignite\", 0.0, 0, 0.0, 0.0, 0.0, 0.0, 0.0, 0.0, 0.0, 0.0], [\"Lignite\", 0.0, 0, 0.0, 0.0, 0.0, 0.0, 0.0, 0.0, 0.0, 0.0], [\"Lignite\", 0.0, 0, 0.0, 0.0, 0.0, 0.0, 0.0, 0.0, 0.01, 0.0], [\"Lignite\", 0.0, 0, 0.0, 0.0, 0.0, 0.0, 0.0, 0.0, 0.01, 0.0], [\"Lignite\", 0.0, 0, 0.0, 0.0, 0.0, 0.0, 0.0, 0.0, -0.01, 0.0], [\"Lignite\", 0.0, 0, 0.0, 0.0, 0.0, 0.0, 0.0, 0.0, -0.01, 0.0]]}, {\"marker\": {\"color\": \"LightSkyBlue\", \"line\": {\"color\": \"Purple\", \"width\": 2}, \"size\": 20}, \"mode\": \"markers\", \"showlegend\": true, \"type\": \"scatter\", \"x\": [0.0, 0.0, 0.0, 0.0, 0.0, -0.53, -0.35, 0.01, 0.0, -0.25, -0.16, -0.07, -0.04, -0.16, -0.08, -0.09, -0.05, 0.0, 0.02, 0.02, 0.04, 0.08, -0.02, -0.02, -0.01, -0.01, 0.0, 0.0, 0.05, 0.05, 0.0, 0.0, 0.0, 0.0, 0.0, 0.0, 0.0, 0.0, 0.02, 0.01, 0.01, 0.0, -0.43, -0.22, 0.04, 0.06, -0.03, -0.02, 0.0, -0.01, -0.09, -0.04, -0.11, -0.04, 0.0, 0.03, 0.04, 0.04, 0.05, 0.04, 0.04, -0.01, -0.01, -0.01, -0.03, 0.0, 0.0, 0.0, 0.0, 0.01, 0.0, 0.0, 0.0, 0.0, 0.0, -0.28, -0.13, 0.0, 0.0, -0.25, -0.14, 0.0, 0.01, -0.19, -0.07, -0.02, 0.01, -0.15, -0.07, -0.09, -0.05, 0.0, 0.01, 0.01, 0.04, 0.08, -0.03, -0.03, 0.01, 0.01, -0.02, -0.02, 0.0, 0.0, 0.0, 0.0, 0.05, 0.05, 0.0, 0.0, 0.0, 0.0, 0.0, 0.0, 0.0, 0.0, -0.3, -0.08, 0.0, 0.0, 0.0, 0.0, 0.0, 0.0, -0.11, -0.04, -0.04, 0.0, 0.0, 0.05, 0.05, 0.09, 0.1, 0.0, 0.0, 0.0, 0.0, 0.0, 0.0, -0.01, -0.01, 0.0, 0.0, 0.0, 0.0, 0.0, 0.0], \"y\": [[\"Lignite\", 0.0, 0, 0.0, 0.0, 0.0, 0.0, 0.0, 0.0, 0.0, 0.0], [\"Lignite\", 0.0, 0, 0.0, 0.0, 0.0, 0.0, 0.0, 0.0, 0.0, 0.0], [\"Lignite\", 0.0, 0, 0.0, 0.0, 0.0, 0.0, 0.0, 0.0, 0.0, 0.0], [\"Lignite\", 0.0, 0, -0.01, 0.0, 0.0, 0.0, 0.0, 0.0, 0.0, 0.0], [\"Lignite\", 0.0, 0, 0.0, 0.0, 0.0, 0.0, 0.0, 0.0, 0.0, 0.0], [\"Lignite\", 0.0, 0, 0.0, 0.0, 0.0, 0.0, 0.0, 0.0, 0.0, 0.0], [\"Lignite\", 0.0, 0, 0.0, 0.0, 0.0, 0.0, 0.0, 0.0, 0.0, 0.0], [\"Lignite\", 0.0, 0, 0.0, 0.0, 0.0, 0.0, 0.0, 0.0, 0.0, 0.0], [\"Lignite\", 0.0, 0, 0.0, 0.0, 0.0, 0.0, 0.0, 0.0, 0.0, 0.0], [\"Lignite\", 0.0, 0, 0.0, 0.0, 0.0, 0.0, 0.0, 0.0, 0.0, 0.0], [\"Lignite\", 0.0, 0, 0.0, 0.0, 0.0, 0.0, 0.0, 0.0, 0.0, 0.0], [\"Lignite\", 0.0, 0, 0.0, 0.0, 0.0, 0.0, 0.0, 0.0, 0.01, 0.0], [\"Lignite\", 0.0, 0, 0.0, 0.0, 0.0, 0.0, 0.0, 0.0, 0.01, 0.0], [\"Lignite\", 0.0, 0, 0.0, 0.0, 0.0, 0.0, 0.0, 0.0, -0.01, 0.0], [\"Lignite\", 0.0, 0, 0.0, 0.0, 0.0, 0.0, 0.0, 0.0, -0.01, 0.0]]}, {\"marker\": {\"color\": \"LightSkyBlue\", \"line\": {\"color\": \"Purple\", \"width\": 2}, \"size\": 20}, \"mode\": \"markers\", \"showlegend\": true, \"type\": \"scatter\", \"x\": [0.0, 0.0, 0.0, 0.0, 0.0, -0.33, -0.18, -0.01, 0.0, -0.03, -0.03, -0.08, -0.06, -0.01, -0.01, -0.18, -0.1, 0.0, 0.04, 0.04, 0.0, 0.01, -0.01, -0.01, -0.06, -0.07, -0.02, -0.02, -0.03, -0.03, 0.0, 0.0, 0.0, 0.0, 0.0, 0.0, 0.0, 0.0, -0.01, 0.0, 0.0, 0.0, -0.28, -0.13, -0.05, -0.01, -0.02, -0.01, -0.02, -0.01, -0.01, 0.0, -0.15, -0.08, 0.0, 0.05, 0.08, 0.0, 0.0, 0.0, 0.0, -0.01, -0.01, 0.0, 0.0, 0.0, 0.0, 0.0, 0.0, 0.0, -0.01, 0.0, 0.0, 0.0, 0.0, -0.11, -0.04, 0.0, 0.0, -0.17, -0.08, -0.02, -0.01, -0.04, -0.04, -0.04, -0.04, -0.02, -0.01, -0.18, -0.1, 0.0, 0.02, 0.02, 0.01, 0.01, 0.0, 0.0, -0.03, -0.04, -0.02, -0.02, 0.0, 0.0, 0.0, 0.0, -0.03, -0.03, 0.0, 0.0, 0.01, 0.01, -0.01, 0.0, 0.0, 0.0, -0.19, -0.07, 0.0, 0.0, 0.0, 0.0, 0.0, 0.0, -0.05, -0.03, -0.17, -0.1, 0.0, 0.03, 0.03, 0.0, 0.0, 0.0, 0.0, 0.0, 0.0, 0.0, 0.0, 0.0, 0.0, 0.0, 0.0, 0.0, 0.0, -0.01, -0.01], \"y\": [[\"Lignite\", 0.0, 0, 0.0, 0.0, 0.0, 0.0, 0.0, 0.0, 0.0, 0.0], [\"Lignite\", 0.0, 0, 0.0, 0.0, 0.0, 0.0, 0.0, 0.0, 0.0, 0.0], [\"Lignite\", 0.0, 0, 0.0, 0.0, 0.0, 0.0, 0.0, 0.0, 0.0, 0.0], [\"Lignite\", 0.0, 0, -0.01, 0.0, 0.0, 0.0, 0.0, 0.0, 0.0, 0.0], [\"Lignite\", 0.0, 0, 0.0, 0.0, 0.0, 0.0, 0.0, 0.0, 0.0, 0.0], [\"Lignite\", 0.0, 0, 0.0, 0.0, 0.0, 0.0, 0.0, 0.0, 0.0, 0.0], [\"Lignite\", 0.0, 0, 0.0, 0.0, 0.0, 0.0, 0.0, 0.0, 0.0, 0.0], [\"Lignite\", 0.0, 0, 0.0, 0.0, 0.0, 0.0, 0.0, 0.0, 0.0, 0.0], [\"Lignite\", 0.0, 0, 0.0, 0.0, 0.0, 0.0, 0.0, 0.0, 0.0, 0.0], [\"Lignite\", 0.0, 0, 0.0, 0.0, 0.0, 0.0, 0.0, 0.0, 0.0, 0.0], [\"Lignite\", 0.0, 0, 0.0, 0.0, 0.0, 0.0, 0.0, 0.0, 0.0, 0.0], [\"Lignite\", 0.0, 0, 0.0, 0.0, 0.0, 0.0, 0.0, 0.0, 0.01, 0.0], [\"Lignite\", 0.0, 0, 0.0, 0.0, 0.0, 0.0, 0.0, 0.0, 0.01, 0.0], [\"Lignite\", 0.0, 0, 0.0, 0.0, 0.0, 0.0, 0.0, 0.0, -0.01, 0.0], [\"Lignite\", 0.0, 0, 0.0, 0.0, 0.0, 0.0, 0.0, 0.0, -0.01, 0.0]]}, {\"marker\": {\"color\": \"LightSkyBlue\", \"line\": {\"color\": \"Purple\", \"width\": 2}, \"size\": 20}, \"mode\": \"markers\", \"showlegend\": true, \"type\": \"scatter\", \"x\": [0.0, 0.0, 0.0, 0.0, 0.0, -0.22, -0.11, -0.06, -0.02, -0.11, -0.05, -0.12, -0.05, 0.0, 0.0, -0.01, -0.01, 0.0, 0.0, 0.0, 0.0, 0.0, 0.0, 0.0, 0.02, 0.02, 0.01, 0.01, 0.0, 0.0, 0.0, 0.0, 0.0, 0.0, 0.0, 0.0, 0.0, 0.0, 0.0, 0.0, 0.0, 0.0, -0.35, -0.18, -0.06, -0.03, -0.08, -0.03, -0.1, -0.04, 0.0, 0.0, -0.03, -0.01, 0.0, 0.01, 0.01, 0.0, 0.0, 0.01, 0.01, 0.01, 0.01, 0.02, 0.03, 0.0, 0.0, 0.0, 0.0, 0.0, 0.0, 0.0, 0.0, 0.0, 0.0, -0.02, -0.01, 0.0, 0.0, -0.09, -0.03, -0.05, -0.02, -0.09, -0.04, -0.1, -0.04, 0.0, 0.0, -0.01, -0.01, 0.0, 0.0, 0.0, 0.0, 0.0, 0.0, 0.0, 0.02, 0.02, 0.01, 0.01, 0.0, 0.0, 0.0, 0.0, 0.0, 0.0, 0.0, 0.0, 0.0, 0.0, 0.0, 0.0, 0.0, 0.0, -0.05, -0.02, 0.0, 0.0, 0.0, 0.0, 0.0, 0.0, 0.0, 0.0, -0.01, -0.01, 0.0, 0.0, 0.0, 0.0, 0.0, 0.0, 0.0, 0.0, 0.0, 0.0, 0.0, 0.0, 0.0, 0.0, 0.0, 0.0, 0.0, 0.0, 0.0], \"y\": [[\"Lignite\", 0.0, 0, 0.0, 0.0, 0.0, 0.0, 0.0, 0.0, 0.0, 0.0], [\"Lignite\", 0.0, 0, 0.0, 0.0, 0.0, 0.0, 0.0, 0.0, 0.0, 0.0], [\"Lignite\", 0.0, 0, 0.0, 0.0, 0.0, 0.0, 0.0, 0.0, 0.0, 0.0], [\"Lignite\", 0.0, 0, -0.01, 0.0, 0.0, 0.0, 0.0, 0.0, 0.0, 0.0], [\"Lignite\", 0.0, 0, 0.0, 0.0, 0.0, 0.0, 0.0, 0.0, 0.0, 0.0], [\"Lignite\", 0.0, 0, 0.0, 0.0, 0.0, 0.0, 0.0, 0.0, 0.0, 0.0], [\"Lignite\", 0.0, 0, 0.0, 0.0, 0.0, 0.0, 0.0, 0.0, 0.0, 0.0], [\"Lignite\", 0.0, 0, 0.0, 0.0, 0.0, 0.0, 0.0, 0.0, 0.0, 0.0], [\"Lignite\", 0.0, 0, 0.0, 0.0, 0.0, 0.0, 0.0, 0.0, 0.0, 0.0], [\"Lignite\", 0.0, 0, 0.0, 0.0, 0.0, 0.0, 0.0, 0.0, 0.0, 0.0], [\"Lignite\", 0.0, 0, 0.0, 0.0, 0.0, 0.0, 0.0, 0.0, 0.0, 0.0], [\"Lignite\", 0.0, 0, 0.0, 0.0, 0.0, 0.0, 0.0, 0.0, 0.01, 0.0], [\"Lignite\", 0.0, 0, 0.0, 0.0, 0.0, 0.0, 0.0, 0.0, 0.01, 0.0], [\"Lignite\", 0.0, 0, 0.0, 0.0, 0.0, 0.0, 0.0, 0.0, -0.01, 0.0], [\"Lignite\", 0.0, 0, 0.0, 0.0, 0.0, 0.0, 0.0, 0.0, -0.01, 0.0]]}],\n                        {\"template\": {\"data\": {\"bar\": [{\"error_x\": {\"color\": \"#2a3f5f\"}, \"error_y\": {\"color\": \"#2a3f5f\"}, \"marker\": {\"line\": {\"color\": \"#E5ECF6\", \"width\": 0.5}}, \"type\": \"bar\"}], \"barpolar\": [{\"marker\": {\"line\": {\"color\": \"#E5ECF6\", \"width\": 0.5}}, \"type\": \"barpolar\"}], \"carpet\": [{\"aaxis\": {\"endlinecolor\": \"#2a3f5f\", \"gridcolor\": \"white\", \"linecolor\": \"white\", \"minorgridcolor\": \"white\", \"startlinecolor\": \"#2a3f5f\"}, \"baxis\": {\"endlinecolor\": \"#2a3f5f\", \"gridcolor\": \"white\", \"linecolor\": \"white\", \"minorgridcolor\": \"white\", \"startlinecolor\": \"#2a3f5f\"}, \"type\": \"carpet\"}], \"choropleth\": [{\"colorbar\": {\"outlinewidth\": 0, \"ticks\": \"\"}, \"type\": \"choropleth\"}], \"contour\": [{\"colorbar\": {\"outlinewidth\": 0, \"ticks\": \"\"}, \"colorscale\": [[0.0, \"#0d0887\"], [0.1111111111111111, \"#46039f\"], [0.2222222222222222, \"#7201a8\"], [0.3333333333333333, \"#9c179e\"], [0.4444444444444444, \"#bd3786\"], [0.5555555555555556, \"#d8576b\"], [0.6666666666666666, \"#ed7953\"], [0.7777777777777778, \"#fb9f3a\"], [0.8888888888888888, \"#fdca26\"], [1.0, \"#f0f921\"]], \"type\": \"contour\"}], \"contourcarpet\": [{\"colorbar\": {\"outlinewidth\": 0, \"ticks\": \"\"}, \"type\": \"contourcarpet\"}], \"heatmap\": [{\"colorbar\": {\"outlinewidth\": 0, \"ticks\": \"\"}, \"colorscale\": [[0.0, \"#0d0887\"], [0.1111111111111111, \"#46039f\"], [0.2222222222222222, \"#7201a8\"], [0.3333333333333333, \"#9c179e\"], [0.4444444444444444, \"#bd3786\"], [0.5555555555555556, \"#d8576b\"], [0.6666666666666666, \"#ed7953\"], [0.7777777777777778, \"#fb9f3a\"], [0.8888888888888888, \"#fdca26\"], [1.0, \"#f0f921\"]], \"type\": \"heatmap\"}], \"heatmapgl\": [{\"colorbar\": {\"outlinewidth\": 0, \"ticks\": \"\"}, \"colorscale\": [[0.0, \"#0d0887\"], [0.1111111111111111, \"#46039f\"], [0.2222222222222222, \"#7201a8\"], [0.3333333333333333, \"#9c179e\"], [0.4444444444444444, \"#bd3786\"], [0.5555555555555556, \"#d8576b\"], [0.6666666666666666, \"#ed7953\"], [0.7777777777777778, \"#fb9f3a\"], [0.8888888888888888, \"#fdca26\"], [1.0, \"#f0f921\"]], \"type\": \"heatmapgl\"}], \"histogram\": [{\"marker\": {\"colorbar\": {\"outlinewidth\": 0, \"ticks\": \"\"}}, \"type\": \"histogram\"}], \"histogram2d\": [{\"colorbar\": {\"outlinewidth\": 0, \"ticks\": \"\"}, \"colorscale\": [[0.0, \"#0d0887\"], [0.1111111111111111, \"#46039f\"], [0.2222222222222222, \"#7201a8\"], [0.3333333333333333, \"#9c179e\"], [0.4444444444444444, \"#bd3786\"], [0.5555555555555556, \"#d8576b\"], [0.6666666666666666, \"#ed7953\"], [0.7777777777777778, \"#fb9f3a\"], [0.8888888888888888, \"#fdca26\"], [1.0, \"#f0f921\"]], \"type\": \"histogram2d\"}], \"histogram2dcontour\": [{\"colorbar\": {\"outlinewidth\": 0, \"ticks\": \"\"}, \"colorscale\": [[0.0, \"#0d0887\"], [0.1111111111111111, \"#46039f\"], [0.2222222222222222, \"#7201a8\"], [0.3333333333333333, \"#9c179e\"], [0.4444444444444444, \"#bd3786\"], [0.5555555555555556, \"#d8576b\"], [0.6666666666666666, \"#ed7953\"], [0.7777777777777778, \"#fb9f3a\"], [0.8888888888888888, \"#fdca26\"], [1.0, \"#f0f921\"]], \"type\": \"histogram2dcontour\"}], \"mesh3d\": [{\"colorbar\": {\"outlinewidth\": 0, \"ticks\": \"\"}, \"type\": \"mesh3d\"}], \"parcoords\": [{\"line\": {\"colorbar\": {\"outlinewidth\": 0, \"ticks\": \"\"}}, \"type\": \"parcoords\"}], \"pie\": [{\"automargin\": true, \"type\": \"pie\"}], \"scatter\": [{\"marker\": {\"colorbar\": {\"outlinewidth\": 0, \"ticks\": \"\"}}, \"type\": \"scatter\"}], \"scatter3d\": [{\"line\": {\"colorbar\": {\"outlinewidth\": 0, \"ticks\": \"\"}}, \"marker\": {\"colorbar\": {\"outlinewidth\": 0, \"ticks\": \"\"}}, \"type\": \"scatter3d\"}], \"scattercarpet\": [{\"marker\": {\"colorbar\": {\"outlinewidth\": 0, \"ticks\": \"\"}}, \"type\": \"scattercarpet\"}], \"scattergeo\": [{\"marker\": {\"colorbar\": {\"outlinewidth\": 0, \"ticks\": \"\"}}, \"type\": \"scattergeo\"}], \"scattergl\": [{\"marker\": {\"colorbar\": {\"outlinewidth\": 0, \"ticks\": \"\"}}, \"type\": \"scattergl\"}], \"scattermapbox\": [{\"marker\": {\"colorbar\": {\"outlinewidth\": 0, \"ticks\": \"\"}}, \"type\": \"scattermapbox\"}], \"scatterpolar\": [{\"marker\": {\"colorbar\": {\"outlinewidth\": 0, \"ticks\": \"\"}}, \"type\": \"scatterpolar\"}], \"scatterpolargl\": [{\"marker\": {\"colorbar\": {\"outlinewidth\": 0, \"ticks\": \"\"}}, \"type\": \"scatterpolargl\"}], \"scatterternary\": [{\"marker\": {\"colorbar\": {\"outlinewidth\": 0, \"ticks\": \"\"}}, \"type\": \"scatterternary\"}], \"surface\": [{\"colorbar\": {\"outlinewidth\": 0, \"ticks\": \"\"}, \"colorscale\": [[0.0, \"#0d0887\"], [0.1111111111111111, \"#46039f\"], [0.2222222222222222, \"#7201a8\"], [0.3333333333333333, \"#9c179e\"], [0.4444444444444444, \"#bd3786\"], [0.5555555555555556, \"#d8576b\"], [0.6666666666666666, \"#ed7953\"], [0.7777777777777778, \"#fb9f3a\"], [0.8888888888888888, \"#fdca26\"], [1.0, \"#f0f921\"]], \"type\": \"surface\"}], \"table\": [{\"cells\": {\"fill\": {\"color\": \"#EBF0F8\"}, \"line\": {\"color\": \"white\"}}, \"header\": {\"fill\": {\"color\": \"#C8D4E3\"}, \"line\": {\"color\": \"white\"}}, \"type\": \"table\"}]}, \"layout\": {\"annotationdefaults\": {\"arrowcolor\": \"#2a3f5f\", \"arrowhead\": 0, \"arrowwidth\": 1}, \"coloraxis\": {\"colorbar\": {\"outlinewidth\": 0, \"ticks\": \"\"}}, \"colorscale\": {\"diverging\": [[0, \"#8e0152\"], [0.1, \"#c51b7d\"], [0.2, \"#de77ae\"], [0.3, \"#f1b6da\"], [0.4, \"#fde0ef\"], [0.5, \"#f7f7f7\"], [0.6, \"#e6f5d0\"], [0.7, \"#b8e186\"], [0.8, \"#7fbc41\"], [0.9, \"#4d9221\"], [1, \"#276419\"]], \"sequential\": [[0.0, \"#0d0887\"], [0.1111111111111111, \"#46039f\"], [0.2222222222222222, \"#7201a8\"], [0.3333333333333333, \"#9c179e\"], [0.4444444444444444, \"#bd3786\"], [0.5555555555555556, \"#d8576b\"], [0.6666666666666666, \"#ed7953\"], [0.7777777777777778, \"#fb9f3a\"], [0.8888888888888888, \"#fdca26\"], [1.0, \"#f0f921\"]], \"sequentialminus\": [[0.0, \"#0d0887\"], [0.1111111111111111, \"#46039f\"], [0.2222222222222222, \"#7201a8\"], [0.3333333333333333, \"#9c179e\"], [0.4444444444444444, \"#bd3786\"], [0.5555555555555556, \"#d8576b\"], [0.6666666666666666, \"#ed7953\"], [0.7777777777777778, \"#fb9f3a\"], [0.8888888888888888, \"#fdca26\"], [1.0, \"#f0f921\"]]}, \"colorway\": [\"#636efa\", \"#EF553B\", \"#00cc96\", \"#ab63fa\", \"#FFA15A\", \"#19d3f3\", \"#FF6692\", \"#B6E880\", \"#FF97FF\", \"#FECB52\"], \"font\": {\"color\": \"#2a3f5f\"}, \"geo\": {\"bgcolor\": \"white\", \"lakecolor\": \"white\", \"landcolor\": \"#E5ECF6\", \"showlakes\": true, \"showland\": true, \"subunitcolor\": \"white\"}, \"hoverlabel\": {\"align\": \"left\"}, \"hovermode\": \"closest\", \"mapbox\": {\"style\": \"light\"}, \"paper_bgcolor\": \"white\", \"plot_bgcolor\": \"#E5ECF6\", \"polar\": {\"angularaxis\": {\"gridcolor\": \"white\", \"linecolor\": \"white\", \"ticks\": \"\"}, \"bgcolor\": \"#E5ECF6\", \"radialaxis\": {\"gridcolor\": \"white\", \"linecolor\": \"white\", \"ticks\": \"\"}}, \"scene\": {\"xaxis\": {\"backgroundcolor\": \"#E5ECF6\", \"gridcolor\": \"white\", \"gridwidth\": 2, \"linecolor\": \"white\", \"showbackground\": true, \"ticks\": \"\", \"zerolinecolor\": \"white\"}, \"yaxis\": {\"backgroundcolor\": \"#E5ECF6\", \"gridcolor\": \"white\", \"gridwidth\": 2, \"linecolor\": \"white\", \"showbackground\": true, \"ticks\": \"\", \"zerolinecolor\": \"white\"}, \"zaxis\": {\"backgroundcolor\": \"#E5ECF6\", \"gridcolor\": \"white\", \"gridwidth\": 2, \"linecolor\": \"white\", \"showbackground\": true, \"ticks\": \"\", \"zerolinecolor\": \"white\"}}, \"shapedefaults\": {\"line\": {\"color\": \"#2a3f5f\"}}, \"ternary\": {\"aaxis\": {\"gridcolor\": \"white\", \"linecolor\": \"white\", \"ticks\": \"\"}, \"baxis\": {\"gridcolor\": \"white\", \"linecolor\": \"white\", \"ticks\": \"\"}, \"bgcolor\": \"#E5ECF6\", \"caxis\": {\"gridcolor\": \"white\", \"linecolor\": \"white\", \"ticks\": \"\"}}, \"title\": {\"x\": 0.05}, \"xaxis\": {\"automargin\": true, \"gridcolor\": \"white\", \"linecolor\": \"white\", \"ticks\": \"\", \"title\": {\"standoff\": 15}, \"zerolinecolor\": \"white\", \"zerolinewidth\": 2}, \"yaxis\": {\"automargin\": true, \"gridcolor\": \"white\", \"linecolor\": \"white\", \"ticks\": \"\", \"title\": {\"standoff\": 15}, \"zerolinecolor\": \"white\", \"zerolinewidth\": 2}}}},\n                        {\"responsive\": true}\n                    ).then(function(){\n                            \nvar gd = document.getElementById('b4fcb715-3ed9-48f1-b277-e91f4f5fb38a');\nvar x = new MutationObserver(function (mutations, observer) {{\n        var display = window.getComputedStyle(gd).display;\n        if (!display || display === 'none') {{\n            console.log([gd, 'removed!']);\n            Plotly.purge(gd);\n            observer.disconnect();\n        }}\n}});\n\n// Listen for the removal of the full notebook cells\nvar notebookContainer = gd.closest('#notebook-container');\nif (notebookContainer) {{\n    x.observe(notebookContainer, {childList: true});\n}}\n\n// Listen for the clearing of the current output cell\nvar outputEl = gd.closest('.output');\nif (outputEl) {{\n    x.observe(outputEl, {childList: true});\n}}\n\n                        })\n                };\n                });\n            </script>\n        </div>"
     },
     "metadata": {},
     "output_type": "display_data"
    }
   ],
   "source": [
    "import plotly.graph_objects as go\n",
    "\n",
    "# Generate example data\n",
    "# import numpy as np\n",
    "# np.random.seed(1)\n",
    "#\n",
    "# x = np.random.uniform(low=3, high=6, size=(500,))\n",
    "# y = np.random.uniform(low=3, high=6, size=(500,))\n",
    "\n",
    "# Build figure\n",
    "fig = go.Figure()\n",
    "\n",
    "for i,j in zip(data, data1):\n",
    "    fig.add_trace(\n",
    "    go.Scatter(\n",
    "        mode='markers',\n",
    "        y=data.loc[data['Technologie']==\"Lignite\"],\n",
    "        x=data1[j],\n",
    "        marker=dict(\n",
    "            color='LightSkyBlue',\n",
    "            size=20,\n",
    "            line=dict(\n",
    "                color='Purple',\n",
    "                width=2\n",
    "                )\n",
    "            ),\n",
    "            showlegend=True\n",
    "        )\n",
    "    )\n",
    "# Add scatter trace with medium sized markers\n",
    "\n",
    "\n",
    "fig.show()"
   ],
   "metadata": {
    "collapsed": false,
    "pycharm": {
     "name": "#%%\n"
    }
   }
  },
  {
   "cell_type": "code",
   "execution_count": 1,
   "outputs": [
    {
     "ename": "NameError",
     "evalue": "name 'data' is not defined",
     "output_type": "error",
     "traceback": [
      "\u001B[1;31m---------------------------------------------------------------------------\u001B[0m",
      "\u001B[1;31mNameError\u001B[0m                                 Traceback (most recent call last)",
      "\u001B[1;32m<ipython-input-1-1f9e8ed6fa7a>\u001B[0m in \u001B[0;36m<module>\u001B[1;34m\u001B[0m\n\u001B[0;32m      6\u001B[0m                 \u001B[1;31m#style='type',\u001B[0m\u001B[1;33m\u001B[0m\u001B[1;33m\u001B[0m\u001B[1;33m\u001B[0m\u001B[0m\n\u001B[0;32m      7\u001B[0m                 \u001B[0mhue\u001B[0m\u001B[1;33m=\u001B[0m\u001B[1;34m'Technologie'\u001B[0m\u001B[1;33m,\u001B[0m\u001B[1;33m\u001B[0m\u001B[1;33m\u001B[0m\u001B[0m\n\u001B[1;32m----> 8\u001B[1;33m                 \u001B[0mdata\u001B[0m\u001B[1;33m=\u001B[0m\u001B[0mdata\u001B[0m\u001B[1;33m,\u001B[0m\u001B[1;33m\u001B[0m\u001B[1;33m\u001B[0m\u001B[0m\n\u001B[0m\u001B[0;32m      9\u001B[0m                 ax=ax)\n\u001B[0;32m     10\u001B[0m \u001B[1;31m#ax.set_xlim(data.start_time.min(), df.start_time.max())\u001B[0m\u001B[1;33m\u001B[0m\u001B[1;33m\u001B[0m\u001B[1;33m\u001B[0m\u001B[0m\n",
      "\u001B[1;31mNameError\u001B[0m: name 'data' is not defined"
     ]
    },
    {
     "data": {
      "text/plain": "<Figure size 720x432 with 1 Axes>",
      "image/png": "[encoded data removed]"
     },
     "metadata": {
      "needs_background": "light"
     },
     "output_type": "display_data"
    }
   ],
   "source": [
    "import matplotlib.pyplot as plt\n",
    "import seaborn as sns\n",
    "\n",
    "fig, ax = plt.subplots(figsize=(10,6))\n",
    "sns.scatterplot(x='Coal',\n",
    "                #style='type',\n",
    "                hue='Technologie',\n",
    "                data=data,\n",
    "                ax=ax)\n",
    "#ax.set_xlim(data.start_time.min(), df.start_time.max())\n",
    "plt.show()"
   ],
   "metadata": {
    "collapsed": false,
    "pycharm": {
     "name": "#%%\n"
    }
   }
  },
  {
   "cell_type": "code",
   "execution_count": null,
   "outputs": [],
   "source": [
    "\n",
    "\n",
    "\n",
    "\n",
    "\n",
    "\n",
    "\n",
    "\n",
    "\n"
   ],
   "metadata": {
    "collapsed": false,
    "pycharm": {
     "name": "#%%\n"
    }
   }
  },
  {
   "cell_type": "code",
   "execution_count": 1,
   "outputs": [
    {
     "data": {
      "text/plain": "          Row  Total_CO2_Emissions Pol_Inst Technologie  Shock  Unnamed: 5  \\\n0  1455555555               1503.6  CO2_Cap     Lignite   -0.1   455555555   \n1  1535555555               1503.6  CO2_Cap         Gas   -0.2   535555555   \n2  1545555555               1503.6  CO2_Cap         Gas   -0.1   545555555   \n3  1553555555               1503.6  CO2_Cap    Hardcoal   -0.2   553555555   \n4  1554555555               1503.6  CO2_Cap    Hardcoal   -0.1   554555555   \n\n   Unnamed: 6  Unnamed: 7  Unnamed: 8  Unnamed: 9  Lignite  Coal  CCGT  OCGT  \\\n0           1         4.0         NaN         NaN      0.0     0   0.0   0.0   \n1           2         3.0         NaN         NaN      0.0     0   0.0   0.0   \n2           2         4.0         NaN         NaN      0.0     0   0.0   0.0   \n3           3         3.0         NaN         NaN      0.0     0   0.0   0.0   \n4           3         4.0         NaN         NaN      0.0     0   0.0   0.0   \n\n   Wind_Onshore  Wind_Offshore  Solar  LitIon  PSH  Total  \n0           0.0            0.0    0.0     0.0  0.0    0.0  \n1           0.0            0.0    0.0     0.0  0.0    0.0  \n2           0.0            0.0    0.0     0.0  0.0    0.0  \n3           0.0            0.0    0.0     0.0  0.0    0.0  \n4           0.0            0.0    0.0     0.0  0.0    0.0  ",
      "text/html": "<div>\n<style scoped>\n    .dataframe tbody tr th:only-of-type {\n        vertical-align: middle;\n    }\n\n    .dataframe tbody tr th {\n        vertical-align: top;\n    }\n\n    .dataframe thead th {\n        text-align: right;\n    }\n</style>\n<table border=\"1\" class=\"dataframe\">\n  <thead>\n    <tr style=\"text-align: right;\">\n      <th></th>\n      <th>Row</th>\n      <th>Total_CO2_Emissions</th>\n      <th>Pol_Inst</th>\n      <th>Technologie</th>\n      <th>Shock</th>\n      <th>Unnamed: 5</th>\n      <th>Unnamed: 6</th>\n      <th>Unnamed: 7</th>\n      <th>Unnamed: 8</th>\n      <th>Unnamed: 9</th>\n      <th>Lignite</th>\n      <th>Coal</th>\n      <th>CCGT</th>\n      <th>OCGT</th>\n      <th>Wind_Onshore</th>\n      <th>Wind_Offshore</th>\n      <th>Solar</th>\n      <th>LitIon</th>\n      <th>PSH</th>\n      <th>Total</th>\n    </tr>\n  </thead>\n  <tbody>\n    <tr>\n      <th>0</th>\n      <td>1455555555</td>\n      <td>1503.6</td>\n      <td>CO2_Cap</td>\n      <td>Lignite</td>\n      <td>-0.1</td>\n      <td>455555555</td>\n      <td>1</td>\n      <td>4.0</td>\n      <td>NaN</td>\n      <td>NaN</td>\n      <td>0.0</td>\n      <td>0</td>\n      <td>0.0</td>\n      <td>0.0</td>\n      <td>0.0</td>\n      <td>0.0</td>\n      <td>0.0</td>\n      <td>0.0</td>\n      <td>0.0</td>\n      <td>0.0</td>\n    </tr>\n    <tr>\n      <th>1</th>\n      <td>1535555555</td>\n      <td>1503.6</td>\n      <td>CO2_Cap</td>\n      <td>Gas</td>\n      <td>-0.2</td>\n      <td>535555555</td>\n      <td>2</td>\n      <td>3.0</td>\n      <td>NaN</td>\n      <td>NaN</td>\n      <td>0.0</td>\n      <td>0</td>\n      <td>0.0</td>\n      <td>0.0</td>\n      <td>0.0</td>\n      <td>0.0</td>\n      <td>0.0</td>\n      <td>0.0</td>\n      <td>0.0</td>\n      <td>0.0</td>\n    </tr>\n    <tr>\n      <th>2</th>\n      <td>1545555555</td>\n      <td>1503.6</td>\n      <td>CO2_Cap</td>\n      <td>Gas</td>\n      <td>-0.1</td>\n      <td>545555555</td>\n      <td>2</td>\n      <td>4.0</td>\n      <td>NaN</td>\n      <td>NaN</td>\n      <td>0.0</td>\n      <td>0</td>\n      <td>0.0</td>\n      <td>0.0</td>\n      <td>0.0</td>\n      <td>0.0</td>\n      <td>0.0</td>\n      <td>0.0</td>\n      <td>0.0</td>\n      <td>0.0</td>\n    </tr>\n    <tr>\n      <th>3</th>\n      <td>1553555555</td>\n      <td>1503.6</td>\n      <td>CO2_Cap</td>\n      <td>Hardcoal</td>\n      <td>-0.2</td>\n      <td>553555555</td>\n      <td>3</td>\n      <td>3.0</td>\n      <td>NaN</td>\n      <td>NaN</td>\n      <td>0.0</td>\n      <td>0</td>\n      <td>0.0</td>\n      <td>0.0</td>\n      <td>0.0</td>\n      <td>0.0</td>\n      <td>0.0</td>\n      <td>0.0</td>\n      <td>0.0</td>\n      <td>0.0</td>\n    </tr>\n    <tr>\n      <th>4</th>\n      <td>1554555555</td>\n      <td>1503.6</td>\n      <td>CO2_Cap</td>\n      <td>Hardcoal</td>\n      <td>-0.1</td>\n      <td>554555555</td>\n      <td>3</td>\n      <td>4.0</td>\n      <td>NaN</td>\n      <td>NaN</td>\n      <td>0.0</td>\n      <td>0</td>\n      <td>0.0</td>\n      <td>0.0</td>\n      <td>0.0</td>\n      <td>0.0</td>\n      <td>0.0</td>\n      <td>0.0</td>\n      <td>0.0</td>\n      <td>0.0</td>\n    </tr>\n  </tbody>\n</table>\n</div>"
     },
     "execution_count": 1,
     "metadata": {},
     "output_type": "execute_result"
    }
   ],
   "source": [
    "\n",
    "from bokeh.models import NumeralTickFormatter\n",
    "from bokeh.plotting import figure, output_file, show\n",
    "from bokeh.models import Title\n",
    "import pandas as pd\n",
    "import matplotlib.pyplot as plt\n",
    "#names1 = [\"Total_Co2_Emissions\",\"Pol_Inst\",\"Technologie\",\"Shock\",\"Lignite\",\"Coal\",\"CCGT\",\"OCGT\",\"Wind_Onshore\",\"Wind_Offshore\",\"Solar\",\"LitIon\",\"PSH\",\"Total\"]\n",
    "data = pd.read_excel(r'Figures_Data_Preparation_9-12.xlsx', sheet_name = 'Figure 9-12', skiprows=[1])\n",
    "#df = df.set_index([df.iloc[0], df.columns[0]])\n",
    "data.head()"
   ],
   "metadata": {
    "collapsed": false,
    "pycharm": {
     "name": "#%%\n"
    }
   }
  },
  {
   "cell_type": "code",
   "execution_count": 2,
   "outputs": [
    {
     "data": {
      "text/plain": "Row                      int64\nTotal_CO2_Emissions    float64\nPol_Inst                object\nTechnologie             object\nShock                  float64\nUnnamed: 5               int64\nUnnamed: 6               int64\nUnnamed: 7             float64\nUnnamed: 8             float64\nUnnamed: 9             float64\nLignite                float64\nCoal                     int64\nCCGT                   float64\nOCGT                   float64\nWind_Onshore           float64\nWind_Offshore          float64\nSolar                  float64\nLitIon                 float64\nPSH                    float64\nTotal                  float64\ndtype: object"
     },
     "execution_count": 2,
     "metadata": {},
     "output_type": "execute_result"
    }
   ],
   "source": [
    "data.dtypes"
   ],
   "metadata": {
    "collapsed": false,
    "pycharm": {
     "name": "#%%\n"
    }
   }
  },
  {
   "cell_type": "code",
   "execution_count": 3,
   "outputs": [
    {
     "data": {
      "text/plain": "Index(['Row', 'Total_CO2_Emissions', 'Pol_Inst', 'Technologie', 'Shock',\n       'Unnamed: 5', 'Unnamed: 6', 'Unnamed: 7', 'Unnamed: 8', 'Unnamed: 9',\n       'Lignite', 'Coal', 'CCGT', 'OCGT', 'Wind_Onshore', 'Wind_Offshore',\n       'Solar', 'LitIon', 'PSH', 'Total'],\n      dtype='object')"
     },
     "execution_count": 3,
     "metadata": {},
     "output_type": "execute_result"
    }
   ],
   "source": [
    "data.columns\n"
   ],
   "metadata": {
    "collapsed": false,
    "pycharm": {
     "name": "#%%\n"
    }
   }
  },
  {
   "cell_type": "code",
   "execution_count": 4,
   "outputs": [
    {
     "data": {
      "text/plain": "      Technologie  Shock Pol_Inst  Lignite  Coal  CCGT  OCGT  Wind_Onshore  \\\n1             Gas   -0.2  CO2_Cap      0.0     0  0.00  0.00          0.00   \n3        Hardcoal   -0.2  CO2_Cap      0.0     0  0.00  0.00          0.00   \n5          Demand   -0.2  CO2_Cap      0.0     0 -0.55 -0.58         -0.15   \n7           Solar   -0.2  CO2_Cap      0.0     0  0.00 -0.01         -0.02   \n9    Wind_Onshore   -0.2  CO2_Cap      0.0     0  0.00  0.00         -0.17   \n..            ...    ...      ...      ...   ...   ...   ...           ...   \n138         Solar    0.2      FIT      0.0     0  0.00  0.00          0.00   \n140        Demand    0.2      FIT      0.0     0  0.00  0.00          0.00   \n142      Hardcoal    0.2      FIT      0.0     0  0.00  0.00          0.00   \n144           Gas    0.2      FIT      0.0     0 -0.01 -0.02          0.00   \n146       Lignite    0.2      FIT      0.0     0  0.00  0.00          0.00   \n\n     Wind_Offshore  Solar  LitIon   PSH  Total  \n1             0.00   0.00    0.00  0.00   0.00  \n3             0.00   0.00    0.00  0.00   0.00  \n5            -0.15  -0.14   -0.53 -0.33  -0.22  \n7            -0.04  -0.18    0.01 -0.01  -0.06  \n9            -0.13  -0.07   -0.25 -0.03  -0.11  \n..             ...    ...     ...   ...    ...  \n138           0.00   0.00    0.00  0.00   0.00  \n140           0.00   0.00   -0.01  0.00   0.00  \n142           0.00   0.00    0.00  0.00   0.00  \n144           0.00   0.00    0.00  0.00   0.00  \n146           0.00   0.00    0.00 -0.01   0.00  \n\n[71 rows x 13 columns]",
      "text/html": "<div>\n<style scoped>\n    .dataframe tbody tr th:only-of-type {\n        vertical-align: middle;\n    }\n\n    .dataframe tbody tr th {\n        vertical-align: top;\n    }\n\n    .dataframe thead th {\n        text-align: right;\n    }\n</style>\n<table border=\"1\" class=\"dataframe\">\n  <thead>\n    <tr style=\"text-align: right;\">\n      <th></th>\n      <th>Technologie</th>\n      <th>Shock</th>\n      <th>Pol_Inst</th>\n      <th>Lignite</th>\n      <th>Coal</th>\n      <th>CCGT</th>\n      <th>OCGT</th>\n      <th>Wind_Onshore</th>\n      <th>Wind_Offshore</th>\n      <th>Solar</th>\n      <th>LitIon</th>\n      <th>PSH</th>\n      <th>Total</th>\n    </tr>\n  </thead>\n  <tbody>\n    <tr>\n      <th>1</th>\n      <td>Gas</td>\n      <td>-0.2</td>\n      <td>CO2_Cap</td>\n      <td>0.0</td>\n      <td>0</td>\n      <td>0.00</td>\n      <td>0.00</td>\n      <td>0.00</td>\n      <td>0.00</td>\n      <td>0.00</td>\n      <td>0.00</td>\n      <td>0.00</td>\n      <td>0.00</td>\n    </tr>\n    <tr>\n      <th>3</th>\n      <td>Hardcoal</td>\n      <td>-0.2</td>\n      <td>CO2_Cap</td>\n      <td>0.0</td>\n      <td>0</td>\n      <td>0.00</td>\n      <td>0.00</td>\n      <td>0.00</td>\n      <td>0.00</td>\n      <td>0.00</td>\n      <td>0.00</td>\n      <td>0.00</td>\n      <td>0.00</td>\n    </tr>\n    <tr>\n      <th>5</th>\n      <td>Demand</td>\n      <td>-0.2</td>\n      <td>CO2_Cap</td>\n      <td>0.0</td>\n      <td>0</td>\n      <td>-0.55</td>\n      <td>-0.58</td>\n      <td>-0.15</td>\n      <td>-0.15</td>\n      <td>-0.14</td>\n      <td>-0.53</td>\n      <td>-0.33</td>\n      <td>-0.22</td>\n    </tr>\n    <tr>\n      <th>7</th>\n      <td>Solar</td>\n      <td>-0.2</td>\n      <td>CO2_Cap</td>\n      <td>0.0</td>\n      <td>0</td>\n      <td>0.00</td>\n      <td>-0.01</td>\n      <td>-0.02</td>\n      <td>-0.04</td>\n      <td>-0.18</td>\n      <td>0.01</td>\n      <td>-0.01</td>\n      <td>-0.06</td>\n    </tr>\n    <tr>\n      <th>9</th>\n      <td>Wind_Onshore</td>\n      <td>-0.2</td>\n      <td>CO2_Cap</td>\n      <td>0.0</td>\n      <td>0</td>\n      <td>0.00</td>\n      <td>0.00</td>\n      <td>-0.17</td>\n      <td>-0.13</td>\n      <td>-0.07</td>\n      <td>-0.25</td>\n      <td>-0.03</td>\n      <td>-0.11</td>\n    </tr>\n    <tr>\n      <th>...</th>\n      <td>...</td>\n      <td>...</td>\n      <td>...</td>\n      <td>...</td>\n      <td>...</td>\n      <td>...</td>\n      <td>...</td>\n      <td>...</td>\n      <td>...</td>\n      <td>...</td>\n      <td>...</td>\n      <td>...</td>\n      <td>...</td>\n    </tr>\n    <tr>\n      <th>138</th>\n      <td>Solar</td>\n      <td>0.2</td>\n      <td>FIT</td>\n      <td>0.0</td>\n      <td>0</td>\n      <td>0.00</td>\n      <td>0.00</td>\n      <td>0.00</td>\n      <td>0.00</td>\n      <td>0.00</td>\n      <td>0.00</td>\n      <td>0.00</td>\n      <td>0.00</td>\n    </tr>\n    <tr>\n      <th>140</th>\n      <td>Demand</td>\n      <td>0.2</td>\n      <td>FIT</td>\n      <td>0.0</td>\n      <td>0</td>\n      <td>0.00</td>\n      <td>0.00</td>\n      <td>0.00</td>\n      <td>0.00</td>\n      <td>0.00</td>\n      <td>-0.01</td>\n      <td>0.00</td>\n      <td>0.00</td>\n    </tr>\n    <tr>\n      <th>142</th>\n      <td>Hardcoal</td>\n      <td>0.2</td>\n      <td>FIT</td>\n      <td>0.0</td>\n      <td>0</td>\n      <td>0.00</td>\n      <td>0.00</td>\n      <td>0.00</td>\n      <td>0.00</td>\n      <td>0.00</td>\n      <td>0.00</td>\n      <td>0.00</td>\n      <td>0.00</td>\n    </tr>\n    <tr>\n      <th>144</th>\n      <td>Gas</td>\n      <td>0.2</td>\n      <td>FIT</td>\n      <td>0.0</td>\n      <td>0</td>\n      <td>-0.01</td>\n      <td>-0.02</td>\n      <td>0.00</td>\n      <td>0.00</td>\n      <td>0.00</td>\n      <td>0.00</td>\n      <td>0.00</td>\n      <td>0.00</td>\n    </tr>\n    <tr>\n      <th>146</th>\n      <td>Lignite</td>\n      <td>0.2</td>\n      <td>FIT</td>\n      <td>0.0</td>\n      <td>0</td>\n      <td>0.00</td>\n      <td>0.00</td>\n      <td>0.00</td>\n      <td>0.00</td>\n      <td>0.00</td>\n      <td>0.00</td>\n      <td>-0.01</td>\n      <td>0.00</td>\n    </tr>\n  </tbody>\n</table>\n<p>71 rows × 13 columns</p>\n</div>"
     },
     "execution_count": 4,
     "metadata": {},
     "output_type": "execute_result"
    }
   ],
   "source": [
    "data0 = data[['Technologie', \"Shock\", \"Pol_Inst\" ,'Lignite', 'Coal', 'CCGT', 'OCGT', 'Wind_Onshore', 'Wind_Offshore',\n",
    "       'Solar', 'LitIon', 'PSH', 'Total']]\n",
    "\n",
    "data0 = data0.loc[data['Technologie']!='no']\n",
    "data0 = data0.loc[(data[\"Shock\"] == -0.2) | (data[\"Shock\"] == 0.2)]\n",
    "\n",
    "data0\n",
    "\n"
   ],
   "metadata": {
    "collapsed": false,
    "pycharm": {
     "name": "#%%\n"
    }
   }
  },
  {
   "cell_type": "code",
   "execution_count": 5,
   "outputs": [],
   "source": [
    "data_co2_cap0 = data0.loc[data['Pol_Inst']=='CO2_Cap']"
   ],
   "metadata": {
    "collapsed": false,
    "pycharm": {
     "name": "#%%\n"
    }
   }
  },
  {
   "cell_type": "code",
   "execution_count": 6,
   "outputs": [],
   "source": [
    "data_co2_cap = data_co2_cap0[['Technologie','Lignite', 'Coal', 'CCGT', 'OCGT', 'Wind_Onshore', 'Wind_Offshore',\n",
    "       'Solar', 'LitIon', 'PSH', 'Total']]"
   ],
   "metadata": {
    "collapsed": false,
    "pycharm": {
     "name": "#%%\n"
    }
   }
  },
  {
   "cell_type": "code",
   "execution_count": 7,
   "outputs": [
    {
     "data": {
      "text/plain": "      Technologie  Shock Pol_Inst  Lignite  Coal  CCGT  OCGT  Wind_Onshore  \\\n1             Gas   -0.2  CO2_Cap      0.0     0  0.00  0.00          0.00   \n3        Hardcoal   -0.2  CO2_Cap      0.0     0  0.00  0.00          0.00   \n5          Demand   -0.2  CO2_Cap      0.0     0 -0.55 -0.58         -0.15   \n7           Solar   -0.2  CO2_Cap      0.0     0  0.00 -0.01         -0.02   \n9    Wind_Onshore   -0.2  CO2_Cap      0.0     0  0.00  0.00         -0.17   \n11  Wind_Offshore   -0.2  CO2_Cap      0.0     0  0.00  0.00         -0.12   \n13        Lit_Ion   -0.2  CO2_Cap      0.0     0  0.00  0.00          0.00   \n15            PSH   -0.2  CO2_Cap      0.0     0  0.00 -0.07          0.00   \n19            PSH    0.2  CO2_Cap      0.0     0  0.00  0.00          0.00   \n21        Lit_Ion    0.2  CO2_Cap      0.0     0  0.00  0.00          0.00   \n23  Wind_Offshore    0.2  CO2_Cap      0.0     0  0.00  0.00          0.00   \n25   Wind_Onshore    0.2  CO2_Cap      0.0     0  0.00  0.00          0.06   \n27          Solar    0.2  CO2_Cap      0.0     0  0.00  0.00          0.00   \n29         Demand    0.2  CO2_Cap      0.0     0  0.00 -0.05          0.00   \n31       Hardcoal    0.2  CO2_Cap      0.0     0  0.00  0.00          0.00   \n33            Gas    0.2  CO2_Cap      0.0     0  0.00  0.00          0.00   \n35        Lignite    0.2  CO2_Cap      0.0     0  0.00  0.00          0.00   \n\n    Wind_Offshore  Solar  LitIon   PSH  Total  \n1            0.00   0.00    0.00  0.00   0.00  \n3            0.00   0.00    0.00  0.00   0.00  \n5           -0.15  -0.14   -0.53 -0.33  -0.22  \n7           -0.04  -0.18    0.01 -0.01  -0.06  \n9           -0.13  -0.07   -0.25 -0.03  -0.11  \n11          -0.17  -0.14   -0.07 -0.08  -0.12  \n13           0.00   0.00   -0.16 -0.01   0.00  \n15           0.00   0.00   -0.09 -0.18  -0.01  \n19           0.00   0.00    0.02  0.04   0.00  \n21           0.00   0.00    0.08  0.01   0.00  \n23           0.01   0.00   -0.02 -0.01   0.00  \n25           0.00   0.00   -0.01 -0.07   0.02  \n27           0.00   0.06    0.00 -0.02   0.01  \n29           0.00   0.00    0.05 -0.03   0.00  \n31           0.00   0.00    0.00  0.00   0.00  \n33           0.00   0.00    0.00  0.00   0.00  \n35           0.00   0.00    0.00  0.00   0.00  ",
      "text/html": "<div>\n<style scoped>\n    .dataframe tbody tr th:only-of-type {\n        vertical-align: middle;\n    }\n\n    .dataframe tbody tr th {\n        vertical-align: top;\n    }\n\n    .dataframe thead th {\n        text-align: right;\n    }\n</style>\n<table border=\"1\" class=\"dataframe\">\n  <thead>\n    <tr style=\"text-align: right;\">\n      <th></th>\n      <th>Technologie</th>\n      <th>Shock</th>\n      <th>Pol_Inst</th>\n      <th>Lignite</th>\n      <th>Coal</th>\n      <th>CCGT</th>\n      <th>OCGT</th>\n      <th>Wind_Onshore</th>\n      <th>Wind_Offshore</th>\n      <th>Solar</th>\n      <th>LitIon</th>\n      <th>PSH</th>\n      <th>Total</th>\n    </tr>\n  </thead>\n  <tbody>\n    <tr>\n      <th>1</th>\n      <td>Gas</td>\n      <td>-0.2</td>\n      <td>CO2_Cap</td>\n      <td>0.0</td>\n      <td>0</td>\n      <td>0.00</td>\n      <td>0.00</td>\n      <td>0.00</td>\n      <td>0.00</td>\n      <td>0.00</td>\n      <td>0.00</td>\n      <td>0.00</td>\n      <td>0.00</td>\n    </tr>\n    <tr>\n      <th>3</th>\n      <td>Hardcoal</td>\n      <td>-0.2</td>\n      <td>CO2_Cap</td>\n      <td>0.0</td>\n      <td>0</td>\n      <td>0.00</td>\n      <td>0.00</td>\n      <td>0.00</td>\n      <td>0.00</td>\n      <td>0.00</td>\n      <td>0.00</td>\n      <td>0.00</td>\n      <td>0.00</td>\n    </tr>\n    <tr>\n      <th>5</th>\n      <td>Demand</td>\n      <td>-0.2</td>\n      <td>CO2_Cap</td>\n      <td>0.0</td>\n      <td>0</td>\n      <td>-0.55</td>\n      <td>-0.58</td>\n      <td>-0.15</td>\n      <td>-0.15</td>\n      <td>-0.14</td>\n      <td>-0.53</td>\n      <td>-0.33</td>\n      <td>-0.22</td>\n    </tr>\n    <tr>\n      <th>7</th>\n      <td>Solar</td>\n      <td>-0.2</td>\n      <td>CO2_Cap</td>\n      <td>0.0</td>\n      <td>0</td>\n      <td>0.00</td>\n      <td>-0.01</td>\n      <td>-0.02</td>\n      <td>-0.04</td>\n      <td>-0.18</td>\n      <td>0.01</td>\n      <td>-0.01</td>\n      <td>-0.06</td>\n    </tr>\n    <tr>\n      <th>9</th>\n      <td>Wind_Onshore</td>\n      <td>-0.2</td>\n      <td>CO2_Cap</td>\n      <td>0.0</td>\n      <td>0</td>\n      <td>0.00</td>\n      <td>0.00</td>\n      <td>-0.17</td>\n      <td>-0.13</td>\n      <td>-0.07</td>\n      <td>-0.25</td>\n      <td>-0.03</td>\n      <td>-0.11</td>\n    </tr>\n    <tr>\n      <th>11</th>\n      <td>Wind_Offshore</td>\n      <td>-0.2</td>\n      <td>CO2_Cap</td>\n      <td>0.0</td>\n      <td>0</td>\n      <td>0.00</td>\n      <td>0.00</td>\n      <td>-0.12</td>\n      <td>-0.17</td>\n      <td>-0.14</td>\n      <td>-0.07</td>\n      <td>-0.08</td>\n      <td>-0.12</td>\n    </tr>\n    <tr>\n      <th>13</th>\n      <td>Lit_Ion</td>\n      <td>-0.2</td>\n      <td>CO2_Cap</td>\n      <td>0.0</td>\n      <td>0</td>\n      <td>0.00</td>\n      <td>0.00</td>\n      <td>0.00</td>\n      <td>0.00</td>\n      <td>0.00</td>\n      <td>-0.16</td>\n      <td>-0.01</td>\n      <td>0.00</td>\n    </tr>\n    <tr>\n      <th>15</th>\n      <td>PSH</td>\n      <td>-0.2</td>\n      <td>CO2_Cap</td>\n      <td>0.0</td>\n      <td>0</td>\n      <td>0.00</td>\n      <td>-0.07</td>\n      <td>0.00</td>\n      <td>0.00</td>\n      <td>0.00</td>\n      <td>-0.09</td>\n      <td>-0.18</td>\n      <td>-0.01</td>\n    </tr>\n    <tr>\n      <th>19</th>\n      <td>PSH</td>\n      <td>0.2</td>\n      <td>CO2_Cap</td>\n      <td>0.0</td>\n      <td>0</td>\n      <td>0.00</td>\n      <td>0.00</td>\n      <td>0.00</td>\n      <td>0.00</td>\n      <td>0.00</td>\n      <td>0.02</td>\n      <td>0.04</td>\n      <td>0.00</td>\n    </tr>\n    <tr>\n      <th>21</th>\n      <td>Lit_Ion</td>\n      <td>0.2</td>\n      <td>CO2_Cap</td>\n      <td>0.0</td>\n      <td>0</td>\n      <td>0.00</td>\n      <td>0.00</td>\n      <td>0.00</td>\n      <td>0.00</td>\n      <td>0.00</td>\n      <td>0.08</td>\n      <td>0.01</td>\n      <td>0.00</td>\n    </tr>\n    <tr>\n      <th>23</th>\n      <td>Wind_Offshore</td>\n      <td>0.2</td>\n      <td>CO2_Cap</td>\n      <td>0.0</td>\n      <td>0</td>\n      <td>0.00</td>\n      <td>0.00</td>\n      <td>0.00</td>\n      <td>0.01</td>\n      <td>0.00</td>\n      <td>-0.02</td>\n      <td>-0.01</td>\n      <td>0.00</td>\n    </tr>\n    <tr>\n      <th>25</th>\n      <td>Wind_Onshore</td>\n      <td>0.2</td>\n      <td>CO2_Cap</td>\n      <td>0.0</td>\n      <td>0</td>\n      <td>0.00</td>\n      <td>0.00</td>\n      <td>0.06</td>\n      <td>0.00</td>\n      <td>0.00</td>\n      <td>-0.01</td>\n      <td>-0.07</td>\n      <td>0.02</td>\n    </tr>\n    <tr>\n      <th>27</th>\n      <td>Solar</td>\n      <td>0.2</td>\n      <td>CO2_Cap</td>\n      <td>0.0</td>\n      <td>0</td>\n      <td>0.00</td>\n      <td>0.00</td>\n      <td>0.00</td>\n      <td>0.00</td>\n      <td>0.06</td>\n      <td>0.00</td>\n      <td>-0.02</td>\n      <td>0.01</td>\n    </tr>\n    <tr>\n      <th>29</th>\n      <td>Demand</td>\n      <td>0.2</td>\n      <td>CO2_Cap</td>\n      <td>0.0</td>\n      <td>0</td>\n      <td>0.00</td>\n      <td>-0.05</td>\n      <td>0.00</td>\n      <td>0.00</td>\n      <td>0.00</td>\n      <td>0.05</td>\n      <td>-0.03</td>\n      <td>0.00</td>\n    </tr>\n    <tr>\n      <th>31</th>\n      <td>Hardcoal</td>\n      <td>0.2</td>\n      <td>CO2_Cap</td>\n      <td>0.0</td>\n      <td>0</td>\n      <td>0.00</td>\n      <td>0.00</td>\n      <td>0.00</td>\n      <td>0.00</td>\n      <td>0.00</td>\n      <td>0.00</td>\n      <td>0.00</td>\n      <td>0.00</td>\n    </tr>\n    <tr>\n      <th>33</th>\n      <td>Gas</td>\n      <td>0.2</td>\n      <td>CO2_Cap</td>\n      <td>0.0</td>\n      <td>0</td>\n      <td>0.00</td>\n      <td>0.00</td>\n      <td>0.00</td>\n      <td>0.00</td>\n      <td>0.00</td>\n      <td>0.00</td>\n      <td>0.00</td>\n      <td>0.00</td>\n    </tr>\n    <tr>\n      <th>35</th>\n      <td>Lignite</td>\n      <td>0.2</td>\n      <td>CO2_Cap</td>\n      <td>0.0</td>\n      <td>0</td>\n      <td>0.00</td>\n      <td>0.00</td>\n      <td>0.00</td>\n      <td>0.00</td>\n      <td>0.00</td>\n      <td>0.00</td>\n      <td>0.00</td>\n      <td>0.00</td>\n    </tr>\n  </tbody>\n</table>\n</div>"
     },
     "execution_count": 7,
     "metadata": {},
     "output_type": "execute_result"
    }
   ],
   "source": [
    "data_co2_cap0"
   ],
   "metadata": {
    "collapsed": false,
    "pycharm": {
     "name": "#%%\n"
    }
   }
  },
  {
   "cell_type": "code",
   "execution_count": 8,
   "outputs": [
    {
     "data": {
      "text/plain": "['#ADD8E6',\n '#414141',\n '#FFA500',\n '#fff340',\n '#00b8f2',\n '#a19595',\n '#f23333',\n '#2397fc']"
     },
     "execution_count": 8,
     "metadata": {},
     "output_type": "execute_result"
    }
   ],
   "source": [
    "hue1 = [\"#ADD8E6\", \"#414141\", \"#FFA500\", \"#fff340\", \"#00b8f2\", \"#a19595\", \"#f23333\", \"#2397fc\"]\n",
    "\n",
    "hue1"
   ],
   "metadata": {
    "collapsed": false,
    "pycharm": {
     "name": "#%%\n"
    }
   }
  },
  {
   "cell_type": "code",
   "execution_count": 21,
   "outputs": [],
   "source": [
    "import seaborn as sns\n",
    "import matplotlib.pyplot as plt\n",
    "df_melt=pd.melt(data_co2_cap,id_vars=['Technologie'], var_name='intensities', value_name='values')\n"
   ],
   "metadata": {
    "collapsed": false,
    "pycharm": {
     "name": "#%%\n"
    }
   }
  },
  {
   "cell_type": "code",
   "execution_count": 22,
   "outputs": [
    {
     "data": {
      "text/plain": "       Technologie    intensities  values\n36          Demand           CCGT   -0.55\n53          Demand           OCGT   -0.58\n54           Solar           OCGT   -0.01\n58             PSH           OCGT   -0.07\n64          Demand           OCGT   -0.05\n70          Demand   Wind_Onshore   -0.15\n71           Solar   Wind_Onshore   -0.02\n72    Wind_Onshore   Wind_Onshore   -0.17\n73   Wind_Offshore   Wind_Onshore   -0.12\n79    Wind_Onshore   Wind_Onshore    0.06\n87          Demand  Wind_Offshore   -0.15\n88           Solar  Wind_Offshore   -0.04\n89    Wind_Onshore  Wind_Offshore   -0.13\n90   Wind_Offshore  Wind_Offshore   -0.17\n95   Wind_Offshore  Wind_Offshore    0.01\n104         Demand          Solar   -0.14\n105          Solar          Solar   -0.18\n106   Wind_Onshore          Solar   -0.07\n107  Wind_Offshore          Solar   -0.14\n114          Solar          Solar    0.06\n121         Demand         LitIon   -0.53\n122          Solar         LitIon    0.01\n123   Wind_Onshore         LitIon   -0.25\n124  Wind_Offshore         LitIon   -0.07\n125        Lit_Ion         LitIon   -0.16\n126            PSH         LitIon   -0.09\n127            PSH         LitIon    0.02\n128        Lit_Ion         LitIon    0.08\n129  Wind_Offshore         LitIon   -0.02\n130   Wind_Onshore         LitIon   -0.01\n132         Demand         LitIon    0.05\n138         Demand            PSH   -0.33\n139          Solar            PSH   -0.01\n140   Wind_Onshore            PSH   -0.03\n141  Wind_Offshore            PSH   -0.08\n142        Lit_Ion            PSH   -0.01\n143            PSH            PSH   -0.18\n144            PSH            PSH    0.04\n145        Lit_Ion            PSH    0.01\n146  Wind_Offshore            PSH   -0.01\n147   Wind_Onshore            PSH   -0.07\n148          Solar            PSH   -0.02\n149         Demand            PSH   -0.03\n155         Demand          Total   -0.22\n156          Solar          Total   -0.06\n157   Wind_Onshore          Total   -0.11\n158  Wind_Offshore          Total   -0.12\n160            PSH          Total   -0.01\n164   Wind_Onshore          Total    0.02\n165          Solar          Total    0.01",
      "text/html": "<div>\n<style scoped>\n    .dataframe tbody tr th:only-of-type {\n        vertical-align: middle;\n    }\n\n    .dataframe tbody tr th {\n        vertical-align: top;\n    }\n\n    .dataframe thead th {\n        text-align: right;\n    }\n</style>\n<table border=\"1\" class=\"dataframe\">\n  <thead>\n    <tr style=\"text-align: right;\">\n      <th></th>\n      <th>Technologie</th>\n      <th>intensities</th>\n      <th>values</th>\n    </tr>\n  </thead>\n  <tbody>\n    <tr>\n      <th>36</th>\n      <td>Demand</td>\n      <td>CCGT</td>\n      <td>-0.55</td>\n    </tr>\n    <tr>\n      <th>53</th>\n      <td>Demand</td>\n      <td>OCGT</td>\n      <td>-0.58</td>\n    </tr>\n    <tr>\n      <th>54</th>\n      <td>Solar</td>\n      <td>OCGT</td>\n      <td>-0.01</td>\n    </tr>\n    <tr>\n      <th>58</th>\n      <td>PSH</td>\n      <td>OCGT</td>\n      <td>-0.07</td>\n    </tr>\n    <tr>\n      <th>64</th>\n      <td>Demand</td>\n      <td>OCGT</td>\n      <td>-0.05</td>\n    </tr>\n    <tr>\n      <th>70</th>\n      <td>Demand</td>\n      <td>Wind_Onshore</td>\n      <td>-0.15</td>\n    </tr>\n    <tr>\n      <th>71</th>\n      <td>Solar</td>\n      <td>Wind_Onshore</td>\n      <td>-0.02</td>\n    </tr>\n    <tr>\n      <th>72</th>\n      <td>Wind_Onshore</td>\n      <td>Wind_Onshore</td>\n      <td>-0.17</td>\n    </tr>\n    <tr>\n      <th>73</th>\n      <td>Wind_Offshore</td>\n      <td>Wind_Onshore</td>\n      <td>-0.12</td>\n    </tr>\n    <tr>\n      <th>79</th>\n      <td>Wind_Onshore</td>\n      <td>Wind_Onshore</td>\n      <td>0.06</td>\n    </tr>\n    <tr>\n      <th>87</th>\n      <td>Demand</td>\n      <td>Wind_Offshore</td>\n      <td>-0.15</td>\n    </tr>\n    <tr>\n      <th>88</th>\n      <td>Solar</td>\n      <td>Wind_Offshore</td>\n      <td>-0.04</td>\n    </tr>\n    <tr>\n      <th>89</th>\n      <td>Wind_Onshore</td>\n      <td>Wind_Offshore</td>\n      <td>-0.13</td>\n    </tr>\n    <tr>\n      <th>90</th>\n      <td>Wind_Offshore</td>\n      <td>Wind_Offshore</td>\n      <td>-0.17</td>\n    </tr>\n    <tr>\n      <th>95</th>\n      <td>Wind_Offshore</td>\n      <td>Wind_Offshore</td>\n      <td>0.01</td>\n    </tr>\n    <tr>\n      <th>104</th>\n      <td>Demand</td>\n      <td>Solar</td>\n      <td>-0.14</td>\n    </tr>\n    <tr>\n      <th>105</th>\n      <td>Solar</td>\n      <td>Solar</td>\n      <td>-0.18</td>\n    </tr>\n    <tr>\n      <th>106</th>\n      <td>Wind_Onshore</td>\n      <td>Solar</td>\n      <td>-0.07</td>\n    </tr>\n    <tr>\n      <th>107</th>\n      <td>Wind_Offshore</td>\n      <td>Solar</td>\n      <td>-0.14</td>\n    </tr>\n    <tr>\n      <th>114</th>\n      <td>Solar</td>\n      <td>Solar</td>\n      <td>0.06</td>\n    </tr>\n    <tr>\n      <th>121</th>\n      <td>Demand</td>\n      <td>LitIon</td>\n      <td>-0.53</td>\n    </tr>\n    <tr>\n      <th>122</th>\n      <td>Solar</td>\n      <td>LitIon</td>\n      <td>0.01</td>\n    </tr>\n    <tr>\n      <th>123</th>\n      <td>Wind_Onshore</td>\n      <td>LitIon</td>\n      <td>-0.25</td>\n    </tr>\n    <tr>\n      <th>124</th>\n      <td>Wind_Offshore</td>\n      <td>LitIon</td>\n      <td>-0.07</td>\n    </tr>\n    <tr>\n      <th>125</th>\n      <td>Lit_Ion</td>\n      <td>LitIon</td>\n      <td>-0.16</td>\n    </tr>\n    <tr>\n      <th>126</th>\n      <td>PSH</td>\n      <td>LitIon</td>\n      <td>-0.09</td>\n    </tr>\n    <tr>\n      <th>127</th>\n      <td>PSH</td>\n      <td>LitIon</td>\n      <td>0.02</td>\n    </tr>\n    <tr>\n      <th>128</th>\n      <td>Lit_Ion</td>\n      <td>LitIon</td>\n      <td>0.08</td>\n    </tr>\n    <tr>\n      <th>129</th>\n      <td>Wind_Offshore</td>\n      <td>LitIon</td>\n      <td>-0.02</td>\n    </tr>\n    <tr>\n      <th>130</th>\n      <td>Wind_Onshore</td>\n      <td>LitIon</td>\n      <td>-0.01</td>\n    </tr>\n    <tr>\n      <th>132</th>\n      <td>Demand</td>\n      <td>LitIon</td>\n      <td>0.05</td>\n    </tr>\n    <tr>\n      <th>138</th>\n      <td>Demand</td>\n      <td>PSH</td>\n      <td>-0.33</td>\n    </tr>\n    <tr>\n      <th>139</th>\n      <td>Solar</td>\n      <td>PSH</td>\n      <td>-0.01</td>\n    </tr>\n    <tr>\n      <th>140</th>\n      <td>Wind_Onshore</td>\n      <td>PSH</td>\n      <td>-0.03</td>\n    </tr>\n    <tr>\n      <th>141</th>\n      <td>Wind_Offshore</td>\n      <td>PSH</td>\n      <td>-0.08</td>\n    </tr>\n    <tr>\n      <th>142</th>\n      <td>Lit_Ion</td>\n      <td>PSH</td>\n      <td>-0.01</td>\n    </tr>\n    <tr>\n      <th>143</th>\n      <td>PSH</td>\n      <td>PSH</td>\n      <td>-0.18</td>\n    </tr>\n    <tr>\n      <th>144</th>\n      <td>PSH</td>\n      <td>PSH</td>\n      <td>0.04</td>\n    </tr>\n    <tr>\n      <th>145</th>\n      <td>Lit_Ion</td>\n      <td>PSH</td>\n      <td>0.01</td>\n    </tr>\n    <tr>\n      <th>146</th>\n      <td>Wind_Offshore</td>\n      <td>PSH</td>\n      <td>-0.01</td>\n    </tr>\n    <tr>\n      <th>147</th>\n      <td>Wind_Onshore</td>\n      <td>PSH</td>\n      <td>-0.07</td>\n    </tr>\n    <tr>\n      <th>148</th>\n      <td>Solar</td>\n      <td>PSH</td>\n      <td>-0.02</td>\n    </tr>\n    <tr>\n      <th>149</th>\n      <td>Demand</td>\n      <td>PSH</td>\n      <td>-0.03</td>\n    </tr>\n    <tr>\n      <th>155</th>\n      <td>Demand</td>\n      <td>Total</td>\n      <td>-0.22</td>\n    </tr>\n    <tr>\n      <th>156</th>\n      <td>Solar</td>\n      <td>Total</td>\n      <td>-0.06</td>\n    </tr>\n    <tr>\n      <th>157</th>\n      <td>Wind_Onshore</td>\n      <td>Total</td>\n      <td>-0.11</td>\n    </tr>\n    <tr>\n      <th>158</th>\n      <td>Wind_Offshore</td>\n      <td>Total</td>\n      <td>-0.12</td>\n    </tr>\n    <tr>\n      <th>160</th>\n      <td>PSH</td>\n      <td>Total</td>\n      <td>-0.01</td>\n    </tr>\n    <tr>\n      <th>164</th>\n      <td>Wind_Onshore</td>\n      <td>Total</td>\n      <td>0.02</td>\n    </tr>\n    <tr>\n      <th>165</th>\n      <td>Solar</td>\n      <td>Total</td>\n      <td>0.01</td>\n    </tr>\n  </tbody>\n</table>\n</div>"
     },
     "execution_count": 22,
     "metadata": {},
     "output_type": "execute_result"
    }
   ],
   "source": [
    "df = df_melt[(df_melt[['values']] != 0).all(axis=1)]\n",
    "\n",
    "df"
   ],
   "metadata": {
    "collapsed": false,
    "pycharm": {
     "name": "#%%\n"
    }
   }
  },
  {
   "cell_type": "code",
   "execution_count": 23,
   "outputs": [
    {
     "data": {
      "text/plain": "array(['Lignite', 'Gas', 'Hardcoal', 'Demand', 'Solar', 'Wind_Onshore',\n       'Wind_Offshore', 'Lit_Ion', 'PSH', 'no'], dtype=object)"
     },
     "execution_count": 23,
     "metadata": {},
     "output_type": "execute_result"
    }
   ],
   "source": [
    "data[\"Technologie\"].unique()\n",
    "\n",
    "#['Technologie','Lignite', 'Coal', 'CCGT', 'OCGT', 'Wind_Onshore', 'Wind_Offshore',\n",
    "#       'Solar', 'LitIon', 'PSH', 'Total']"
   ],
   "metadata": {
    "collapsed": false,
    "pycharm": {
     "name": "#%%\n"
    }
   }
  },
  {
   "cell_type": "code",
   "execution_count": 45,
   "outputs": [
    {
     "name": "stderr",
     "output_type": "stream",
     "text": [
      "c:\\users\\shakh\\appdata\\local\\programs\\python\\python38-32\\lib\\site-packages\\seaborn\\categorical.py:3692: UserWarning: The `size` parameter has been renamed to `height`; please update your code.\n",
      "  warnings.warn(msg, UserWarning)\n"
     ]
    },
    {
     "ename": "AttributeError",
     "evalue": "'Line2D' object has no property 'markers'",
     "output_type": "error",
     "traceback": [
      "\u001B[1;31m---------------------------------------------------------------------------\u001B[0m",
      "\u001B[1;31mAttributeError\u001B[0m                            Traceback (most recent call last)",
      "\u001B[1;32m<ipython-input-45-10bbf874330a>\u001B[0m in \u001B[0;36m<module>\u001B[1;34m\u001B[0m\n\u001B[0;32m      9\u001B[0m \u001B[0max\u001B[0m\u001B[1;33m.\u001B[0m\u001B[0mset_xticklabels\u001B[0m\u001B[1;33m(\u001B[0m\u001B[0mrotation\u001B[0m \u001B[1;33m=\u001B[0m \u001B[1;36m45\u001B[0m\u001B[1;33m)\u001B[0m\u001B[1;33m\u001B[0m\u001B[1;33m\u001B[0m\u001B[0m\n\u001B[0;32m     10\u001B[0m \u001B[1;33m\u001B[0m\u001B[0m\n\u001B[1;32m---> 11\u001B[1;33m \u001B[0max\u001B[0m\u001B[1;33m.\u001B[0m\u001B[0maxes\u001B[0m\u001B[1;33m[\u001B[0m\u001B[1;36m0\u001B[0m\u001B[1;33m]\u001B[0m\u001B[1;33m[\u001B[0m\u001B[1;36m0\u001B[0m\u001B[1;33m]\u001B[0m\u001B[1;33m.\u001B[0m\u001B[0maxhline\u001B[0m\u001B[1;33m(\u001B[0m\u001B[0my\u001B[0m \u001B[1;33m=\u001B[0m \u001B[1;36m0\u001B[0m\u001B[1;33m,\u001B[0m \u001B[0mls\u001B[0m\u001B[1;33m=\u001B[0m\u001B[1;34m'--'\u001B[0m\u001B[1;33m,\u001B[0m \u001B[0mcolor\u001B[0m\u001B[1;33m=\u001B[0m\u001B[1;34m'blue'\u001B[0m\u001B[1;33m,\u001B[0m \u001B[0mmarkers\u001B[0m \u001B[1;33m=\u001B[0m \u001B[1;34m'-'\u001B[0m\u001B[1;33m,\u001B[0m \u001B[0mlinewidth\u001B[0m\u001B[1;33m=\u001B[0m\u001B[1;36m2\u001B[0m\u001B[1;33m,\u001B[0m \u001B[0malpha\u001B[0m\u001B[1;33m=\u001B[0m\u001B[1;36m.7\u001B[0m\u001B[1;33m)\u001B[0m\u001B[1;33m\u001B[0m\u001B[1;33m\u001B[0m\u001B[0m\n\u001B[0m\u001B[0;32m     12\u001B[0m \u001B[1;33m\u001B[0m\u001B[0m\n\u001B[0;32m     13\u001B[0m \u001B[0mlegend\u001B[0m\u001B[1;33m(\u001B[0m\u001B[1;33m)\u001B[0m\u001B[1;33m\u001B[0m\u001B[1;33m\u001B[0m\u001B[0m\n",
      "\u001B[1;32mc:\\users\\shakh\\appdata\\local\\programs\\python\\python38-32\\lib\\site-packages\\matplotlib\\axes\\_axes.py\u001B[0m in \u001B[0;36maxhline\u001B[1;34m(self, y, xmin, xmax, **kwargs)\u001B[0m\n\u001B[0;32m    844\u001B[0m \u001B[1;33m\u001B[0m\u001B[0m\n\u001B[0;32m    845\u001B[0m         \u001B[0mtrans\u001B[0m \u001B[1;33m=\u001B[0m \u001B[0mself\u001B[0m\u001B[1;33m.\u001B[0m\u001B[0mget_yaxis_transform\u001B[0m\u001B[1;33m(\u001B[0m\u001B[0mwhich\u001B[0m\u001B[1;33m=\u001B[0m\u001B[1;34m'grid'\u001B[0m\u001B[1;33m)\u001B[0m\u001B[1;33m\u001B[0m\u001B[1;33m\u001B[0m\u001B[0m\n\u001B[1;32m--> 846\u001B[1;33m         \u001B[0ml\u001B[0m \u001B[1;33m=\u001B[0m \u001B[0mmlines\u001B[0m\u001B[1;33m.\u001B[0m\u001B[0mLine2D\u001B[0m\u001B[1;33m(\u001B[0m\u001B[1;33m[\u001B[0m\u001B[0mxmin\u001B[0m\u001B[1;33m,\u001B[0m \u001B[0mxmax\u001B[0m\u001B[1;33m]\u001B[0m\u001B[1;33m,\u001B[0m \u001B[1;33m[\u001B[0m\u001B[0my\u001B[0m\u001B[1;33m,\u001B[0m \u001B[0my\u001B[0m\u001B[1;33m]\u001B[0m\u001B[1;33m,\u001B[0m \u001B[0mtransform\u001B[0m\u001B[1;33m=\u001B[0m\u001B[0mtrans\u001B[0m\u001B[1;33m,\u001B[0m \u001B[1;33m**\u001B[0m\u001B[0mkwargs\u001B[0m\u001B[1;33m)\u001B[0m\u001B[1;33m\u001B[0m\u001B[1;33m\u001B[0m\u001B[0m\n\u001B[0m\u001B[0;32m    847\u001B[0m         \u001B[0mself\u001B[0m\u001B[1;33m.\u001B[0m\u001B[0madd_line\u001B[0m\u001B[1;33m(\u001B[0m\u001B[0ml\u001B[0m\u001B[1;33m)\u001B[0m\u001B[1;33m\u001B[0m\u001B[1;33m\u001B[0m\u001B[0m\n\u001B[0;32m    848\u001B[0m         \u001B[0mself\u001B[0m\u001B[1;33m.\u001B[0m\u001B[0m_request_autoscale_view\u001B[0m\u001B[1;33m(\u001B[0m\u001B[0mscalex\u001B[0m\u001B[1;33m=\u001B[0m\u001B[1;32mFalse\u001B[0m\u001B[1;33m,\u001B[0m \u001B[0mscaley\u001B[0m\u001B[1;33m=\u001B[0m\u001B[0mscaley\u001B[0m\u001B[1;33m)\u001B[0m\u001B[1;33m\u001B[0m\u001B[1;33m\u001B[0m\u001B[0m\n",
      "\u001B[1;32mc:\\users\\shakh\\appdata\\local\\programs\\python\\python38-32\\lib\\site-packages\\matplotlib\\lines.py\u001B[0m in \u001B[0;36m__init__\u001B[1;34m(self, xdata, ydata, linewidth, linestyle, color, marker, markersize, markeredgewidth, markeredgecolor, markerfacecolor, markerfacecoloralt, fillstyle, antialiased, dash_capstyle, solid_capstyle, dash_joinstyle, solid_joinstyle, pickradius, drawstyle, markevery, **kwargs)\u001B[0m\n\u001B[0;32m    388\u001B[0m         \u001B[1;31m# update kwargs before updating data to give the caller a\u001B[0m\u001B[1;33m\u001B[0m\u001B[1;33m\u001B[0m\u001B[1;33m\u001B[0m\u001B[0m\n\u001B[0;32m    389\u001B[0m         \u001B[1;31m# chance to init axes (and hence unit support)\u001B[0m\u001B[1;33m\u001B[0m\u001B[1;33m\u001B[0m\u001B[1;33m\u001B[0m\u001B[0m\n\u001B[1;32m--> 390\u001B[1;33m         \u001B[0mself\u001B[0m\u001B[1;33m.\u001B[0m\u001B[0mupdate\u001B[0m\u001B[1;33m(\u001B[0m\u001B[0mkwargs\u001B[0m\u001B[1;33m)\u001B[0m\u001B[1;33m\u001B[0m\u001B[1;33m\u001B[0m\u001B[0m\n\u001B[0m\u001B[0;32m    391\u001B[0m         \u001B[0mself\u001B[0m\u001B[1;33m.\u001B[0m\u001B[0mpickradius\u001B[0m \u001B[1;33m=\u001B[0m \u001B[0mpickradius\u001B[0m\u001B[1;33m\u001B[0m\u001B[1;33m\u001B[0m\u001B[0m\n\u001B[0;32m    392\u001B[0m         \u001B[0mself\u001B[0m\u001B[1;33m.\u001B[0m\u001B[0mind_offset\u001B[0m \u001B[1;33m=\u001B[0m \u001B[1;36m0\u001B[0m\u001B[1;33m\u001B[0m\u001B[1;33m\u001B[0m\u001B[0m\n",
      "\u001B[1;32mc:\\users\\shakh\\appdata\\local\\programs\\python\\python38-32\\lib\\site-packages\\matplotlib\\artist.py\u001B[0m in \u001B[0;36mupdate\u001B[1;34m(self, props)\u001B[0m\n\u001B[0;32m    994\u001B[0m                     \u001B[0mfunc\u001B[0m \u001B[1;33m=\u001B[0m \u001B[0mgetattr\u001B[0m\u001B[1;33m(\u001B[0m\u001B[0mself\u001B[0m\u001B[1;33m,\u001B[0m \u001B[1;34mf\"set_{k}\"\u001B[0m\u001B[1;33m,\u001B[0m \u001B[1;32mNone\u001B[0m\u001B[1;33m)\u001B[0m\u001B[1;33m\u001B[0m\u001B[1;33m\u001B[0m\u001B[0m\n\u001B[0;32m    995\u001B[0m                     \u001B[1;32mif\u001B[0m \u001B[1;32mnot\u001B[0m \u001B[0mcallable\u001B[0m\u001B[1;33m(\u001B[0m\u001B[0mfunc\u001B[0m\u001B[1;33m)\u001B[0m\u001B[1;33m:\u001B[0m\u001B[1;33m\u001B[0m\u001B[1;33m\u001B[0m\u001B[0m\n\u001B[1;32m--> 996\u001B[1;33m                         raise AttributeError(f\"{type(self).__name__!r} object \"\n\u001B[0m\u001B[0;32m    997\u001B[0m                                              f\"has no property {k!r}\")\n\u001B[0;32m    998\u001B[0m                     \u001B[0mret\u001B[0m\u001B[1;33m.\u001B[0m\u001B[0mappend\u001B[0m\u001B[1;33m(\u001B[0m\u001B[0mfunc\u001B[0m\u001B[1;33m(\u001B[0m\u001B[0mv\u001B[0m\u001B[1;33m)\u001B[0m\u001B[1;33m)\u001B[0m\u001B[1;33m\u001B[0m\u001B[1;33m\u001B[0m\u001B[0m\n",
      "\u001B[1;31mAttributeError\u001B[0m: 'Line2D' object has no property 'markers'"
     ]
    },
    {
     "data": {
      "text/plain": "<Figure size 468.875x360 with 1 Axes>",
      "image/png": "[encoded data removed]"
     },
     "metadata": {
      "needs_background": "light"
     },
     "output_type": "display_data"
    }
   ],
   "source": [
    "markers1 = {'Demand': '>', 'Hardcoal': \"s\", 'Solar': '<', 'Wind_Onshore' : '.',\n",
    "       'Wind_Offshore' : ',', 'Lit_Ion': '-', 'PSH':'#'}\n",
    "#    {\"Lunch\": \"s\", \"Dinner\": \"X\"}\n",
    "\n",
    "\n",
    "sns.set_palette(sns.color_palette(hue1))\n",
    "ax = sns.catplot(x=\"intensities\", y=\"values\", data=df, s=10, size=5, hue='Technologie', palette=sns.color_palette([\"#ADD8E6\", \"#414141\", \"#FFA500\", \"#fff340\", \"#00b8f2\", \"#a19595\", \"#f23333\", \"#2397fc\"]))\n",
    "\n",
    "ax.set_xticklabels(rotation = 45)\n",
    "\n",
    "ax.axes[0][0].axhline(y = 0, ls='--', color='blue', markers = '-', linewidth=2, alpha=.7)\n",
    "\n",
    "legend()"
   ],
   "metadata": {
    "collapsed": false,
    "pycharm": {
     "name": "#%%\n"
    }
   }
  },
  {
   "cell_type": "code",
   "execution_count": 12,
   "outputs": [
    {
     "data": {
      "text/plain": "      Technologie intensities  values\n0             Gas     Lignite    0.00\n1        Hardcoal     Lignite    0.00\n2          Demand     Lignite    0.00\n3           Solar     Lignite    0.00\n4    Wind_Onshore     Lignite    0.00\n..            ...         ...     ...\n165         Solar       Total    0.01\n166        Demand       Total    0.00\n167      Hardcoal       Total    0.00\n168           Gas       Total    0.00\n169       Lignite       Total    0.00\n\n[170 rows x 3 columns]",
      "text/html": "<div>\n<style scoped>\n    .dataframe tbody tr th:only-of-type {\n        vertical-align: middle;\n    }\n\n    .dataframe tbody tr th {\n        vertical-align: top;\n    }\n\n    .dataframe thead th {\n        text-align: right;\n    }\n</style>\n<table border=\"1\" class=\"dataframe\">\n  <thead>\n    <tr style=\"text-align: right;\">\n      <th></th>\n      <th>Technologie</th>\n      <th>intensities</th>\n      <th>values</th>\n    </tr>\n  </thead>\n  <tbody>\n    <tr>\n      <th>0</th>\n      <td>Gas</td>\n      <td>Lignite</td>\n      <td>0.00</td>\n    </tr>\n    <tr>\n      <th>1</th>\n      <td>Hardcoal</td>\n      <td>Lignite</td>\n      <td>0.00</td>\n    </tr>\n    <tr>\n      <th>2</th>\n      <td>Demand</td>\n      <td>Lignite</td>\n      <td>0.00</td>\n    </tr>\n    <tr>\n      <th>3</th>\n      <td>Solar</td>\n      <td>Lignite</td>\n      <td>0.00</td>\n    </tr>\n    <tr>\n      <th>4</th>\n      <td>Wind_Onshore</td>\n      <td>Lignite</td>\n      <td>0.00</td>\n    </tr>\n    <tr>\n      <th>...</th>\n      <td>...</td>\n      <td>...</td>\n      <td>...</td>\n    </tr>\n    <tr>\n      <th>165</th>\n      <td>Solar</td>\n      <td>Total</td>\n      <td>0.01</td>\n    </tr>\n    <tr>\n      <th>166</th>\n      <td>Demand</td>\n      <td>Total</td>\n      <td>0.00</td>\n    </tr>\n    <tr>\n      <th>167</th>\n      <td>Hardcoal</td>\n      <td>Total</td>\n      <td>0.00</td>\n    </tr>\n    <tr>\n      <th>168</th>\n      <td>Gas</td>\n      <td>Total</td>\n      <td>0.00</td>\n    </tr>\n    <tr>\n      <th>169</th>\n      <td>Lignite</td>\n      <td>Total</td>\n      <td>0.00</td>\n    </tr>\n  </tbody>\n</table>\n<p>170 rows × 3 columns</p>\n</div>"
     },
     "execution_count": 12,
     "metadata": {},
     "output_type": "execute_result"
    }
   ],
   "source": [
    "df_melt.head(200)"
   ],
   "metadata": {
    "collapsed": false,
    "pycharm": {
     "name": "#%%\n"
    }
   }
  },
  {
   "cell_type": "code",
   "execution_count": null,
   "outputs": [],
   "source": [],
   "metadata": {
    "collapsed": false,
    "pycharm": {
     "name": "#%%\n"
    }
   }
  }
 ],
 "metadata": {
  "kernelspec": {
   "display_name": "Python 3",
   "language": "python",
   "name": "python3"
  },
  "language_info": {
   "codemirror_mode": {
    "name": "ipython",
    "version": 2
   },
   "file_extension": ".py",
   "mimetype": "text/x-python",
   "name": "python",
   "nbconvert_exporter": "python",
   "pygments_lexer": "ipython2",
   "version": "2.7.6"
  }
 },
 "nbformat": 4,
 "nbformat_minor": 0
}